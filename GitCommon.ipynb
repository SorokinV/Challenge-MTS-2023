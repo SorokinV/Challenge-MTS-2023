{
 "cells": [
  {
   "cell_type": "code",
   "execution_count": 19,
   "metadata": {
    "scrolled": true
   },
   "outputs": [
    {
     "name": "stdout",
     "output_type": "stream",
     "text": [
      "2023-02-25 18:45:55.147757\n",
      "On branch master\r\n",
      "nothing to commit, working tree clean\r\n"
     ]
    }
   ],
   "source": [
    "import sys\n",
    "import datetime\n",
    "print(datetime.datetime.now())\n",
    "    \n",
    "! git status"
   ]
  },
  {
   "cell_type": "code",
   "execution_count": null,
   "metadata": {},
   "outputs": [],
   "source": []
  },
  {
   "cell_type": "code",
   "execution_count": 20,
   "metadata": {
    "scrolled": false
   },
   "outputs": [
    {
     "name": "stdout",
     "output_type": "stream",
     "text": [
      "2023-02-25 18:45:56.152119\n",
      "On branch master\n",
      "nothing to commit, working tree clean\n",
      "On branch master\n",
      "nothing to commit, working tree clean\n",
      "On branch master\n",
      "nothing to commit, working tree clean\n"
     ]
    }
   ],
   "source": [
    "import datetime\n",
    "print(datetime.datetime.now())\n",
    "!git status\n",
    "!git add ./\n",
    "!git commit -a -m \"MTS 2023 score\"\n",
    "!git status"
   ]
  },
  {
   "cell_type": "code",
   "execution_count": 14,
   "metadata": {},
   "outputs": [
    {
     "name": "stdout",
     "output_type": "stream",
     "text": [
      "  fitch\u001b[m\r\n",
      "  fitch01\u001b[m\r\n",
      "* \u001b[32mmaster\u001b[m\r\n"
     ]
    }
   ],
   "source": [
    "!git branch -a"
   ]
  },
  {
   "cell_type": "code",
   "execution_count": null,
   "metadata": {},
   "outputs": [],
   "source": []
  },
  {
   "cell_type": "code",
   "execution_count": 16,
   "metadata": {
    "scrolled": false
   },
   "outputs": [
    {
     "name": "stdout",
     "output_type": "stream",
     "text": [
      "error: Your local changes to the following files would be overwritten by checkout:\n",
      "\tGitCommon.ipynb\n",
      "Please commit your changes or stash them before you switch branches.\n",
      "Aborting\n",
      "Already up to date.\n",
      "2023-02-24 18:18:54.561191\n"
     ]
    }
   ],
   "source": [
    "import datetime\n",
    "!git checkout master\n",
    "!git merge fitch\n",
    "print(datetime.datetime.now())"
   ]
  },
  {
   "cell_type": "code",
   "execution_count": 8,
   "metadata": {},
   "outputs": [
    {
     "name": "stdout",
     "output_type": "stream",
     "text": [
      "usage: git checkout [<options>] <branch>\r\n",
      "   or: git checkout [<options>] [<branch>] -- <file>...\r\n",
      "\r\n",
      "    -q, --quiet           suppress progress reporting\r\n",
      "    -b <branch>           create and checkout a new branch\r\n",
      "    -B <branch>           create/reset and checkout a branch\r\n",
      "    -l                    create reflog for new branch\r\n",
      "    --detach              detach the HEAD at named commit\r\n",
      "    -t, --track           set upstream info for new branch\r\n",
      "    --orphan <new-branch>\r\n",
      "                          new unparented branch\r\n",
      "    -2, --ours            checkout our version for unmerged files\r\n",
      "    -3, --theirs          checkout their version for unmerged files\r\n",
      "    -f, --force           force checkout (throw away local modifications)\r\n",
      "    -m, --merge           perform a 3-way merge with the new branch\r\n",
      "    --overwrite-ignore    update ignored files (default)\r\n",
      "    --conflict <style>    conflict style (merge or diff3)\r\n",
      "    -p, --patch           select hunks interactively\r\n",
      "    --ignore-skip-worktree-bits\r\n",
      "                          do not limit pathspecs to sparse entries only\r\n",
      "    --ignore-other-worktrees\r\n",
      "                          do not check if another worktree is holding the given ref\r\n",
      "    --progress            force progress reporting\r\n",
      "\r\n"
     ]
    }
   ],
   "source": [
    "#!git branch -help\n",
    "!git checkout -help"
   ]
  },
  {
   "cell_type": "code",
   "execution_count": 48,
   "metadata": {},
   "outputs": [
    {
     "name": "stdout",
     "output_type": "stream",
     "text": [
      "Switched to a new branch 'fitch'\r\n"
     ]
    }
   ],
   "source": [
    "!git checkout -b fitch"
   ]
  },
  {
   "cell_type": "code",
   "execution_count": null,
   "metadata": {},
   "outputs": [],
   "source": []
  }
 ],
 "metadata": {
  "kernelspec": {
   "display_name": "Python 3 (ipykernel)",
   "language": "python",
   "name": "python3"
  },
  "language_info": {
   "codemirror_mode": {
    "name": "ipython",
    "version": 3
   },
   "file_extension": ".py",
   "mimetype": "text/x-python",
   "name": "python",
   "nbconvert_exporter": "python",
   "pygments_lexer": "ipython3",
   "version": "3.7.6"
  }
 },
 "nbformat": 4,
 "nbformat_minor": 2
}
