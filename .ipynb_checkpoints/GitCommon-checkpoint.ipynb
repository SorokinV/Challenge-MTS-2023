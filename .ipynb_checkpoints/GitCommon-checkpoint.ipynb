{
 "cells": [
  {
   "cell_type": "code",
   "execution_count": 17,
   "metadata": {
    "scrolled": true
   },
   "outputs": [
    {
     "name": "stdout",
     "output_type": "stream",
     "text": [
      "2023-02-24 18:19:29.328147\n",
      "On branch fitch\r\n",
      "Changes not staged for commit:\r\n",
      "  (use \"git add <file>...\" to update what will be committed)\r\n",
      "  (use \"git restore <file>...\" to discard changes in working directory)\r\n",
      "\t\u001b[31mmodified:   GitCommon.ipynb\u001b[m\r\n",
      "\r\n",
      "no changes added to commit (use \"git add\" and/or \"git commit -a\")\r\n"
     ]
    }
   ],
   "source": [
    "import sys\n",
    "import datetime\n",
    "print(datetime.datetime.now())\n",
    "    \n",
    "! git status"
   ]
  },
  {
   "cell_type": "code",
   "execution_count": null,
   "metadata": {},
   "outputs": [],
   "source": []
  },
  {
   "cell_type": "code",
   "execution_count": 18,
   "metadata": {
    "scrolled": false
   },
   "outputs": [
    {
     "name": "stdout",
     "output_type": "stream",
     "text": [
      "2023-02-24 18:19:30.573164\n",
      "On branch fitch\n",
      "Changes not staged for commit:\n",
      "  (use \"git add <file>...\" to update what will be committed)\n",
      "  (use \"git restore <file>...\" to discard changes in working directory)\n",
      "\t\u001b[31mmodified:   GitCommon.ipynb\u001b[m\n",
      "\n",
      "no changes added to commit (use \"git add\" and/or \"git commit -a\")\n",
      "[fitch 72ce2fc] MTS 2023 score 1.561\n",
      " 1 file changed, 19 insertions(+), 26 deletions(-)\n",
      "On branch fitch\n",
      "nothing to commit, working tree clean\n"
     ]
    }
   ],
   "source": [
    "import datetime\n",
    "print(datetime.datetime.now())\n",
    "!git status\n",
    "!git add ./\n",
    "!git commit -a -m \"MTS 2023 score 1.561\"\n",
    "!git status"
   ]
  },
  {
   "cell_type": "code",
   "execution_count": 15,
   "metadata": {},
   "outputs": [
    {
     "name": "stdout",
     "output_type": "stream",
     "text": [
      "* \u001b[32mfitch\u001b[m\r\n",
      "  fitch01\u001b[m\r\n",
      "  master\u001b[m\r\n"
     ]
    }
   ],
   "source": [
    "!git branch -a"
   ]
  },
  {
   "cell_type": "code",
   "execution_count": null,
   "metadata": {},
   "outputs": [],
   "source": []
  },
  {
   "cell_type": "code",
   "execution_count": 16,
   "metadata": {
    "scrolled": false
   },
   "outputs": [
    {
     "name": "stdout",
     "output_type": "stream",
     "text": [
      "error: Your local changes to the following files would be overwritten by checkout:\n",
      "\tGitCommon.ipynb\n",
      "Please commit your changes or stash them before you switch branches.\n",
      "Aborting\n",
      "Already up to date.\n",
      "2023-02-24 18:18:54.561191\n"
     ]
    }
   ],
   "source": [
    "import datetime\n",
    "!git checkout master\n",
    "!git merge fitch\n",
    "print(datetime.datetime.now())"
   ]
  },
  {
   "cell_type": "code",
   "execution_count": 8,
   "metadata": {},
   "outputs": [
    {
     "name": "stdout",
     "output_type": "stream",
     "text": [
      "usage: git checkout [<options>] <branch>\r\n",
      "   or: git checkout [<options>] [<branch>] -- <file>...\r\n",
      "\r\n",
      "    -q, --quiet           suppress progress reporting\r\n",
      "    -b <branch>           create and checkout a new branch\r\n",
      "    -B <branch>           create/reset and checkout a branch\r\n",
      "    -l                    create reflog for new branch\r\n",
      "    --detach              detach the HEAD at named commit\r\n",
      "    -t, --track           set upstream info for new branch\r\n",
      "    --orphan <new-branch>\r\n",
      "                          new unparented branch\r\n",
      "    -2, --ours            checkout our version for unmerged files\r\n",
      "    -3, --theirs          checkout their version for unmerged files\r\n",
      "    -f, --force           force checkout (throw away local modifications)\r\n",
      "    -m, --merge           perform a 3-way merge with the new branch\r\n",
      "    --overwrite-ignore    update ignored files (default)\r\n",
      "    --conflict <style>    conflict style (merge or diff3)\r\n",
      "    -p, --patch           select hunks interactively\r\n",
      "    --ignore-skip-worktree-bits\r\n",
      "                          do not limit pathspecs to sparse entries only\r\n",
      "    --ignore-other-worktrees\r\n",
      "                          do not check if another worktree is holding the given ref\r\n",
      "    --progress            force progress reporting\r\n",
      "\r\n"
     ]
    }
   ],
   "source": [
    "#!git branch -help\n",
    "!git checkout -help"
   ]
  },
  {
   "cell_type": "code",
   "execution_count": 48,
   "metadata": {},
   "outputs": [
    {
     "name": "stdout",
     "output_type": "stream",
     "text": [
      "Switched to a new branch 'fitch'\r\n"
     ]
    }
   ],
   "source": [
    "!git checkout -b fitch"
   ]
  },
  {
   "cell_type": "code",
   "execution_count": null,
   "metadata": {},
   "outputs": [],
   "source": []
  }
 ],
 "metadata": {
  "kernelspec": {
   "display_name": "Python 3 (ipykernel)",
   "language": "python",
   "name": "python3"
  },
  "language_info": {
   "codemirror_mode": {
    "name": "ipython",
    "version": 3
   },
   "file_extension": ".py",
   "mimetype": "text/x-python",
   "name": "python",
   "nbconvert_exporter": "python",
   "pygments_lexer": "ipython3",
   "version": "3.7.6"
  }
 },
 "nbformat": 4,
 "nbformat_minor": 2
}
