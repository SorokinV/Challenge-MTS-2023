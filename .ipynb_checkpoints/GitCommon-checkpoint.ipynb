{
 "cells": [
  {
   "cell_type": "code",
   "execution_count": 6,
   "metadata": {},
   "outputs": [
    {
     "name": "stdout",
     "output_type": "stream",
     "text": [
      "2023-02-20 13:46:34.436633\n",
      "On branch master\n",
      "\n",
      "No commits yet\n",
      "\n",
      "Untracked files:\n",
      "  (use \"git add <file>...\" to include in what will be committed)\n",
      "\t\u001b[31m.gitignore\u001b[m\n",
      "\t\u001b[31mData-Arch/\u001b[m\n",
      "\t\u001b[31mGitCommon.ipynb\u001b[m\n",
      "\n",
      "nothing added to commit but untracked files present (use \"git add\" to track)\n"
     ]
    }
   ],
   "source": [
    "import sys\n",
    "import datetime\n",
    "print(datetime.datetime.now())\n",
    "    \n",
    "! git status"
   ]
  },
  {
   "cell_type": "code",
   "execution_count": null,
   "metadata": {},
   "outputs": [],
   "source": []
  },
  {
   "cell_type": "code",
   "execution_count": 159,
   "metadata": {
    "scrolled": false
   },
   "outputs": [
    {
     "name": "stdout",
     "output_type": "stream",
     "text": [
      "2018-04-24 03:15:21.696989\n",
      "On branch master\n",
      "Untracked files:\n",
      "  (use \"git add <file>...\" to include in what will be committed)\n",
      "\n",
      "\t\u001b[31m../Jupyter/V03-NET-BuildData-Test1.ipynb\u001b[m\n",
      "\n",
      "nothing added to commit but untracked files present (use \"git add\" to track)\n",
      "[master 4447790] V03 Post\n",
      " 1 file changed, 3677 insertions(+)\n",
      " create mode 100644 Jupyter/V03-NET-BuildData-Test1.ipynb\n",
      "On branch master\n",
      "nothing to commit, working directory clean\n"
     ]
    }
   ],
   "source": [
    "import datetime\n",
    "print datetime.datetime.now()\n",
    "!git status\n",
    "!git add ../\n",
    "!git commit -a -m \"V03 Post\"\n",
    "#!git commit -a -m 'V03 O++ fix bugs'\n",
    "#!git commit -a -m 'V02 LB=609664.55 last but not best'\n",
    "#!git commit -a -m 'V02+ add sample_weights'\n",
    "!git status"
   ]
  },
  {
   "cell_type": "code",
   "execution_count": 160,
   "metadata": {},
   "outputs": [
    {
     "name": "stdout",
     "output_type": "stream",
     "text": [
      "  NoCrop\u001b[m\r\n",
      "  cropUnCrop\u001b[m\r\n",
      "  cropUnCropGreatLevels\u001b[m\r\n",
      "  downUp\u001b[m\r\n",
      "  forward\u001b[m\r\n",
      "  maskVer2\u001b[m\r\n",
      "* \u001b[32mmaster\u001b[m\r\n",
      "  probePCA\u001b[m\r\n"
     ]
    }
   ],
   "source": [
    "!git branch -a"
   ]
  },
  {
   "cell_type": "code",
   "execution_count": 154,
   "metadata": {},
   "outputs": [
    {
     "name": "stdout",
     "output_type": "stream",
     "text": [
      "Already on 'forward'\r\n"
     ]
    }
   ],
   "source": [
    "#!git checkout -b NoCrop\n",
    "!git checkout forward"
   ]
  },
  {
   "cell_type": "code",
   "execution_count": 155,
   "metadata": {
    "scrolled": false
   },
   "outputs": [
    {
     "name": "stdout",
     "output_type": "stream",
     "text": [
      "Switched to branch 'master'\n",
      "Already up-to-date.\n",
      "2018-04-21 09:21:20.116656\n"
     ]
    }
   ],
   "source": [
    "import datetime\n",
    "!git checkout master\n",
    "!git merge forward\n",
    "print(datetime.datetime.now())"
   ]
  },
  {
   "cell_type": "code",
   "execution_count": 8,
   "metadata": {},
   "outputs": [
    {
     "name": "stdout",
     "output_type": "stream",
     "text": [
      "usage: git checkout [<options>] <branch>\r\n",
      "   or: git checkout [<options>] [<branch>] -- <file>...\r\n",
      "\r\n",
      "    -q, --quiet           suppress progress reporting\r\n",
      "    -b <branch>           create and checkout a new branch\r\n",
      "    -B <branch>           create/reset and checkout a branch\r\n",
      "    -l                    create reflog for new branch\r\n",
      "    --detach              detach the HEAD at named commit\r\n",
      "    -t, --track           set upstream info for new branch\r\n",
      "    --orphan <new-branch>\r\n",
      "                          new unparented branch\r\n",
      "    -2, --ours            checkout our version for unmerged files\r\n",
      "    -3, --theirs          checkout their version for unmerged files\r\n",
      "    -f, --force           force checkout (throw away local modifications)\r\n",
      "    -m, --merge           perform a 3-way merge with the new branch\r\n",
      "    --overwrite-ignore    update ignored files (default)\r\n",
      "    --conflict <style>    conflict style (merge or diff3)\r\n",
      "    -p, --patch           select hunks interactively\r\n",
      "    --ignore-skip-worktree-bits\r\n",
      "                          do not limit pathspecs to sparse entries only\r\n",
      "    --ignore-other-worktrees\r\n",
      "                          do not check if another worktree is holding the given ref\r\n",
      "    --progress            force progress reporting\r\n",
      "\r\n"
     ]
    }
   ],
   "source": [
    "#!git branch -help\n",
    "!git checkout -help"
   ]
  },
  {
   "cell_type": "code",
   "execution_count": 48,
   "metadata": {},
   "outputs": [
    {
     "name": "stdout",
     "output_type": "stream",
     "text": [
      "Switched to a new branch 'maskVer2'\r\n"
     ]
    }
   ],
   "source": [
    "!git checkout -b maskVer2"
   ]
  },
  {
   "cell_type": "code",
   "execution_count": null,
   "metadata": {},
   "outputs": [],
   "source": []
  },
  {
   "cell_type": "code",
   "execution_count": 730,
   "metadata": {},
   "outputs": [
    {
     "data": {
      "text/plain": [
       "5.0"
      ]
     },
     "execution_count": 730,
     "metadata": {},
     "output_type": "execute_result"
    }
   ],
   "source": [
    "200.0*90.0/3600.0"
   ]
  },
  {
   "cell_type": "code",
   "execution_count": 45,
   "metadata": {},
   "outputs": [
    {
     "data": {
      "text/plain": [
       "6.941666666666667"
      ]
     },
     "execution_count": 45,
     "metadata": {},
     "output_type": "execute_result"
    }
   ],
   "source": [
    "147.0/60.0*170.0/60.0"
   ]
  },
  {
   "cell_type": "code",
   "execution_count": 219,
   "metadata": {},
   "outputs": [
    {
     "data": {
      "text/plain": [
       "[45, 7, 29, 51, 13, 35, 57, 19, 41]"
      ]
     },
     "execution_count": 219,
     "metadata": {},
     "output_type": "execute_result"
    }
   ],
   "source": [
    "tt=1300.0;[xx%60 for xx in range(45,240,int(round(tt/60.0)))]"
   ]
  },
  {
   "cell_type": "code",
   "execution_count": 134,
   "metadata": {
    "scrolled": false
   },
   "outputs": [
    {
     "name": "stdout",
     "output_type": "stream",
     "text": [
      "total 62952872\r\n",
      "drwxrwxrwx 1 boba boba         0 апр 11 20:03 History\r\n",
      "-rwxrwxrwx 1 boba boba 390722584 апр 11 20:03 X-UNetA8x8-Cropx512-F1-2018-04-11-20-03-01.hdf5\r\n",
      "-rwxrwxrwx 1 boba boba 390722584 апр 11 20:03 F-UNetA8x8-Cropx512-F1-val_mean_iou_XX-best.hdf5\r\n",
      "-rwxrwxrwx 1 boba boba 390722584 апр 11 18:57 F-UNetA8x8-Cropx512-F1-val_diceXX=0.9041-(0.8820)-151.hdf5\r\n",
      "-rwxrwxrwx 1 boba boba 390722584 апр 11 18:43 F-UNetA8x8-Cropx512-F1-val_diceXX=0.9036-(0.8856)-147.hdf5\r\n",
      "-rwxrwxrwx 1 boba boba 390722584 апр 11 17:55 F-UNetA8x8-Cropx512-F1-val_diceXX=0.9015-(0.8767)-133.hdf5\r\n",
      "-rwxrwxrwx 1 boba boba 390722584 апр 11 17:42 F-UNetA8x8-Cropx512-F1-val_diceXX=0.9000-(0.8846)-129.hdf5\r\n",
      "-rwxrwxrwx 1 boba boba 390722584 апр 11 17:38 F-UNetA8x8-Cropx512-F1-val_diceXX=0.8992-(0.8875)-128.hdf5\r\n",
      "-rwxrwxrwx 1 boba boba 390722584 апр 11 17:08 F-UNetA8x8-Cropx512-F1-val_diceXX=0.8986-(0.8834)-119.hdf5\r\n",
      "-rwxrwxrwx 1 boba boba 390722584 апр 11 17:04 F-UNetA8x8-Cropx512-F1-val_diceXX=0.8977-(0.8869)-118.hdf5\r\n",
      "-rwxrwxrwx 1 boba boba 390722584 апр 11 16:38 F-UNetA8x8-Cropx512-F1-val_diceXX=0.8963-(0.8804)-110.hdf5\r\n",
      "-rwxrwxrwx 1 boba boba 390722584 апр 11 16:35 F-UNetA8x8-Cropx512-F1-val_diceXX=0.8946-(0.8760)-109.hdf5\r\n",
      "-rwxrwxrwx 1 boba boba 390722584 апр 11 02:31 V01-F-UNetA8x8-Cropx512-F1-val_mean_iou_XX=0.6257-(0.6256)-108.hdf5\r\n",
      "-rwxrwxrwx 1 boba boba 390722584 апр 11 02:28 V01-F-UNetA8x8-Cropx512-F1-val_diceXX=0.8979-(0.8732)-107.hdf5\r\n",
      "-rwxrwxrwx 1 boba boba 390722584 апр 11 02:28 V01-F-UNetA8x8-Cropx512-F1-val_mean_iou_XX=0.6256-(0.6255)-107.hdf5\r\n",
      "-rwxrwxrwx 1 boba boba 390722584 апр 11 02:24 V01-F-UNetA8x8-Cropx512-F1-val_mean_iou_XX=0.6254-(0.6253)-106.hdf5\r\n",
      "-rwxrwxrwx 1 boba boba 390722584 апр 11 02:21 V01-F-UNetA8x8-Cropx512-F1-val_diceXX=0.8954-(0.8718)-105.hdf5\r\n",
      "-rwxrwxrwx 1 boba boba 390722584 апр 11 02:21 V01-F-UNetA8x8-Cropx512-F1-val_mean_iou_XX=0.6252-(0.6252)-105.hdf5\r\n",
      "-rwxrwxrwx 1 boba boba 390722584 апр 11 02:17 V01-F-UNetA8x8-Cropx512-F1-val_mean_iou_XX=0.6251-(0.6250)-104.hdf5\r\n",
      "-rwxrwxrwx 1 boba boba 390722584 апр 11 02:14 V01-F-UNetA8x8-Cropx512-F1-val_mean_iou_XX=0.6249-(0.6249)-103.hdf5\r\n",
      "-rwxrwxrwx 1 boba boba 390722584 апр 11 02:10 V01-F-UNetA8x8-Cropx512-F1-val_mean_iou_XX=0.6249-(0.6248)-102.hdf5\r\n",
      "-rwxrwxrwx 1 boba boba 390722584 апр 11 02:06 V01-F-UNetA8x8-Cropx512-F1-val_mean_iou_XX=0.6248-(0.6247)-101.hdf5\r\n",
      "-rwxrwxrwx 1 boba boba 390722584 апр 11 02:02 V01-F-UNetA8x8-Cropx512-F1-val_mean_iou_XX=0.6246-(0.6245)-100.hdf5\r\n",
      "-rwxrwxrwx 1 boba boba 390722584 апр 11 01:59 V01-F-UNetA8x8-Cropx512-F1-val_mean_iou_XX=0.6244-(0.6243)-99.hdf5\r\n",
      "-rwxrwxrwx 1 boba boba 390722584 апр 11 01:55 V01-F-UNetA8x8-Cropx512-F1-val_mean_iou_XX=0.6242-(0.6242)-98.hdf5\r\n",
      "-rwxrwxrwx 1 boba boba 390722584 апр 11 01:51 V01-F-UNetA8x8-Cropx512-F1-val_mean_iou_XX=0.6241-(0.6240)-97.hdf5\r\n",
      "-rwxrwxrwx 1 boba boba 390722584 апр 11 01:47 V01-F-UNetA8x8-Cropx512-F1-val_mean_iou_XX=0.6239-(0.6238)-96.hdf5\r\n",
      "-rwxrwxrwx 1 boba boba 390722584 апр 11 01:44 V01-F-UNetA8x8-Cropx512-F1-val_mean_iou_XX=0.6236-(0.6236)-95.hdf5\r\n",
      "-rwxrwxrwx 1 boba boba 390722584 апр 11 01:40 V01-F-UNetA8x8-Cropx512-F1-val_mean_iou_XX=0.6235-(0.6234)-94.hdf5\r\n",
      "-rwxrwxrwx 1 boba boba 390722584 апр 11 01:36 V01-F-UNetA8x8-Cropx512-F1-val_mean_iou_XX=0.6233-(0.6233)-93.hdf5\r\n",
      "-rwxrwxrwx 1 boba boba 390722584 апр 11 01:32 V01-F-UNetA8x8-Cropx512-F1-val_mean_iou_XX=0.6232-(0.6232)-92.hdf5\r\n",
      "-rwxrwxrwx 1 boba boba 390722584 апр 11 01:29 V01-F-UNetA8x8-Cropx512-F1-val_mean_iou_XX=0.6232-(0.6232)-91.hdf5\r\n",
      "-rwxrwxrwx 1 boba boba 390722584 апр 11 01:25 V01-F-UNetA8x8-Cropx512-F1-val_mean_iou_XX=0.6232-(0.6232)-90.hdf5\r\n",
      "-rwxrwxrwx 1 boba boba 390722584 апр 11 01:21 V01-F-UNetA8x8-Cropx512-F1-val_mean_iou_XX=0.6231-(0.6231)-89.hdf5\r\n",
      "-rwxrwxrwx 1 boba boba 390722584 апр 11 01:18 V01-F-UNetA8x8-Cropx512-F1-val_diceXX=0.8951-(0.8689)-88.hdf5\r\n",
      "-rwxrwxrwx 1 boba boba 390722584 апр 11 01:17 V01-F-UNetA8x8-Cropx512-F1-val_mean_iou_XX=0.6230-(0.6230)-88.hdf5\r\n",
      "-rwxrwxrwx 1 boba boba 390722584 апр 11 01:14 V01-F-UNetA8x8-Cropx512-F1-val_diceXX=0.8894-(0.8706)-87.hdf5\r\n",
      "-rwxrwxrwx 1 boba boba 390722584 апр 11 01:14 V01-F-UNetA8x8-Cropx512-F1-val_mean_iou_XX=0.6230-(0.6229)-87.hdf5\r\n",
      "-rwxrwxrwx 1 boba boba 390722584 апр 11 01:10 V01-F-UNetA8x8-Cropx512-F1-val_mean_iou_XX=0.6229-(0.6228)-86.hdf5\r\n",
      "-rwxrwxrwx 1 boba boba 390722584 апр 11 01:07 V01-F-UNetA8x8-Cropx512-F1-val_mean_iou_XX=0.6227-(0.6226)-85.hdf5\r\n",
      "-rwxrwxrwx 1 boba boba 390722584 апр 11 01:03 V01-F-UNetA8x8-Cropx512-F1-val_mean_iou_XX=0.6225-(0.6224)-84.hdf5\r\n",
      "-rwxrwxrwx 1 boba boba 390722584 апр 11 00:56 V01-F-UNetA8x8-Cropx512-F1-val_mean_iou_XX=0.6224-(0.6224)-82.hdf5\r\n",
      "-rwxrwxrwx 1 boba boba 390722584 апр 11 00:53 V01-F-UNetA8x8-Cropx512-F1-val_mean_iou_XX=0.6223-(0.6223)-81.hdf5\r\n",
      "-rwxrwxrwx 1 boba boba 390722584 апр 11 00:49 V01-F-UNetA8x8-Cropx512-F1-val_mean_iou_XX=0.6223-(0.6222)-80.hdf5\r\n",
      "-rwxrwxrwx 1 boba boba 390722584 апр 11 00:45 V01-F-UNetA8x8-Cropx512-F1-val_mean_iou_XX=0.6222-(0.6222)-79.hdf5\r\n",
      "-rwxrwxrwx 1 boba boba 390722584 апр 11 00:32 V01-F-UNetA8x8-Cropx512-F1-val_mean_iou_XX=0.6221-(0.6221)-75.hdf5\r\n",
      "-rwxrwxrwx 1 boba boba 390722584 апр 11 00:28 V01-F-UNetA8x8-Cropx512-F1-val_mean_iou_XX=0.6220-(0.6219)-74.hdf5\r\n",
      "-rwxrwxrwx 1 boba boba 390722584 апр 11 00:24 V01-F-UNetA8x8-Cropx512-F1-val_mean_iou_XX=0.6219-(0.6219)-73.hdf5\r\n",
      "-rwxrwxrwx 1 boba boba 390722584 апр 11 00:21 V01-F-UNetA8x8-Cropx512-F1-val_mean_iou_XX=0.6218-(0.6218)-72.hdf5\r\n",
      "-rwxrwxrwx 1 boba boba 390722584 апр 11 00:17 V01-F-UNetA8x8-Cropx512-F1-val_mean_iou_XX=0.6216-(0.6215)-71.hdf5\r\n",
      "-rwxrwxrwx 1 boba boba 390722584 апр 11 00:14 V01-F-UNetA8x8-Cropx512-F1-val_mean_iou_XX=0.6213-(0.6213)-70.hdf5\r\n",
      "-rwxrwxrwx 1 boba boba 390722584 апр 11 00:10 V01-F-UNetA8x8-Cropx512-F1-val_diceXX=0.8887-(0.8635)-69.hdf5\r\n",
      "-rwxrwxrwx 1 boba boba 390722584 апр 11 00:10 V01-F-UNetA8x8-Cropx512-F1-val_mean_iou_XX=0.6212-(0.6211)-69.hdf5\r\n",
      "-rwxrwxrwx 1 boba boba 390722584 апр 11 00:07 V01-F-UNetA8x8-Cropx512-F1-val_diceXX=0.8882-(0.8644)-68.hdf5\r\n",
      "-rwxrwxrwx 1 boba boba 390722584 апр 11 00:07 V01-F-UNetA8x8-Cropx512-F1-val_mean_iou_XX=0.6210-(0.6209)-68.hdf5\r\n",
      "-rwxrwxrwx 1 boba boba 390722584 апр 11 00:03 V01-F-UNetA8x8-Cropx512-F1-val_mean_iou_XX=0.6208-(0.6206)-67.hdf5\r\n",
      "-rwxrwxrwx 1 boba boba 390722584 апр 11 00:00 V01-F-UNetA8x8-Cropx512-F1-val_mean_iou_XX=0.6205-(0.6204)-66.hdf5\r\n",
      "-rwxrwxrwx 1 boba boba 390722584 апр 10 23:56 V01-F-UNetA8x8-Cropx512-F1-val_mean_iou_XX=0.6203-(0.6202)-65.hdf5\r\n",
      "-rwxrwxrwx 1 boba boba 390722584 апр 10 23:52 V01-F-UNetA8x8-Cropx512-F1-val_mean_iou_XX=0.6202-(0.6201)-64.hdf5\r\n",
      "-rwxrwxrwx 1 boba boba 390722584 апр 10 23:49 V01-F-UNetA8x8-Cropx512-F1-val_mean_iou_XX=0.6199-(0.6197)-63.hdf5\r\n",
      "-rwxrwxrwx 1 boba boba 390722584 апр 10 23:45 V01-F-UNetA8x8-Cropx512-F1-val_mean_iou_XX=0.6196-(0.6194)-62.hdf5\r\n",
      "-rwxrwxrwx 1 boba boba 390722584 апр 10 23:42 V01-F-UNetA8x8-Cropx512-F1-val_mean_iou_XX=0.6193-(0.6192)-61.hdf5\r\n",
      "-rwxrwxrwx 1 boba boba 390722584 апр 10 23:38 V01-F-UNetA8x8-Cropx512-F1-val_mean_iou_XX=0.6192-(0.6191)-60.hdf5\r\n",
      "-rwxrwxrwx 1 boba boba 390722584 апр 10 23:35 V01-F-UNetA8x8-Cropx512-F1-val_mean_iou_XX=0.6189-(0.6188)-59.hdf5\r\n",
      "-rwxrwxrwx 1 boba boba 390722584 апр 10 23:31 V01-F-UNetA8x8-Cropx512-F1-val_diceXX=0.8860-(0.8561)-58.hdf5\r\n",
      "-rwxrwxrwx 1 boba boba 390722584 апр 10 23:31 V01-F-UNetA8x8-Cropx512-F1-val_mean_iou_XX=0.6187-(0.6186)-58.hdf5\r\n",
      "-rwxrwxrwx 1 boba boba 390722584 апр 10 23:28 V01-F-UNetA8x8-Cropx512-F1-val_mean_iou_XX=0.6184-(0.6184)-57.hdf5\r\n",
      "-rwxrwxrwx 1 boba boba 390722584 апр 10 23:21 V01-F-UNetA8x8-Cropx512-F1-val_mean_iou_XX=0.6184-(0.6184)-55.hdf5\r\n",
      "-rwxrwxrwx 1 boba boba 390722584 апр 10 23:17 V01-F-UNetA8x8-Cropx512-F1-val_mean_iou_XX=0.6184-(0.6183)-54.hdf5\r\n",
      "-rwxrwxrwx 1 boba boba 390722584 апр 10 23:14 V01-F-UNetA8x8-Cropx512-F1-val_mean_iou_XX=0.6181-(0.6178)-53.hdf5\r\n",
      "-rwxrwxrwx 1 boba boba 390722584 апр 10 23:07 V01-F-UNetA8x8-Cropx512-F1-val_mean_iou_XX=0.6177-(0.6176)-51.hdf5\r\n",
      "-rwxrwxrwx 1 boba boba 390722584 апр 10 22:56 V01-F-UNetA8x8-Cropx512-F1-val_mean_iou_XX=0.6175-(0.6176)-48.hdf5\r\n",
      "-rwxrwxrwx 1 boba boba 390722584 апр 10 22:52 V01-F-UNetA8x8-Cropx512-F1-val_mean_iou_XX=0.6175-(0.6174)-47.hdf5\r\n",
      "-rwxrwxrwx 1 boba boba 390722584 апр 10 22:49 V01-F-UNetA8x8-Cropx512-F1-val_diceXX=0.8826-(0.8484)-46.hdf5\r\n",
      "-rwxrwxrwx 1 boba boba 390722584 апр 10 22:49 V01-F-UNetA8x8-Cropx512-F1-val_mean_iou_XX=0.6172-(0.6171)-46.hdf5\r\n",
      "-rwxrwxrwx 1 boba boba 390722584 апр 10 22:45 V01-F-UNetA8x8-Cropx512-F1-val_mean_iou_XX=0.6169-(0.6168)-45.hdf5\r\n",
      "-rwxrwxrwx 1 boba boba 390722584 апр 10 22:42 V01-F-UNetA8x8-Cropx512-F1-val_mean_iou_XX=0.6166-(0.6165)-44.hdf5\r\n",
      "-rwxrwxrwx 1 boba boba 390722584 апр 10 22:38 V01-F-UNetA8x8-Cropx512-F1-val_mean_iou_XX=0.6165-(0.6163)-43.hdf5\r\n",
      "-rwxrwxrwx 1 boba boba 390722584 апр 10 22:35 V01-F-UNetA8x8-Cropx512-F1-val_mean_iou_XX=0.6161-(0.6161)-42.hdf5\r\n",
      "-rwxrwxrwx 1 boba boba 390722584 апр 10 22:28 V01-F-UNetA8x8-Cropx512-F1-val_diceXX=0.8763-(0.8425)-40.hdf5\r\n",
      "-rwxrwxrwx 1 boba boba 390722584 апр 10 22:28 V01-F-UNetA8x8-Cropx512-F1-val_mean_iou_XX=0.6160-(0.6161)-40.hdf5\r\n",
      "-rwxrwxrwx 1 boba boba 390722584 апр 10 22:24 V01-F-UNetA8x8-Cropx512-F1-val_diceXX=0.8668-(0.8400)-39.hdf5\r\n",
      "-rwxrwxrwx 1 boba boba 390722584 апр 10 22:24 V01-F-UNetA8x8-Cropx512-F1-val_mean_iou_XX=0.6160-(0.6157)-39.hdf5\r\n",
      "-rwxrwxrwx 1 boba boba 390722584 апр 10 22:21 V01-F-UNetA8x8-Cropx512-F1-val_diceXX=0.8663-(0.8442)-38.hdf5\r\n",
      "-rwxrwxrwx 1 boba boba 390722584 апр 10 22:21 V01-F-UNetA8x8-Cropx512-F1-val_mean_iou_XX=0.6155-(0.6155)-38.hdf5\r\n",
      "-rwxrwxrwx 1 boba boba 390722584 апр 10 22:17 V01-F-UNetA8x8-Cropx512-F1-val_diceXX=0.8655-(0.8418)-37.hdf5\r\n",
      "-rwxrwxrwx 1 boba boba 390722584 апр 10 22:17 V01-F-UNetA8x8-Cropx512-F1-val_mean_iou_XX=0.6154-(0.6154)-37.hdf5\r\n",
      "-rwxrwxrwx 1 boba boba 390722584 апр 10 22:14 V01-F-UNetA8x8-Cropx512-F1-val_mean_iou_XX=0.6153-(0.6151)-36.hdf5\r\n",
      "-rwxrwxrwx 1 boba boba 390722584 апр 10 22:10 V01-F-UNetA8x8-Cropx512-F1-val_diceXX=0.8639-(0.8334)-35.hdf5\r\n",
      "-rwxrwxrwx 1 boba boba 390722584 апр 10 22:10 V01-F-UNetA8x8-Cropx512-F1-val_mean_iou_XX=0.6149-(0.6148)-35.hdf5\r\n",
      "-rwxrwxrwx 1 boba boba 390722584 апр 10 22:07 V01-F-UNetA8x8-Cropx512-F1-val_mean_iou_XX=0.6148-(0.6149)-34.hdf5\r\n",
      "-rwxrwxrwx 1 boba boba 390722584 апр 10 22:03 V01-F-UNetA8x8-Cropx512-F1-val_mean_iou_XX=0.6148-(0.6146)-33.hdf5\r\n",
      "-rwxrwxrwx 1 boba boba 390722584 апр 10 21:50 V01-F-UNetA8x8-Cropx512-F1-val_mean_iou_XX=0.6146-(0.6145)-29.hdf5\r\n",
      "-rwxrwxrwx 1 boba boba 390722584 апр 10 21:46 V01-F-UNetA8x8-Cropx512-F1-val_mean_iou_XX=0.6143-(0.6143)-28.hdf5\r\n",
      "-rwxrwxrwx 1 boba boba 390722584 апр 10 21:43 V01-F-UNetA8x8-Cropx512-F1-val_diceXX=0.8625-(0.8331)-27.hdf5\r\n",
      "-rwxrwxrwx 1 boba boba 390722584 апр 10 21:43 V01-F-UNetA8x8-Cropx512-F1-val_mean_iou_XX=0.6142-(0.6140)-27.hdf5\r\n",
      "-rwxrwxrwx 1 boba boba 390722584 апр 10 21:39 V01-F-UNetA8x8-Cropx512-F1-val_mean_iou_XX=0.6138-(0.6134)-26.hdf5\r\n",
      "-rwxrwxrwx 1 boba boba 390722584 апр 10 21:36 V01-F-UNetA8x8-Cropx512-F1-val_mean_iou_XX=0.6129-(0.6129)-25.hdf5\r\n",
      "-rwxrwxrwx 1 boba boba 390722584 апр 10 21:33 V01-F-UNetA8x8-Cropx512-F1-val_mean_iou_XX=0.6127-(0.6124)-24.hdf5\r\n",
      "-rwxrwxrwx 1 boba boba 390722584 апр 10 21:29 V01-F-UNetA8x8-Cropx512-F1-val_mean_iou_XX=0.6122-(0.6120)-23.hdf5\r\n",
      "-rwxrwxrwx 1 boba boba 390722584 апр 10 21:26 V01-F-UNetA8x8-Cropx512-F1-val_mean_iou_XX=0.6117-(0.6113)-22.hdf5\r\n",
      "-rwxrwxrwx 1 boba boba 390722584 апр 10 21:22 V01-F-UNetA8x8-Cropx512-F1-val_mean_iou_XX=0.6108-(0.6105)-21.hdf5\r\n",
      "-rwxrwxrwx 1 boba boba 390722584 апр 10 21:19 V01-F-UNetA8x8-Cropx512-F1-val_mean_iou_XX=0.6101-(0.6097)-20.hdf5\r\n",
      "-rwxrwxrwx 1 boba boba 390722584 апр 10 21:15 V01-F-UNetA8x8-Cropx512-F1-val_mean_iou_XX=0.6091-(0.6086)-19.hdf5\r\n",
      "-rwxrwxrwx 1 boba boba 390722584 апр 10 21:12 V01-F-UNetA8x8-Cropx512-F1-val_mean_iou_XX=0.6080-(0.6076)-18.hdf5\r\n",
      "-rwxrwxrwx 1 boba boba 390722584 апр 10 21:08 V01-F-UNetA8x8-Cropx512-F1-val_mean_iou_XX=0.6070-(0.6066)-17.hdf5\r\n",
      "-rwxrwxrwx 1 boba boba 390722584 апр 10 21:05 V01-F-UNetA8x8-Cropx512-F1-val_diceXX=0.8594-(0.7873)-16.hdf5\r\n",
      "-rwxrwxrwx 1 boba boba 390722584 апр 10 21:05 V01-F-UNetA8x8-Cropx512-F1-val_mean_iou_XX=0.6062-(0.6056)-16.hdf5\r\n",
      "-rwxrwxrwx 1 boba boba 390722584 апр 10 21:01 V01-F-UNetA8x8-Cropx512-F1-val_mean_iou_XX=0.6049-(0.6040)-15.hdf5\r\n",
      "-rwxrwxrwx 1 boba boba 390722584 апр 10 20:58 V01-F-UNetA8x8-Cropx512-F1-val_diceXX=0.8446-(0.7756)-14.hdf5\r\n",
      "-rwxrwxrwx 1 boba boba 390722584 апр 10 20:58 V01-F-UNetA8x8-Cropx512-F1-val_mean_iou_XX=0.6025-(0.6009)-14.hdf5\r\n",
      "-rwxrwxrwx 1 boba boba 390722584 апр 10 20:54 V01-F-UNetA8x8-Cropx512-F1-val_mean_iou_XX=0.5995-(0.5980)-13.hdf5\r\n",
      "-rwxrwxrwx 1 boba boba 390722584 апр 10 20:51 V01-F-UNetA8x8-Cropx512-F1-val_mean_iou_XX=0.5960-(0.5940)-12.hdf5\r\n",
      "-rwxrwxrwx 1 boba boba 390722584 апр 10 20:48 V01-F-UNetA8x8-Cropx512-F1-val_mean_iou_XX=0.5921-(0.5901)-11.hdf5\r\n",
      "-rwxrwxrwx 1 boba boba 390722584 апр 10 20:44 V01-F-UNetA8x8-Cropx512-F1-val_mean_iou_XX=0.5874-(0.5849)-10.hdf5\r\n",
      "-rwxrwxrwx 1 boba boba 390722584 апр 10 20:41 V01-F-UNetA8x8-Cropx512-F1-val_diceXX=0.8316-(0.7595)-9.hdf5\r\n",
      "-rwxrwxrwx 1 boba boba 390722584 апр 10 20:41 V01-F-UNetA8x8-Cropx512-F1-val_mean_iou_XX=0.5816-(0.5777)-9.hdf5\r\n",
      "-rwxrwxrwx 1 boba boba 390722584 апр 10 20:37 V01-F-UNetA8x8-Cropx512-F1-val_diceXX=0.8029-(0.7485)-8.hdf5\r\n",
      "-rwxrwxrwx 1 boba boba 390722584 апр 10 20:37 V01-F-UNetA8x8-Cropx512-F1-val_mean_iou_XX=0.5737-(0.5695)-8.hdf5\r\n",
      "-rwxrwxrwx 1 boba boba 390722584 апр 10 20:34 V01-F-UNetA8x8-Cropx512-F1-val_mean_iou_XX=0.5649-(0.5596)-7.hdf5\r\n",
      "-rwxrwxrwx 1 boba boba 390722584 апр 10 20:30 V01-F-UNetA8x8-Cropx512-F1-val_diceXX=0.8026-(0.7385)-6.hdf5\r\n",
      "-rwxrwxrwx 1 boba boba 390722584 апр 10 20:30 V01-F-UNetA8x8-Cropx512-F1-val_mean_iou_XX=0.5534-(0.5459)-6.hdf5\r\n",
      "-rwxrwxrwx 1 boba boba 390722584 апр 10 20:27 V01-F-UNetA8x8-Cropx512-F1-val_diceXX=0.7541-(0.7077)-5.hdf5\r\n",
      "-rwxrwxrwx 1 boba boba 390722584 апр 10 20:27 V01-F-UNetA8x8-Cropx512-F1-val_mean_iou_XX=0.5376-(0.5276)-5.hdf5\r\n",
      "-rwxrwxrwx 1 boba boba 390722584 апр 10 20:23 V01-F-UNetA8x8-Cropx512-F1-val_diceXX=0.7432-(0.6567)-4.hdf5\r\n",
      "-rwxrwxrwx 1 boba boba 390722584 апр 10 20:23 V01-F-UNetA8x8-Cropx512-F1-val_mean_iou_XX=0.5157-(0.5022)-4.hdf5\r\n",
      "-rwxrwxrwx 1 boba boba 390722584 апр 10 20:20 V01-F-UNetA8x8-Cropx512-F1-val_diceXX=0.6515-(0.5344)-3.hdf5\r\n",
      "-rwxrwxrwx 1 boba boba 390722584 апр 10 20:20 V01-F-UNetA8x8-Cropx512-F1-val_mean_iou_XX=0.4872-(0.4718)-3.hdf5\r\n",
      "-rwxrwxrwx 1 boba boba 390722584 апр 10 20:16 V01-F-UNetA8x8-Cropx512-F1-val_diceXX=0.0927-(0.3121)-2.hdf5\r\n",
      "-rwxrwxrwx 1 boba boba 390722584 апр 10 20:16 V01-F-UNetA8x8-Cropx512-F1-val_mean_iou_XX=0.4638-(0.4621)-2.hdf5\r\n",
      "-rwxrwxrwx 1 boba boba 390722584 апр 10 20:13 V01-F-UNetA8x8-Cropx512-F1-val_diceXX=0.0680-(0.2211)-1.hdf5\r\n",
      "-rwxrwxrwx 1 boba boba 390722584 апр 10 20:13 V01-F-UNetA8x8-Cropx512-F1-val_mean_iou_XX=0.4617-(0.4483)-1.hdf5\r\n",
      "-rwxrwxrwx 1 boba boba 390546736 апр 10 17:24 V01-X-UNetA8x8-Cropx512-F2-2018-04-10-17-24-03.hdf5\r\n",
      "-rwxrwxrwx 1 boba boba 390546736 апр 10 17:24 V01-F-UNetA8x8-Cropx512-F2-val_mean_iou_XX=0.6290-(0.6289)-100.hdf5\r\n",
      "-rwxrwxrwx 1 boba boba 390546736 апр 10 17:21 V01-F-UNetA8x8-Cropx512-F2-val_mean_iou_XX=0.6288-(0.6286)-99.hdf5\r\n",
      "-rwxrwxrwx 1 boba boba 390546736 апр 10 17:09 V01-F-UNetA8x8-Cropx512-F2-val_diceXX=0.8705-(0.8427)-95.hdf5\r\n",
      "-rwxrwxrwx 1 boba boba 390546736 апр 10 16:51 V01-F-UNetA8x8-Cropx512-F2-val_diceXX=0.8651-(0.8507)-89.hdf5\r\n",
      "-rwxrwxrwx 1 boba boba 390546736 апр 10 16:48 V01-F-UNetA8x8-Cropx512-F2-val_diceXX=0.8648-(0.8504)-88.hdf5\r\n",
      "-rwxrwxrwx 1 boba boba 390546736 апр 10 16:21 V01-F-UNetA8x8-Cropx512-F2-val_diceXX=0.8637-(0.8458)-79.hdf5\r\n",
      "-rwxrwxrwx 1 boba boba 390546736 апр 10 16:07 V01-F-UNetA8x8-Cropx512-F2-val_diceXX=0.8632-(0.8366)-74.hdf5\r\n",
      "-rwxrwxrwx 1 boba boba 390546736 апр 10 16:04 V01-F-UNetA8x8-Cropx512-F2-val_diceXX=0.8602-(0.8287)-73.hdf5\r\n",
      "-rwxrwxrwx 1 boba boba 390546736 апр 10 15:49 V01-F-UNetA8x8-Cropx512-F2-val_diceXX=0.8598-(0.8444)-68.hdf5\r\n",
      "-rwxrwxrwx 1 boba boba 390546736 апр 10 15:16 V01-F-UNetA8x8-Cropx512-F2-val_diceXX=0.8586-(0.8366)-57.hdf5\r\n",
      "-rwxrwxrwx 1 boba boba 390546736 апр 10 15:13 V01-F-UNetA8x8-Cropx512-F2-val_diceXX=0.8536-(0.8218)-56.hdf5\r\n",
      "-rwxrwxrwx 1 boba boba 390546736 апр 10 14:55 V01-F-UNetA8x8-Cropx512-F2-val_diceXX=0.8463-(0.8231)-50.hdf5\r\n",
      "-rwxrwxrwx 1 boba boba 390546736 апр 10 14:37 V01-F-UNetA8x8-Cropx512-F2-val_diceXX=0.8451-(0.8149)-44.hdf5\r\n",
      "-rwxrwxrwx 1 boba boba 390546736 апр 10 14:25 V01-F-UNetA8x8-Cropx512-F2-val_diceXX=0.8441-(0.8078)-40.hdf5\r\n",
      "-rwxrwxrwx 1 boba boba 390546736 апр 10 14:04 V01-F-UNetA8x8-Cropx512-F2-val_diceXX=0.8409-(0.7962)-33.hdf5\r\n",
      "-rwxrwxrwx 1 boba boba 390546736 апр 10 13:49 V01-F-UNetA8x8-Cropx512-F2-val_diceXX=0.8354-(0.7987)-28.hdf5\r\n",
      "-rwxrwxrwx 1 boba boba 390546736 апр 10 13:34 V01-F-UNetA8x8-Cropx512-F2-val_diceXX=0.8242-(0.7862)-23.hdf5\r\n",
      "-rwxrwxrwx 1 boba boba 390546736 апр 10 13:28 V01-F-UNetA8x8-Cropx512-F2-val_diceXX=0.8114-(0.7797)-21.hdf5\r\n",
      "-rwxrwxrwx 1 boba boba 390546736 апр 10 13:25 V01-F-UNetA8x8-Cropx512-F2-val_diceXX=0.8019-(0.7715)-20.hdf5\r\n",
      "-rwxrwxrwx 1 boba boba 390546736 апр 10 13:16 V01-F-UNetA8x8-Cropx512-F2-val_diceXX=0.7874-(0.7479)-17.hdf5\r\n",
      "-rwxrwxrwx 1 boba boba 390546736 апр 10 13:13 V01-F-UNetA8x8-Cropx512-F2-val_diceXX=0.7710-(0.7187)-16.hdf5\r\n",
      "-rwxrwxrwx 1 boba boba 390546736 апр 10 13:10 V01-F-UNetA8x8-Cropx512-F2-val_diceXX=0.7575-(0.6976)-15.hdf5\r\n",
      "-rwxrwxrwx 1 boba boba 390546736 апр 10 13:04 V01-F-UNetA8x8-Cropx512-F2-val_diceXX=0.7529-(0.6814)-13.hdf5\r\n",
      "-rwxrwxrwx 1 boba boba 390546736 апр 10 12:57 V01-F-UNetA8x8-Cropx512-F2-val_diceXX=0.7268-(0.6313)-11.hdf5\r\n",
      "-rwxrwxrwx 1 boba boba 390546736 апр 10 12:54 V01-F-UNetA8x8-Cropx512-F2-val_diceXX=0.6960-(0.6435)-10.hdf5\r\n",
      "-rwxrwxrwx 1 boba boba 390546736 апр 10 12:51 V01-F-UNetA8x8-Cropx512-F2-val_diceXX=0.6622-(0.5844)-9.hdf5\r\n",
      "-rwxrwxrwx 1 boba boba 390546736 апр 10 12:48 V01-F-UNetA8x8-Cropx512-F2-val_diceXX=0.6268-(0.4955)-8.hdf5\r\n",
      "-rwxrwxrwx 1 boba boba 390546736 апр 10 12:41 V01-F-UNetA8x8-Cropx512-F2-val_diceXX=0.5582-(0.4152)-6.hdf5\r\n",
      "-rwxrwxrwx 1 boba boba 390546736 апр 10 12:38 V01-F-UNetA8x8-Cropx512-F2-val_diceXX=0.3752-(0.3741)-5.hdf5\r\n",
      "-rwxrwxrwx 1 boba boba 390546736 апр 10 12:35 V01-F-UNetA8x8-Cropx512-F2-val_diceXX=0.3395-(0.3344)-4.hdf5\r\n",
      "-rwxrwxrwx 1 boba boba 390546736 апр 10 12:32 V01-F-UNetA8x8-Cropx512-F2-val_diceXX=0.2873-(0.2676)-3.hdf5\r\n",
      "-rwxrwxrwx 1 boba boba 390546736 апр 10 12:29 V01-F-UNetA8x8-Cropx512-F2-val_diceXX=0.2845-(0.2179)-2.hdf5\r\n",
      "-rwxrwxrwx 1 boba boba 390546736 апр 10 12:27 V01-F-UNetA8x8-Cropx512-F2-val_diceXX=0.2069-(0.1853)-1.hdf5\r\n"
     ]
    }
   ],
   "source": [
    "!ls -lt ../Temp/V03"
   ]
  },
  {
   "cell_type": "code",
   "execution_count": null,
   "metadata": {
    "collapsed": true
   },
   "outputs": [],
   "source": []
  },
  {
   "cell_type": "code",
   "execution_count": 500,
   "metadata": {
    "scrolled": false
   },
   "outputs": [
    {
     "name": "stdout",
     "output_type": "stream",
     "text": [
      "total 12585764\r\n",
      "drwxrwxrwx 1 boba boba    126976 мар 30 02:23 V02\r\n",
      "drwxrwxrwx 1 boba boba     12288 мар 28 22:49 History\r\n",
      "-rwxrwxrwx 1 boba boba 390455720 мар 27 18:21 V01-X-UNetA16x7-Crop3-BW-F3-2018-03-27-06-27-55.hdf5\r\n",
      "-rwxrwxrwx 1 boba boba 390455720 мар 27 18:07 V01-F-UNetA16x7-Crop3-BW-F3-val_diceXX-best.hdf5\r\n",
      "-rwxrwxrwx 1 boba boba 390546736 мар 26 20:28 V01-X-UNetA8x8-Crop3-CLR-F2-2018-03-26-20-28-11.hdf5\r\n",
      "-rwxrwxrwx 1 boba boba 390546736 мар 26 19:59 V01-F-UNetA8x8-Crop3-CLR-F2-val_diceXX=0.7729-(0.7953)-321.hdf5\r\n",
      "-rwxrwxrwx 1 boba boba 390546736 мар 26 19:59 V01-F-UNetA8x8-Crop3-CLR-F2-val_diceXX=0.7683-(0.7825)-320.hdf5\r\n",
      "-rwxrwxrwx 1 boba boba 390455720 мар 26 15:38 V01-F-UNetA16x7-Crop3-BW-F1-val_diceXX-best.hdf5\r\n",
      "-rwxrwxrwx 1 boba boba 390546736 мар 26 13:21 V01-X-UNetA8x8-Crop3-CLR-F1-2018-03-26-13-20-52.hdf5\r\n",
      "-rwxrwxrwx 1 boba boba 390546736 мар 26 12:53 V01-F-UNetA8x8-Crop3-CLR-F1-val_diceXX=0.7649-(0.7527)-627.hdf5\r\n",
      "-rwxrwxrwx 1 boba boba 390546736 мар 26 12:47 V01-F-UNetA8x8-Crop3-CLR-F1-val_diceXX=0.7615-(0.7694)-609.hdf5\r\n",
      "-rwxrwxrwx 1 boba boba 390546736 мар 25 11:22 V01-X-UNetA08x8-CropN3-F0-2018-03-25-11-22-04.hdf5\r\n",
      "-rwxrwxrwx 1 boba boba 390546736 мар 25 11:22 V01-F-UNetA08x8-CropN3-F0-val_mean_iou_XX-best.hdf5\r\n",
      "-rwxrwxrwx 1 boba boba 390546736 мар 25 10:59 V01-F-UNetA08x8-CropN3-F0-val_diceXX=0.7783-(0.8106)-187.hdf5\r\n",
      "-rwxrwxrwx 1 boba boba 390546736 мар 24 21:05 V01-X-UNetA08x8-CropN3-F0-2018-03-24-21-04-57.hdf5\r\n",
      "-rwxrwxrwx 1 boba boba 390546736 мар 24 19:46 V01-F-UNetA08x8-CropN3-F0-val_diceCC=0.7359-(0.7807)-208.hdf5\r\n",
      "-rwxrwxrwx 1 boba boba 390546736 мар 24 13:50 V01-X-UNetA08x8-CropN3-F0-2018-03-24-13-50-10.hdf5\r\n",
      "-rwxrwxrwx 1 boba boba 390546736 мар 24 13:27 V01-F-UNetA08x8-CropN3-F0-val_diceCC=0.7356-(0.7687)-138.hdf5\r\n",
      "-rwxrwxrwx 1 boba boba 390546672 мар 22 12:38 V01-X-UNetA08x8-Cropx1-F3-2018-03-22-12-38-14.hdf5\r\n",
      "-rwxrwxrwx 1 boba boba 390546672 мар 22 12:38 V01-F-UNetA08x8-Cropx1-F3-val_mean_iou-best.hdf5\r\n",
      "-rwxrwxrwx 1 boba boba 390546672 мар 22 12:35 V01-F-UNetA08x8-Cropx1-F3-val_diceCC=0.6625-(0.7635)-198.hdf5\r\n",
      "-rwxrwxrwx 1 boba boba 390546672 мар 22 05:25 V01-X-UNetA08x8-Cropx1-F3-2018-03-22-05-25-42.hdf5\r\n",
      "-rwxrwxrwx 1 boba boba 390546672 мар 22 05:15 V01-F-UNetA08x8-Cropx1-F3-val_diceCC=0.6726-(0.7347)-144.hdf5\r\n",
      "-rwxrwxrwx 1 boba boba 390546672 мар 22 05:03 V01-F-UNetA08x8-Cropx1-F3-val_diceCC=0.6704-(0.7433)-137.hdf5\r\n",
      "-rwxrwxrwx 1 boba boba 390546704 мар 21 09:45 V01-X-UNetA08x8-Cropx2-F3-2018-03-21-09-45-29.hdf5\r\n",
      "-rwxrwxrwx 1 boba boba 390546704 мар 21 09:45 V01-F-UNetA08x8-Cropx2-F3-val_mean_iou-best.hdf5\r\n",
      "-rwxrwxrwx 1 boba boba 390546704 мар 21 09:40 V01-F-UNetA08x8-Cropx2-F3-val_diceCC=0.8136-(0.7940)-147.hdf5\r\n",
      "-rwxrwxrwx 1 boba boba 390455464 мар 20 21:27 V01-X-UNetA16x7-Cropx2-F1-2018-03-21-04-26-49.hdf5\r\n",
      "-rwxrwxrwx 1 boba boba 390455464 мар 20 20:56 V01-F-UNetA16x7-Cropx2-F1-val_diceCC-best.hdf5\r\n",
      "-rwxrwxrwx 1 boba boba 390546736 мар 19 06:29 V01-X-UNetA08x8-Cropx3-F2-2018-03-19-06-29-07.hdf5\r\n",
      "-rwxrwxrwx 1 boba boba 390546736 мар 19 06:29 V01-F-UNetA08x8-Cropx3-F2-val_mean_iou-best.hdf5\r\n",
      "-rwxrwxrwx 1 boba boba 390546736 мар 19 06:28 V01-F-UNetA08x8-Cropx3-F2-val_diceCC=0.7632-(0.8053)-150.hdf5\r\n",
      "-rwxrwxrwx 1 boba boba 390546736 мар 18 17:46 V01-X-UNetA08x8-Cropx3-F0-2018-03-19-00-46-12.hdf5\r\n",
      "-rwxrwxrwx 1 boba boba 390546736 мар 18 17:46 V01-F-UNetA08x8-Cropx3-F0-val_mean_iou-best.hdf5\r\n",
      "-rwxrwxrwx 1 boba boba 390546736 мар 18 17:25 V01-F-UNetA08x8-Cropx3-F0-val_diceCC-best.hdf5\r\n"
     ]
    }
   ],
   "source": [
    "!ls -lt ../Temp"
   ]
  },
  {
   "cell_type": "code",
   "execution_count": 19,
   "metadata": {},
   "outputs": [
    {
     "name": "stdout",
     "output_type": "stream",
     "text": [
      "total 17164848\r\n",
      "drwxrwxrwx 1 boba boba      32768 мар 18 15:57 ImageMaskPredict\r\n",
      "-rwxrwxrwx 1 boba boba   86866469 мар 18 03:20 train-CropA01E-II-Natural.npy.zip\r\n",
      "-rwxrwxrwx 1 boba boba      22629 мар 18 03:15 train-CropA01E-NN.npy.zip\r\n",
      "-rwxrwxrwx 1 boba boba   89661076 мар 18 02:19 train-CropA01E-MM-4.npy.zip\r\n",
      "-rwxrwxrwx 1 boba boba 2298478720 мар 15 06:07 train-CropA01E-MM-4.npy\r\n",
      "-rwxrwxrwx 1 boba boba  430964864 мар 15 06:07 train-CropA01E-II-Natural.npy\r\n",
      "-rwxrwxrwx 1 boba boba     140416 мар 15 06:07 train-CropA01E-NN.npy\r\n",
      "-rwxrwxrwx 1 boba boba  430964864 мар 12 22:00 train-CropA01E023-MM.npy\r\n",
      "-rwxrwxrwx 1 boba boba      18017 мар 11 01:47 skf-test-CropA01E.npy\r\n",
      "-rwxrwxrwx 1 boba boba      88161 мар 11 01:47 skf-train-CropA01E.npy\r\n",
      "-rwxrwxrwx 1 boba boba 3447718016 мар 10 04:26 train-CropA01E-II.npy\r\n",
      "-rwxrwxrwx 1 boba boba  661127296 мар  7 21:35 train-CropA01T-MM.npy\r\n",
      "-rwxrwxrwx 1 boba boba 3966763136 мар  7 21:35 train-CropA01T-II.npy\r\n",
      "-rwxrwxrwx 1 boba boba     161536 мар  7 21:35 train-CropA01T-NN.npy\r\n",
      "-rwxrwxrwx 1 boba boba       3038 мар  7 20:08 train-BadPredict.npy\r\n",
      "-rwxrwxrwx 1 boba boba  574619776 мар  6 12:38 train-CropA01-MM.npy\r\n",
      "-rwxrwxrwx 1 boba boba 3447718016 мар  6 12:38 train-CropA01-II.npy\r\n",
      "-rwxrwxrwx 1 boba boba     140416 мар  6 12:38 train-CropA01-NN.npy\r\n",
      "-rwxrwxrwx 1 boba boba  574619776 мар  5 22:36 train-CropA01E-MM.npy\r\n",
      "-rwxrwxrwx 1 boba boba  174063712 мар  5 03:08 train-A01E-MM.npy\r\n",
      "-rwxrwxrwx 1 boba boba 1044381792 мар  5 03:08 train-A01E-II.npy\r\n",
      "-rwxrwxrwx 1 boba boba      42576 мар  5 03:08 train-A01E-NN.npy\r\n",
      "-rwxrwxrwx 1 boba boba   43516000 мар  4 22:12 train-MM-E.npy\r\n",
      "-rwxrwxrwx 1 boba boba  130547808 мар  4 22:12 train-II-E.npy\r\n",
      "-rwxrwxrwx 1 boba boba   43516000 мар  3 21:41 train-MM.npy\r\n",
      "-rwxrwxrwx 1 boba boba  130547808 мар  3 21:41 train-II.npy\r\n"
     ]
    }
   ],
   "source": [
    "!ls -lt ../Work"
   ]
  },
  {
   "cell_type": "code",
   "execution_count": 76,
   "metadata": {},
   "outputs": [
    {
     "name": "stdout",
     "output_type": "stream",
     "text": [
      "total 22216\r\n",
      "-rwxrwxrwx 1 boba boba  917500 мар 11 20:43 bowl-boba-2018-03-11-20-42-LB-325.csv\r\n",
      "drwxrwxrwx 1 boba boba    4096 мар 11 14:19 Best\r\n",
      "-rwxrwxrwx 1 boba boba  921881 мар 11 00:09 bowl-boba-2018-03-11-00-08.csv\r\n",
      "-rwxrwxrwx 1 boba boba  928698 мар 11 00:02 bowl-boba-2018-03-11-00-01-LB-322.csv\r\n",
      "-rwxrwxrwx 1 boba boba  915776 мар 10 18:35 bowl-boba-2018-03-10-18-34-LB-325.csv\r\n",
      "-rwxrwxrwx 1 boba boba  928561 мар 10 17:48 bowl-boba-2018-03-10-17-48-LB-317.csv\r\n",
      "-rwxrwxrwx 1 boba boba  904408 мар 10 17:43 bowl-boba-2018-03-10-17-42-LB-314.csv\r\n",
      "-rwxrwxrwx 1 boba boba  926392 мар 10 02:35 bowl-boba-2018-03-10-02-34.csv\r\n",
      "-rwxrwxrwx 1 boba boba  898677 мар 10 02:27 bowl-boba-2018-03-10-02-26.csv\r\n",
      "-rwxrwxrwx 1 boba boba  916592 мар 10 02:23 bowl-boba-2018-03-10-02-21.csv\r\n",
      "-rwxrwxrwx 1 boba boba  898480 мар  9 12:07 bowl-boba-2018-03-09-12-07-LB-316.csv\r\n",
      "-rwxrwxrwx 1 boba boba  899339 мар  9 11:55 bowl-boba-2018-03-09-11-54-LB-310.csv\r\n",
      "-rwxrwxrwx 1 boba boba  900026 мар  7 20:44 bowl-boba-2018-03-07-20-43.csv\r\n",
      "-rwxrwxrwx 1 boba boba  808218 мар  6 16:25 bowl-boba-2018-03-06-16-24.csv\r\n",
      "-rwxrwxrwx 1 boba boba  824104 мар  6 12:30 bowl-boba-2018-03-06-12-28.csv\r\n",
      "-rwxrwxrwx 1 boba boba  784386 мар  6 12:22 bowl-boba-2018-03-06-12-21.csv\r\n",
      "-rwxrwxrwx 1 boba boba  920054 мар  6 10:27 bowl-boba-2018-03-06-10-26.csv\r\n",
      "-rwxrwxrwx 1 boba boba  935172 мар  5 23:49 bowl-boba-2018-03-05-23-48.csv\r\n",
      "-rwxrwxrwx 1 boba boba  682671 мар  5 01:33 bowl-boba-2018-03-05-01-32.csv\r\n",
      "-rwxrwxrwx 1 boba boba  913339 мар  4 12:32 bowl-boba-2018-03-04-12-31.csv\r\n",
      "-rwxrwxrwx 1 boba boba 1114312 мар  3 16:41 bowl-boba-2018-03-03-16-40.csv\r\n",
      "-rwxrwxrwx 1 boba boba 1155161 мар  3 15:56 bowl-boba-2018-03-03-15-55.csv\r\n",
      "-rwxrwxrwx 1 boba boba  459626 мар  2 21:01 bowl-boba-2018-03-02-20-59.csv\r\n",
      "-rwxrwxrwx 1 boba boba  457246 мар  2 16:03 bowl-boba-2018-03-02-16-02.csv\r\n",
      "-rwxrwxrwx 1 boba boba  644918 мар  2 15:53 bowl-boba-2018-03-02-15-52.csv\r\n",
      "-rwxrwxrwx 1 boba boba  910856 мар  2 15:30 bowl-boba-2018-03-02-15-29.csv\r\n",
      "-rwxrwxrwx 1 boba boba  667377 мар  2 09:39 bowl-boba-2018-03-02-09-29.csv\r\n",
      "-rwxrwxrwx 1 boba boba  456093 мар  1 18:10 bowl-boba-2018-03-01-18-10.csv\r\n"
     ]
    }
   ],
   "source": [
    "!ls -lt ../Result"
   ]
  },
  {
   "cell_type": "code",
   "execution_count": 40,
   "metadata": {
    "scrolled": false
   },
   "outputs": [],
   "source": [
    "#!ls --help"
   ]
  },
  {
   "cell_type": "code",
   "execution_count": 2,
   "metadata": {},
   "outputs": [
    {
     "data": {
      "text/plain": [
       "'1.2.1'"
      ]
     },
     "execution_count": 2,
     "metadata": {},
     "output_type": "execute_result"
    }
   ],
   "source": [
    "import tensorflow as tf\n",
    "tf.__version__"
   ]
  },
  {
   "cell_type": "code",
   "execution_count": null,
   "metadata": {
    "collapsed": true
   },
   "outputs": [],
   "source": []
  }
 ],
 "metadata": {
  "kernelspec": {
   "display_name": "Python 3 (ipykernel)",
   "language": "python",
   "name": "python3"
  },
  "language_info": {
   "codemirror_mode": {
    "name": "ipython",
    "version": 3
   },
   "file_extension": ".py",
   "mimetype": "text/x-python",
   "name": "python",
   "nbconvert_exporter": "python",
   "pygments_lexer": "ipython3",
   "version": "3.7.6"
  }
 },
 "nbformat": 4,
 "nbformat_minor": 2
}
