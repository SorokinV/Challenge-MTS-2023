{
 "cells": [
  {
   "cell_type": "code",
   "execution_count": 18,
   "metadata": {
    "scrolled": true
   },
   "outputs": [
    {
     "name": "stdout",
     "output_type": "stream",
     "text": [
      "2023-02-20 16:42:35.640406\n",
      "On branch master\n",
      "Changes not staged for commit:\n",
      "  (use \"git add <file>...\" to update what will be committed)\n",
      "  (use \"git restore <file>...\" to discard changes in working directory)\n",
      "\t\u001b[31mmodified:   .ipynb_checkpoints/GitCommon-checkpoint.ipynb\u001b[m\n",
      "\t\u001b[31mmodified:   Data-Arch/Context_Baseline_Public.ipynb\u001b[m\n",
      "\t\u001b[31mmodified:   GitCommon.ipynb\u001b[m\n",
      "\n",
      "no changes added to commit (use \"git add\" and/or \"git commit -a\")\n"
     ]
    }
   ],
   "source": [
    "import sys\n",
    "import datetime\n",
    "print(datetime.datetime.now())\n",
    "    \n",
    "! git status"
   ]
  },
  {
   "cell_type": "code",
   "execution_count": null,
   "metadata": {},
   "outputs": [],
   "source": []
  },
  {
   "cell_type": "code",
   "execution_count": 19,
   "metadata": {
    "scrolled": false
   },
   "outputs": [
    {
     "name": "stdout",
     "output_type": "stream",
     "text": [
      "2023-02-20 16:44:00.596884\n",
      "On branch master\n",
      "Changes not staged for commit:\n",
      "  (use \"git add <file>...\" to update what will be committed)\n",
      "  (use \"git restore <file>...\" to discard changes in working directory)\n",
      "\t\u001b[31mmodified:   .ipynb_checkpoints/GitCommon-checkpoint.ipynb\u001b[m\n",
      "\t\u001b[31mmodified:   Data-Arch/Context_Baseline_Public.ipynb\u001b[m\n",
      "\t\u001b[31mmodified:   GitCommon.ipynb\u001b[m\n",
      "\n",
      "no changes added to commit (use \"git add\" and/or \"git commit -a\")\n",
      "[master 9748965] MTS 2023\n",
      " 3 files changed, 556 insertions(+), 1922 deletions(-)\n",
      " rewrite .ipynb_checkpoints/GitCommon-checkpoint.ipynb (88%)\n",
      " rewrite GitCommon.ipynb (87%)\n",
      "On branch master\n",
      "nothing to commit, working tree clean\n"
     ]
    }
   ],
   "source": [
    "import datetime\n",
    "print(datetime.datetime.now())\n",
    "!git status\n",
    "!git add ./\n",
    "!git commit -a -m \"MTS 2023\"\n",
    "#!git commit -a -m 'V03 O++ fix bugs'\n",
    "#!git commit -a -m 'V02 LB=609664.55 last but not best'\n",
    "#!git commit -a -m 'V02+ add sample_weights'\n",
    "!git status"
   ]
  },
  {
   "cell_type": "code",
   "execution_count": 10,
   "metadata": {},
   "outputs": [],
   "source": [
    "!git branch -a"
   ]
  },
  {
   "cell_type": "code",
   "execution_count": 154,
   "metadata": {},
   "outputs": [
    {
     "name": "stdout",
     "output_type": "stream",
     "text": [
      "Already on 'forward'\r\n"
     ]
    }
   ],
   "source": [
    "#!git checkout -b NoCrop\n",
    "!git checkout forward"
   ]
  },
  {
   "cell_type": "code",
   "execution_count": 155,
   "metadata": {
    "scrolled": false
   },
   "outputs": [
    {
     "name": "stdout",
     "output_type": "stream",
     "text": [
      "Switched to branch 'master'\n",
      "Already up-to-date.\n",
      "2018-04-21 09:21:20.116656\n"
     ]
    }
   ],
   "source": [
    "import datetime\n",
    "!git checkout master\n",
    "!git merge forward\n",
    "print(datetime.datetime.now())"
   ]
  },
  {
   "cell_type": "code",
   "execution_count": 8,
   "metadata": {},
   "outputs": [
    {
     "name": "stdout",
     "output_type": "stream",
     "text": [
      "usage: git checkout [<options>] <branch>\r\n",
      "   or: git checkout [<options>] [<branch>] -- <file>...\r\n",
      "\r\n",
      "    -q, --quiet           suppress progress reporting\r\n",
      "    -b <branch>           create and checkout a new branch\r\n",
      "    -B <branch>           create/reset and checkout a branch\r\n",
      "    -l                    create reflog for new branch\r\n",
      "    --detach              detach the HEAD at named commit\r\n",
      "    -t, --track           set upstream info for new branch\r\n",
      "    --orphan <new-branch>\r\n",
      "                          new unparented branch\r\n",
      "    -2, --ours            checkout our version for unmerged files\r\n",
      "    -3, --theirs          checkout their version for unmerged files\r\n",
      "    -f, --force           force checkout (throw away local modifications)\r\n",
      "    -m, --merge           perform a 3-way merge with the new branch\r\n",
      "    --overwrite-ignore    update ignored files (default)\r\n",
      "    --conflict <style>    conflict style (merge or diff3)\r\n",
      "    -p, --patch           select hunks interactively\r\n",
      "    --ignore-skip-worktree-bits\r\n",
      "                          do not limit pathspecs to sparse entries only\r\n",
      "    --ignore-other-worktrees\r\n",
      "                          do not check if another worktree is holding the given ref\r\n",
      "    --progress            force progress reporting\r\n",
      "\r\n"
     ]
    }
   ],
   "source": [
    "#!git branch -help\n",
    "!git checkout -help"
   ]
  },
  {
   "cell_type": "code",
   "execution_count": 48,
   "metadata": {},
   "outputs": [
    {
     "name": "stdout",
     "output_type": "stream",
     "text": [
      "Switched to a new branch 'maskVer2'\r\n"
     ]
    }
   ],
   "source": [
    "!git checkout -b maskVer2"
   ]
  },
  {
   "cell_type": "code",
   "execution_count": null,
   "metadata": {},
   "outputs": [],
   "source": []
  }
 ],
 "metadata": {
  "kernelspec": {
   "display_name": "Python 3 (ipykernel)",
   "language": "python",
   "name": "python3"
  },
  "language_info": {
   "codemirror_mode": {
    "name": "ipython",
    "version": 3
   },
   "file_extension": ".py",
   "mimetype": "text/x-python",
   "name": "python",
   "nbconvert_exporter": "python",
   "pygments_lexer": "ipython3",
   "version": "3.7.6"
  }
 },
 "nbformat": 4,
 "nbformat_minor": 2
}
