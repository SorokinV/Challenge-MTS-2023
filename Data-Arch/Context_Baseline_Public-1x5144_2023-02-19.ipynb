{
 "cells": [
  {
   "cell_type": "code",
   "execution_count": 1,
   "id": "28740129",
   "metadata": {},
   "outputs": [],
   "source": [
    "import sys\n",
    "import os\n",
    "import warnings\n",
    "os.environ['OPENBLAS_NUM_THREADS'] = '1'\n",
    "warnings.filterwarnings('ignore')"
   ]
  },
  {
   "cell_type": "code",
   "execution_count": 2,
   "id": "b907cd02",
   "metadata": {},
   "outputs": [],
   "source": [
    "import pandas as pd\n",
    "import numpy as np\n",
    "import time\n",
    "import pyarrow.parquet as pq\n",
    "import pyarrow as pa\n",
    "import scipy\n",
    "import implicit\n",
    "import bisect\n",
    "import sklearn.metrics as m\n",
    "from catboost import CatBoostClassifier, CatBoostRegressor, Pool\n",
    "from sklearn.model_selection import train_test_split\n",
    "from sklearn.calibration import calibration_curve, CalibratedClassifierCV"
   ]
  },
  {
   "cell_type": "code",
   "execution_count": 3,
   "id": "e762eacd",
   "metadata": {},
   "outputs": [],
   "source": [
    "LOCAL_DATA_PATH = './context_data/'\n",
    "SPLIT_SEED = 42\n",
    "DATA_FILE = 'competition_data_final_pqt'\n",
    "TARGET_FILE = 'public_train.pqt'\n",
    "SUBMISSION_FILE = 'submit.pqt'"
   ]
  },
  {
   "cell_type": "code",
   "execution_count": 4,
   "id": "8c1af0db",
   "metadata": {},
   "outputs": [],
   "source": [
    "id_to_submit = pq.read_table(f'{LOCAL_DATA_PATH}/{SUBMISSION_FILE}').to_pandas()"
   ]
  },
  {
   "cell_type": "code",
   "execution_count": 5,
   "id": "89fd34da",
   "metadata": {},
   "outputs": [
    {
     "data": {
      "text/plain": [
       "['./context_data//competition_data_final_pqt/part-00000-aba60f69-2b63-4cc1-95ca-542598094698-c000.snappy.parquet',\n",
       " './context_data//competition_data_final_pqt/part-00001-aba60f69-2b63-4cc1-95ca-542598094698-c000.snappy.parquet',\n",
       " './context_data//competition_data_final_pqt/part-00002-aba60f69-2b63-4cc1-95ca-542598094698-c000.snappy.parquet',\n",
       " './context_data//competition_data_final_pqt/part-00003-aba60f69-2b63-4cc1-95ca-542598094698-c000.snappy.parquet',\n",
       " './context_data//competition_data_final_pqt/part-00004-aba60f69-2b63-4cc1-95ca-542598094698-c000.snappy.parquet',\n",
       " './context_data//competition_data_final_pqt/part-00005-aba60f69-2b63-4cc1-95ca-542598094698-c000.snappy.parquet',\n",
       " './context_data//competition_data_final_pqt/part-00006-aba60f69-2b63-4cc1-95ca-542598094698-c000.snappy.parquet',\n",
       " './context_data//competition_data_final_pqt/part-00007-aba60f69-2b63-4cc1-95ca-542598094698-c000.snappy.parquet',\n",
       " './context_data//competition_data_final_pqt/part-00008-aba60f69-2b63-4cc1-95ca-542598094698-c000.snappy.parquet',\n",
       " './context_data//competition_data_final_pqt/part-00009-aba60f69-2b63-4cc1-95ca-542598094698-c000.snappy.parquet']"
      ]
     },
     "execution_count": 5,
     "metadata": {},
     "output_type": "execute_result"
    }
   ],
   "source": [
    "# pqf = pq.ParquetFile(f'{LOCAL_DATA_PATH}/{DATA_FILE}')\n",
    "pqd = pq.ParquetDataset(f'{LOCAL_DATA_PATH}/{DATA_FILE}')\n",
    "pqd.files"
   ]
  },
  {
   "cell_type": "code",
   "execution_count": null,
   "id": "39413645",
   "metadata": {},
   "outputs": [],
   "source": []
  },
  {
   "cell_type": "code",
   "execution_count": 7,
   "id": "f6f543bf",
   "metadata": {},
   "outputs": [],
   "source": [
    "data_agg = None\n",
    "for ifile in pqd.files :\n",
    "\n",
    "    #data = pq.read_table(f'{LOCAL_DATA_PATH}/{DATA_FILE}/{ifile}')\n",
    "    data = pq.read_table(f'{ifile}')\n",
    "    #pd.DataFrame([(z.name, z.type) for z in data.schema], columns = [['field', 'type']])\n",
    "\n",
    "    data_agg0 = data.select(['user_id', 'url_host', 'request_cnt']).\\\n",
    "        group_by(['user_id', 'url_host']).aggregate([('request_cnt', \"sum\")])\n",
    "    \n",
    "    if data_agg is None :\n",
    "        data_agg = data_agg0\n",
    "        #print(data_agg.to_pandas().count)\n",
    "    else :\n",
    "        data_agg = pa.concat_tables([data_agg,data_agg0],promote=False)\n",
    "    \n",
    "    del data, data_agg0"
   ]
  },
  {
   "cell_type": "code",
   "execution_count": null,
   "id": "f4b80b1f",
   "metadata": {},
   "outputs": [],
   "source": []
  },
  {
   "cell_type": "code",
   "execution_count": 8,
   "id": "57d1d675",
   "metadata": {},
   "outputs": [
    {
     "data": {
      "text/plain": [
       "<bound method DataFrame.info of           request_cnt_sum  user_id                        url_host\n",
       "0                      12    45098                   ad.adriver.ru\n",
       "1                     491    45098                       apple.com\n",
       "2                     174    45098          avatars.mds.yandex.net\n",
       "3                     305    45098     googleads.g.doubleclick.net\n",
       "4                     446    45098                     i.ytimg.com\n",
       "...                   ...      ...                             ...\n",
       "32277664                1   300964                     youtube.com\n",
       "32277665                1   300964                     biosfera.kz\n",
       "32277666                1   300964  chihuahuadog-ru.turbopages.org\n",
       "32277667                1   300964             sun9-88.userapi.com\n",
       "32277668                2   300964                      showjet.ru\n",
       "\n",
       "[32277669 rows x 3 columns]>"
      ]
     },
     "execution_count": 8,
     "metadata": {},
     "output_type": "execute_result"
    }
   ],
   "source": [
    "data_agg.to_pandas().info"
   ]
  },
  {
   "cell_type": "markdown",
   "id": "83234792",
   "metadata": {},
   "source": [
    "Регион   \n",
    ", населенный пункт   \n",
    ", производиель устройства   \n",
    ", модель устроства   \n",
    ", домен, с которого пришел рекламный запрос   \n",
    ", тип устройства (смартфон или что-то другое)   \n",
    ", операционка на устройстве   \n",
    ", оценка цены устройства   \n",
    ", дата   \n",
    ", время дня (утро, вечер ...)   \n",
    ", число запросов   \n",
    ", id пользователя   "
   ]
  },
  {
   "cell_type": "code",
   "execution_count": 11,
   "id": "5ee6f41d",
   "metadata": {},
   "outputs": [],
   "source": [
    "#df = data.to_pandas()\n",
    "#df.head()"
   ]
  },
  {
   "cell_type": "code",
   "execution_count": 12,
   "id": "abc3275d",
   "metadata": {},
   "outputs": [],
   "source": [
    "#df.info(), df.describe()"
   ]
  },
  {
   "cell_type": "code",
   "execution_count": 13,
   "id": "bb8abea4",
   "metadata": {},
   "outputs": [],
   "source": [
    "#data.select(['cpe_type_cd']).to_pandas()['cpe_type_cd'].value_counts()"
   ]
  },
  {
   "cell_type": "code",
   "execution_count": 14,
   "id": "3ff50f46",
   "metadata": {},
   "outputs": [
    {
     "data": {
      "text/html": [
       "<div>\n",
       "<style scoped>\n",
       "    .dataframe tbody tr th:only-of-type {\n",
       "        vertical-align: middle;\n",
       "    }\n",
       "\n",
       "    .dataframe tbody tr th {\n",
       "        vertical-align: top;\n",
       "    }\n",
       "\n",
       "    .dataframe thead tr th {\n",
       "        text-align: left;\n",
       "    }\n",
       "</style>\n",
       "<table border=\"1\" class=\"dataframe\">\n",
       "  <thead>\n",
       "    <tr>\n",
       "      <th></th>\n",
       "      <th>field</th>\n",
       "      <th>type</th>\n",
       "    </tr>\n",
       "  </thead>\n",
       "  <tbody>\n",
       "    <tr>\n",
       "      <th>0</th>\n",
       "      <td>age</td>\n",
       "      <td>double</td>\n",
       "    </tr>\n",
       "    <tr>\n",
       "      <th>1</th>\n",
       "      <td>is_male</td>\n",
       "      <td>string</td>\n",
       "    </tr>\n",
       "    <tr>\n",
       "      <th>2</th>\n",
       "      <td>user_id</td>\n",
       "      <td>int64</td>\n",
       "    </tr>\n",
       "    <tr>\n",
       "      <th>3</th>\n",
       "      <td>__index_level_0__</td>\n",
       "      <td>int64</td>\n",
       "    </tr>\n",
       "  </tbody>\n",
       "</table>\n",
       "</div>"
      ],
      "text/plain": [
       "               field    type\n",
       "0                age  double\n",
       "1            is_male  string\n",
       "2            user_id   int64\n",
       "3  __index_level_0__   int64"
      ]
     },
     "execution_count": 14,
     "metadata": {},
     "output_type": "execute_result"
    }
   ],
   "source": [
    "targets = pq.read_table(f'{LOCAL_DATA_PATH}/{TARGET_FILE}')\n",
    "pd.DataFrame([(z.name, z.type) for z in targets.schema], columns = [['field', 'type']])"
   ]
  },
  {
   "cell_type": "code",
   "execution_count": 15,
   "id": "130cced8",
   "metadata": {},
   "outputs": [
    {
     "data": {
      "text/html": [
       "<div>\n",
       "<style scoped>\n",
       "    .dataframe tbody tr th:only-of-type {\n",
       "        vertical-align: middle;\n",
       "    }\n",
       "\n",
       "    .dataframe tbody tr th {\n",
       "        vertical-align: top;\n",
       "    }\n",
       "\n",
       "    .dataframe thead th {\n",
       "        text-align: right;\n",
       "    }\n",
       "</style>\n",
       "<table border=\"1\" class=\"dataframe\">\n",
       "  <thead>\n",
       "    <tr style=\"text-align: right;\">\n",
       "      <th></th>\n",
       "      <th>request_cnt_sum</th>\n",
       "      <th>user_id</th>\n",
       "    </tr>\n",
       "  </thead>\n",
       "  <tbody>\n",
       "    <tr>\n",
       "      <th>count</th>\n",
       "      <td>3.227767e+07</td>\n",
       "      <td>3.227767e+07</td>\n",
       "    </tr>\n",
       "    <tr>\n",
       "      <th>mean</th>\n",
       "      <td>1.724852e+01</td>\n",
       "      <td>2.074424e+05</td>\n",
       "    </tr>\n",
       "    <tr>\n",
       "      <th>std</th>\n",
       "      <td>6.242678e+01</td>\n",
       "      <td>1.200214e+05</td>\n",
       "    </tr>\n",
       "    <tr>\n",
       "      <th>min</th>\n",
       "      <td>1.000000e+00</td>\n",
       "      <td>0.000000e+00</td>\n",
       "    </tr>\n",
       "    <tr>\n",
       "      <th>25%</th>\n",
       "      <td>1.000000e+00</td>\n",
       "      <td>1.037680e+05</td>\n",
       "    </tr>\n",
       "    <tr>\n",
       "      <th>50%</th>\n",
       "      <td>2.000000e+00</td>\n",
       "      <td>2.077030e+05</td>\n",
       "    </tr>\n",
       "    <tr>\n",
       "      <th>75%</th>\n",
       "      <td>8.000000e+00</td>\n",
       "      <td>3.116840e+05</td>\n",
       "    </tr>\n",
       "    <tr>\n",
       "      <th>max</th>\n",
       "      <td>3.938000e+03</td>\n",
       "      <td>4.153160e+05</td>\n",
       "    </tr>\n",
       "  </tbody>\n",
       "</table>\n",
       "</div>"
      ],
      "text/plain": [
       "       request_cnt_sum       user_id\n",
       "count     3.227767e+07  3.227767e+07\n",
       "mean      1.724852e+01  2.074424e+05\n",
       "std       6.242678e+01  1.200214e+05\n",
       "min       1.000000e+00  0.000000e+00\n",
       "25%       1.000000e+00  1.037680e+05\n",
       "50%       2.000000e+00  2.077030e+05\n",
       "75%       8.000000e+00  3.116840e+05\n",
       "max       3.938000e+03  4.153160e+05"
      ]
     },
     "execution_count": 15,
     "metadata": {},
     "output_type": "execute_result"
    }
   ],
   "source": [
    "data_agg.to_pandas().describe()"
   ]
  },
  {
   "cell_type": "code",
   "execution_count": 16,
   "id": "57c55747",
   "metadata": {},
   "outputs": [
    {
     "name": "stdout",
     "output_type": "stream",
     "text": [
      "199683 urls\n",
      "415317 users\n"
     ]
    }
   ],
   "source": [
    "url_set = set(data_agg.select(['url_host']).to_pandas()['url_host'])\n",
    "print(f'{len(url_set)} urls')\n",
    "url_dict = {url: idurl for url, idurl in zip(url_set, range(len(url_set)))}\n",
    "usr_set = set(data_agg.select(['user_id']).to_pandas()['user_id'])\n",
    "print(f'{len(usr_set)} users')\n",
    "usr_dict = {usr: user_id for usr, user_id in zip(usr_set, range(len(usr_set)))}"
   ]
  },
  {
   "cell_type": "code",
   "execution_count": 17,
   "id": "bde3b504",
   "metadata": {},
   "outputs": [],
   "source": [
    "import faiss"
   ]
  },
  {
   "cell_type": "code",
   "execution_count": 48,
   "id": "5e227779",
   "metadata": {},
   "outputs": [
    {
     "name": "stdout",
     "output_type": "stream",
     "text": [
      "CPU times: user 7.45 s, sys: 604 ms, total: 8.05 s\n",
      "Wall time: 7.99 s\n"
     ]
    }
   ],
   "source": [
    "%%time\n",
    "values = np.array(data_agg.select(['request_cnt_sum']).to_pandas()['request_cnt_sum'])\n",
    "rows = np.array(data_agg.select(['user_id']).to_pandas()['user_id'].map(usr_dict))\n",
    "cols = np.array(data_agg.select(['url_host']).to_pandas()['url_host'].map(url_dict))\n",
    "mat = scipy.sparse.coo_matrix((values, (rows, cols)), shape=(rows.max() + 1, cols.max() + 1))\n",
    "als = implicit.approximate_als.FaissAlternatingLeastSquares(factors = 250, iterations = 30, use_gpu = False, \\\n",
    "       calculate_training_loss = False, regularization = 0.1)"
   ]
  },
  {
   "cell_type": "code",
   "execution_count": 64,
   "id": "f42807fb",
   "metadata": {},
   "outputs": [
    {
     "data": {
      "text/plain": [
       "{'item_factors': array([[0.00712771, 0.00499195, 0.00736313, ..., 0.00491015, 0.00650969,\n",
       "         0.00315168],\n",
       "        [0.00662548, 0.00756913, 0.0041724 , ..., 0.00330202, 0.00600855,\n",
       "         0.00431066],\n",
       "        [0.0032476 , 0.00469976, 0.00402464, ..., 0.00608568, 0.00209814,\n",
       "         0.00815242],\n",
       "        ...,\n",
       "        [0.0061027 , 0.00091225, 0.00678619, ..., 0.00602314, 0.0076422 ,\n",
       "         0.00656484],\n",
       "        [0.00527387, 0.00522061, 0.00633023, ..., 0.00171991, 0.00327895,\n",
       "         0.00402438],\n",
       "        [0.00496071, 0.00705086, 0.00805795, ..., 0.00370551, 0.00419046,\n",
       "         0.00232848]], dtype=float32),\n",
       " 'user_factors': array([[ 0.78614104, -0.1274568 ,  0.02779923, ...,  0.49079466,\n",
       "         -0.13413249, -0.51985383],\n",
       "        [ 1.1374131 , -0.7486666 , -0.8622989 , ...,  1.1876624 ,\n",
       "          0.23439668, -0.5151153 ],\n",
       "        [ 0.98142064, -0.42097905, -0.1771358 , ...,  0.8294704 ,\n",
       "         -0.20803368, -0.46906695],\n",
       "        ...,\n",
       "        [ 0.0421448 , -0.01057772, -0.01362194, ...,  0.00272874,\n",
       "         -0.01483819, -0.01018714],\n",
       "        [ 0.04287798, -0.01111349, -0.01421103, ...,  0.00234423,\n",
       "         -0.01521166, -0.00980602],\n",
       "        [ 0.04289032, -0.0106583 , -0.01374525, ...,  0.00204723,\n",
       "         -0.01519483, -0.0098809 ]], dtype=float32),\n",
       " '_user_norms': None,\n",
       " '_item_norms': None,\n",
       " 'num_threads': 0,\n",
       " 'factors': 250,\n",
       " 'regularization': 0.1,\n",
       " 'alpha': 1.0,\n",
       " 'dtype': dtype('float32'),\n",
       " 'use_native': True,\n",
       " 'use_cg': True,\n",
       " 'iterations': 30,\n",
       " 'calculate_training_loss': False,\n",
       " 'fit_callback': None,\n",
       " 'cg_steps': 3,\n",
       " 'random_state': None,\n",
       " '_YtY': None,\n",
       " '_XtX': None}"
      ]
     },
     "execution_count": 64,
     "metadata": {},
     "output_type": "execute_result"
    }
   ],
   "source": [
    "als.model.__dict__"
   ]
  },
  {
   "cell_type": "code",
   "execution_count": 50,
   "id": "8cf9c775",
   "metadata": {},
   "outputs": [
    {
     "data": {
      "application/vnd.jupyter.widget-view+json": {
       "model_id": "b0d83b9710f2455a9dc7020ae276aca9",
       "version_major": 2,
       "version_minor": 0
      },
      "text/plain": [
       "  0%|          | 0/30 [00:00<?, ?it/s]"
      ]
     },
     "metadata": {},
     "output_type": "display_data"
    },
    {
     "name": "stdout",
     "output_type": "stream",
     "text": [
      "CPU times: user 52min 37s, sys: 10 s, total: 52min 47s\n",
      "Wall time: 6min 56s\n"
     ]
    }
   ],
   "source": [
    "%%time\n",
    "als.fit(mat)\n",
    "u_factors = als.model.user_factors \n",
    "d_factors = als.model.item_factors"
   ]
  },
  {
   "cell_type": "markdown",
   "id": "ed2944b0",
   "metadata": {},
   "source": [
    "## Получим оценку по полу"
   ]
  },
  {
   "cell_type": "code",
   "execution_count": 51,
   "id": "c2f7f21d",
   "metadata": {
    "scrolled": true
   },
   "outputs": [
    {
     "name": "stdout",
     "output_type": "stream",
     "text": [
      "CPU times: user 2.41 s, sys: 292 ms, total: 2.7 s\n",
      "Wall time: 2.69 s\n"
     ]
    },
    {
     "data": {
      "text/plain": [
       "1    135331\n",
       "0    128994\n",
       "Name: is_male, dtype: int64"
      ]
     },
     "execution_count": 51,
     "metadata": {},
     "output_type": "execute_result"
    }
   ],
   "source": [
    "%%time\n",
    "inv_usr_map = {v: k for k, v in usr_dict.items()}\n",
    "usr_emb = pd.DataFrame(u_factors)\n",
    "usr_emb['user_id'] = usr_emb.index.map(inv_usr_map)\n",
    "usr_targets = targets.to_pandas()\n",
    "df = usr_targets.merge(usr_emb, how = 'inner', on = ['user_id'])\n",
    "df = df[df['is_male'] != 'NA']\n",
    "df = df.dropna()\n",
    "df['is_male'] = df['is_male'].map(int)\n",
    "df['is_male'].value_counts()"
   ]
  },
  {
   "cell_type": "code",
   "execution_count": 52,
   "id": "1419fb8a",
   "metadata": {},
   "outputs": [
    {
     "name": "stdout",
     "output_type": "stream",
     "text": [
      "GINI по полу 0.669\n",
      "CPU times: user 7min 51s, sys: 13.6 s, total: 8min 5s\n",
      "Wall time: 1min 5s\n"
     ]
    }
   ],
   "source": [
    "%%time\n",
    "x_train, x_test, y_train, y_test = train_test_split(\\\n",
    "    df.drop(['user_id', 'age', 'is_male'], axis = 1), df['is_male'], test_size = 0.33, random_state = SPLIT_SEED)\n",
    "clf = CatBoostClassifier()\n",
    "clf.fit(x_train, y_train, verbose = False)\n",
    "print(f'GINI по полу {2 * m.roc_auc_score(y_test, clf.predict_proba(x_test)[:,1]) - 1:2.3f}')"
   ]
  },
  {
   "cell_type": "code",
   "execution_count": 53,
   "id": "8ee3c4c0",
   "metadata": {},
   "outputs": [],
   "source": [
    "clf.fit(df.drop(['user_id', 'age', 'is_male'], axis = 1), df['is_male'], verbose = False)\n",
    "id_to_submit['is_male'] = clf.predict_proba(id_to_submit.merge(usr_emb, how = 'inner', on = ['user_id']))[:,1]"
   ]
  },
  {
   "cell_type": "markdown",
   "id": "a3980236",
   "metadata": {},
   "source": [
    "## Получим оценку по возрасту"
   ]
  },
  {
   "cell_type": "code",
   "execution_count": 54,
   "id": "4a4f4726",
   "metadata": {},
   "outputs": [],
   "source": [
    "import seaborn as sns\n",
    "import matplotlib.pyplot as plt\n",
    "import plotly.express as px\n",
    "\n",
    "%matplotlib inline\n",
    "sns.set_style('darkgrid')"
   ]
  },
  {
   "cell_type": "code",
   "execution_count": 55,
   "id": "0f97ec5d",
   "metadata": {},
   "outputs": [],
   "source": [
    "def age_bucket(x):\n",
    "    return bisect.bisect_left([18,25,35,45,55,65], x)"
   ]
  },
  {
   "cell_type": "code",
   "execution_count": 56,
   "id": "5d38c185",
   "metadata": {},
   "outputs": [
    {
     "data": {
      "text/plain": [
       "<AxesSubplot:xlabel='age', ylabel='Count'>"
      ]
     },
     "execution_count": 56,
     "metadata": {},
     "output_type": "execute_result"
    },
    {
     "data": {
      "image/png": "[encoded data removed]",
      "text/plain": [
       "<Figure size 640x480 with 1 Axes>"
      ]
     },
     "metadata": {},
     "output_type": "display_data"
    }
   ],
   "source": [
    "df = usr_targets.merge(usr_emb, how = 'inner', on = ['user_id'])\n",
    "df = df[df['age'] != 'NA']\n",
    "df = df.dropna()\n",
    "df['age'] = df['age'].map(age_bucket)\n",
    "sns.histplot(df['age'], bins = 7)"
   ]
  },
  {
   "cell_type": "code",
   "execution_count": 57,
   "id": "8cb76ffd",
   "metadata": {},
   "outputs": [
    {
     "name": "stdout",
     "output_type": "stream",
     "text": [
      "              precision    recall  f1-score   support\n",
      "\n",
      "         <18       0.00      0.00      0.00       349\n",
      "       18-25       0.51      0.30      0.38     10663\n",
      "       25-34       0.48      0.62      0.54     28815\n",
      "       35-44       0.40      0.52      0.45     25791\n",
      "       45-54       0.36      0.20      0.26     13931\n",
      "       55-65       0.41      0.19      0.26      7688\n",
      "         65+       0.36      0.01      0.03      1849\n",
      "\n",
      "    accuracy                           0.44     89086\n",
      "   macro avg       0.36      0.26      0.27     89086\n",
      "weighted avg       0.43      0.44      0.41     89086\n",
      "\n"
     ]
    }
   ],
   "source": [
    "x_train, x_test, y_train, y_test = train_test_split(\\\n",
    "    df.drop(['user_id', 'age', 'is_male'], axis = 1), df['age'], test_size = 0.33, random_state = SPLIT_SEED)\n",
    "\n",
    "clf = CatBoostClassifier()\n",
    "clf.fit(x_train, y_train, verbose = False)\n",
    "print(m.classification_report(y_test, clf.predict(x_test), \\\n",
    "                            target_names = ['<18', '18-25','25-34', '35-44', '45-54', '55-65', '65+']))"
   ]
  },
  {
   "cell_type": "markdown",
   "id": "bf15efe3",
   "metadata": {},
   "source": [
    "x_train, x_test, y_train, y_test = train_test_split(\\\n",
    "    df.drop(['user_id', 'age', 'is_male'], axis = 1), df['age'], test_size = 0.33, random_state = SPLIT_SEED)\n",
    "\n",
    "clf = CatBoostClassifier()\n",
    "clf.fit(x_train, y_train, verbose = False)\n",
    "print(m.classification_report(y_test, clf.predict(x_test), \\\n",
    "                            target_names = ['<18', '18-25','25-34', '35-44', '45-54', '55-65', '65+']))"
   ]
  },
  {
   "cell_type": "code",
   "execution_count": 58,
   "id": "2c73661d",
   "metadata": {},
   "outputs": [],
   "source": [
    "clf.fit(df.drop(['user_id', 'age', 'is_male'], axis = 1), df['age'], verbose = False)\n",
    "id_to_submit['age'] = clf.predict(id_to_submit[['user_id']].merge(usr_emb, how = 'inner', on = ['user_id']))"
   ]
  },
  {
   "cell_type": "markdown",
   "id": "f55aa8ec",
   "metadata": {},
   "source": [
    "## Сабмит"
   ]
  },
  {
   "cell_type": "code",
   "execution_count": 59,
   "id": "af2b6647",
   "metadata": {},
   "outputs": [
    {
     "data": {
      "text/html": [
       "<div>\n",
       "<style scoped>\n",
       "    .dataframe tbody tr th:only-of-type {\n",
       "        vertical-align: middle;\n",
       "    }\n",
       "\n",
       "    .dataframe tbody tr th {\n",
       "        vertical-align: top;\n",
       "    }\n",
       "\n",
       "    .dataframe thead th {\n",
       "        text-align: right;\n",
       "    }\n",
       "</style>\n",
       "<table border=\"1\" class=\"dataframe\">\n",
       "  <thead>\n",
       "    <tr style=\"text-align: right;\">\n",
       "      <th></th>\n",
       "      <th>user_id</th>\n",
       "      <th>is_male</th>\n",
       "      <th>age</th>\n",
       "    </tr>\n",
       "  </thead>\n",
       "  <tbody>\n",
       "    <tr>\n",
       "      <th>221301</th>\n",
       "      <td>221301</td>\n",
       "      <td>0.976778</td>\n",
       "      <td>2</td>\n",
       "    </tr>\n",
       "    <tr>\n",
       "      <th>31271</th>\n",
       "      <td>31271</td>\n",
       "      <td>0.558827</td>\n",
       "      <td>3</td>\n",
       "    </tr>\n",
       "    <tr>\n",
       "      <th>211594</th>\n",
       "      <td>211594</td>\n",
       "      <td>0.493528</td>\n",
       "      <td>2</td>\n",
       "    </tr>\n",
       "    <tr>\n",
       "      <th>253119</th>\n",
       "      <td>253119</td>\n",
       "      <td>0.532796</td>\n",
       "      <td>2</td>\n",
       "    </tr>\n",
       "    <tr>\n",
       "      <th>192578</th>\n",
       "      <td>192578</td>\n",
       "      <td>0.866905</td>\n",
       "      <td>2</td>\n",
       "    </tr>\n",
       "  </tbody>\n",
       "</table>\n",
       "</div>"
      ],
      "text/plain": [
       "        user_id   is_male  age\n",
       "221301   221301  0.976778    2\n",
       "31271     31271  0.558827    3\n",
       "211594   211594  0.493528    2\n",
       "253119   253119  0.532796    2\n",
       "192578   192578  0.866905    2"
      ]
     },
     "execution_count": 59,
     "metadata": {},
     "output_type": "execute_result"
    }
   ],
   "source": [
    "id_to_submit.head()"
   ]
  },
  {
   "cell_type": "code",
   "execution_count": 60,
   "id": "60024ea9",
   "metadata": {},
   "outputs": [],
   "source": [
    "id_to_submit.to_csv(f'{LOCAL_DATA_PATH}/submission2.csv', index = False)"
   ]
  },
  {
   "cell_type": "code",
   "execution_count": 61,
   "id": "a7298b7b",
   "metadata": {},
   "outputs": [
    {
     "name": "stdout",
     "output_type": "stream",
     "text": [
      "user_id,is_male,age\r\n",
      "221301,0.9523721503994212,2\r\n",
      "31271,0.540058202285835,3\r\n",
      "211594,0.4921148361193288,2\r\n",
      "253119,0.5031936669434278,2\r\n",
      "192578,0.7343094598406392,2\r\n",
      "268458,0.28223318330597313,2\r\n",
      "205507,0.5256998725263032,3\r\n",
      "341343,0.6329608219845485,3\r\n",
      "282144,0.026135216529779966,2\r\n"
     ]
    }
   ],
   "source": [
    "! head $LOCAL_DATA_PATH/submission1.csv"
   ]
  },
  {
   "cell_type": "markdown",
   "id": "4d6a7a85",
   "metadata": {},
   "source": [
    "# Скор на лидерборде"
   ]
  },
  {
   "cell_type": "code",
   "execution_count": 32,
   "id": "7164aa61",
   "metadata": {},
   "outputs": [
    {
     "ename": "NameError",
     "evalue": "name 'context_scorer' is not defined",
     "output_type": "error",
     "traceback": [
      "\u001b[0;31m---------------------------------------------------------------------------\u001b[0m",
      "\u001b[0;31mNameError\u001b[0m                                 Traceback (most recent call last)",
      "\u001b[0;32m/tmp/ipykernel_35726/2258104405.py\u001b[0m in \u001b[0;36m<module>\u001b[0;34m\u001b[0m\n\u001b[0;32m----> 1\u001b[0;31m \u001b[0mcontext_scorer\u001b[0m\u001b[0;34m(\u001b[0m\u001b[0msubmission\u001b[0m\u001b[0;34m,\u001b[0m \u001b[0manswers\u001b[0m\u001b[0;34m)\u001b[0m\u001b[0;34m\u001b[0m\u001b[0;34m\u001b[0m\u001b[0m\n\u001b[0m",
      "\u001b[0;31mNameError\u001b[0m: name 'context_scorer' is not defined"
     ]
    }
   ],
   "source": [
    "context_scorer(submission, answers)"
   ]
  },
  {
   "cell_type": "code",
   "execution_count": null,
   "id": "979f3046",
   "metadata": {},
   "outputs": [],
   "source": []
  }
 ],
 "metadata": {
  "kernelspec": {
   "display_name": "Python 3 (ipykernel)",
   "language": "python",
   "name": "python3"
  },
  "language_info": {
   "codemirror_mode": {
    "name": "ipython",
    "version": 3
   },
   "file_extension": ".py",
   "mimetype": "text/x-python",
   "name": "python",
   "nbconvert_exporter": "python",
   "pygments_lexer": "ipython3",
   "version": "3.7.6"
  }
 },
 "nbformat": 4,
 "nbformat_minor": 5
}
