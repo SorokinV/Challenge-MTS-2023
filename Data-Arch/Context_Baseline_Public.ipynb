{
 "cells": [
  {
   "cell_type": "code",
   "execution_count": 1,
   "id": "28740129",
   "metadata": {},
   "outputs": [],
   "source": [
    "import sys\n",
    "import os\n",
    "import datetime\n",
    "import warnings\n",
    "os.environ['OPENBLAS_NUM_THREADS'] = '1'\n",
    "warnings.filterwarnings('ignore')"
   ]
  },
  {
   "cell_type": "code",
   "execution_count": 2,
   "id": "b907cd02",
   "metadata": {},
   "outputs": [],
   "source": [
    "import pandas as pd\n",
    "import numpy as np\n",
    "import time\n",
    "import pyarrow.parquet as pq\n",
    "import pyarrow as pa\n",
    "import scipy\n",
    "import implicit\n",
    "import bisect\n",
    "import sklearn.metrics as m\n",
    "from catboost import CatBoostClassifier, CatBoostRegressor, Pool\n",
    "from sklearn.model_selection import train_test_split\n",
    "from sklearn.calibration import calibration_curve, CalibratedClassifierCV"
   ]
  },
  {
   "cell_type": "code",
   "execution_count": 3,
   "id": "e762eacd",
   "metadata": {},
   "outputs": [],
   "source": [
    "LOCAL_DATA_PATH = './context_data/'\n",
    "SPLIT_SEED = 42\n",
    "DATA_FILE = 'competition_data_final_pqt'\n",
    "TARGET_FILE = 'public_train.pqt'\n",
    "SUBMISSION_FILE = 'submit.pqt'"
   ]
  },
  {
   "cell_type": "code",
   "execution_count": 4,
   "id": "8c1af0db",
   "metadata": {},
   "outputs": [],
   "source": [
    "id_to_submit = pq.read_table(f'{LOCAL_DATA_PATH}/{SUBMISSION_FILE}').to_pandas()"
   ]
  },
  {
   "cell_type": "code",
   "execution_count": 5,
   "id": "89fd34da",
   "metadata": {},
   "outputs": [
    {
     "data": {
      "text/plain": [
       "['./context_data//competition_data_final_pqt/part-00000-aba60f69-2b63-4cc1-95ca-542598094698-c000.snappy.parquet',\n",
       " './context_data//competition_data_final_pqt/part-00001-aba60f69-2b63-4cc1-95ca-542598094698-c000.snappy.parquet',\n",
       " './context_data//competition_data_final_pqt/part-00002-aba60f69-2b63-4cc1-95ca-542598094698-c000.snappy.parquet',\n",
       " './context_data//competition_data_final_pqt/part-00003-aba60f69-2b63-4cc1-95ca-542598094698-c000.snappy.parquet',\n",
       " './context_data//competition_data_final_pqt/part-00004-aba60f69-2b63-4cc1-95ca-542598094698-c000.snappy.parquet',\n",
       " './context_data//competition_data_final_pqt/part-00005-aba60f69-2b63-4cc1-95ca-542598094698-c000.snappy.parquet',\n",
       " './context_data//competition_data_final_pqt/part-00006-aba60f69-2b63-4cc1-95ca-542598094698-c000.snappy.parquet',\n",
       " './context_data//competition_data_final_pqt/part-00007-aba60f69-2b63-4cc1-95ca-542598094698-c000.snappy.parquet',\n",
       " './context_data//competition_data_final_pqt/part-00008-aba60f69-2b63-4cc1-95ca-542598094698-c000.snappy.parquet',\n",
       " './context_data//competition_data_final_pqt/part-00009-aba60f69-2b63-4cc1-95ca-542598094698-c000.snappy.parquet']"
      ]
     },
     "execution_count": 5,
     "metadata": {},
     "output_type": "execute_result"
    }
   ],
   "source": [
    "# pqf = pq.ParquetFile(f'{LOCAL_DATA_PATH}/{DATA_FILE}')\n",
    "pqd = pq.ParquetDataset(f'{LOCAL_DATA_PATH}/{DATA_FILE}')\n",
    "pqd.files"
   ]
  },
  {
   "cell_type": "code",
   "execution_count": null,
   "id": "39413645",
   "metadata": {},
   "outputs": [],
   "source": []
  },
  {
   "cell_type": "code",
   "execution_count": 6,
   "id": "f6f543bf",
   "metadata": {},
   "outputs": [
    {
     "name": "stdout",
     "output_type": "stream",
     "text": [
      "          region_name  city_name cpe_manufacturer_name cpe_model_name  \\\n",
      "0  Краснодарский край  Краснодар                 Apple       iPhone 7   \n",
      "1  Краснодарский край  Краснодар                 Apple       iPhone 7   \n",
      "2  Краснодарский край  Краснодар                 Apple       iPhone 7   \n",
      "3  Краснодарский край  Краснодар                 Apple       iPhone 7   \n",
      "4  Краснодарский край  Краснодар                 Apple       iPhone 7   \n",
      "\n",
      "                      url_host cpe_type_cd cpe_model_os_type    price  \\\n",
      "0                ad.adriver.ru  smartphone               iOS  20368.0   \n",
      "1                    apple.com  smartphone               iOS  20368.0   \n",
      "2       avatars.mds.yandex.net  smartphone               iOS  20368.0   \n",
      "3  googleads.g.doubleclick.net  smartphone               iOS  20368.0   \n",
      "4  googleads.g.doubleclick.net  smartphone               iOS  20368.0   \n",
      "\n",
      "         date part_of_day  request_cnt  user_id  \n",
      "0  2022-06-15     morning            1    45098  \n",
      "1  2022-06-19     morning            1    45098  \n",
      "2  2022-06-12         day            1    45098  \n",
      "3  2022-05-16         day            1    45098  \n",
      "4  2022-05-30         day            1    45098  \n"
     ]
    }
   ],
   "source": [
    "data_agg = None\n",
    "for ifile in pqd.files :\n",
    "\n",
    "    #data = pq.read_table(f'{LOCAL_DATA_PATH}/{DATA_FILE}/{ifile}')\n",
    "    data = pq.read_table(f'{ifile}')\n",
    "    #pd.DataFrame([(z.name, z.type) for z in data.schema], columns = [['field', 'type']])\n",
    "\n",
    "    data_agg0 = data.select(['user_id', 'url_host', 'request_cnt']).\\\n",
    "        group_by(['user_id', 'url_host']).aggregate([('request_cnt', \"sum\")])\n",
    "    \n",
    "    data_agg1 = data.select(['user_id','date', 'part_of_day', 'request_cnt']).\\\n",
    "        group_by(['user_id', 'date', 'part_of_day']).aggregate([('request_cnt', \"sum\")])\n",
    "    \n",
    "    data_agg2 = data.select(['user_id', 'city_name', 'region_name', 'cpe_model_os_type', 'price','request_cnt']).\\\n",
    "        group_by(['user_id', ]).\\\n",
    "        aggregate([('cpe_model_os_type', \"max\"), ('price', \"max\"), ('city_name', \"max\"), \\\n",
    "                   ('region_name', \"max\"),('request_cnt',\"mean\"),('request_cnt',\"sum\")])\n",
    "    \n",
    "    if data_agg is None :\n",
    "        data_agg  = data_agg0\n",
    "        data_aggB = data_agg1\n",
    "        data_aggZ = data_agg2\n",
    "        print(data.to_pandas().head())\n",
    "    else :\n",
    "        data_agg  = pa.concat_tables([data_agg, data_agg0],promote=False)\n",
    "        data_aggB = pa.concat_tables([data_aggB,data_agg1],promote=False)\n",
    "        data_aggZ = pa.concat_tables([data_aggZ,data_agg2],promote=False)\n",
    "    \n",
    "    del data, data_agg0, data_agg1, data_agg2\n",
    "    \n",
    "data_agg  = data_agg.to_pandas()\n",
    "data_aggB = data_aggB.to_pandas()\n",
    "data_aggZ = data_aggZ.to_pandas().fillna(0)"
   ]
  },
  {
   "cell_type": "markdown",
   "id": "9ba280ae",
   "metadata": {},
   "source": [
    "Регион   \n",
    ", населенный пункт   \n",
    ", производиель устройства   \n",
    ", модель устроства   \n",
    ", домен, с которого пришел рекламный запрос   \n",
    ", тип устройства (смартфон или что-то другое)   \n",
    ", операционка на устройстве   \n",
    ", оценка цены устройства   \n",
    ", дата   \n",
    ", время дня (утро, вечер ...)   \n",
    ", число запросов   \n",
    ", id пользователя   "
   ]
  },
  {
   "cell_type": "code",
   "execution_count": null,
   "id": "addb19e7",
   "metadata": {},
   "outputs": [],
   "source": []
  },
  {
   "cell_type": "code",
   "execution_count": 7,
   "id": "57d1d675",
   "metadata": {},
   "outputs": [
    {
     "data": {
      "text/plain": [
       "(Index(['request_cnt_sum', 'user_id', 'url_host'], dtype='object'),\n",
       " Index(['request_cnt_sum', 'user_id', 'date', 'part_of_day'], dtype='object'),\n",
       " Index(['cpe_model_os_type_max', 'price_max', 'city_name_max',\n",
       "        'region_name_max', 'request_cnt_mean', 'request_cnt_sum', 'user_id'],\n",
       "       dtype='object'))"
      ]
     },
     "execution_count": 7,
     "metadata": {},
     "output_type": "execute_result"
    }
   ],
   "source": [
    "data_agg.columns, data_aggB.columns, data_aggZ.columns"
   ]
  },
  {
   "cell_type": "code",
   "execution_count": 8,
   "id": "f4b80b1f",
   "metadata": {},
   "outputs": [],
   "source": [
    "#urls_hosts_max=data_agg[['url_host']].isin(data_agg[['url_host','user_id']].groupby(['url_host']).count().sort_values('user_id', ascending=False))\n",
    "urls_hosts_max=data_agg[['url_host','user_id']].groupby(['url_host']).count().sort_values('user_id', ascending=False)[:50].reset_index()['url_host']"
   ]
  },
  {
   "cell_type": "code",
   "execution_count": 9,
   "id": "d5f98f58",
   "metadata": {},
   "outputs": [],
   "source": [
    "data_agg1 = data_agg\n",
    "data_agg  = data_agg[~data_agg.url_host.isin(urls_hosts_max.to_list())]"
   ]
  },
  {
   "cell_type": "code",
   "execution_count": null,
   "id": "7ae514b1",
   "metadata": {},
   "outputs": [],
   "source": []
  },
  {
   "cell_type": "code",
   "execution_count": 10,
   "id": "b41b2c00",
   "metadata": {},
   "outputs": [
    {
     "data": {
      "text/plain": [
       "(20279701, 32277669)"
      ]
     },
     "execution_count": 10,
     "metadata": {},
     "output_type": "execute_result"
    }
   ],
   "source": [
    "len(data_agg), len(data_agg1)"
   ]
  },
  {
   "cell_type": "code",
   "execution_count": 11,
   "id": "26e0924b",
   "metadata": {},
   "outputs": [],
   "source": [
    "if 1 :\n",
    "    \n",
    "    data_aggC = data_aggZ[['user_id','price_max']]\n",
    "    \n",
    "    data_aggD = pd.pivot_table(data_aggB[['user_id','part_of_day','request_cnt_sum']],\n",
    "                                index='user_id', columns='part_of_day', values='request_cnt_sum', \n",
    "                                aggfunc=np.mean, fill_value=0).reset_index()\n",
    "    data_aggC = data_aggC.merge(data_aggD,how='inner',on=['user_id'])\n",
    "    \n",
    "    data_aggB['DW'] = 'DW' + pd.to_datetime(data_aggB.date).dt.day_of_week.astype(str)\n",
    "    data_aggD = pd.pivot_table(data_aggB[['user_id','DW','request_cnt_sum']],\n",
    "                                index='user_id', columns='DW', values='request_cnt_sum', \n",
    "                                aggfunc=np.mean, fill_value=0).reset_index()\n",
    "    data_aggC = data_aggC.merge(data_aggD,how='inner',on=['user_id'])\n",
    "\n",
    "    data_aggB['DW'] = 'DWPD'+pd.to_datetime(data_aggB.date).dt.day_of_week.astype(str)+'.'+data_aggB.part_of_day\n",
    "    data_aggD = pd.pivot_table(data_aggB[['user_id','DW','request_cnt_sum']],\n",
    "                                index='user_id', columns='DW', values='request_cnt_sum', \n",
    "                                aggfunc=np.mean, fill_value=0).reset_index()\n",
    "    data_aggC = data_aggC.merge(data_aggD,how='inner',on=['user_id'])\n",
    "    \n",
    "    if 0 :\n",
    "        data_aggD = pd.get_dummies(data_aggZ.city_name_max,prefix='city')\n",
    "        data_aggD['user_id'] = data_aggZ.user_id\n",
    "        data_aggC = data_aggC.merge(data_aggD,how='inner',on=['user_id'])\n",
    "\n",
    "    if 0 :\n",
    "        data_aggD = pd.get_dummies(data_aggZ.region_name_max,prefix='region')\n",
    "        data_aggD['user_id'] = data_aggZ.user_id\n",
    "        data_aggC = data_aggC.merge(data_aggD,how='inner',on=['user_id'])\n",
    "\n",
    "    data_aggD = pd.get_dummies(data_aggZ.cpe_model_os_type_max,prefix='os')\n",
    "    data_aggD['user_id'] = data_aggZ.user_id\n",
    "    data_aggC = data_aggC.merge(data_aggD,how='inner',on=['user_id'])"
   ]
  },
  {
   "cell_type": "code",
   "execution_count": 12,
   "id": "fc9b626b",
   "metadata": {},
   "outputs": [
    {
     "data": {
      "text/plain": [
       "((415317, 44),\n",
       " Index(['user_id', 'price_max', 'day', 'evening', 'morning', 'night', 'DW0',\n",
       "        'DW1', 'DW2', 'DW3', 'DW4', 'DW5', 'DW6', 'DWPD0.day', 'DWPD0.evening',\n",
       "        'DWPD0.morning', 'DWPD0.night', 'DWPD1.day', 'DWPD1.evening',\n",
       "        'DWPD1.morning', 'DWPD1.night', 'DWPD2.day', 'DWPD2.evening',\n",
       "        'DWPD2.morning', 'DWPD2.night', 'DWPD3.day', 'DWPD3.evening',\n",
       "        'DWPD3.morning', 'DWPD3.night', 'DWPD4.day', 'DWPD4.evening',\n",
       "        'DWPD4.morning', 'DWPD4.night', 'DWPD5.day', 'DWPD5.evening',\n",
       "        'DWPD5.morning', 'DWPD5.night', 'DWPD6.day', 'DWPD6.evening',\n",
       "        'DWPD6.morning', 'DWPD6.night', 'os_Android', 'os_Apple iOS', 'os_iOS'],\n",
       "       dtype='object'))"
      ]
     },
     "execution_count": 12,
     "metadata": {},
     "output_type": "execute_result"
    }
   ],
   "source": [
    "data_aggC.shape, data_aggC.columns"
   ]
  },
  {
   "cell_type": "code",
   "execution_count": 13,
   "id": "af722b67",
   "metadata": {},
   "outputs": [
    {
     "data": {
      "text/plain": [
       "((415317, 68),\n",
       " Index(['user_id', 'price_max', 'day', 'evening', 'morning', 'night', 'DW0',\n",
       "        'DW1', 'DW2', 'DW3', 'DW4', 'DW5', 'DW6', 'DWPD0.day', 'DWPD0.evening',\n",
       "        'DWPD0.morning', 'DWPD0.night', 'DWPD1.day', 'DWPD1.evening',\n",
       "        'DWPD1.morning', 'DWPD1.night', 'DWPD2.day', 'DWPD2.evening',\n",
       "        'DWPD2.morning', 'DWPD2.night', 'DWPD3.day', 'DWPD3.evening',\n",
       "        'DWPD3.morning', 'DWPD3.night', 'DWPD4.day', 'DWPD4.evening',\n",
       "        'DWPD4.morning', 'DWPD4.night', 'DWPD5.day', 'DWPD5.evening',\n",
       "        'DWPD5.morning', 'DWPD5.night', 'DWPD6.day', 'DWPD6.evening',\n",
       "        'DWPD6.morning', 'DWPD6.night', 'os_Android', 'os_Apple iOS', 'os_iOS',\n",
       "        'A', 'A000', 'A001', 'A002', 'A003', 'B000', 'B001', 'B002', 'B003',\n",
       "        'DWB000', 'DWB001', 'DWB002', 'DWB003', 'DWB004', 'DWB005', 'DWB006',\n",
       "        'DWA', 'DW000', 'DW001', 'DW002', 'DW003', 'DW004', 'DW005', 'DW006'],\n",
       "       dtype='object'))"
      ]
     },
     "execution_count": 13,
     "metadata": {},
     "output_type": "execute_result"
    }
   ],
   "source": [
    "\n",
    "if 1 :\n",
    "    data_aggC['A']=data_aggC.day+data_aggC.evening+data_aggC.morning+data_aggC.night\n",
    "    data_aggC['A000']=data_aggC.day/data_aggC.A\n",
    "    data_aggC['A001']=data_aggC.evening/data_aggC.A\n",
    "    data_aggC['A002']=data_aggC.morning/data_aggC.A\n",
    "    data_aggC['A003']=data_aggC.night/data_aggC.A\n",
    "    \n",
    "if 1 :\n",
    "    B000m=data_aggC.day.mean()\n",
    "    B001m=data_aggC.evening.mean()\n",
    "    B002m=data_aggC.morning.mean()\n",
    "    B003m=data_aggC.night.mean()\n",
    "    data_aggC['B000']=data_aggC.day/B000m\n",
    "    data_aggC['B001']=data_aggC.evening/B001m\n",
    "    data_aggC['B002']=data_aggC.morning/B002m\n",
    "    data_aggC['B003']=data_aggC.night/B003m\n",
    "    #data_aggC = data_aggC.drop(['day','morning','evening'],axis=1)\n",
    "        \n",
    "if 1 :\n",
    "    DWA0  =data_aggC.DW0.median()\n",
    "    DWA1  =data_aggC.DW1.median()\n",
    "    DWA2  =data_aggC.DW2.median()\n",
    "    DWA3  =data_aggC.DW3.median()\n",
    "    DWA4  =data_aggC.DW4.median()\n",
    "    DWA5  =data_aggC.DW5.median()\n",
    "    DWA6  =data_aggC.DW6.median()\n",
    "    data_aggC['DWB000']=data_aggC.DW0/DWA0\n",
    "    data_aggC['DWB001']=data_aggC.DW1/DWA1\n",
    "    data_aggC['DWB002']=data_aggC.DW2/DWA2\n",
    "    data_aggC['DWB003']=data_aggC.DW3/DWA3\n",
    "    data_aggC['DWB004']=data_aggC.DW4/DWA4\n",
    "    data_aggC['DWB005']=data_aggC.DW5/DWA5\n",
    "    data_aggC['DWB006']=data_aggC.DW6/DWA6\n",
    "    \n",
    "if 1 :\n",
    "    data_aggC['DWA']=data_aggC.DW0+data_aggC.DW1+data_aggC.DW2+data_aggC.DW3+ \\\n",
    "                        data_aggC.DW4+data_aggC.DW5+data_aggC.DW6\n",
    "    data_aggC['DW000']=data_aggC.DW0/data_aggC.DWA\n",
    "    data_aggC['DW001']=data_aggC.DW1/data_aggC.DWA\n",
    "    data_aggC['DW002']=data_aggC.DW2/data_aggC.DWA\n",
    "    data_aggC['DW003']=data_aggC.DW3/data_aggC.DWA\n",
    "    data_aggC['DW004']=data_aggC.DW4/data_aggC.DWA\n",
    "    data_aggC['DW005']=data_aggC.DW5/data_aggC.DWA\n",
    "    data_aggC['DW006']=data_aggC.DW6/data_aggC.DWA\n",
    "    \n",
    "data_aggC.shape, data_aggC.columns"
   ]
  },
  {
   "cell_type": "code",
   "execution_count": 14,
   "id": "f158a3c1",
   "metadata": {},
   "outputs": [
    {
     "data": {
      "text/plain": [
       "(415317, 68)"
      ]
     },
     "execution_count": 14,
     "metadata": {},
     "output_type": "execute_result"
    }
   ],
   "source": [
    "data_aggC.shape"
   ]
  },
  {
   "cell_type": "code",
   "execution_count": 15,
   "id": "86be95d6",
   "metadata": {},
   "outputs": [],
   "source": [
    "if 0 :\n",
    "    import matplotlib.pyplot as mp\n",
    "\n",
    "    mp.hist(data_aggC.day, 100)\n",
    "    mp.hist(data_aggC.morning, 100)\n",
    "    mp.hist(data_aggC.evening, 100)\n",
    "    #mp.hist(data_aggC.A003, 100)\n",
    "    #mp.hist(data_aggC.DWB004, 100)\n",
    "\n",
    "    mp.show()\n",
    "\n",
    "    mp.hist(data_aggC.price_max,100)\n",
    "    mp.show()\n",
    "\n",
    "    mp.scatter(data_aggC.night,data_aggC['DWPD0.night'])\n",
    "    mp.show()"
   ]
  },
  {
   "cell_type": "code",
   "execution_count": null,
   "id": "b01b07fb",
   "metadata": {},
   "outputs": [],
   "source": []
  },
  {
   "cell_type": "code",
   "execution_count": 16,
   "id": "3ff50f46",
   "metadata": {},
   "outputs": [
    {
     "data": {
      "text/html": [
       "<div>\n",
       "<style scoped>\n",
       "    .dataframe tbody tr th:only-of-type {\n",
       "        vertical-align: middle;\n",
       "    }\n",
       "\n",
       "    .dataframe tbody tr th {\n",
       "        vertical-align: top;\n",
       "    }\n",
       "\n",
       "    .dataframe thead tr th {\n",
       "        text-align: left;\n",
       "    }\n",
       "</style>\n",
       "<table border=\"1\" class=\"dataframe\">\n",
       "  <thead>\n",
       "    <tr>\n",
       "      <th></th>\n",
       "      <th>field</th>\n",
       "      <th>type</th>\n",
       "    </tr>\n",
       "  </thead>\n",
       "  <tbody>\n",
       "    <tr>\n",
       "      <th>0</th>\n",
       "      <td>age</td>\n",
       "      <td>double</td>\n",
       "    </tr>\n",
       "    <tr>\n",
       "      <th>1</th>\n",
       "      <td>is_male</td>\n",
       "      <td>string</td>\n",
       "    </tr>\n",
       "    <tr>\n",
       "      <th>2</th>\n",
       "      <td>user_id</td>\n",
       "      <td>int64</td>\n",
       "    </tr>\n",
       "    <tr>\n",
       "      <th>3</th>\n",
       "      <td>__index_level_0__</td>\n",
       "      <td>int64</td>\n",
       "    </tr>\n",
       "  </tbody>\n",
       "</table>\n",
       "</div>"
      ],
      "text/plain": [
       "               field    type\n",
       "0                age  double\n",
       "1            is_male  string\n",
       "2            user_id   int64\n",
       "3  __index_level_0__   int64"
      ]
     },
     "execution_count": 16,
     "metadata": {},
     "output_type": "execute_result"
    }
   ],
   "source": [
    "targets = pq.read_table(f'{LOCAL_DATA_PATH}/{TARGET_FILE}')\n",
    "pd.DataFrame([(z.name, z.type) for z in targets.schema], columns = [['field', 'type']])"
   ]
  },
  {
   "cell_type": "code",
   "execution_count": null,
   "id": "130cced8",
   "metadata": {},
   "outputs": [],
   "source": []
  },
  {
   "cell_type": "code",
   "execution_count": null,
   "id": "4029391e",
   "metadata": {},
   "outputs": [],
   "source": []
  },
  {
   "cell_type": "code",
   "execution_count": 18,
   "id": "bde3b504",
   "metadata": {},
   "outputs": [],
   "source": [
    "import faiss\n",
    "\n",
    "def set1 (items) :\n",
    "    item_set = set(items)\n",
    "    #print(f'{len(items)} items')\n",
    "    item_dict = {item: iditem for item, iditem in zip(item_set, range(len(item_set)))}\n",
    "    items_new = np.array(items.map(item_dict))\n",
    "    return(item_dict, items_new)\n",
    "    \n",
    "def alsals (values, rows, cols, factors=50, iterations=30, clusters=400) :\n",
    "    \n",
    "    #values = np.array(data_agg['request_cnt_sum'])\n",
    "    #rows   = np.array(data_agg['user_id'].map(usr_dict))\n",
    "    #cols   = np.array(data_agg['url_host'].map(url_dict))\n",
    "    mat = scipy.sparse.coo_matrix((values, (rows, cols)), shape=(rows.max() + 1, cols.max() + 1))\n",
    "    als = implicit.approximate_als.FaissAlternatingLeastSquares(factors = factors, iterations = iterations, \\\n",
    "           use_gpu = False, nlist=clusters, \\\n",
    "           calculate_training_loss = False, regularization = 0.1)\n",
    "    als.fit(mat)\n",
    "    u_factors = als.model.user_factors \n",
    "    d_factors = als.model.item_factors\n",
    "    \n",
    "    return u_factors\n",
    "\n",
    "def doMatrix (users, items, values, clusters=400, factors=50, iterations=30) :\n",
    "    users_dict, users_new = set1(users)\n",
    "    items_dict, items_new = set1(items)\n",
    "\n",
    "    uu = alsals(values,users_new,items_new, clusters=clusters, factors=factors, iterations=iterations)\n",
    "    uu = pd.DataFrame(uu)\n",
    "\n",
    "    inv_users_dict = {v: k for k, v in users_dict.items()}\n",
    "    uu['user_id'] = uu.index.map(inv_users_dict)\n",
    "    return uu"
   ]
  },
  {
   "cell_type": "code",
   "execution_count": 19,
   "id": "10ca5794",
   "metadata": {},
   "outputs": [
    {
     "data": {
      "application/vnd.jupyter.widget-view+json": {
       "model_id": "493c9e1d0fe34ffb8e360f81710d5747",
       "version_major": 2,
       "version_minor": 0
      },
      "text/plain": [
       "  0%|          | 0/30 [00:00<?, ?it/s]"
      ]
     },
     "metadata": {},
     "output_type": "display_data"
    },
    {
     "data": {
      "application/vnd.jupyter.widget-view+json": {
       "model_id": "623841103ee14993a6bca33bf4d93aec",
       "version_major": 2,
       "version_minor": 0
      },
      "text/plain": [
       "  0%|          | 0/30 [00:00<?, ?it/s]"
      ]
     },
     "metadata": {},
     "output_type": "display_data"
    },
    {
     "data": {
      "application/vnd.jupyter.widget-view+json": {
       "model_id": "fd58d58d7c194678b91945c1acccacb7",
       "version_major": 2,
       "version_minor": 0
      },
      "text/plain": [
       "  0%|          | 0/30 [00:00<?, ?it/s]"
      ]
     },
     "metadata": {},
     "output_type": "display_data"
    },
    {
     "name": "stderr",
     "output_type": "stream",
     "text": [
      "WARNING clustering 80 points to 5 centroids: please provide at least 195 training points\n"
     ]
    },
    {
     "data": {
      "application/vnd.jupyter.widget-view+json": {
       "model_id": "3b7ddd92aa5b40cba30d0aaf8f13822e",
       "version_major": 2,
       "version_minor": 0
      },
      "text/plain": [
       "  0%|          | 0/30 [00:00<?, ?it/s]"
      ]
     },
     "metadata": {},
     "output_type": "display_data"
    },
    {
     "data": {
      "application/vnd.jupyter.widget-view+json": {
       "model_id": "d8cc573734d54ab6a25756eff6f3714b",
       "version_major": 2,
       "version_minor": 0
      },
      "text/plain": [
       "  0%|          | 0/30 [00:00<?, ?it/s]"
      ]
     },
     "metadata": {},
     "output_type": "display_data"
    },
    {
     "name": "stdout",
     "output_type": "stream",
     "text": [
      "CPU times: user 51min 37s, sys: 11.2 s, total: 51min 48s\n",
      "Wall time: 7min 3s\n"
     ]
    }
   ],
   "source": [
    "%%time\n",
    "\n",
    "if 1 :\n",
    "    u3 = doMatrix(data_aggB.user_id, data_aggB.date,            data_aggB.request_cnt_sum, clusters=10, factors=50)\n",
    "    u0 = doMatrix(data_agg.user_id,  data_agg.url_host,         data_agg.request_cnt_sum, clusters=400, factors=250)\n",
    "\n",
    "    u1 = doMatrix(data_aggZ.user_id, data_aggZ.region_name_max, data_aggZ.request_cnt_mean, clusters=5)\n",
    "    u2 = doMatrix(data_aggZ.user_id, data_aggZ.city_name_max,   data_aggZ.request_cnt_mean, clusters=20)\n",
    "\n",
    "u12= doMatrix(pd.concat([data_aggZ.user_id,data_aggZ.user_id,],ignore_index=True),\n",
    "              pd.concat([data_aggZ.region_name_max,data_aggZ.city_name_max,],ignore_index=True),\n",
    "              pd.concat([data_aggZ.request_cnt_mean,data_aggZ.request_cnt_sum,],ignore_index=True),\n",
    "              clusters=25)"
   ]
  },
  {
   "cell_type": "code",
   "execution_count": null,
   "id": "2392ccbc",
   "metadata": {},
   "outputs": [],
   "source": []
  },
  {
   "cell_type": "markdown",
   "id": "ed2944b0",
   "metadata": {},
   "source": [
    "## Получим оценку по полу"
   ]
  },
  {
   "cell_type": "code",
   "execution_count": 54,
   "id": "c2f7f21d",
   "metadata": {
    "scrolled": true
   },
   "outputs": [
    {
     "name": "stdout",
     "output_type": "stream",
     "text": [
      "415317 392555 415317\n",
      "415317 392555 415317\n",
      "CPU times: user 5.2 s, sys: 1.03 s, total: 6.23 s\n",
      "Wall time: 6.21 s\n"
     ]
    },
    {
     "data": {
      "text/plain": [
       "1    127983\n",
       "0    121898\n",
       "Name: is_male, dtype: int64"
      ]
     },
     "execution_count": 54,
     "metadata": {},
     "output_type": "execute_result"
    }
   ],
   "source": [
    "%%time\n",
    "'''\n",
    "inv_usr_map = {v: k for k, v in usr_dict.items()}\n",
    "usr_emb = pd.DataFrame(u_factors)\n",
    "usr_emb['user_id'] = usr_emb.index.map(inv_usr_map)\n",
    "'''\n",
    "\n",
    "usr_emb = u1\n",
    "print(len(u1),len(u0),len(usr_emb))\n",
    "usr_emb = usr_emb.merge(u0, how = 'outer', on = ['user_id'], suffixes=('_u0', '_u1') )\n",
    "print(len(u1),len(u0),len(usr_emb))\n",
    "usr_emb = usr_emb.merge(u2, how = 'inner', on = ['user_id'], suffixes=('_u12','_u2') )\n",
    "#usr_emb = usr_emb.merge(u3, how = 'inner', on = ['user_id'], suffixes=('_u23','_u3') )\n",
    "\n",
    "usr_emb = usr_emb.merge(u12, how = 'inner', on = ['user_id'], suffixes=('_u20','_u21') )\n",
    "\n",
    "#usr_emb = usr_emb.fillna(-1)\n",
    "\n",
    "usr_emb = usr_emb.merge(data_aggC, how = 'inner', on = ['user_id'], suffixes=('_u23','_aggC'))\n",
    "usr_targets = targets.to_pandas()\n",
    "df = usr_targets.merge(usr_emb,   how = 'inner', on = ['user_id'])\n",
    "df = df[df['is_male'] != 'NA']\n",
    "df = df.dropna()\n",
    "df['is_male'] = df['is_male'].map(int)\n",
    "df['is_male'].value_counts()"
   ]
  },
  {
   "cell_type": "code",
   "execution_count": 55,
   "id": "fe5b1014",
   "metadata": {},
   "outputs": [],
   "source": [
    "#u0[u0.isna()==True].shape, len(u0)\n",
    "#usr_emb[usr_emb[['0_u0']].isna()]"
   ]
  },
  {
   "cell_type": "code",
   "execution_count": 56,
   "id": "b657a390",
   "metadata": {},
   "outputs": [
    {
     "data": {
      "text/plain": [
       "(249881, 470)"
      ]
     },
     "execution_count": 56,
     "metadata": {},
     "output_type": "execute_result"
    }
   ],
   "source": [
    "#df1 = df\n",
    "#df = df.drop('price_max',axis=1)\n",
    "df.shape"
   ]
  },
  {
   "cell_type": "code",
   "execution_count": 57,
   "id": "20c31d3d",
   "metadata": {},
   "outputs": [
    {
     "data": {
      "text/plain": [
       "(249881, 470)"
      ]
     },
     "execution_count": 57,
     "metadata": {},
     "output_type": "execute_result"
    }
   ],
   "source": [
    "df.shape #, df.columns[:100]"
   ]
  },
  {
   "cell_type": "code",
   "execution_count": 58,
   "id": "1419fb8a",
   "metadata": {},
   "outputs": [
    {
     "name": "stdout",
     "output_type": "stream",
     "text": [
      "2023-02-23 15:08:23.286434\n",
      "GINI по полу 0.697\n",
      "CPU times: user 12min 33s, sys: 13.9 s, total: 12min 47s\n",
      "Wall time: 1min 40s\n"
     ]
    }
   ],
   "source": [
    "%%time\n",
    "print(datetime.datetime.now())\n",
    "x_train, x_test, y_train, y_test = train_test_split(\\\n",
    "    df.drop(['user_id', 'age', 'is_male'], axis = 1), df['is_male'], test_size = 0.33, random_state = SPLIT_SEED)\n",
    "clf = CatBoostClassifier()\n",
    "clf.fit(x_train, y_train, verbose = False)\n",
    "print(f'GINI по полу {2 * m.roc_auc_score(y_test, clf.predict_proba(x_test)[:,1]) - 1:2.3f}')"
   ]
  },
  {
   "cell_type": "code",
   "execution_count": 59,
   "id": "cdc292de",
   "metadata": {},
   "outputs": [
    {
     "name": "stdout",
     "output_type": "stream",
     "text": [
      "2023-02-23 15:10:14.398578\n",
      "CPU times: user 16min 50s, sys: 16 s, total: 17min 6s\n",
      "Wall time: 2min 14s\n"
     ]
    }
   ],
   "source": [
    "%%time\n",
    "print(datetime.datetime.now())\n",
    "clf.fit(df.drop(['user_id', 'age', 'is_male'], axis = 1), df['is_male'], verbose = False)\n",
    "id_to_submit['is_male'] = clf.predict_proba(id_to_submit.merge(usr_emb, how = 'inner', on = ['user_id']))[:,1]"
   ]
  },
  {
   "cell_type": "code",
   "execution_count": 178,
   "id": "e7aeb5e1",
   "metadata": {},
   "outputs": [
    {
     "data": {
      "text/plain": [
       "(249881, 470)"
      ]
     },
     "execution_count": 178,
     "metadata": {},
     "output_type": "execute_result"
    }
   ],
   "source": [
    "df.shape"
   ]
  },
  {
   "cell_type": "markdown",
   "id": "a3980236",
   "metadata": {},
   "source": [
    "## Получим оценку по возрасту"
   ]
  },
  {
   "cell_type": "code",
   "execution_count": 60,
   "id": "4a4f4726",
   "metadata": {},
   "outputs": [],
   "source": [
    "import seaborn as sns\n",
    "import matplotlib.pyplot as plt\n",
    "import plotly.express as px\n",
    "\n",
    "%matplotlib inline\n",
    "sns.set_style('darkgrid')"
   ]
  },
  {
   "cell_type": "code",
   "execution_count": 61,
   "id": "0f97ec5d",
   "metadata": {},
   "outputs": [],
   "source": [
    "def age_bucket(x):\n",
    "    return bisect.bisect_left([18,25,35,45,55,65], x)"
   ]
  },
  {
   "cell_type": "code",
   "execution_count": 62,
   "id": "5d38c185",
   "metadata": {},
   "outputs": [
    {
     "data": {
      "text/plain": [
       "<AxesSubplot:xlabel='age', ylabel='Count'>"
      ]
     },
     "execution_count": 62,
     "metadata": {},
     "output_type": "execute_result"
    },
    {
     "data": {
      "image/png": "[encoded data removed]",
      "text/plain": [
       "<Figure size 640x480 with 1 Axes>"
      ]
     },
     "metadata": {},
     "output_type": "display_data"
    }
   ],
   "source": [
    "df = usr_targets.merge(usr_emb, how = 'inner', on = ['user_id'])\n",
    "df = df[df['age'] != 'NA']\n",
    "df = df.dropna()\n",
    "df['age'] = df['age'].map(age_bucket)\n",
    "sns.histplot(df['age'], bins = 7)"
   ]
  },
  {
   "cell_type": "code",
   "execution_count": 63,
   "id": "33ae9aaf",
   "metadata": {},
   "outputs": [
    {
     "name": "stdout",
     "output_type": "stream",
     "text": [
      "2023-02-23 15:12:55.218515\n",
      "              precision    recall  f1-score   support\n",
      "\n",
      "         <18       0.00      0.00      0.00       328\n",
      "       18-25       0.52      0.27      0.36     10431\n",
      "       25-34       0.47      0.64      0.54     27437\n",
      "       35-44       0.40      0.50      0.44     24093\n",
      "       45-54       0.37      0.20      0.26     13131\n",
      "       55-65       0.41      0.19      0.26      7179\n",
      "         65+       0.41      0.02      0.04      1615\n",
      "\n",
      "    accuracy                           0.43     84214\n",
      "   macro avg       0.37      0.26      0.27     84214\n",
      "weighted avg       0.43      0.43      0.41     84214\n",
      "\n",
      "CPU times: user 1h 28min 36s, sys: 12.9 s, total: 1h 28min 49s\n",
      "Wall time: 11min 32s\n"
     ]
    }
   ],
   "source": [
    "%%time\n",
    "print(datetime.datetime.now())\n",
    "x_train, x_test, y_train, y_test = train_test_split(\\\n",
    "    df.drop(['user_id', 'age', 'is_male'], axis = 1), df['age'], test_size = 0.33, random_state = SPLIT_SEED)\n",
    "\n",
    "clf = CatBoostClassifier()\n",
    "clf.fit(x_train, y_train, verbose = False)\n",
    "print(m.classification_report(y_test, clf.predict(x_test), \\\n",
    "                            target_names = ['<18', '18-25','25-34', '35-44', '45-54', '55-65', '65+']))"
   ]
  },
  {
   "cell_type": "markdown",
   "id": "47459933",
   "metadata": {},
   "source": [
    "f1 0.00 0.40 0.54 0.45 0.27 0.28 0.03 - 0.44 0.28 0.42 (als = 250.30 without)"
   ]
  },
  {
   "cell_type": "code",
   "execution_count": 64,
   "id": "2c73661d",
   "metadata": {},
   "outputs": [
    {
     "name": "stdout",
     "output_type": "stream",
     "text": [
      "2023-02-23 15:24:28.120543\n",
      "CPU times: user 2h 1min 6s, sys: 13.8 s, total: 2h 1min 20s\n",
      "Wall time: 15min 47s\n"
     ]
    }
   ],
   "source": [
    "%%time\n",
    "print(datetime.datetime.now())\n",
    "clf.fit(df.drop(['user_id', 'age', 'is_male'], axis = 1), df['age'], verbose = False)\n",
    "id_to_submit['age'] = clf.predict(id_to_submit[['user_id']].merge(usr_emb, how = 'inner', on = ['user_id']))"
   ]
  },
  {
   "cell_type": "code",
   "execution_count": 65,
   "id": "446f4213",
   "metadata": {},
   "outputs": [
    {
     "data": {
      "text/plain": [
       "(255192, 470)"
      ]
     },
     "execution_count": 65,
     "metadata": {},
     "output_type": "execute_result"
    }
   ],
   "source": [
    "df.shape"
   ]
  },
  {
   "cell_type": "markdown",
   "id": "f55aa8ec",
   "metadata": {},
   "source": [
    "## Сабмит"
   ]
  },
  {
   "cell_type": "code",
   "execution_count": 66,
   "id": "af2b6647",
   "metadata": {
    "scrolled": true
   },
   "outputs": [
    {
     "data": {
      "text/html": [
       "<div>\n",
       "<style scoped>\n",
       "    .dataframe tbody tr th:only-of-type {\n",
       "        vertical-align: middle;\n",
       "    }\n",
       "\n",
       "    .dataframe tbody tr th {\n",
       "        vertical-align: top;\n",
       "    }\n",
       "\n",
       "    .dataframe thead th {\n",
       "        text-align: right;\n",
       "    }\n",
       "</style>\n",
       "<table border=\"1\" class=\"dataframe\">\n",
       "  <thead>\n",
       "    <tr style=\"text-align: right;\">\n",
       "      <th></th>\n",
       "      <th>user_id</th>\n",
       "      <th>is_male</th>\n",
       "      <th>age</th>\n",
       "    </tr>\n",
       "  </thead>\n",
       "  <tbody>\n",
       "    <tr>\n",
       "      <th>221301</th>\n",
       "      <td>221301</td>\n",
       "      <td>0.946285</td>\n",
       "      <td>2</td>\n",
       "    </tr>\n",
       "    <tr>\n",
       "      <th>31271</th>\n",
       "      <td>31271</td>\n",
       "      <td>0.103351</td>\n",
       "      <td>3</td>\n",
       "    </tr>\n",
       "    <tr>\n",
       "      <th>211594</th>\n",
       "      <td>211594</td>\n",
       "      <td>0.488507</td>\n",
       "      <td>2</td>\n",
       "    </tr>\n",
       "    <tr>\n",
       "      <th>253119</th>\n",
       "      <td>253119</td>\n",
       "      <td>0.477897</td>\n",
       "      <td>2</td>\n",
       "    </tr>\n",
       "    <tr>\n",
       "      <th>192578</th>\n",
       "      <td>192578</td>\n",
       "      <td>0.837240</td>\n",
       "      <td>2</td>\n",
       "    </tr>\n",
       "  </tbody>\n",
       "</table>\n",
       "</div>"
      ],
      "text/plain": [
       "        user_id   is_male  age\n",
       "221301   221301  0.946285    2\n",
       "31271     31271  0.103351    3\n",
       "211594   211594  0.488507    2\n",
       "253119   253119  0.477897    2\n",
       "192578   192578  0.837240    2"
      ]
     },
     "execution_count": 66,
     "metadata": {},
     "output_type": "execute_result"
    }
   ],
   "source": [
    "id_to_submit.head()"
   ]
  },
  {
   "cell_type": "code",
   "execution_count": 67,
   "id": "60024ea9",
   "metadata": {},
   "outputs": [],
   "source": [
    "id_to_submit.to_csv(f'{LOCAL_DATA_PATH}/submission9.csv', index = False)"
   ]
  },
  {
   "cell_type": "code",
   "execution_count": 68,
   "id": "a7298b7b",
   "metadata": {},
   "outputs": [
    {
     "name": "stdout",
     "output_type": "stream",
     "text": [
      "user_id,is_male,age\r\n",
      "221301,0.9523721503994212,2\r\n",
      "31271,0.540058202285835,3\r\n",
      "211594,0.4921148361193288,2\r\n",
      "253119,0.5031936669434278,2\r\n",
      "192578,0.7343094598406392,2\r\n",
      "268458,0.28223318330597313,2\r\n",
      "205507,0.5256998725263032,3\r\n",
      "341343,0.6329608219845485,3\r\n",
      "282144,0.026135216529779966,2\r\n"
     ]
    }
   ],
   "source": [
    "! head $LOCAL_DATA_PATH/submission1.csv"
   ]
  },
  {
   "cell_type": "markdown",
   "id": "4d6a7a85",
   "metadata": {},
   "source": [
    "# Скор на лидерборде"
   ]
  },
  {
   "cell_type": "code",
   "execution_count": 187,
   "id": "7164aa61",
   "metadata": {},
   "outputs": [],
   "source": [
    "#context_scorer(submission, answers)"
   ]
  },
  {
   "cell_type": "code",
   "execution_count": null,
   "id": "edc791ca",
   "metadata": {},
   "outputs": [],
   "source": []
  },
  {
   "cell_type": "code",
   "execution_count": null,
   "id": "c37f704e",
   "metadata": {},
   "outputs": [],
   "source": []
  },
  {
   "cell_type": "code",
   "execution_count": 69,
   "id": "47561cef",
   "metadata": {},
   "outputs": [],
   "source": [
    "xx=clf.get_feature_importance(prettified=True)"
   ]
  },
  {
   "cell_type": "code",
   "execution_count": 70,
   "id": "2aaa2213",
   "metadata": {},
   "outputs": [
    {
     "data": {
      "text/html": [
       "<div>\n",
       "<style scoped>\n",
       "    .dataframe tbody tr th:only-of-type {\n",
       "        vertical-align: middle;\n",
       "    }\n",
       "\n",
       "    .dataframe tbody tr th {\n",
       "        vertical-align: top;\n",
       "    }\n",
       "\n",
       "    .dataframe thead th {\n",
       "        text-align: right;\n",
       "    }\n",
       "</style>\n",
       "<table border=\"1\" class=\"dataframe\">\n",
       "  <thead>\n",
       "    <tr style=\"text-align: right;\">\n",
       "      <th></th>\n",
       "      <th>Feature Id</th>\n",
       "      <th>Importances</th>\n",
       "    </tr>\n",
       "  </thead>\n",
       "  <tbody>\n",
       "    <tr>\n",
       "      <th>0</th>\n",
       "      <td>price_max</td>\n",
       "      <td>1.881281</td>\n",
       "    </tr>\n",
       "    <tr>\n",
       "      <th>1</th>\n",
       "      <td>82</td>\n",
       "      <td>1.107034</td>\n",
       "    </tr>\n",
       "    <tr>\n",
       "      <th>2</th>\n",
       "      <td>146</td>\n",
       "      <td>0.993919</td>\n",
       "    </tr>\n",
       "    <tr>\n",
       "      <th>3</th>\n",
       "      <td>142</td>\n",
       "      <td>0.987581</td>\n",
       "    </tr>\n",
       "    <tr>\n",
       "      <th>4</th>\n",
       "      <td>67</td>\n",
       "      <td>0.855092</td>\n",
       "    </tr>\n",
       "    <tr>\n",
       "      <th>5</th>\n",
       "      <td>104</td>\n",
       "      <td>0.838839</td>\n",
       "    </tr>\n",
       "    <tr>\n",
       "      <th>6</th>\n",
       "      <td>80</td>\n",
       "      <td>0.817976</td>\n",
       "    </tr>\n",
       "    <tr>\n",
       "      <th>7</th>\n",
       "      <td>29_u1</td>\n",
       "      <td>0.809820</td>\n",
       "    </tr>\n",
       "    <tr>\n",
       "      <th>8</th>\n",
       "      <td>7_u1</td>\n",
       "      <td>0.783061</td>\n",
       "    </tr>\n",
       "    <tr>\n",
       "      <th>9</th>\n",
       "      <td>138</td>\n",
       "      <td>0.781955</td>\n",
       "    </tr>\n",
       "    <tr>\n",
       "      <th>10</th>\n",
       "      <td>os_Android</td>\n",
       "      <td>0.776279</td>\n",
       "    </tr>\n",
       "    <tr>\n",
       "      <th>11</th>\n",
       "      <td>141</td>\n",
       "      <td>0.771588</td>\n",
       "    </tr>\n",
       "    <tr>\n",
       "      <th>12</th>\n",
       "      <td>A</td>\n",
       "      <td>0.758108</td>\n",
       "    </tr>\n",
       "    <tr>\n",
       "      <th>13</th>\n",
       "      <td>A002</td>\n",
       "      <td>0.734018</td>\n",
       "    </tr>\n",
       "    <tr>\n",
       "      <th>14</th>\n",
       "      <td>145</td>\n",
       "      <td>0.729257</td>\n",
       "    </tr>\n",
       "    <tr>\n",
       "      <th>15</th>\n",
       "      <td>174</td>\n",
       "      <td>0.715094</td>\n",
       "    </tr>\n",
       "    <tr>\n",
       "      <th>16</th>\n",
       "      <td>95</td>\n",
       "      <td>0.709128</td>\n",
       "    </tr>\n",
       "    <tr>\n",
       "      <th>17</th>\n",
       "      <td>222</td>\n",
       "      <td>0.703961</td>\n",
       "    </tr>\n",
       "    <tr>\n",
       "      <th>18</th>\n",
       "      <td>32_u1</td>\n",
       "      <td>0.699625</td>\n",
       "    </tr>\n",
       "    <tr>\n",
       "      <th>19</th>\n",
       "      <td>159</td>\n",
       "      <td>0.695168</td>\n",
       "    </tr>\n",
       "    <tr>\n",
       "      <th>20</th>\n",
       "      <td>135</td>\n",
       "      <td>0.686236</td>\n",
       "    </tr>\n",
       "    <tr>\n",
       "      <th>21</th>\n",
       "      <td>215</td>\n",
       "      <td>0.674875</td>\n",
       "    </tr>\n",
       "    <tr>\n",
       "      <th>22</th>\n",
       "      <td>evening</td>\n",
       "      <td>0.663370</td>\n",
       "    </tr>\n",
       "    <tr>\n",
       "      <th>23</th>\n",
       "      <td>240</td>\n",
       "      <td>0.649995</td>\n",
       "    </tr>\n",
       "    <tr>\n",
       "      <th>24</th>\n",
       "      <td>55</td>\n",
       "      <td>0.644783</td>\n",
       "    </tr>\n",
       "    <tr>\n",
       "      <th>25</th>\n",
       "      <td>161</td>\n",
       "      <td>0.637752</td>\n",
       "    </tr>\n",
       "    <tr>\n",
       "      <th>26</th>\n",
       "      <td>208</td>\n",
       "      <td>0.616024</td>\n",
       "    </tr>\n",
       "    <tr>\n",
       "      <th>27</th>\n",
       "      <td>182</td>\n",
       "      <td>0.594122</td>\n",
       "    </tr>\n",
       "    <tr>\n",
       "      <th>28</th>\n",
       "      <td>151</td>\n",
       "      <td>0.590144</td>\n",
       "    </tr>\n",
       "    <tr>\n",
       "      <th>29</th>\n",
       "      <td>134</td>\n",
       "      <td>0.588853</td>\n",
       "    </tr>\n",
       "    <tr>\n",
       "      <th>30</th>\n",
       "      <td>249</td>\n",
       "      <td>0.582001</td>\n",
       "    </tr>\n",
       "    <tr>\n",
       "      <th>31</th>\n",
       "      <td>5_u1</td>\n",
       "      <td>0.572206</td>\n",
       "    </tr>\n",
       "    <tr>\n",
       "      <th>32</th>\n",
       "      <td>101</td>\n",
       "      <td>0.564762</td>\n",
       "    </tr>\n",
       "    <tr>\n",
       "      <th>33</th>\n",
       "      <td>243</td>\n",
       "      <td>0.556623</td>\n",
       "    </tr>\n",
       "    <tr>\n",
       "      <th>34</th>\n",
       "      <td>54</td>\n",
       "      <td>0.556568</td>\n",
       "    </tr>\n",
       "    <tr>\n",
       "      <th>35</th>\n",
       "      <td>94</td>\n",
       "      <td>0.553589</td>\n",
       "    </tr>\n",
       "    <tr>\n",
       "      <th>36</th>\n",
       "      <td>69</td>\n",
       "      <td>0.550399</td>\n",
       "    </tr>\n",
       "    <tr>\n",
       "      <th>37</th>\n",
       "      <td>129</td>\n",
       "      <td>0.549090</td>\n",
       "    </tr>\n",
       "    <tr>\n",
       "      <th>38</th>\n",
       "      <td>234</td>\n",
       "      <td>0.542960</td>\n",
       "    </tr>\n",
       "    <tr>\n",
       "      <th>39</th>\n",
       "      <td>213</td>\n",
       "      <td>0.542468</td>\n",
       "    </tr>\n",
       "    <tr>\n",
       "      <th>40</th>\n",
       "      <td>221</td>\n",
       "      <td>0.530970</td>\n",
       "    </tr>\n",
       "    <tr>\n",
       "      <th>41</th>\n",
       "      <td>103</td>\n",
       "      <td>0.530670</td>\n",
       "    </tr>\n",
       "    <tr>\n",
       "      <th>42</th>\n",
       "      <td>133</td>\n",
       "      <td>0.530099</td>\n",
       "    </tr>\n",
       "    <tr>\n",
       "      <th>43</th>\n",
       "      <td>36_u1</td>\n",
       "      <td>0.524732</td>\n",
       "    </tr>\n",
       "    <tr>\n",
       "      <th>44</th>\n",
       "      <td>150</td>\n",
       "      <td>0.510992</td>\n",
       "    </tr>\n",
       "    <tr>\n",
       "      <th>45</th>\n",
       "      <td>64</td>\n",
       "      <td>0.503966</td>\n",
       "    </tr>\n",
       "    <tr>\n",
       "      <th>46</th>\n",
       "      <td>83</td>\n",
       "      <td>0.498078</td>\n",
       "    </tr>\n",
       "    <tr>\n",
       "      <th>47</th>\n",
       "      <td>1_u1</td>\n",
       "      <td>0.489613</td>\n",
       "    </tr>\n",
       "    <tr>\n",
       "      <th>48</th>\n",
       "      <td>235</td>\n",
       "      <td>0.472693</td>\n",
       "    </tr>\n",
       "    <tr>\n",
       "      <th>49</th>\n",
       "      <td>75</td>\n",
       "      <td>0.471050</td>\n",
       "    </tr>\n",
       "  </tbody>\n",
       "</table>\n",
       "</div>"
      ],
      "text/plain": [
       "    Feature Id  Importances\n",
       "0    price_max     1.881281\n",
       "1           82     1.107034\n",
       "2          146     0.993919\n",
       "3          142     0.987581\n",
       "4           67     0.855092\n",
       "5          104     0.838839\n",
       "6           80     0.817976\n",
       "7        29_u1     0.809820\n",
       "8         7_u1     0.783061\n",
       "9          138     0.781955\n",
       "10  os_Android     0.776279\n",
       "11         141     0.771588\n",
       "12           A     0.758108\n",
       "13        A002     0.734018\n",
       "14         145     0.729257\n",
       "15         174     0.715094\n",
       "16          95     0.709128\n",
       "17         222     0.703961\n",
       "18       32_u1     0.699625\n",
       "19         159     0.695168\n",
       "20         135     0.686236\n",
       "21         215     0.674875\n",
       "22     evening     0.663370\n",
       "23         240     0.649995\n",
       "24          55     0.644783\n",
       "25         161     0.637752\n",
       "26         208     0.616024\n",
       "27         182     0.594122\n",
       "28         151     0.590144\n",
       "29         134     0.588853\n",
       "30         249     0.582001\n",
       "31        5_u1     0.572206\n",
       "32         101     0.564762\n",
       "33         243     0.556623\n",
       "34          54     0.556568\n",
       "35          94     0.553589\n",
       "36          69     0.550399\n",
       "37         129     0.549090\n",
       "38         234     0.542960\n",
       "39         213     0.542468\n",
       "40         221     0.530970\n",
       "41         103     0.530670\n",
       "42         133     0.530099\n",
       "43       36_u1     0.524732\n",
       "44         150     0.510992\n",
       "45          64     0.503966\n",
       "46          83     0.498078\n",
       "47        1_u1     0.489613\n",
       "48         235     0.472693\n",
       "49          75     0.471050"
      ]
     },
     "execution_count": 70,
     "metadata": {},
     "output_type": "execute_result"
    }
   ],
   "source": [
    "xx.head(50)"
   ]
  },
  {
   "cell_type": "code",
   "execution_count": null,
   "id": "57595055",
   "metadata": {},
   "outputs": [],
   "source": []
  }
 ],
 "metadata": {
  "kernelspec": {
   "display_name": "Python 3 (ipykernel)",
   "language": "python",
   "name": "python3"
  },
  "language_info": {
   "codemirror_mode": {
    "name": "ipython",
    "version": 3
   },
   "file_extension": ".py",
   "mimetype": "text/x-python",
   "name": "python",
   "nbconvert_exporter": "python",
   "pygments_lexer": "ipython3",
   "version": "3.7.6"
  }
 },
 "nbformat": 4,
 "nbformat_minor": 5
}
