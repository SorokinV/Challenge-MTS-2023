{
 "cells": [
  {
   "cell_type": "code",
   "execution_count": 1,
   "id": "28740129",
   "metadata": {},
   "outputs": [],
   "source": [
    "import sys\n",
    "import os\n",
    "import datetime\n",
    "import warnings\n",
    "os.environ['OPENBLAS_NUM_THREADS'] = '1'\n",
    "warnings.filterwarnings('ignore')"
   ]
  },
  {
   "cell_type": "code",
   "execution_count": 2,
   "id": "b907cd02",
   "metadata": {},
   "outputs": [],
   "source": [
    "import pandas as pd\n",
    "import numpy as np\n",
    "import time\n",
    "import pyarrow.parquet as pq\n",
    "import pyarrow as pa\n",
    "import scipy\n",
    "import implicit\n",
    "import bisect\n",
    "import sklearn.metrics as m\n",
    "from catboost import CatBoostClassifier, CatBoostRegressor, Pool\n",
    "from sklearn.model_selection import train_test_split\n",
    "from sklearn.calibration import calibration_curve, CalibratedClassifierCV"
   ]
  },
  {
   "cell_type": "code",
   "execution_count": 3,
   "id": "e762eacd",
   "metadata": {},
   "outputs": [],
   "source": [
    "LOCAL_DATA_PATH = './context_data/'\n",
    "SPLIT_SEED = 42\n",
    "DATA_FILE = 'competition_data_final_pqt'\n",
    "TARGET_FILE = 'public_train.pqt'\n",
    "SUBMISSION_FILE = 'submit.pqt'"
   ]
  },
  {
   "cell_type": "code",
   "execution_count": 4,
   "id": "8c1af0db",
   "metadata": {},
   "outputs": [],
   "source": [
    "id_to_submit = pq.read_table(f'{LOCAL_DATA_PATH}/{SUBMISSION_FILE}').to_pandas()"
   ]
  },
  {
   "cell_type": "code",
   "execution_count": 5,
   "id": "89fd34da",
   "metadata": {},
   "outputs": [
    {
     "data": {
      "text/plain": [
       "['./context_data//competition_data_final_pqt/part-00000-aba60f69-2b63-4cc1-95ca-542598094698-c000.snappy.parquet',\n",
       " './context_data//competition_data_final_pqt/part-00001-aba60f69-2b63-4cc1-95ca-542598094698-c000.snappy.parquet',\n",
       " './context_data//competition_data_final_pqt/part-00002-aba60f69-2b63-4cc1-95ca-542598094698-c000.snappy.parquet',\n",
       " './context_data//competition_data_final_pqt/part-00003-aba60f69-2b63-4cc1-95ca-542598094698-c000.snappy.parquet',\n",
       " './context_data//competition_data_final_pqt/part-00004-aba60f69-2b63-4cc1-95ca-542598094698-c000.snappy.parquet',\n",
       " './context_data//competition_data_final_pqt/part-00005-aba60f69-2b63-4cc1-95ca-542598094698-c000.snappy.parquet',\n",
       " './context_data//competition_data_final_pqt/part-00006-aba60f69-2b63-4cc1-95ca-542598094698-c000.snappy.parquet',\n",
       " './context_data//competition_data_final_pqt/part-00007-aba60f69-2b63-4cc1-95ca-542598094698-c000.snappy.parquet',\n",
       " './context_data//competition_data_final_pqt/part-00008-aba60f69-2b63-4cc1-95ca-542598094698-c000.snappy.parquet',\n",
       " './context_data//competition_data_final_pqt/part-00009-aba60f69-2b63-4cc1-95ca-542598094698-c000.snappy.parquet']"
      ]
     },
     "execution_count": 5,
     "metadata": {},
     "output_type": "execute_result"
    }
   ],
   "source": [
    "# pqf = pq.ParquetFile(f'{LOCAL_DATA_PATH}/{DATA_FILE}')\n",
    "pqd = pq.ParquetDataset(f'{LOCAL_DATA_PATH}/{DATA_FILE}')\n",
    "pqd.files"
   ]
  },
  {
   "cell_type": "code",
   "execution_count": null,
   "id": "39413645",
   "metadata": {},
   "outputs": [],
   "source": []
  },
  {
   "cell_type": "code",
   "execution_count": null,
   "id": "f6f543bf",
   "metadata": {},
   "outputs": [],
   "source": [
    "data_agg = None\n",
    "for ifile in pqd.files :\n",
    "\n",
    "    #data = pq.read_table(f'{LOCAL_DATA_PATH}/{DATA_FILE}/{ifile}')\n",
    "    data = pq.read_table(f'{ifile}')\n",
    "    #pd.DataFrame([(z.name, z.type) for z in data.schema], columns = [['field', 'type']])\n",
    "\n",
    "    data_agg0 = data.select(['user_id', 'url_host', 'request_cnt']).\\\n",
    "        group_by(['user_id', 'url_host']).aggregate([('request_cnt', \"sum\"),\n",
    "                                                     ('request_cnt', \"max\"),\n",
    "                                                     ('request_cnt', \"mean\"),])\n",
    "    \n",
    "    data_agg1 = data.select(['user_id','date', 'part_of_day', 'request_cnt']).\\\n",
    "        group_by(['user_id', 'date', 'part_of_day']).aggregate([('request_cnt', \"sum\"),\n",
    "                                                                ('request_cnt', \"max\"),\n",
    "                                                                ('request_cnt', \"mean\")])\n",
    "    \n",
    "    data_agg2 = data.select(['user_id', 'city_name', 'region_name', 'cpe_model_os_type', 'price','request_cnt', \\\n",
    "                            'cpe_manufacturer_name','cpe_model_name','cpe_type_cd']).\\\n",
    "        group_by(['user_id', ]).\\\n",
    "        aggregate([('cpe_model_os_type', \"max\"), ('cpe_manufacturer_name','max'),\\\n",
    "                   ('cpe_model_name','max'),('cpe_type_cd','max'), \\\n",
    "                   ('price', \"max\"), ('city_name', \"max\"), \\\n",
    "                   ('region_name', \"max\"),('request_cnt',\"mean\"),('request_cnt',\"sum\")])\n",
    "    \n",
    "    if data_agg is None :\n",
    "        data_agg  = data_agg0\n",
    "        data_aggB = data_agg1\n",
    "        data_aggZ = data_agg2\n",
    "        print(data.to_pandas().head())\n",
    "    else :\n",
    "        data_agg  = pa.concat_tables([data_agg, data_agg0],promote=False)\n",
    "        data_aggB = pa.concat_tables([data_aggB,data_agg1],promote=False)\n",
    "        data_aggZ = pa.concat_tables([data_aggZ,data_agg2],promote=False)\n",
    "    \n",
    "    del data, data_agg0, data_agg1, data_agg2\n",
    "    \n",
    "data_agg  = data_agg.to_pandas()\n",
    "data_aggB = data_aggB.to_pandas()\n",
    "data_aggZ = data_aggZ.to_pandas().fillna(0)"
   ]
  },
  {
   "cell_type": "markdown",
   "id": "9ba280ae",
   "metadata": {},
   "source": [
    "Регион   \n",
    ", населенный пункт   \n",
    ", производиель устройства   \n",
    ", модель устроства   \n",
    ", домен, с которого пришел рекламный запрос   \n",
    ", тип устройства (смартфон или что-то другое)   \n",
    ", операционка на устройстве   \n",
    ", оценка цены устройства   \n",
    ", дата   \n",
    ", время дня (утро, вечер ...)   \n",
    ", число запросов   \n",
    ", id пользователя   "
   ]
  },
  {
   "cell_type": "code",
   "execution_count": null,
   "id": "addb19e7",
   "metadata": {},
   "outputs": [],
   "source": [
    "data_agg.info(), data_aggB.info(), data_aggZ.info()"
   ]
  },
  {
   "cell_type": "code",
   "execution_count": null,
   "id": "57d1d675",
   "metadata": {},
   "outputs": [],
   "source": [
    "data_agg.columns, data_aggB.columns, data_aggZ.columns"
   ]
  },
  {
   "cell_type": "code",
   "execution_count": null,
   "id": "26a01ee6",
   "metadata": {},
   "outputs": [],
   "source": []
  },
  {
   "cell_type": "code",
   "execution_count": null,
   "id": "f4b80b1f",
   "metadata": {},
   "outputs": [],
   "source": [
    "n_urls = 450 #500\n",
    "\n",
    "urls_hosts_max=data_agg[['url_host','user_id']].groupby(['url_host']).size().reset_index()\n",
    "                #sort_values('user_id', axis=0, ascending=False)[:10].reset_index()\n",
    "urls_hosts_max.columns = ['url_host','size']\n",
    "url_hosts_max = urls_hosts_max.sort_values('size', ascending=False).head(n_urls).url_host\n",
    "#url_hosts_max.to_list()"
   ]
  },
  {
   "cell_type": "code",
   "execution_count": null,
   "id": "89461181",
   "metadata": {},
   "outputs": [],
   "source": [
    "data_temp = data_agg[~data_agg['url_host'].isin(url_hosts_max.to_list())]\n",
    "data_aggY = pd.concat([data_temp, \\\n",
    "      data_agg[data_agg['user_id']. \\\n",
    "               isin(list(set(data_agg.user_id.unique())-set(data_temp.user_id.unique())))]], \\\n",
    "      ignore_index=True)\n",
    "data_aggY.shape, data_aggY.head()"
   ]
  },
  {
   "cell_type": "code",
   "execution_count": null,
   "id": "8edc7e3d",
   "metadata": {},
   "outputs": [],
   "source": []
  },
  {
   "cell_type": "code",
   "execution_count": null,
   "id": "b41b2c00",
   "metadata": {},
   "outputs": [],
   "source": [
    "data_agg.shape, data_aggY.shape, len(data_agg['user_id'].unique()), len(data_aggZ.user_id.unique())"
   ]
  },
  {
   "cell_type": "code",
   "execution_count": null,
   "id": "26e0924b",
   "metadata": {},
   "outputs": [],
   "source": [
    "if 1 :\n",
    "    \n",
    "    data_aggC = data_aggZ[['user_id','cpe_model_os_type_max', 'cpe_manufacturer_name_max', \\\n",
    "                           'cpe_model_name_max', 'cpe_type_cd_max', \\\n",
    "                           'region_name_max','city_name_max','price_max']]\n",
    "    \n",
    "    cat_features  = ['cpe_model_os_type_max', 'cpe_manufacturer_name_max', \\\n",
    "                     'cpe_model_name_max', 'cpe_type_cd_max', \\\n",
    "                     'region_name_max','city_name_max',]\n",
    "    \n",
    "    \n",
    "    data_aggD = pd.pivot_table(data_aggB[['user_id','part_of_day','request_cnt_sum']],\n",
    "                                index='user_id', columns='part_of_day', values='request_cnt_sum', \n",
    "                                aggfunc=np.mean, fill_value=0).reset_index()\n",
    "    data_aggC = data_aggC.merge(data_aggD,how='inner',on=['user_id'])\n",
    "    \n",
    "    data_aggB['DW'] = 'DW' + pd.to_datetime(data_aggB.date).dt.day_of_week.astype(str)\n",
    "    data_aggD = pd.pivot_table(data_aggB[['user_id','DW','request_cnt_sum']],\n",
    "                                index='user_id', columns='DW', values='request_cnt_sum', \n",
    "                                aggfunc=np.mean, fill_value=0).reset_index()\n",
    "    data_aggC = data_aggC.merge(data_aggD,how='inner',on=['user_id'])\n",
    "\n",
    "    data_aggB['DW'] = 'DWPD'+pd.to_datetime(data_aggB.date).dt.day_of_week.astype(str)+'.'+data_aggB.part_of_day\n",
    "    data_aggD = pd.pivot_table(data_aggB[['user_id','DW','request_cnt_sum']],\n",
    "                                index='user_id', columns='DW', values='request_cnt_sum', \n",
    "                                aggfunc=np.mean, fill_value=0).reset_index()\n",
    "    data_aggC = data_aggC.merge(data_aggD,how='inner',on=['user_id'])\n",
    "    \n",
    "    if 0 :\n",
    "        data_a = data_aggB[['user_id','date','request_cnt_sum']].groupby(['user_id','date']).sum().reset_index()\n",
    "        data_a = data_a[['user_id','request_cnt_sum']].groupby('user_id').\\\n",
    "                    agg([np.sum,np.mean,np.median,np.min,np.max,np.std]).fillna(0).reset_index()\n",
    "        data_a.columns = [a+('' if len(b)==0 else '_date_')+b for a,b in data_a.columns];\n",
    "        data_aggC = data_aggC.merge(data_a,how='inner',on=['user_id'])      \n",
    "    "
   ]
  },
  {
   "cell_type": "code",
   "execution_count": null,
   "id": "6e2d3eec",
   "metadata": {},
   "outputs": [],
   "source": [
    "#\n",
    "#  tf-idf\n",
    "#\n",
    "if 1 : # tf-idf\n",
    "    \n",
    "    #data_a = data_agg[['user_id','url_host']].groupby(['user_id']).size().reset_index()\n",
    "    data_a = data_agg[['user_id','request_cnt_sum',]].groupby('user_id').sum().reset_index()\n",
    "    data_a.columns=['user_id','summ']\n",
    "    data_tf = data_agg.merge(data_a, how='left', on='user_id')\n",
    "    data_tf['tf'] = data_tf.request_cnt_sum/data_tf.summ\n",
    "    data_tf       = data_tf[['user_id','url_host','tf']]\n",
    "    \n",
    "    if 0 :\n",
    "        print('tf')\n",
    "        print(data_a.shape, data_tf.shape, data_aggY.shape)\n",
    "        print(data_a.head())\n",
    "        print(data_tf.head())\n",
    "    \n",
    "    data_a = data_agg[['url_host','user_id',]].groupby('url_host').size().reset_index()\n",
    "    data_a.columns=['url_host','sizee']\n",
    "    user_id_len = len(data_agg.user_id.unique())\n",
    "    \n",
    "    data_idf = data_a\n",
    "    data_idf['idf'] = np.log(user_id_len/data_a.sizee)\n",
    "    \n",
    "    if 0 :\n",
    "        print('idf')\n",
    "        print(data_a.shape, data_idf.shape, data_agg.shape)\n",
    "        print(data_a.head())\n",
    "        print(data_idf.head())\n",
    "    \n",
    "    data_tf_idf = data_tf.merge(data_idf[['url_host','idf']], how='left', on='url_host')\n",
    "    data_tf_idf['tf_idf'] = data_tf_idf.tf*data_tf_idf.idf\n",
    "    \n",
    "    if 0 :\n",
    "        print('idf')\n",
    "        print(data_tf_idf.shape)\n",
    "        print(data_tf_idf.head())\n",
    "    \n",
    "    del data_tf, data_idf\n",
    "    del data_a\n",
    "    \n",
    "    print(data_tf_idf.shape)"
   ]
  },
  {
   "cell_type": "code",
   "execution_count": null,
   "id": "fc9b626b",
   "metadata": {},
   "outputs": [],
   "source": [
    "data_aggC.shape, data_aggC.columns"
   ]
  },
  {
   "cell_type": "code",
   "execution_count": null,
   "id": "b2e7e1ef",
   "metadata": {},
   "outputs": [],
   "source": [
    "temp_old = data_aggC.copy()\n",
    "temp = data_aggC.describe();\n",
    "temp"
   ]
  },
  {
   "cell_type": "code",
   "execution_count": null,
   "id": "d90c5cd4",
   "metadata": {},
   "outputs": [],
   "source": [
    "data_aggC = temp_old.copy()"
   ]
  },
  {
   "cell_type": "code",
   "execution_count": null,
   "id": "10172bcb",
   "metadata": {},
   "outputs": [],
   "source": [
    "ccolumns = [cc for cc in data_aggC.columns if cc not in cat_features and cc != 'user_id']\n",
    "ttemp = (data_aggC.loc[:,ccolumns]/temp.loc['mean',ccolumns]) #/temp.loc['std',ccolumns]\n",
    "data_aggC[ccolumns]=ttemp[ccolumns]"
   ]
  },
  {
   "cell_type": "code",
   "execution_count": null,
   "id": "c602830a",
   "metadata": {},
   "outputs": [],
   "source": [
    "ttemp.describe()\n",
    "data_aggC.describe()"
   ]
  },
  {
   "cell_type": "code",
   "execution_count": null,
   "id": "7521c6f2",
   "metadata": {},
   "outputs": [],
   "source": []
  },
  {
   "cell_type": "code",
   "execution_count": null,
   "id": "af722b67",
   "metadata": {},
   "outputs": [],
   "source": [
    "\n",
    "if 1 :\n",
    "    data_aggC['A']=data_aggC.day+data_aggC.evening+data_aggC.morning+data_aggC.night\n",
    "    data_aggC['A000']=data_aggC.day/data_aggC.A\n",
    "    data_aggC['A001']=data_aggC.evening/data_aggC.A\n",
    "    data_aggC['A002']=data_aggC.morning/data_aggC.A\n",
    "    data_aggC['A003']=data_aggC.night/data_aggC.A\n",
    "    \n",
    "if 1 :\n",
    "    B000m=data_aggC.day.mean()\n",
    "    B001m=data_aggC.evening.mean()\n",
    "    B002m=data_aggC.morning.mean()\n",
    "    B003m=data_aggC.night.mean()\n",
    "    data_aggC['B000']=data_aggC.day/B000m\n",
    "    data_aggC['B001']=data_aggC.evening/B001m\n",
    "    data_aggC['B002']=data_aggC.morning/B002m\n",
    "    data_aggC['B003']=data_aggC.night/B003m\n",
    "    #data_aggC = data_aggC.drop(['day','morning','evening'],axis=1)\n",
    "        \n",
    "if 1 :\n",
    "    DWA0  =data_aggC.DW0.median()\n",
    "    DWA1  =data_aggC.DW1.median()\n",
    "    DWA2  =data_aggC.DW2.median()\n",
    "    DWA3  =data_aggC.DW3.median()\n",
    "    DWA4  =data_aggC.DW4.median()\n",
    "    DWA5  =data_aggC.DW5.median()\n",
    "    DWA6  =data_aggC.DW6.median()\n",
    "    data_aggC['DWB000']=data_aggC.DW0/DWA0\n",
    "    data_aggC['DWB001']=data_aggC.DW1/DWA1\n",
    "    data_aggC['DWB002']=data_aggC.DW2/DWA2\n",
    "    data_aggC['DWB003']=data_aggC.DW3/DWA3\n",
    "    data_aggC['DWB004']=data_aggC.DW4/DWA4\n",
    "    data_aggC['DWB005']=data_aggC.DW5/DWA5\n",
    "    data_aggC['DWB006']=data_aggC.DW6/DWA6\n",
    "    \n",
    "if 1 :\n",
    "    data_aggC['DWA']=data_aggC.DW0+data_aggC.DW1+data_aggC.DW2+data_aggC.DW3+ \\\n",
    "                        data_aggC.DW4+data_aggC.DW5+data_aggC.DW6\n",
    "    data_aggC['DW000']=data_aggC.DW0/data_aggC.DWA\n",
    "    data_aggC['DW001']=data_aggC.DW1/data_aggC.DWA\n",
    "    data_aggC['DW002']=data_aggC.DW2/data_aggC.DWA\n",
    "    data_aggC['DW003']=data_aggC.DW3/data_aggC.DWA\n",
    "    data_aggC['DW004']=data_aggC.DW4/data_aggC.DWA\n",
    "    data_aggC['DW005']=data_aggC.DW5/data_aggC.DWA\n",
    "    data_aggC['DW006']=data_aggC.DW6/data_aggC.DWA\n",
    "    \n",
    "data_aggC.shape, data_aggC.columns"
   ]
  },
  {
   "cell_type": "code",
   "execution_count": null,
   "id": "f158a3c1",
   "metadata": {},
   "outputs": [],
   "source": [
    "data_aggC.shape"
   ]
  },
  {
   "cell_type": "code",
   "execution_count": null,
   "id": "86be95d6",
   "metadata": {},
   "outputs": [],
   "source": [
    "if 0 :\n",
    "    import matplotlib.pyplot as mp\n",
    "    if 0 :\n",
    "        mp.hist(data_aggC.day, 100)\n",
    "        mp.hist(data_aggC.morning, 100)\n",
    "        mp.hist(data_aggC.evening, 100)\n",
    "        #mp.hist(data_aggC.A003, 100)\n",
    "        #mp.hist(data_aggC.DWB004, 100)\n",
    "\n",
    "        mp.show()\n",
    "\n",
    "        mp.hist(data_aggC.price_max,100)\n",
    "        mp.show()\n",
    "\n",
    "    mp.plot(data_aggB[['user_id','request_cnt_sum']].groupby(['user_id'],sort=True).sem())\n",
    "    mp.show()\n",
    "    \n",
    "if 0 :    \n",
    "    aa1 = data_aggB[['user_id','date','request_cnt_sum']].groupby(['user_id','date']).sum().reset_index()\n",
    "    aa2 = aa1[['user_id','request_cnt_sum']].groupby('user_id').\\\n",
    "                agg([np.sum,np.mean,np.median,np.min,np.max,np.std]).fillna(0).reset_index()"
   ]
  },
  {
   "cell_type": "code",
   "execution_count": null,
   "id": "b01b07fb",
   "metadata": {},
   "outputs": [],
   "source": []
  },
  {
   "cell_type": "code",
   "execution_count": null,
   "id": "3ff50f46",
   "metadata": {},
   "outputs": [],
   "source": [
    "targets = pq.read_table(f'{LOCAL_DATA_PATH}/{TARGET_FILE}')\n",
    "pd.DataFrame([(z.name, z.type) for z in targets.schema], columns = [['field', 'type']])"
   ]
  },
  {
   "cell_type": "code",
   "execution_count": null,
   "id": "130cced8",
   "metadata": {},
   "outputs": [],
   "source": []
  },
  {
   "cell_type": "code",
   "execution_count": null,
   "id": "4029391e",
   "metadata": {},
   "outputs": [],
   "source": []
  },
  {
   "cell_type": "code",
   "execution_count": null,
   "id": "bde3b504",
   "metadata": {},
   "outputs": [],
   "source": [
    "import faiss\n",
    "\n",
    "def set1 (items) :\n",
    "    item_set = set(items)\n",
    "    #print(f'{len(items)} items')\n",
    "    item_dict = {item: iditem for item, iditem in zip(item_set, range(len(item_set)))}\n",
    "    items_new = np.array(items.map(item_dict))\n",
    "    return(item_dict, items_new)\n",
    "    \n",
    "def alsals (values, rows, cols, factors=50, iterations=30, clusters=400) :\n",
    "    \n",
    "    #values = np.array(data_agg['request_cnt_sum'])\n",
    "    #rows   = np.array(data_agg['user_id'].map(usr_dict))\n",
    "    #cols   = np.array(data_agg['url_host'].map(url_dict))\n",
    "    mat = scipy.sparse.coo_matrix((values, (rows, cols)), shape=(rows.max() + 1, cols.max() + 1))\n",
    "    als = implicit.approximate_als.FaissAlternatingLeastSquares(factors = factors, iterations = iterations, \\\n",
    "           use_gpu = False, nlist=clusters, \\\n",
    "           calculate_training_loss = False, regularization = 0.1)\n",
    "           #calculate_training_loss = False, regularization = 0.1)\n",
    "    als.fit(mat)\n",
    "    u_factors = als.model.user_factors \n",
    "    d_factors = als.model.item_factors\n",
    "    \n",
    "    return u_factors\n",
    "\n",
    "def doMatrix (users, items, values, clusters=400, factors=50, iterations=30) :\n",
    "    users_dict, users_new = set1(users)\n",
    "    items_dict, items_new = set1(items)\n",
    "\n",
    "    uu = alsals(values,users_new,items_new, clusters=clusters, factors=factors, iterations=iterations)\n",
    "    uu = pd.DataFrame(uu)\n",
    "\n",
    "    inv_users_dict = {v: k for k, v in users_dict.items()}\n",
    "    uu['user_id'] = uu.index.map(inv_users_dict)\n",
    "    return uu"
   ]
  },
  {
   "cell_type": "code",
   "execution_count": 43,
   "id": "10ca5794",
   "metadata": {},
   "outputs": [
    {
     "data": {
      "application/vnd.jupyter.widget-view+json": {
       "model_id": "bfc5d929fd124b81b85de4cc2c53684d",
       "version_major": 2,
       "version_minor": 0
      },
      "text/plain": [
       "  0%|          | 0/50 [00:00<?, ?it/s]"
      ]
     },
     "metadata": {},
     "output_type": "display_data"
    },
    {
     "data": {
      "application/vnd.jupyter.widget-view+json": {
       "model_id": "828aa51942d64cb98930723658a9555c",
       "version_major": 2,
       "version_minor": 0
      },
      "text/plain": [
       "  0%|          | 0/50 [00:00<?, ?it/s]"
      ]
     },
     "metadata": {},
     "output_type": "display_data"
    },
    {
     "data": {
      "application/vnd.jupyter.widget-view+json": {
       "model_id": "06d31cc1bcaf4fa5932b9fddfd5022d0",
       "version_major": 2,
       "version_minor": 0
      },
      "text/plain": [
       "  0%|          | 0/50 [00:00<?, ?it/s]"
      ]
     },
     "metadata": {},
     "output_type": "display_data"
    },
    {
     "name": "stderr",
     "output_type": "stream",
     "text": [
      "WARNING clustering 28 points to 10 centroids: please provide at least 390 training points\n"
     ]
    },
    {
     "name": "stdout",
     "output_type": "stream",
     "text": [
      "CPU times: user 3h 15min 11s, sys: 3min 37s, total: 3h 18min 48s\n",
      "Wall time: 27min 5s\n"
     ]
    }
   ],
   "source": [
    "%%time\n",
    "\n",
    "if 1 :\n",
    "    u12= doMatrix(pd.concat([#data_agg.user_id, \\\n",
    "                         data_agg.user_id, \\\n",
    "                         #data_tf_idf.user_id, \\\n",
    "                         #data_tf_idf.user_id, \\\n",
    "                         #data_tf_idf.user_id, \\\n",
    "                         #data_aggB.user_id, \\\n",
    "                         #data_aggB.user_id, \\\n",
    "                        ], ignore_index=True),\n",
    "              pd.concat([#data_agg.url_host,\\\n",
    "                         data_agg.url_host,\\\n",
    "                         #data_tf_idf.url_host,\\\n",
    "                         #data_tf_idf.url_host,\\\n",
    "                         #data_tf_idf.url_host, \\\n",
    "                         #data_aggB.part_of_day, \\\n",
    "                         #data_aggB.part_of_day, \\\n",
    "                         #data_aggB.DW,\n",
    "                         #data_aggB.DW,\n",
    "                        ], ignore_index=True),\\\n",
    "              pd.concat([#data_agg.request_cnt_sum,\\\n",
    "                         data_agg.request_cnt_mean/np.mean(data_agg.request_cnt_mean)* \\\n",
    "                                  np.mean(data_agg.request_cnt_sum), \\\n",
    "                         #data_tf_idf.tf_idf/np.mean(data_tf_idf.tf_idf)*np.mean(data_agg.request_cnt_sum), \\\n",
    "                         #data_tf_idf.tf/np.mean(data_tf_idf.tf)*np.mean(data_agg.request_cnt_sum), \\\n",
    "                         #data_tf_idf.idf/np.mean(data_tf_idf.idf)*np.mean(data_agg.request_cnt_sum), \\\n",
    "                         #data_aggB.request_cnt_sum/np.mean(data_aggB.request_cnt_sum)* \\\n",
    "                         #  np.mean(data_agg.request_cnt_sum), \\\n",
    "                         #data_aggB.request_cnt_mean/np.mean(data_aggB.request_cnt_mean)* \\\n",
    "                         #  np.mean(data_agg.request_cnt_sum), \\\n",
    "                        ], ignore_index=True),\n",
    "              #clusters=400, factors=50)\n",
    "              #clusters=400, factors=350, iterations=30)     \n",
    "              #clusters=400, factors=550, iterations=30)\n",
    "              #clusters=400, factors=3000, iterations=30)\n",
    "              #clusters=400, factors=150, iterations=30)\n",
    "              clusters=400, factors=250, iterations=50)\n",
    "\n",
    "if 1 :\n",
    "    u12x1= doMatrix(pd.concat([#data_agg.user_id, \\\n",
    "                         #data_agg.user_id, \\\n",
    "                         data_tf_idf.user_id, \\\n",
    "                         data_tf_idf.user_id, \\\n",
    "                         #data_tf_idf.user_id, \\\n",
    "                         #data_aggB.user_id, \\\n",
    "                         #data_aggB.user_id, \\\n",
    "                        ], ignore_index=True),\n",
    "              pd.concat([#data_agg.url_host,\\\n",
    "                         #data_agg.url_host,\\\n",
    "                         data_tf_idf.url_host,\\\n",
    "                         data_tf_idf.url_host,\\\n",
    "                         #data_tf_idf.url_host, \\\n",
    "                         #data_aggB.part_of_day, \\\n",
    "                         #data_aggB.part_of_day, \\\n",
    "                         #data_aggB.DW,\n",
    "                         #data_aggB.DW,\n",
    "                        ], ignore_index=True),\\\n",
    "              pd.concat([#data_agg.request_cnt_sum,\\\n",
    "                         #data_agg.request_cnt_mean/np.mean(data_agg.request_cnt_mean)* \\\n",
    "                         #         np.mean(data_agg.request_cnt_sum), \\\n",
    "                         data_tf_idf.tf_idf/np.mean(data_tf_idf.tf_idf)*np.mean(data_agg.request_cnt_sum), \\\n",
    "                         data_tf_idf.tf/np.mean(data_tf_idf.tf)*np.mean(data_agg.request_cnt_sum), \\\n",
    "                         #data_tf_idf.idf/np.mean(data_tf_idf.idf)*np.mean(data_agg.request_cnt_sum), \\\n",
    "                         #data_aggB.request_cnt_sum/np.mean(data_aggB.request_cnt_sum)* \\\n",
    "                         #  np.mean(data_agg.request_cnt_sum), \\\n",
    "                         #data_aggB.request_cnt_mean/np.mean(data_aggB.request_cnt_mean)* \\\n",
    "                         #  np.mean(data_agg.request_cnt_sum), \\\n",
    "                        ], ignore_index=True),\n",
    "              #clusters=400, factors=50)\n",
    "              #clusters=400, factors=350, iterations=30)     \n",
    "              #clusters=400, factors=550, iterations=30)\n",
    "              #clusters=400, factors=3000, iterations=30)\n",
    "              #clusters=400, factors=150, iterations=30)\n",
    "              clusters=400, factors=250, iterations=50)\n",
    "\n",
    "data_aggB['DW'] = 'DW' + pd.to_datetime(data_aggB.date).dt.day_of_week.astype(str) + '.' + data_aggB.part_of_day\n",
    "u12x2= doMatrix(pd.concat([#data_agg.user_id, \\\n",
    "                         #data_agg.user_id, \\\n",
    "                         #data_tf_idf.user_id, \\\n",
    "                         #data_tf_idf.user_id, \\\n",
    "                         #data_tf_idf.user_id, \\\n",
    "                         #data_aggB.user_id, \\\n",
    "                         data_aggB.user_id, \\\n",
    "                        ], ignore_index=True),\n",
    "              pd.concat([#data_agg.url_host,\\\n",
    "                         #data_agg.url_host,\\\n",
    "                         #data_tf_idf.url_host,\\\n",
    "                         #data_tf_idf.url_host,\\\n",
    "                         #data_tf_idf.url_host, \\\n",
    "                         #data_aggB.part_of_day, \\\n",
    "                         #data_aggB.part_of_day, \\\n",
    "                         #data_aggB.DW,\n",
    "                         data_aggB.DW,\n",
    "                        ], ignore_index=True),\\\n",
    "              pd.concat([#data_agg.request_cnt_sum,\\\n",
    "                         #data_agg.request_cnt_mean/np.mean(data_agg.request_cnt_mean)* \\\n",
    "                         #         np.mean(data_agg.request_cnt_sum), \\\n",
    "                         #data_tf_idf.tf_idf/np.mean(data_tf_idf.tf_idf)*np.mean(data_agg.request_cnt_sum), \\\n",
    "                         #data_tf_idf.tf/np.mean(data_tf_idf.tf)*np.mean(data_agg.request_cnt_sum), \\\n",
    "                         #data_tf_idf.idf/np.mean(data_tf_idf.idf)*np.mean(data_agg.request_cnt_sum), \\\n",
    "                         #data_aggB.request_cnt_sum/np.mean(data_aggB.request_cnt_sum)* \\\n",
    "                         #  np.mean(data_agg.request_cnt_sum), \\\n",
    "                         data_aggB.request_cnt_mean/np.mean(data_aggB.request_cnt_mean)* \\\n",
    "                           np.mean(data_agg.request_cnt_sum), \\\n",
    "                        ], ignore_index=True),\n",
    "              clusters=10, factors=150, iterations=50)\n",
    "\n"
   ]
  },
  {
   "cell_type": "code",
   "execution_count": 44,
   "id": "2392ccbc",
   "metadata": {},
   "outputs": [
    {
     "data": {
      "text/plain": [
       "(415317, 251)"
      ]
     },
     "execution_count": 44,
     "metadata": {},
     "output_type": "execute_result"
    }
   ],
   "source": [
    "u12.shape"
   ]
  },
  {
   "cell_type": "code",
   "execution_count": null,
   "id": "a97ca6f0",
   "metadata": {},
   "outputs": [],
   "source": []
  },
  {
   "cell_type": "code",
   "execution_count": null,
   "id": "700798c6",
   "metadata": {},
   "outputs": [],
   "source": []
  },
  {
   "cell_type": "code",
   "execution_count": 45,
   "id": "d031a9f9",
   "metadata": {},
   "outputs": [],
   "source": [
    "#data_tf_idf.tf_idf.describe(), data_agg.request_cnt_sum.describe(), \\\n",
    "#data_agg.request_cnt_mean.describe(), data_aggB.request_cnt_sum.describe(), \\\n",
    "#data_aggB.request_cnt_mean.describe()"
   ]
  },
  {
   "cell_type": "markdown",
   "id": "ed2944b0",
   "metadata": {},
   "source": [
    "## Получим оценку по полу"
   ]
  },
  {
   "cell_type": "code",
   "execution_count": 46,
   "id": "c2f7f21d",
   "metadata": {
    "scrolled": true
   },
   "outputs": [
    {
     "name": "stdout",
     "output_type": "stream",
     "text": [
      "CPU times: user 7.29 s, sys: 1.34 s, total: 8.63 s\n",
      "Wall time: 8.63 s\n"
     ]
    },
    {
     "data": {
      "text/plain": [
       "1    135331\n",
       "0    128994\n",
       "Name: is_male, dtype: int64"
      ]
     },
     "execution_count": 46,
     "metadata": {},
     "output_type": "execute_result"
    }
   ],
   "source": [
    "%%time\n",
    "\n",
    "usr_emb = u12\n",
    "usr_emb = usr_emb.merge(u12x1,     how = 'inner', on = ['user_id'], suffixes=('_x1','_x1x1'))\n",
    "usr_emb = usr_emb.merge(u12x2,     how = 'inner', on = ['user_id'], suffixes=('_x1','_x1x2'))\n",
    "usr_emb = usr_emb.merge(data_aggC, how = 'inner', on = ['user_id'], suffixes=('_u12','_aggC'))\n",
    "\n",
    "cat_features  = ['cpe_model_os_type_max', 'cpe_manufacturer_name_max', \\\n",
    "                 'cpe_model_name_max', 'cpe_type_cd_max', \\\n",
    "                 'region_name_max','city_name_max',]\n",
    "\n",
    "#usr_emb[cat_features] = usr_emb[cat_features].fillna(' ')\n",
    "#usr_emb = usr_emb.fillna(-1)\n",
    "\n",
    "usr_targets = targets.to_pandas()\n",
    "df = usr_targets.merge(usr_emb,   how = 'inner', on = ['user_id'])\n",
    "df = df[df['is_male'] != 'NA']\n",
    "df = df.dropna()\n",
    "df['is_male'] = df['is_male'].map(int)\n",
    "df['is_male'].value_counts()"
   ]
  },
  {
   "cell_type": "code",
   "execution_count": 47,
   "id": "b657a390",
   "metadata": {},
   "outputs": [
    {
     "data": {
      "text/plain": [
       "((264325, 723),\n",
       " ['cpe_model_os_type_max',\n",
       "  'cpe_manufacturer_name_max',\n",
       "  'cpe_model_name_max',\n",
       "  'cpe_type_cd_max',\n",
       "  'region_name_max',\n",
       "  'city_name_max'])"
      ]
     },
     "execution_count": 47,
     "metadata": {},
     "output_type": "execute_result"
    }
   ],
   "source": [
    "#df1 = df\n",
    "#df = df.drop('price_max',axis=1)\n",
    "df.shape, cat_features #,cat_feature_"
   ]
  },
  {
   "cell_type": "code",
   "execution_count": 48,
   "id": "1419fb8a",
   "metadata": {},
   "outputs": [
    {
     "name": "stdout",
     "output_type": "stream",
     "text": [
      "2023-03-05 14:52:46.494114\n"
     ]
    },
    {
     "data": {
      "application/vnd.jupyter.widget-view+json": {
       "model_id": "71f254eceb4a4ce0b8c17d7d68be95fe",
       "version_major": 2,
       "version_minor": 0
      },
      "text/plain": [
       "MetricVisualizer(layout=Layout(align_self='stretch', height='500px'))"
      ]
     },
     "metadata": {},
     "output_type": "display_data"
    },
    {
     "name": "stdout",
     "output_type": "stream",
     "text": [
      "GINI по полу 0.735\n",
      "CPU times: user 1h 18min 21s, sys: 1min 3s, total: 1h 19min 25s\n",
      "Wall time: 10min 32s\n"
     ]
    }
   ],
   "source": [
    "%%time\n",
    "print(datetime.datetime.now())\n",
    "x_train, x_test, y_train, y_test = train_test_split(\\\n",
    "    df.drop(['user_id', 'age', 'is_male'], axis = 1), df['is_male'], test_size = 0.15, random_state = SPLIT_SEED)\n",
    "\n",
    "clf1 = CatBoostClassifier(iterations=3500, early_stopping_rounds=25, cat_features=cat_features, \n",
    "                          one_hot_max_size=10)\n",
    "\n",
    "clf1.fit(x_train, y_train, verbose = False, eval_set=(x_test,y_test), use_best_model=True, plot=True)\n",
    "print(f'GINI по полу {2 * m.roc_auc_score(y_test, clf1.predict_proba(x_test)[:,1]) - 1:2.3f}')"
   ]
  },
  {
   "cell_type": "code",
   "execution_count": 49,
   "id": "273f12f0",
   "metadata": {},
   "outputs": [],
   "source": [
    "#clf1.get_all_params()"
   ]
  },
  {
   "cell_type": "code",
   "execution_count": null,
   "id": "0159b014",
   "metadata": {},
   "outputs": [],
   "source": []
  },
  {
   "cell_type": "code",
   "execution_count": 50,
   "id": "cdc292de",
   "metadata": {},
   "outputs": [
    {
     "name": "stdout",
     "output_type": "stream",
     "text": [
      "2023-03-05 15:04:20.281588\n",
      "CPU times: user 2.95 s, sys: 643 ms, total: 3.59 s\n",
      "Wall time: 1.97 s\n"
     ]
    }
   ],
   "source": [
    "%%time\n",
    "print(datetime.datetime.now())\n",
    "#clf.fit(df.drop(['user_id', 'age', 'is_male'], axis = 1), df['is_male'], verbose = False)\n",
    "id_to_submit['is_male'] = clf1.predict_proba(id_to_submit[['user_id']].merge(usr_emb, how = 'inner', on = ['user_id']).\n",
    "                                            drop(['user_id'], axis=1))[:,1]"
   ]
  },
  {
   "cell_type": "markdown",
   "id": "a3980236",
   "metadata": {},
   "source": [
    "## Получим оценку по возрасту"
   ]
  },
  {
   "cell_type": "code",
   "execution_count": null,
   "id": "538812ec",
   "metadata": {},
   "outputs": [
    {
     "data": {
      "application/vnd.jupyter.widget-view+json": {
       "model_id": "e04b7b367dbb4850990f6049db6b35a2",
       "version_major": 2,
       "version_minor": 0
      },
      "text/plain": [
       "  0%|          | 0/50 [00:00<?, ?it/s]"
      ]
     },
     "metadata": {},
     "output_type": "display_data"
    }
   ],
   "source": [
    "%%time\n",
    "\n",
    "u20 = doMatrix(pd.concat([data_aggY.user_id, \\\n",
    "                         data_aggY.user_id, \\\n",
    "                         data_tf_idf.user_id, \\\n",
    "                         data_tf_idf.user_id, \\\n",
    "                        ], ignore_index=True),\n",
    "              pd.concat([data_aggY.url_host,\\\n",
    "                         data_aggY.url_host,\\\n",
    "                         data_tf_idf.url_host,\\\n",
    "                         data_tf_idf.url_host,\\\n",
    "                        ], ignore_index=True),\\\n",
    "              pd.concat([data_aggY.request_cnt_sum,\\\n",
    "                         data_aggY.request_cnt_mean/np.mean(data_aggY.request_cnt_mean)* \\\n",
    "                                  np.mean(data_aggY.request_cnt_sum), \\\n",
    "                         data_tf_idf.tf_idf/np.mean(data_tf_idf.tf_idf)*np.mean(data_aggY.request_cnt_sum), \\\n",
    "                         data_tf_idf.tf/np.mean(data_tf_idf.tf)*np.mean(data_aggY.request_cnt_sum), \\\n",
    "                        ], ignore_index=True),\n",
    "              clusters=400, factors=350, iterations=50)"
   ]
  },
  {
   "cell_type": "code",
   "execution_count": null,
   "id": "6f30563d",
   "metadata": {},
   "outputs": [],
   "source": [
    "u20.shape"
   ]
  },
  {
   "cell_type": "code",
   "execution_count": null,
   "id": "4a4f4726",
   "metadata": {},
   "outputs": [],
   "source": [
    "import seaborn as sns\n",
    "import matplotlib.pyplot as plt\n",
    "import plotly.express as px\n",
    "\n",
    "%matplotlib inline\n",
    "sns.set_style('darkgrid')"
   ]
  },
  {
   "cell_type": "code",
   "execution_count": null,
   "id": "0f97ec5d",
   "metadata": {},
   "outputs": [],
   "source": [
    "def age_bucket(x):\n",
    "    return bisect.bisect_left([18,25,35,45,55,65], x)"
   ]
  },
  {
   "cell_type": "code",
   "execution_count": null,
   "id": "5d38c185",
   "metadata": {},
   "outputs": [],
   "source": [
    "usr_embx2 = u20\n",
    "usr_embx2 = usr_embx2.merge(data_aggC, how = 'inner', on = ['user_id'], suffixes=('_u12','_aggC'))\n",
    "\n",
    "df = usr_targets.merge(usr_embx2, how = 'inner', on = ['user_id'])\n",
    "df = df[df['age'] != 'NA']\n",
    "df = df.dropna()\n",
    "df['age'] = df['age'].map(age_bucket)\n",
    "sns.histplot(df['age'], bins = 7)\n",
    "print(usr_embx2.shape,df.shape)"
   ]
  },
  {
   "cell_type": "code",
   "execution_count": null,
   "id": "33ae9aaf",
   "metadata": {
    "scrolled": false
   },
   "outputs": [],
   "source": [
    "%%time\n",
    "print(datetime.datetime.now())\n",
    "x_train, x_test, y_train, y_test = train_test_split(\\\n",
    "    #df.drop(['user_id', 'age', 'is_male'], axis = 1), df['age'], test_size = 0.33, random_state = SPLIT_SEED)\n",
    "    df.drop(['user_id', 'age', 'is_male'], axis = 1), df['age'], test_size = 0.15, random_state = SPLIT_SEED)\n",
    "\n",
    "clf = CatBoostClassifier(iterations=3500, early_stopping_rounds=25, one_hot_max_size=10, cat_features=cat_features)\n",
    "#clf.fit(x_train, y_train, verbose = False)\n",
    "clf.fit(x_train, y_train, verbose = False, eval_set=(x_test,y_test), use_best_model=True,plot=True)\n",
    "print(m.classification_report(y_test, clf.predict(x_test), \\\n",
    "                            target_names = ['<18', '18-25','25-34', '35-44', '45-54', '55-65', '65+']))"
   ]
  },
  {
   "cell_type": "markdown",
   "id": "f72b0987",
   "metadata": {},
   "source": [
    "f1 0.01 0.38 0.55 0.44 0.27 0.27 0.03 - 0.44 0.28 0.41 (1.3164)\n",
    "f1 0.00 0.39 0.55 0.44 0.27 0.27 0.04 - 0.44 0.28 0.42 (1.3110) (2*aggY    + tf)\n",
    "f1 0.00 0.35 0.53 0.43 0.25 0.26 0.02 - 0.42 0.26 0.40 (1.3396) (aggY+agg  + tf + idf)\n",
    "f1 0.00 0.38 0.54 0.44 0.27 0.27 0.03 - 0.44 0.28 0.41 (1.3145) (aggY+aggY + tf + idf) -400urls\n",
    "f1 0.01 0.39 0.55 0.45 0.27 0.27 0.03 - 0.44 0.28 0.42 (1.3078) (aggY+aggY + tf + idf) -600urls\n",
    "f1 0.00 0.40 0.55 0.45 0.27 0.28 0.04 - 0.44 0.28 0.42 (1.3073) (aggY+aggY + tf + idf) -500urls\n",
    "f1 0.01 0.40 0.55 0.45 0.27 0.28 0.02 - 0.44 0.28 0.42 (1.3068) (aggY+aggY + tf + idf) -450urls\n",
    "\n",
    "f1 0.01 0.41 0.56 0.46 0.28 0.30 0.04 - 0.45 0.29 0.43 (1.2834(1901)) (aggY+aggY + tf + idf) -450urls + aggC\n",
    "f1 0.02 0.42 0.56 0.47 0.30 0.30 0.03 - 0.46 0.30 0.44 (1.2750(2072)) (aggY+aggY+tf+idf) -450urls +aggC (250.30)\n",
    "\n",
    "\n",
    "f1 0.01 0.42 0.56 0.47 0.30 0.30 0.04 - 0.46 0.30 0.44 (als = 250.30 without)\n",
    "pr 0.25 0.53 0.50 0.42 0.39 0.41 0.41 - -    0.42 0.45\n",
    "re 0.01 0.34 0.64 0.52 0.24 0.24 0.02 - -    0.29 0.46"
   ]
  },
  {
   "cell_type": "code",
   "execution_count": null,
   "id": "9a4a4dd0",
   "metadata": {},
   "outputs": [],
   "source": [
    "#clf.get_all_params()\n",
    "df.shape"
   ]
  },
  {
   "cell_type": "code",
   "execution_count": null,
   "id": "7016f879",
   "metadata": {},
   "outputs": [],
   "source": []
  },
  {
   "cell_type": "code",
   "execution_count": null,
   "id": "2c73661d",
   "metadata": {},
   "outputs": [],
   "source": [
    "%%time\n",
    "print(datetime.datetime.now())\n",
    "#clf.fit(df.drop(['user_id', 'age', 'is_male'], axis = 1), df['age'], verbose = False)\n",
    "id_to_submit['age'] = clf.predict(id_to_submit[['user_id']].merge(usr_embx2, how = 'inner', on = ['user_id']).\n",
    "                                                            drop(['user_id'], axis=1))"
   ]
  },
  {
   "cell_type": "code",
   "execution_count": null,
   "id": "446f4213",
   "metadata": {},
   "outputs": [],
   "source": [
    "df.shape"
   ]
  },
  {
   "cell_type": "markdown",
   "id": "f55aa8ec",
   "metadata": {},
   "source": [
    "## Сабмит"
   ]
  },
  {
   "cell_type": "code",
   "execution_count": 383,
   "id": "af2b6647",
   "metadata": {
    "scrolled": true
   },
   "outputs": [
    {
     "data": {
      "text/html": [
       "<div>\n",
       "<style scoped>\n",
       "    .dataframe tbody tr th:only-of-type {\n",
       "        vertical-align: middle;\n",
       "    }\n",
       "\n",
       "    .dataframe tbody tr th {\n",
       "        vertical-align: top;\n",
       "    }\n",
       "\n",
       "    .dataframe thead th {\n",
       "        text-align: right;\n",
       "    }\n",
       "</style>\n",
       "<table border=\"1\" class=\"dataframe\">\n",
       "  <thead>\n",
       "    <tr style=\"text-align: right;\">\n",
       "      <th></th>\n",
       "      <th>user_id</th>\n",
       "      <th>is_male</th>\n",
       "      <th>age</th>\n",
       "    </tr>\n",
       "  </thead>\n",
       "  <tbody>\n",
       "    <tr>\n",
       "      <th>221301</th>\n",
       "      <td>221301</td>\n",
       "      <td>0.976589</td>\n",
       "      <td>2</td>\n",
       "    </tr>\n",
       "    <tr>\n",
       "      <th>31271</th>\n",
       "      <td>31271</td>\n",
       "      <td>0.526905</td>\n",
       "      <td>3</td>\n",
       "    </tr>\n",
       "    <tr>\n",
       "      <th>211594</th>\n",
       "      <td>211594</td>\n",
       "      <td>0.670681</td>\n",
       "      <td>2</td>\n",
       "    </tr>\n",
       "    <tr>\n",
       "      <th>253119</th>\n",
       "      <td>253119</td>\n",
       "      <td>0.464538</td>\n",
       "      <td>3</td>\n",
       "    </tr>\n",
       "    <tr>\n",
       "      <th>192578</th>\n",
       "      <td>192578</td>\n",
       "      <td>0.838670</td>\n",
       "      <td>3</td>\n",
       "    </tr>\n",
       "  </tbody>\n",
       "</table>\n",
       "</div>"
      ],
      "text/plain": [
       "        user_id   is_male  age\n",
       "221301   221301  0.976589    2\n",
       "31271     31271  0.526905    3\n",
       "211594   211594  0.670681    2\n",
       "253119   253119  0.464538    3\n",
       "192578   192578  0.838670    3"
      ]
     },
     "execution_count": 383,
     "metadata": {},
     "output_type": "execute_result"
    }
   ],
   "source": [
    "id_to_submit.head()"
   ]
  },
  {
   "cell_type": "code",
   "execution_count": 384,
   "id": "60024ea9",
   "metadata": {},
   "outputs": [],
   "source": [
    "id_to_submit.to_csv(f'{LOCAL_DATA_PATH}/submission32.csv', index = False)"
   ]
  },
  {
   "cell_type": "code",
   "execution_count": 385,
   "id": "a7298b7b",
   "metadata": {},
   "outputs": [
    {
     "name": "stdout",
     "output_type": "stream",
     "text": [
      "user_id,is_male,age\r\n",
      "221301,0.9765885856661181,2\r\n",
      "31271,0.5269049944238794,3\r\n",
      "211594,0.6706807535502721,2\r\n",
      "253119,0.46453768313247373,3\r\n",
      "192578,0.8386696180028068,3\r\n",
      "268458,0.17333877931700292,2\r\n",
      "205507,0.5256870338017409,2\r\n",
      "341343,0.35522474640614765,3\r\n",
      "282144,0.0801721641754244,2\r\n"
     ]
    }
   ],
   "source": [
    "! head $LOCAL_DATA_PATH/submission32.csv"
   ]
  },
  {
   "cell_type": "markdown",
   "id": "4d6a7a85",
   "metadata": {},
   "source": [
    "# Скор на лидерборде"
   ]
  },
  {
   "cell_type": "code",
   "execution_count": 187,
   "id": "7164aa61",
   "metadata": {},
   "outputs": [],
   "source": [
    "#context_scorer(submission, answers)"
   ]
  },
  {
   "cell_type": "code",
   "execution_count": null,
   "id": "edc791ca",
   "metadata": {},
   "outputs": [],
   "source": []
  },
  {
   "cell_type": "code",
   "execution_count": 277,
   "id": "c37f704e",
   "metadata": {},
   "outputs": [
    {
     "data": {
      "text/html": [
       "<div>\n",
       "<style scoped>\n",
       "    .dataframe tbody tr th:only-of-type {\n",
       "        vertical-align: middle;\n",
       "    }\n",
       "\n",
       "    .dataframe tbody tr th {\n",
       "        vertical-align: top;\n",
       "    }\n",
       "\n",
       "    .dataframe thead th {\n",
       "        text-align: right;\n",
       "    }\n",
       "</style>\n",
       "<table border=\"1\" class=\"dataframe\">\n",
       "  <thead>\n",
       "    <tr style=\"text-align: right;\">\n",
       "      <th></th>\n",
       "      <th>Feature Id</th>\n",
       "      <th>Importances</th>\n",
       "    </tr>\n",
       "  </thead>\n",
       "  <tbody>\n",
       "    <tr>\n",
       "      <th>0</th>\n",
       "      <td>55</td>\n",
       "      <td>2.201168</td>\n",
       "    </tr>\n",
       "    <tr>\n",
       "      <th>1</th>\n",
       "      <td>134</td>\n",
       "      <td>2.002252</td>\n",
       "    </tr>\n",
       "    <tr>\n",
       "      <th>2</th>\n",
       "      <td>145</td>\n",
       "      <td>1.777475</td>\n",
       "    </tr>\n",
       "    <tr>\n",
       "      <th>3</th>\n",
       "      <td>244</td>\n",
       "      <td>1.667876</td>\n",
       "    </tr>\n",
       "    <tr>\n",
       "      <th>4</th>\n",
       "      <td>147</td>\n",
       "      <td>1.592607</td>\n",
       "    </tr>\n",
       "    <tr>\n",
       "      <th>5</th>\n",
       "      <td>18</td>\n",
       "      <td>1.487434</td>\n",
       "    </tr>\n",
       "    <tr>\n",
       "      <th>6</th>\n",
       "      <td>102</td>\n",
       "      <td>1.462556</td>\n",
       "    </tr>\n",
       "    <tr>\n",
       "      <th>7</th>\n",
       "      <td>231</td>\n",
       "      <td>1.414512</td>\n",
       "    </tr>\n",
       "    <tr>\n",
       "      <th>8</th>\n",
       "      <td>112</td>\n",
       "      <td>1.272820</td>\n",
       "    </tr>\n",
       "    <tr>\n",
       "      <th>9</th>\n",
       "      <td>138</td>\n",
       "      <td>1.222269</td>\n",
       "    </tr>\n",
       "    <tr>\n",
       "      <th>10</th>\n",
       "      <td>5</td>\n",
       "      <td>1.191396</td>\n",
       "    </tr>\n",
       "    <tr>\n",
       "      <th>11</th>\n",
       "      <td>62</td>\n",
       "      <td>1.045404</td>\n",
       "    </tr>\n",
       "    <tr>\n",
       "      <th>12</th>\n",
       "      <td>241</td>\n",
       "      <td>1.024229</td>\n",
       "    </tr>\n",
       "    <tr>\n",
       "      <th>13</th>\n",
       "      <td>35</td>\n",
       "      <td>1.021752</td>\n",
       "    </tr>\n",
       "    <tr>\n",
       "      <th>14</th>\n",
       "      <td>146</td>\n",
       "      <td>0.994248</td>\n",
       "    </tr>\n",
       "    <tr>\n",
       "      <th>15</th>\n",
       "      <td>233</td>\n",
       "      <td>0.935806</td>\n",
       "    </tr>\n",
       "    <tr>\n",
       "      <th>16</th>\n",
       "      <td>198</td>\n",
       "      <td>0.932638</td>\n",
       "    </tr>\n",
       "    <tr>\n",
       "      <th>17</th>\n",
       "      <td>148</td>\n",
       "      <td>0.914388</td>\n",
       "    </tr>\n",
       "    <tr>\n",
       "      <th>18</th>\n",
       "      <td>45</td>\n",
       "      <td>0.909021</td>\n",
       "    </tr>\n",
       "    <tr>\n",
       "      <th>19</th>\n",
       "      <td>149</td>\n",
       "      <td>0.900565</td>\n",
       "    </tr>\n",
       "    <tr>\n",
       "      <th>20</th>\n",
       "      <td>6</td>\n",
       "      <td>0.862832</td>\n",
       "    </tr>\n",
       "    <tr>\n",
       "      <th>21</th>\n",
       "      <td>163</td>\n",
       "      <td>0.845352</td>\n",
       "    </tr>\n",
       "    <tr>\n",
       "      <th>22</th>\n",
       "      <td>107</td>\n",
       "      <td>0.839099</td>\n",
       "    </tr>\n",
       "    <tr>\n",
       "      <th>23</th>\n",
       "      <td>40</td>\n",
       "      <td>0.804838</td>\n",
       "    </tr>\n",
       "    <tr>\n",
       "      <th>24</th>\n",
       "      <td>74</td>\n",
       "      <td>0.781677</td>\n",
       "    </tr>\n",
       "    <tr>\n",
       "      <th>25</th>\n",
       "      <td>32</td>\n",
       "      <td>0.753290</td>\n",
       "    </tr>\n",
       "    <tr>\n",
       "      <th>26</th>\n",
       "      <td>182</td>\n",
       "      <td>0.751879</td>\n",
       "    </tr>\n",
       "    <tr>\n",
       "      <th>27</th>\n",
       "      <td>118</td>\n",
       "      <td>0.751165</td>\n",
       "    </tr>\n",
       "    <tr>\n",
       "      <th>28</th>\n",
       "      <td>249</td>\n",
       "      <td>0.734528</td>\n",
       "    </tr>\n",
       "    <tr>\n",
       "      <th>29</th>\n",
       "      <td>225</td>\n",
       "      <td>0.720596</td>\n",
       "    </tr>\n",
       "    <tr>\n",
       "      <th>30</th>\n",
       "      <td>73</td>\n",
       "      <td>0.716343</td>\n",
       "    </tr>\n",
       "    <tr>\n",
       "      <th>31</th>\n",
       "      <td>165</td>\n",
       "      <td>0.716024</td>\n",
       "    </tr>\n",
       "    <tr>\n",
       "      <th>32</th>\n",
       "      <td>15</td>\n",
       "      <td>0.711810</td>\n",
       "    </tr>\n",
       "    <tr>\n",
       "      <th>33</th>\n",
       "      <td>80</td>\n",
       "      <td>0.704958</td>\n",
       "    </tr>\n",
       "    <tr>\n",
       "      <th>34</th>\n",
       "      <td>116</td>\n",
       "      <td>0.685915</td>\n",
       "    </tr>\n",
       "    <tr>\n",
       "      <th>35</th>\n",
       "      <td>220</td>\n",
       "      <td>0.681429</td>\n",
       "    </tr>\n",
       "    <tr>\n",
       "      <th>36</th>\n",
       "      <td>cpe_model_name_max</td>\n",
       "      <td>0.668883</td>\n",
       "    </tr>\n",
       "    <tr>\n",
       "      <th>37</th>\n",
       "      <td>215</td>\n",
       "      <td>0.658944</td>\n",
       "    </tr>\n",
       "    <tr>\n",
       "      <th>38</th>\n",
       "      <td>201</td>\n",
       "      <td>0.655135</td>\n",
       "    </tr>\n",
       "    <tr>\n",
       "      <th>39</th>\n",
       "      <td>44</td>\n",
       "      <td>0.654061</td>\n",
       "    </tr>\n",
       "    <tr>\n",
       "      <th>40</th>\n",
       "      <td>67</td>\n",
       "      <td>0.642916</td>\n",
       "    </tr>\n",
       "    <tr>\n",
       "      <th>41</th>\n",
       "      <td>31</td>\n",
       "      <td>0.639408</td>\n",
       "    </tr>\n",
       "    <tr>\n",
       "      <th>42</th>\n",
       "      <td>189</td>\n",
       "      <td>0.638513</td>\n",
       "    </tr>\n",
       "    <tr>\n",
       "      <th>43</th>\n",
       "      <td>205</td>\n",
       "      <td>0.624113</td>\n",
       "    </tr>\n",
       "    <tr>\n",
       "      <th>44</th>\n",
       "      <td>10</td>\n",
       "      <td>0.612981</td>\n",
       "    </tr>\n",
       "    <tr>\n",
       "      <th>45</th>\n",
       "      <td>133</td>\n",
       "      <td>0.596962</td>\n",
       "    </tr>\n",
       "    <tr>\n",
       "      <th>46</th>\n",
       "      <td>1</td>\n",
       "      <td>0.594987</td>\n",
       "    </tr>\n",
       "    <tr>\n",
       "      <th>47</th>\n",
       "      <td>84</td>\n",
       "      <td>0.581259</td>\n",
       "    </tr>\n",
       "    <tr>\n",
       "      <th>48</th>\n",
       "      <td>121</td>\n",
       "      <td>0.581115</td>\n",
       "    </tr>\n",
       "    <tr>\n",
       "      <th>49</th>\n",
       "      <td>120</td>\n",
       "      <td>0.564158</td>\n",
       "    </tr>\n",
       "  </tbody>\n",
       "</table>\n",
       "</div>"
      ],
      "text/plain": [
       "            Feature Id  Importances\n",
       "0                   55     2.201168\n",
       "1                  134     2.002252\n",
       "2                  145     1.777475\n",
       "3                  244     1.667876\n",
       "4                  147     1.592607\n",
       "5                   18     1.487434\n",
       "6                  102     1.462556\n",
       "7                  231     1.414512\n",
       "8                  112     1.272820\n",
       "9                  138     1.222269\n",
       "10                   5     1.191396\n",
       "11                  62     1.045404\n",
       "12                 241     1.024229\n",
       "13                  35     1.021752\n",
       "14                 146     0.994248\n",
       "15                 233     0.935806\n",
       "16                 198     0.932638\n",
       "17                 148     0.914388\n",
       "18                  45     0.909021\n",
       "19                 149     0.900565\n",
       "20                   6     0.862832\n",
       "21                 163     0.845352\n",
       "22                 107     0.839099\n",
       "23                  40     0.804838\n",
       "24                  74     0.781677\n",
       "25                  32     0.753290\n",
       "26                 182     0.751879\n",
       "27                 118     0.751165\n",
       "28                 249     0.734528\n",
       "29                 225     0.720596\n",
       "30                  73     0.716343\n",
       "31                 165     0.716024\n",
       "32                  15     0.711810\n",
       "33                  80     0.704958\n",
       "34                 116     0.685915\n",
       "35                 220     0.681429\n",
       "36  cpe_model_name_max     0.668883\n",
       "37                 215     0.658944\n",
       "38                 201     0.655135\n",
       "39                  44     0.654061\n",
       "40                  67     0.642916\n",
       "41                  31     0.639408\n",
       "42                 189     0.638513\n",
       "43                 205     0.624113\n",
       "44                  10     0.612981\n",
       "45                 133     0.596962\n",
       "46                   1     0.594987\n",
       "47                  84     0.581259\n",
       "48                 121     0.581115\n",
       "49                 120     0.564158"
      ]
     },
     "execution_count": 277,
     "metadata": {},
     "output_type": "execute_result"
    }
   ],
   "source": [
    "xx=clf1.get_feature_importance(prettified=True)\n",
    "xx.head(50)"
   ]
  },
  {
   "cell_type": "code",
   "execution_count": 278,
   "id": "47561cef",
   "metadata": {},
   "outputs": [
    {
     "data": {
      "text/html": [
       "<div>\n",
       "<style scoped>\n",
       "    .dataframe tbody tr th:only-of-type {\n",
       "        vertical-align: middle;\n",
       "    }\n",
       "\n",
       "    .dataframe tbody tr th {\n",
       "        vertical-align: top;\n",
       "    }\n",
       "\n",
       "    .dataframe thead th {\n",
       "        text-align: right;\n",
       "    }\n",
       "</style>\n",
       "<table border=\"1\" class=\"dataframe\">\n",
       "  <thead>\n",
       "    <tr style=\"text-align: right;\">\n",
       "      <th></th>\n",
       "      <th>Feature Id</th>\n",
       "      <th>Importances</th>\n",
       "    </tr>\n",
       "  </thead>\n",
       "  <tbody>\n",
       "    <tr>\n",
       "      <th>0</th>\n",
       "      <td>cpe_model_name_max</td>\n",
       "      <td>1.734384</td>\n",
       "    </tr>\n",
       "    <tr>\n",
       "      <th>1</th>\n",
       "      <td>198</td>\n",
       "      <td>1.217700</td>\n",
       "    </tr>\n",
       "    <tr>\n",
       "      <th>2</th>\n",
       "      <td>37</td>\n",
       "      <td>1.031140</td>\n",
       "    </tr>\n",
       "    <tr>\n",
       "      <th>3</th>\n",
       "      <td>56</td>\n",
       "      <td>0.980427</td>\n",
       "    </tr>\n",
       "    <tr>\n",
       "      <th>4</th>\n",
       "      <td>cpe_manufacturer_name_max</td>\n",
       "      <td>0.914864</td>\n",
       "    </tr>\n",
       "    <tr>\n",
       "      <th>5</th>\n",
       "      <td>134</td>\n",
       "      <td>0.910991</td>\n",
       "    </tr>\n",
       "    <tr>\n",
       "      <th>6</th>\n",
       "      <td>7</td>\n",
       "      <td>0.763424</td>\n",
       "    </tr>\n",
       "    <tr>\n",
       "      <th>7</th>\n",
       "      <td>50</td>\n",
       "      <td>0.748658</td>\n",
       "    </tr>\n",
       "    <tr>\n",
       "      <th>8</th>\n",
       "      <td>190</td>\n",
       "      <td>0.718061</td>\n",
       "    </tr>\n",
       "    <tr>\n",
       "      <th>9</th>\n",
       "      <td>248</td>\n",
       "      <td>0.708576</td>\n",
       "    </tr>\n",
       "    <tr>\n",
       "      <th>10</th>\n",
       "      <td>city_name_max</td>\n",
       "      <td>0.701191</td>\n",
       "    </tr>\n",
       "    <tr>\n",
       "      <th>11</th>\n",
       "      <td>region_name_max</td>\n",
       "      <td>0.700371</td>\n",
       "    </tr>\n",
       "    <tr>\n",
       "      <th>12</th>\n",
       "      <td>price_max</td>\n",
       "      <td>0.691247</td>\n",
       "    </tr>\n",
       "    <tr>\n",
       "      <th>13</th>\n",
       "      <td>125</td>\n",
       "      <td>0.665883</td>\n",
       "    </tr>\n",
       "    <tr>\n",
       "      <th>14</th>\n",
       "      <td>186</td>\n",
       "      <td>0.663282</td>\n",
       "    </tr>\n",
       "    <tr>\n",
       "      <th>15</th>\n",
       "      <td>76</td>\n",
       "      <td>0.657321</td>\n",
       "    </tr>\n",
       "    <tr>\n",
       "      <th>16</th>\n",
       "      <td>13</td>\n",
       "      <td>0.618793</td>\n",
       "    </tr>\n",
       "    <tr>\n",
       "      <th>17</th>\n",
       "      <td>A002</td>\n",
       "      <td>0.613533</td>\n",
       "    </tr>\n",
       "    <tr>\n",
       "      <th>18</th>\n",
       "      <td>175</td>\n",
       "      <td>0.611479</td>\n",
       "    </tr>\n",
       "    <tr>\n",
       "      <th>19</th>\n",
       "      <td>74</td>\n",
       "      <td>0.610999</td>\n",
       "    </tr>\n",
       "    <tr>\n",
       "      <th>20</th>\n",
       "      <td>177</td>\n",
       "      <td>0.610566</td>\n",
       "    </tr>\n",
       "    <tr>\n",
       "      <th>21</th>\n",
       "      <td>167</td>\n",
       "      <td>0.603079</td>\n",
       "    </tr>\n",
       "    <tr>\n",
       "      <th>22</th>\n",
       "      <td>107</td>\n",
       "      <td>0.598719</td>\n",
       "    </tr>\n",
       "    <tr>\n",
       "      <th>23</th>\n",
       "      <td>18</td>\n",
       "      <td>0.589740</td>\n",
       "    </tr>\n",
       "    <tr>\n",
       "      <th>24</th>\n",
       "      <td>69</td>\n",
       "      <td>0.588028</td>\n",
       "    </tr>\n",
       "    <tr>\n",
       "      <th>25</th>\n",
       "      <td>136</td>\n",
       "      <td>0.574143</td>\n",
       "    </tr>\n",
       "    <tr>\n",
       "      <th>26</th>\n",
       "      <td>43</td>\n",
       "      <td>0.573956</td>\n",
       "    </tr>\n",
       "    <tr>\n",
       "      <th>27</th>\n",
       "      <td>131</td>\n",
       "      <td>0.569793</td>\n",
       "    </tr>\n",
       "    <tr>\n",
       "      <th>28</th>\n",
       "      <td>8</td>\n",
       "      <td>0.568063</td>\n",
       "    </tr>\n",
       "    <tr>\n",
       "      <th>29</th>\n",
       "      <td>157</td>\n",
       "      <td>0.562840</td>\n",
       "    </tr>\n",
       "    <tr>\n",
       "      <th>30</th>\n",
       "      <td>147</td>\n",
       "      <td>0.560865</td>\n",
       "    </tr>\n",
       "    <tr>\n",
       "      <th>31</th>\n",
       "      <td>52</td>\n",
       "      <td>0.559890</td>\n",
       "    </tr>\n",
       "    <tr>\n",
       "      <th>32</th>\n",
       "      <td>143</td>\n",
       "      <td>0.559455</td>\n",
       "    </tr>\n",
       "    <tr>\n",
       "      <th>33</th>\n",
       "      <td>22</td>\n",
       "      <td>0.555635</td>\n",
       "    </tr>\n",
       "    <tr>\n",
       "      <th>34</th>\n",
       "      <td>66</td>\n",
       "      <td>0.552422</td>\n",
       "    </tr>\n",
       "    <tr>\n",
       "      <th>35</th>\n",
       "      <td>169</td>\n",
       "      <td>0.549594</td>\n",
       "    </tr>\n",
       "    <tr>\n",
       "      <th>36</th>\n",
       "      <td>115</td>\n",
       "      <td>0.548470</td>\n",
       "    </tr>\n",
       "    <tr>\n",
       "      <th>37</th>\n",
       "      <td>222</td>\n",
       "      <td>0.547620</td>\n",
       "    </tr>\n",
       "    <tr>\n",
       "      <th>38</th>\n",
       "      <td>67</td>\n",
       "      <td>0.543101</td>\n",
       "    </tr>\n",
       "    <tr>\n",
       "      <th>39</th>\n",
       "      <td>27</td>\n",
       "      <td>0.529874</td>\n",
       "    </tr>\n",
       "    <tr>\n",
       "      <th>40</th>\n",
       "      <td>141</td>\n",
       "      <td>0.529262</td>\n",
       "    </tr>\n",
       "    <tr>\n",
       "      <th>41</th>\n",
       "      <td>119</td>\n",
       "      <td>0.529151</td>\n",
       "    </tr>\n",
       "    <tr>\n",
       "      <th>42</th>\n",
       "      <td>60</td>\n",
       "      <td>0.528602</td>\n",
       "    </tr>\n",
       "    <tr>\n",
       "      <th>43</th>\n",
       "      <td>80</td>\n",
       "      <td>0.521734</td>\n",
       "    </tr>\n",
       "    <tr>\n",
       "      <th>44</th>\n",
       "      <td>19</td>\n",
       "      <td>0.519595</td>\n",
       "    </tr>\n",
       "    <tr>\n",
       "      <th>45</th>\n",
       "      <td>79</td>\n",
       "      <td>0.518543</td>\n",
       "    </tr>\n",
       "    <tr>\n",
       "      <th>46</th>\n",
       "      <td>212</td>\n",
       "      <td>0.516340</td>\n",
       "    </tr>\n",
       "    <tr>\n",
       "      <th>47</th>\n",
       "      <td>142</td>\n",
       "      <td>0.515847</td>\n",
       "    </tr>\n",
       "    <tr>\n",
       "      <th>48</th>\n",
       "      <td>41</td>\n",
       "      <td>0.514182</td>\n",
       "    </tr>\n",
       "    <tr>\n",
       "      <th>49</th>\n",
       "      <td>68</td>\n",
       "      <td>0.513791</td>\n",
       "    </tr>\n",
       "  </tbody>\n",
       "</table>\n",
       "</div>"
      ],
      "text/plain": [
       "                   Feature Id  Importances\n",
       "0          cpe_model_name_max     1.734384\n",
       "1                         198     1.217700\n",
       "2                          37     1.031140\n",
       "3                          56     0.980427\n",
       "4   cpe_manufacturer_name_max     0.914864\n",
       "5                         134     0.910991\n",
       "6                           7     0.763424\n",
       "7                          50     0.748658\n",
       "8                         190     0.718061\n",
       "9                         248     0.708576\n",
       "10              city_name_max     0.701191\n",
       "11            region_name_max     0.700371\n",
       "12                  price_max     0.691247\n",
       "13                        125     0.665883\n",
       "14                        186     0.663282\n",
       "15                         76     0.657321\n",
       "16                         13     0.618793\n",
       "17                       A002     0.613533\n",
       "18                        175     0.611479\n",
       "19                         74     0.610999\n",
       "20                        177     0.610566\n",
       "21                        167     0.603079\n",
       "22                        107     0.598719\n",
       "23                         18     0.589740\n",
       "24                         69     0.588028\n",
       "25                        136     0.574143\n",
       "26                         43     0.573956\n",
       "27                        131     0.569793\n",
       "28                          8     0.568063\n",
       "29                        157     0.562840\n",
       "30                        147     0.560865\n",
       "31                         52     0.559890\n",
       "32                        143     0.559455\n",
       "33                         22     0.555635\n",
       "34                         66     0.552422\n",
       "35                        169     0.549594\n",
       "36                        115     0.548470\n",
       "37                        222     0.547620\n",
       "38                         67     0.543101\n",
       "39                         27     0.529874\n",
       "40                        141     0.529262\n",
       "41                        119     0.529151\n",
       "42                         60     0.528602\n",
       "43                         80     0.521734\n",
       "44                         19     0.519595\n",
       "45                         79     0.518543\n",
       "46                        212     0.516340\n",
       "47                        142     0.515847\n",
       "48                         41     0.514182\n",
       "49                         68     0.513791"
      ]
     },
     "execution_count": 278,
     "metadata": {},
     "output_type": "execute_result"
    }
   ],
   "source": [
    "xx=clf.get_feature_importance(prettified=True)\n",
    "xx.head(50)"
   ]
  },
  {
   "cell_type": "code",
   "execution_count": null,
   "id": "2aaa2213",
   "metadata": {},
   "outputs": [],
   "source": []
  },
  {
   "cell_type": "code",
   "execution_count": null,
   "id": "4457e336",
   "metadata": {},
   "outputs": [],
   "source": []
  },
  {
   "cell_type": "code",
   "execution_count": 279,
   "id": "57595055",
   "metadata": {},
   "outputs": [],
   "source": [
    "np.save('./u12-250.npy',u12)\n",
    "np.save('./u12x2-250.npy',u12x2)"
   ]
  },
  {
   "cell_type": "code",
   "execution_count": null,
   "id": "dcad93c9",
   "metadata": {},
   "outputs": [],
   "source": []
  },
  {
   "cell_type": "code",
   "execution_count": 62,
   "id": "5ea6a97d",
   "metadata": {},
   "outputs": [],
   "source": [
    "nnsubs = pd.read_csv(f'{LOCAL_DATA_PATH}/submission23.csv')"
   ]
  },
  {
   "cell_type": "code",
   "execution_count": 63,
   "id": "eb10d09d",
   "metadata": {},
   "outputs": [],
   "source": [
    "nnsubs.age = nnsubs.age+1\n",
    "nnsubs.age = nnsubs.age.clip(1,6)"
   ]
  },
  {
   "cell_type": "code",
   "execution_count": 59,
   "id": "a1e2918a",
   "metadata": {},
   "outputs": [
    {
     "data": {
      "text/plain": [
       "(array([0, 1, 2, 3, 4, 5, 6]),\n",
       " array([    1, 10141, 60888, 53972, 13155,  6435,   132]))"
      ]
     },
     "execution_count": 59,
     "metadata": {},
     "output_type": "execute_result"
    }
   ],
   "source": [
    "np.unique(nnsubs.age,return_counts=True)"
   ]
  },
  {
   "cell_type": "code",
   "execution_count": 64,
   "id": "86a6f3eb",
   "metadata": {},
   "outputs": [
    {
     "data": {
      "text/plain": [
       "(array([1, 2, 3, 4, 5, 6]), array([    1, 10141, 60888, 53972, 13155,  6567]))"
      ]
     },
     "execution_count": 64,
     "metadata": {},
     "output_type": "execute_result"
    }
   ],
   "source": [
    "np.unique(nnsubs.age,return_counts=True)"
   ]
  },
  {
   "cell_type": "code",
   "execution_count": 51,
   "id": "d1141be2",
   "metadata": {},
   "outputs": [],
   "source": [
    "nnsubs.to_csv(f'{LOCAL_DATA_PATH}/submission23b.csv', index = False)"
   ]
  },
  {
   "cell_type": "code",
   "execution_count": null,
   "id": "ed3d0537",
   "metadata": {},
   "outputs": [],
   "source": []
  },
  {
   "cell_type": "code",
   "execution_count": 69,
   "id": "1aa6eba6",
   "metadata": {},
   "outputs": [
    {
     "name": "stdout",
     "output_type": "stream",
     "text": [
      "              precision    recall  f1-score   support\n",
      "\n",
      "         <18       0.00      0.00      0.00       167\n",
      "       18-25       0.54      0.32      0.40      4804\n",
      "       25-34       0.49      0.64      0.56     13048\n",
      "       35-44       0.41      0.52      0.46     11746\n",
      "       45-54       0.38      0.21      0.27      6362\n",
      "       55-65       0.40      0.20      0.27      3523\n",
      "         65+       0.48      0.02      0.04       844\n",
      "\n",
      "    accuracy                           0.45     40494\n",
      "   macro avg       0.39      0.28      0.29     40494\n",
      "weighted avg       0.44      0.45      0.43     40494\n",
      "\n"
     ]
    }
   ],
   "source": [
    "print(m.classification_report(y_test, clf.predict(x_test), \\\n",
    "                            target_names = ['<18', '18-25','25-34', '35-44', '45-54', '55-65', '65+']))"
   ]
  },
  {
   "cell_type": "code",
   "execution_count": 85,
   "id": "4112ae06",
   "metadata": {},
   "outputs": [
    {
     "name": "stdout",
     "output_type": "stream",
     "text": [
      "              precision    recall  f1-score   support\n",
      "\n",
      "         <18       0.00      0.00      0.00       167\n",
      "       18-25       0.54      0.32      0.40      4804\n",
      "       25-34       0.49      0.64      0.56     13048\n",
      "       35-44       0.41      0.52      0.46     11746\n",
      "       45-54       0.38      0.21      0.27      6362\n",
      "       55-65       0.40      0.20      0.27      3523\n",
      "         65+       0.48      0.02      0.04       844\n",
      "\n",
      "    accuracy                           0.45     40494\n",
      "   macro avg       0.39      0.28      0.29     40494\n",
      "weighted avg       0.44      0.45      0.43     40494\n",
      "\n"
     ]
    }
   ],
   "source": [
    "print(m.classification_report(y_test, (clf.predict(x_test)).clip(1,6), \\\n",
    "                            target_names = ['<18', '18-25','25-34', '35-44', '45-54', '55-65', '65+']))"
   ]
  },
  {
   "cell_type": "code",
   "execution_count": null,
   "id": "d49c5fc5",
   "metadata": {},
   "outputs": [],
   "source": []
  },
  {
   "cell_type": "code",
   "execution_count": null,
   "id": "cb936d93",
   "metadata": {},
   "outputs": [],
   "source": []
  }
 ],
 "metadata": {
  "kernelspec": {
   "display_name": "Python 3 (ipykernel)",
   "language": "python",
   "name": "python3"
  },
  "language_info": {
   "codemirror_mode": {
    "name": "ipython",
    "version": 3
   },
   "file_extension": ".py",
   "mimetype": "text/x-python",
   "name": "python",
   "nbconvert_exporter": "python",
   "pygments_lexer": "ipython3",
   "version": "3.7.6"
  }
 },
 "nbformat": 4,
 "nbformat_minor": 5
}
