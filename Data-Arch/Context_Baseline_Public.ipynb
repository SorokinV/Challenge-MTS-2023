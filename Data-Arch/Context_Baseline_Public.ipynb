{
 "cells": [
  {
   "cell_type": "code",
   "execution_count": 1,
   "id": "28740129",
   "metadata": {},
   "outputs": [],
   "source": [
    "import sys\n",
    "import os\n",
    "import datetime\n",
    "import warnings\n",
    "os.environ['OPENBLAS_NUM_THREADS'] = '1'\n",
    "warnings.filterwarnings('ignore')"
   ]
  },
  {
   "cell_type": "code",
   "execution_count": 2,
   "id": "b907cd02",
   "metadata": {},
   "outputs": [],
   "source": [
    "import pandas as pd\n",
    "import numpy as np\n",
    "import time\n",
    "import pyarrow.parquet as pq\n",
    "import pyarrow as pa\n",
    "import scipy\n",
    "import implicit\n",
    "import bisect\n",
    "import sklearn.metrics as m\n",
    "from catboost import CatBoostClassifier, CatBoostRegressor, Pool\n",
    "from sklearn.model_selection import train_test_split\n",
    "from sklearn.calibration import calibration_curve, CalibratedClassifierCV"
   ]
  },
  {
   "cell_type": "code",
   "execution_count": 3,
   "id": "e762eacd",
   "metadata": {},
   "outputs": [],
   "source": [
    "LOCAL_DATA_PATH = './context_data/'\n",
    "SPLIT_SEED = 42\n",
    "DATA_FILE = 'competition_data_final_pqt'\n",
    "TARGET_FILE = 'public_train.pqt'\n",
    "SUBMISSION_FILE = 'submit.pqt'"
   ]
  },
  {
   "cell_type": "code",
   "execution_count": 4,
   "id": "8c1af0db",
   "metadata": {},
   "outputs": [],
   "source": [
    "id_to_submit = pq.read_table(f'{LOCAL_DATA_PATH}/{SUBMISSION_FILE}').to_pandas()"
   ]
  },
  {
   "cell_type": "code",
   "execution_count": 5,
   "id": "89fd34da",
   "metadata": {},
   "outputs": [
    {
     "data": {
      "text/plain": [
       "['./context_data//competition_data_final_pqt/part-00000-aba60f69-2b63-4cc1-95ca-542598094698-c000.snappy.parquet',\n",
       " './context_data//competition_data_final_pqt/part-00001-aba60f69-2b63-4cc1-95ca-542598094698-c000.snappy.parquet',\n",
       " './context_data//competition_data_final_pqt/part-00002-aba60f69-2b63-4cc1-95ca-542598094698-c000.snappy.parquet',\n",
       " './context_data//competition_data_final_pqt/part-00003-aba60f69-2b63-4cc1-95ca-542598094698-c000.snappy.parquet',\n",
       " './context_data//competition_data_final_pqt/part-00004-aba60f69-2b63-4cc1-95ca-542598094698-c000.snappy.parquet',\n",
       " './context_data//competition_data_final_pqt/part-00005-aba60f69-2b63-4cc1-95ca-542598094698-c000.snappy.parquet',\n",
       " './context_data//competition_data_final_pqt/part-00006-aba60f69-2b63-4cc1-95ca-542598094698-c000.snappy.parquet',\n",
       " './context_data//competition_data_final_pqt/part-00007-aba60f69-2b63-4cc1-95ca-542598094698-c000.snappy.parquet',\n",
       " './context_data//competition_data_final_pqt/part-00008-aba60f69-2b63-4cc1-95ca-542598094698-c000.snappy.parquet',\n",
       " './context_data//competition_data_final_pqt/part-00009-aba60f69-2b63-4cc1-95ca-542598094698-c000.snappy.parquet']"
      ]
     },
     "execution_count": 5,
     "metadata": {},
     "output_type": "execute_result"
    }
   ],
   "source": [
    "# pqf = pq.ParquetFile(f'{LOCAL_DATA_PATH}/{DATA_FILE}')\n",
    "pqd = pq.ParquetDataset(f'{LOCAL_DATA_PATH}/{DATA_FILE}')\n",
    "pqd.files"
   ]
  },
  {
   "cell_type": "code",
   "execution_count": null,
   "id": "39413645",
   "metadata": {},
   "outputs": [],
   "source": []
  },
  {
   "cell_type": "code",
   "execution_count": 6,
   "id": "f6f543bf",
   "metadata": {},
   "outputs": [
    {
     "name": "stdout",
     "output_type": "stream",
     "text": [
      "          region_name  city_name cpe_manufacturer_name cpe_model_name  \\\n",
      "0  Краснодарский край  Краснодар                 Apple       iPhone 7   \n",
      "1  Краснодарский край  Краснодар                 Apple       iPhone 7   \n",
      "2  Краснодарский край  Краснодар                 Apple       iPhone 7   \n",
      "3  Краснодарский край  Краснодар                 Apple       iPhone 7   \n",
      "4  Краснодарский край  Краснодар                 Apple       iPhone 7   \n",
      "\n",
      "                      url_host cpe_type_cd cpe_model_os_type    price  \\\n",
      "0                ad.adriver.ru  smartphone               iOS  20368.0   \n",
      "1                    apple.com  smartphone               iOS  20368.0   \n",
      "2       avatars.mds.yandex.net  smartphone               iOS  20368.0   \n",
      "3  googleads.g.doubleclick.net  smartphone               iOS  20368.0   \n",
      "4  googleads.g.doubleclick.net  smartphone               iOS  20368.0   \n",
      "\n",
      "         date part_of_day  request_cnt  user_id  \n",
      "0  2022-06-15     morning            1    45098  \n",
      "1  2022-06-19     morning            1    45098  \n",
      "2  2022-06-12         day            1    45098  \n",
      "3  2022-05-16         day            1    45098  \n",
      "4  2022-05-30         day            1    45098  \n"
     ]
    }
   ],
   "source": [
    "data_agg = None\n",
    "for ifile in pqd.files :\n",
    "\n",
    "    #data = pq.read_table(f'{LOCAL_DATA_PATH}/{DATA_FILE}/{ifile}')\n",
    "    data = pq.read_table(f'{ifile}')\n",
    "    #pd.DataFrame([(z.name, z.type) for z in data.schema], columns = [['field', 'type']])\n",
    "    \n",
    "    price_median = np.nanmedian(data.select(['price']).to_pandas().to_numpy())\n",
    "    #print(price_median)\n",
    "\n",
    "    data_agg0 = data.select(['user_id', 'url_host', 'request_cnt']).\\\n",
    "        group_by(['user_id', 'url_host']).aggregate([('request_cnt', \"sum\"),\n",
    "                                                     ('request_cnt', \"min\"),\n",
    "                                                     ('request_cnt', \"max\"),\n",
    "                                                     ('request_cnt', \"stddev\"),\n",
    "                                                     ('request_cnt', \"mean\"),])\n",
    "    \n",
    "    data_agg1 = data.select(['user_id','date', 'part_of_day', 'request_cnt']).\\\n",
    "        group_by(['user_id', 'date', 'part_of_day']).aggregate([('request_cnt', \"sum\"),\n",
    "                                                                ('request_cnt', \"min\"),\n",
    "                                                                ('request_cnt', \"max\"),\n",
    "                                                                ('request_cnt', \"stddev\"),\n",
    "                                                                ('request_cnt', \"mean\")])\n",
    "    \n",
    "    data_agg2 = data.select(['user_id', 'city_name', 'region_name', 'cpe_model_os_type', 'price','request_cnt', \\\n",
    "                            'cpe_manufacturer_name','cpe_model_name','cpe_type_cd']).\\\n",
    "        group_by(['user_id', ]).\\\n",
    "        aggregate([('cpe_model_os_type', \"max\"), ('cpe_manufacturer_name','max'),\\\n",
    "                   ('cpe_model_name','max'),('cpe_type_cd','max'), \\\n",
    "                   ('price', \"max\"), ('city_name', \"max\"), \\\n",
    "                   ('region_name', \"max\"), \\\n",
    "                   ('request_cnt',\"mean\"), \\\n",
    "                   ('request_cnt', \"min\"), \\\n",
    "                   ('request_cnt', \"max\"), \\\n",
    "                   ('request_cnt', \"stddev\"), \\\n",
    "                   ('request_cnt',\"sum\")])\n",
    "    \n",
    "    data_agg0 = data_agg0.to_pandas()\n",
    "    data_agg1 = data_agg1.to_pandas()\n",
    "    data_agg2 = data_agg2.to_pandas()\n",
    "    \n",
    "    data_agg2[['price_max']] = data_agg2[['price_max']].fillna(price_median)\n",
    "    \n",
    "    data_agg2[\"cpe_manufacturer_name_max\"].replace( \"Huawei Device Company Limited\", \"Huawei\", inplace=True )\n",
    "    data_agg2[\"cpe_model_os_type_max\"].replace( \"Apple iOS\", \"iOS\", inplace=True ) \n",
    "\n",
    "    if data_agg is None :\n",
    "        data_agg  = data_agg0\n",
    "        data_aggB = data_agg1\n",
    "        data_aggZ = data_agg2\n",
    "        print(data.to_pandas().head())\n",
    "    else :\n",
    "        data_agg  = pd.concat([data_agg, data_agg0],ignore_index=True)\n",
    "        data_aggB = pd.concat([data_aggB,data_agg1],ignore_index=True)\n",
    "        data_aggZ = pd.concat([data_aggZ,data_agg2],ignore_index=True)\n",
    "    \n",
    "    del data, data_agg0, data_agg1, data_agg2\n",
    "    \n",
    "data_aggZ = data_aggZ.fillna(0)\n",
    "\n",
    "mmm, sss = data_agg.request_cnt_sum.mean(), data_agg.request_cnt_sum.std()\n",
    "data_agg.request_cnt_sum = data_agg.request_cnt_sum.clip(mmm-5*sss,mmm+5*sss)\n",
    "\n",
    "mmm, sss = data_aggB.request_cnt_sum.mean(), data_aggB.request_cnt_sum.std()\n",
    "data_aggB.request_cnt_sum = data_aggB.request_cnt_sum.clip(mmm-5*sss,mmm+5*sss)\n",
    "\n",
    "mmm, sss = data_aggZ.request_cnt_sum.mean(), data_aggZ.request_cnt_sum.std()\n",
    "data_aggZ.request_cnt_sum = data_aggZ.request_cnt_sum.clip(mmm-5*sss,mmm+5*sss)"
   ]
  },
  {
   "cell_type": "markdown",
   "id": "9ba280ae",
   "metadata": {},
   "source": [
    "Регион   \n",
    ", населенный пункт   \n",
    ", производиель устройства   \n",
    ", модель устроства   \n",
    ", домен, с которого пришел рекламный запрос   \n",
    ", тип устройства (смартфон или что-то другое)   \n",
    ", операционка на устройстве   \n",
    ", оценка цены устройства   \n",
    ", дата   \n",
    ", время дня (утро, вечер ...)   \n",
    ", число запросов   \n",
    ", id пользователя   "
   ]
  },
  {
   "cell_type": "code",
   "execution_count": 7,
   "id": "addb19e7",
   "metadata": {},
   "outputs": [
    {
     "name": "stdout",
     "output_type": "stream",
     "text": [
      "<class 'pandas.core.frame.DataFrame'>\n",
      "RangeIndex: 32277669 entries, 0 to 32277668\n",
      "Data columns (total 7 columns):\n",
      " #   Column              Dtype  \n",
      "---  ------              -----  \n",
      " 0   request_cnt_sum     float64\n",
      " 1   request_cnt_min     int64  \n",
      " 2   request_cnt_max     int64  \n",
      " 3   request_cnt_stddev  float64\n",
      " 4   request_cnt_mean    float64\n",
      " 5   user_id             int64  \n",
      " 6   url_host            object \n",
      "dtypes: float64(3), int64(3), object(1)\n",
      "memory usage: 1.7+ GB\n",
      "<class 'pandas.core.frame.DataFrame'>\n",
      "RangeIndex: 37097238 entries, 0 to 37097237\n",
      "Data columns (total 8 columns):\n",
      " #   Column              Dtype  \n",
      "---  ------              -----  \n",
      " 0   request_cnt_sum     float64\n",
      " 1   request_cnt_min     int64  \n",
      " 2   request_cnt_max     int64  \n",
      " 3   request_cnt_stddev  float64\n",
      " 4   request_cnt_mean    float64\n",
      " 5   user_id             int64  \n",
      " 6   date                object \n",
      " 7   part_of_day         object \n",
      "dtypes: float64(3), int64(3), object(2)\n",
      "memory usage: 2.2+ GB\n",
      "<class 'pandas.core.frame.DataFrame'>\n",
      "RangeIndex: 415317 entries, 0 to 415316\n",
      "Data columns (total 13 columns):\n",
      " #   Column                     Non-Null Count   Dtype  \n",
      "---  ------                     --------------   -----  \n",
      " 0   cpe_model_os_type_max      415317 non-null  object \n",
      " 1   cpe_manufacturer_name_max  415317 non-null  object \n",
      " 2   cpe_model_name_max         415317 non-null  object \n",
      " 3   cpe_type_cd_max            415317 non-null  object \n",
      " 4   price_max                  415317 non-null  float64\n",
      " 5   city_name_max              415317 non-null  object \n",
      " 6   region_name_max            415317 non-null  object \n",
      " 7   request_cnt_mean           415317 non-null  float64\n",
      " 8   request_cnt_min            415317 non-null  int64  \n",
      " 9   request_cnt_max            415317 non-null  int64  \n",
      " 10  request_cnt_stddev         415317 non-null  float64\n",
      " 11  request_cnt_sum            415317 non-null  float64\n",
      " 12  user_id                    415317 non-null  int64  \n",
      "dtypes: float64(4), int64(3), object(6)\n",
      "memory usage: 41.2+ MB\n"
     ]
    },
    {
     "data": {
      "text/plain": [
       "(None, None, None)"
      ]
     },
     "execution_count": 7,
     "metadata": {},
     "output_type": "execute_result"
    }
   ],
   "source": [
    "data_agg.info(), data_aggB.info(), data_aggZ.info()"
   ]
  },
  {
   "cell_type": "code",
   "execution_count": null,
   "id": "fe7328c9",
   "metadata": {},
   "outputs": [],
   "source": []
  },
  {
   "cell_type": "code",
   "execution_count": 8,
   "id": "57d1d675",
   "metadata": {},
   "outputs": [
    {
     "data": {
      "text/plain": [
       "(Index(['request_cnt_sum', 'request_cnt_min', 'request_cnt_max',\n",
       "        'request_cnt_stddev', 'request_cnt_mean', 'user_id', 'url_host'],\n",
       "       dtype='object'),\n",
       " Index(['request_cnt_sum', 'request_cnt_min', 'request_cnt_max',\n",
       "        'request_cnt_stddev', 'request_cnt_mean', 'user_id', 'date',\n",
       "        'part_of_day'],\n",
       "       dtype='object'),\n",
       " Index(['cpe_model_os_type_max', 'cpe_manufacturer_name_max',\n",
       "        'cpe_model_name_max', 'cpe_type_cd_max', 'price_max', 'city_name_max',\n",
       "        'region_name_max', 'request_cnt_mean', 'request_cnt_min',\n",
       "        'request_cnt_max', 'request_cnt_stddev', 'request_cnt_sum', 'user_id'],\n",
       "       dtype='object'))"
      ]
     },
     "execution_count": 8,
     "metadata": {},
     "output_type": "execute_result"
    }
   ],
   "source": [
    "data_agg.columns, data_aggB.columns, data_aggZ.columns"
   ]
  },
  {
   "cell_type": "code",
   "execution_count": null,
   "id": "26a01ee6",
   "metadata": {},
   "outputs": [],
   "source": []
  },
  {
   "cell_type": "code",
   "execution_count": 9,
   "id": "f4b80b1f",
   "metadata": {},
   "outputs": [],
   "source": [
    "n_urls = 450 #500\n",
    "\n",
    "urls_hosts_max=data_agg[['url_host','user_id']].groupby(['url_host']).size().reset_index()\n",
    "                #sort_values('user_id', axis=0, ascending=False)[:10].reset_index()\n",
    "urls_hosts_max.columns = ['url_host','size']\n",
    "url_hosts_max = urls_hosts_max.sort_values('size', ascending=False).head(n_urls).url_host\n",
    "#url_hosts_max.to_list()"
   ]
  },
  {
   "cell_type": "code",
   "execution_count": 10,
   "id": "89461181",
   "metadata": {},
   "outputs": [
    {
     "data": {
      "text/plain": [
       "((8799676, 7),\n",
       "    request_cnt_sum  request_cnt_min  request_cnt_max  request_cnt_stddev  \\\n",
       " 0              2.0                1                1                 0.0   \n",
       " 1              1.0                1                1                 0.0   \n",
       " 2              1.0                1                1                 0.0   \n",
       " 3              1.0                1                1                 0.0   \n",
       " 4              1.0                1                1                 0.0   \n",
       " \n",
       "    request_cnt_mean  user_id             url_host  \n",
       " 0               1.0    45098          bravisan.ru  \n",
       " 1               1.0    45098           festima.ru  \n",
       " 2               1.0    45098       onlinetours.ru  \n",
       " 3               1.0    45098  forum.skoda-club.ru  \n",
       " 4               1.0    45098             mamba.ru  )"
      ]
     },
     "execution_count": 10,
     "metadata": {},
     "output_type": "execute_result"
    }
   ],
   "source": [
    "data_temp = data_agg[~data_agg['url_host'].isin(url_hosts_max.to_list())]\n",
    "data_aggY = pd.concat([data_temp, \\\n",
    "      data_agg[data_agg['user_id']. \\\n",
    "               isin(list(set(data_agg.user_id.unique())-set(data_temp.user_id.unique())))]], \\\n",
    "      ignore_index=True)\n",
    "data_aggY.shape, data_aggY.head()"
   ]
  },
  {
   "cell_type": "code",
   "execution_count": null,
   "id": "8edc7e3d",
   "metadata": {},
   "outputs": [],
   "source": []
  },
  {
   "cell_type": "code",
   "execution_count": 11,
   "id": "b41b2c00",
   "metadata": {},
   "outputs": [
    {
     "data": {
      "text/plain": [
       "((32277669, 7), (8799676, 7), 415317, 415317)"
      ]
     },
     "execution_count": 11,
     "metadata": {},
     "output_type": "execute_result"
    }
   ],
   "source": [
    "data_agg.shape, data_aggY.shape, len(data_agg['user_id'].unique()), len(data_aggZ.user_id.unique())"
   ]
  },
  {
   "cell_type": "code",
   "execution_count": 12,
   "id": "26e0924b",
   "metadata": {},
   "outputs": [],
   "source": [
    "if 1 :\n",
    "    \n",
    "    data_aggC = data_aggZ[['user_id','cpe_model_os_type_max', 'cpe_manufacturer_name_max', \\\n",
    "                           'cpe_model_name_max', 'cpe_type_cd_max', \\\n",
    "                           'region_name_max','city_name_max','price_max']]\n",
    "    \n",
    "    cat_features  = ['cpe_model_os_type_max', 'cpe_manufacturer_name_max', \\\n",
    "                     'cpe_model_name_max', 'cpe_type_cd_max', \\\n",
    "                     'region_name_max','city_name_max',]\n",
    "    \n",
    "    \n",
    "    \n",
    "    data_aggD = pd.pivot_table(data_aggB[['user_id','part_of_day','request_cnt_sum']],\n",
    "                                index='user_id', columns='part_of_day', values='request_cnt_sum', \n",
    "                                aggfunc=np.mean, fill_value=0).reset_index()\n",
    "    data_aggC = data_aggC.merge(data_aggD,how='inner',on=['user_id'])\n",
    "    \n",
    "    data_aggD = pd.pivot_table(data_aggB[['user_id','part_of_day','request_cnt_max']],\n",
    "                                index='user_id', columns='part_of_day', values='request_cnt_max', \n",
    "                                aggfunc=np.mean, fill_value=0).reset_index()\n",
    "    data_aggC = data_aggC.merge(data_aggD,how='inner',on=['user_id'], suffixes=('','_xmax'))\n",
    "    \n",
    "    data_aggD = pd.pivot_table(data_aggB[['user_id','part_of_day','request_cnt_min']],\n",
    "                                index='user_id', columns='part_of_day', values='request_cnt_min', \n",
    "                                aggfunc=np.mean, fill_value=0).reset_index()\n",
    "    data_aggC = data_aggC.merge(data_aggD,how='inner',on=['user_id'], suffixes=('','_xmin'))\n",
    "\n",
    "    data_aggD = pd.pivot_table(data_aggB[['user_id','part_of_day','request_cnt_mean']],\n",
    "                                index='user_id', columns='part_of_day', values='request_cnt_mean', \n",
    "                                aggfunc=np.mean, fill_value=0).reset_index()\n",
    "    data_aggC = data_aggC.merge(data_aggD,how='inner',on=['user_id'], suffixes=('','_xmean'))\n",
    "    \n",
    "    \n",
    "    data_aggD = pd.pivot_table(data_aggB[['user_id','part_of_day','request_cnt_stddev']],\n",
    "                                index='user_id', columns='part_of_day', values='request_cnt_stddev', \n",
    "                                aggfunc=np.mean, fill_value=0).reset_index()\n",
    "    data_aggC = data_aggC.merge(data_aggD,how='inner',on=['user_id'], suffixes=('','_xstd'))\n",
    "    \n",
    "    \n",
    "    \n",
    "    data_aggB['DW'] = 'DW' + pd.to_datetime(data_aggB.date).dt.day_of_week.astype(str)\n",
    "    data_aggD = pd.pivot_table(data_aggB[['user_id','DW','request_cnt_sum']],\n",
    "                                index='user_id', columns='DW', values='request_cnt_sum',\n",
    "                                aggfunc=np.mean, fill_value=0).reset_index()\n",
    "    data_aggC = data_aggC.merge(data_aggD,how='inner',on=['user_id'], suffixes=('','_xxsum'))\n",
    "\n",
    "    data_aggB['DW'] = 'DW' + pd.to_datetime(data_aggB.date).dt.day_of_week.astype(str)\n",
    "    data_aggD = pd.pivot_table(data_aggB[['user_id','DW','request_cnt_max']],\n",
    "                                index='user_id', columns='DW', values='request_cnt_max',\n",
    "                                aggfunc=np.mean, fill_value=0).reset_index()\n",
    "    data_aggC = data_aggC.merge(data_aggD,how='inner',on=['user_id'], suffixes=('','_xxmax'))\n",
    "\n",
    "    data_aggB['DWMIN'] = 'DW' + pd.to_datetime(data_aggB.date).dt.day_of_week.astype(str)\n",
    "    data_aggD = pd.pivot_table(data_aggB[['user_id','DW','request_cnt_min']],\n",
    "                                index='user_id', columns='DW', values='request_cnt_min',\n",
    "                                aggfunc=np.mean, fill_value=0).reset_index()\n",
    "    data_aggC = data_aggC.merge(data_aggD,how='inner',on=['user_id'], suffixes=('','_xxmin'))\n",
    "\n",
    "    data_aggB['DW'] = 'DW' + pd.to_datetime(data_aggB.date).dt.day_of_week.astype(str)\n",
    "    data_aggD = pd.pivot_table(data_aggB[['user_id','DW','request_cnt_stddev']],\n",
    "                                index='user_id', columns='DW', values='request_cnt_stddev',\n",
    "                                aggfunc=np.mean, fill_value=0).reset_index()\n",
    "    data_aggC = data_aggC.merge(data_aggD,how='inner',on=['user_id'], suffixes=('','_xxstd'))\n",
    "\n",
    "    \n",
    "    \n",
    "    data_aggB['DW'] = 'DWPD'+pd.to_datetime(data_aggB.date).dt.day_of_week.astype(str)+'.'+data_aggB.part_of_day\n",
    "    data_aggD = pd.pivot_table(data_aggB[['user_id','DW','request_cnt_sum']],\n",
    "                                index='user_id', columns='DW', values='request_cnt_sum', \n",
    "                                aggfunc=np.mean, fill_value=0).reset_index()\n",
    "    data_aggC = data_aggC.merge(data_aggD,how='inner',on=['user_id'], suffixes=('','_xsumpd'))\n",
    "\n",
    "    data_aggB['DW'] = 'DWPD'+pd.to_datetime(data_aggB.date).dt.day_of_week.astype(str)+'.'+data_aggB.part_of_day\n",
    "    data_aggD = pd.pivot_table(data_aggB[['user_id','DW','request_cnt_mean']],\n",
    "                                index='user_id', columns='DW', values='request_cnt_mean', \n",
    "                                aggfunc=np.mean, fill_value=0).reset_index()\n",
    "    data_aggC = data_aggC.merge(data_aggD,how='inner',on=['user_id'], suffixes=('','_xmeanpd'))\n",
    "\n",
    "    data_aggB['DW'] = 'DWPD'+pd.to_datetime(data_aggB.date).dt.day_of_week.astype(str)+'.'+data_aggB.part_of_day\n",
    "    data_aggD = pd.pivot_table(data_aggB[['user_id','DW','request_cnt_max']],\n",
    "                                index='user_id', columns='DW', values='request_cnt_max', \n",
    "                                aggfunc=np.mean, fill_value=0).reset_index()\n",
    "    data_aggC = data_aggC.merge(data_aggD,how='inner',on=['user_id'], suffixes=('','_xmaxpd'))\n",
    "\n",
    "    data_aggB['DW'] = 'DWPD'+pd.to_datetime(data_aggB.date).dt.day_of_week.astype(str)+'.'+data_aggB.part_of_day\n",
    "    data_aggD = pd.pivot_table(data_aggB[['user_id','DW','request_cnt_stddev']],\n",
    "                                index='user_id', columns='DW', values='request_cnt_stddev', \n",
    "                                aggfunc=np.mean, fill_value=0).reset_index()\n",
    "    data_aggC = data_aggC.merge(data_aggD,how='inner',on=['user_id'], suffixes=('','_xstdpd'))\n",
    "    "
   ]
  },
  {
   "cell_type": "code",
   "execution_count": 13,
   "id": "6e2d3eec",
   "metadata": {},
   "outputs": [
    {
     "name": "stdout",
     "output_type": "stream",
     "text": [
      "(32277669, 5) (8799676, 5)\n"
     ]
    }
   ],
   "source": [
    "#\n",
    "#  tf-idf\n",
    "#\n",
    "def tf_idf (data_agg) :\n",
    "    \n",
    "    #data_a = data_agg[['user_id','url_host']].groupby(['user_id']).size().reset_index()\n",
    "    data_a = data_agg[['user_id','request_cnt_sum',]].groupby('user_id').sum().reset_index()\n",
    "    data_a.columns=['user_id','summ']\n",
    "    data_tf = data_agg.merge(data_a, how='left', on='user_id')\n",
    "    data_tf['tf'] = data_tf.request_cnt_sum/data_tf.summ\n",
    "    data_tf       = data_tf[['user_id','url_host','tf']]\n",
    "    \n",
    "    if 0 :\n",
    "        print('tf')\n",
    "        print(data_a.shape, data_tf.shape, data_aggY.shape)\n",
    "        print(data_a.head())\n",
    "        print(data_tf.head())\n",
    "    \n",
    "    data_a = data_agg[['url_host','user_id',]].groupby('url_host').size().reset_index()\n",
    "    data_a.columns=['url_host','sizee']\n",
    "    user_id_len = len(data_agg.user_id.unique())\n",
    "    \n",
    "    data_idf = data_a\n",
    "    data_idf['idf'] = np.log(user_id_len/data_a.sizee)\n",
    "    \n",
    "    if 0 :\n",
    "        print('idf')\n",
    "        print(data_a.shape, data_idf.shape, data_agg.shape)\n",
    "        print(data_a.head())\n",
    "        print(data_idf.head())\n",
    "    \n",
    "    data_tf_idf = data_tf.merge(data_idf[['url_host','idf']], how='left', on='url_host')\n",
    "    data_tf_idf['tf_idf'] = data_tf_idf.tf*data_tf_idf.idf\n",
    "    \n",
    "    if 0 :\n",
    "        print('idf')\n",
    "        print(data_tf_idf.shape)\n",
    "        print(data_tf_idf.head())\n",
    "    \n",
    "    return (data_tf_idf)\n",
    "    \n",
    "data_tf_idf  = tf_idf(data_agg)    \n",
    "data_tf_idfY = tf_idf(data_aggY)    \n",
    "\n",
    "print(data_tf_idf.shape, data_tf_idfY.shape)"
   ]
  },
  {
   "cell_type": "code",
   "execution_count": 14,
   "id": "fc9b626b",
   "metadata": {},
   "outputs": [
    {
     "data": {
      "text/plain": [
       "((415317, 168),\n",
       " Index(['user_id', 'cpe_model_os_type_max', 'cpe_manufacturer_name_max',\n",
       "        'cpe_model_name_max', 'cpe_type_cd_max', 'region_name_max',\n",
       "        'city_name_max', 'price_max', 'day', 'evening',\n",
       "        ...\n",
       "        'DWPD4.morning_xstdpd', 'DWPD4.night_xstdpd', 'DWPD5.day_xstdpd',\n",
       "        'DWPD5.evening_xstdpd', 'DWPD5.morning_xstdpd', 'DWPD5.night_xstdpd',\n",
       "        'DWPD6.day_xstdpd', 'DWPD6.evening_xstdpd', 'DWPD6.morning_xstdpd',\n",
       "        'DWPD6.night_xstdpd'],\n",
       "       dtype='object', length=168))"
      ]
     },
     "execution_count": 14,
     "metadata": {},
     "output_type": "execute_result"
    }
   ],
   "source": [
    "data_aggC.shape, data_aggC.columns"
   ]
  },
  {
   "cell_type": "code",
   "execution_count": null,
   "id": "b2e7e1ef",
   "metadata": {},
   "outputs": [],
   "source": []
  },
  {
   "cell_type": "code",
   "execution_count": null,
   "id": "d90c5cd4",
   "metadata": {},
   "outputs": [],
   "source": []
  },
  {
   "cell_type": "code",
   "execution_count": null,
   "id": "10172bcb",
   "metadata": {},
   "outputs": [],
   "source": []
  },
  {
   "cell_type": "code",
   "execution_count": null,
   "id": "c602830a",
   "metadata": {},
   "outputs": [],
   "source": []
  },
  {
   "cell_type": "code",
   "execution_count": null,
   "id": "7521c6f2",
   "metadata": {},
   "outputs": [],
   "source": []
  },
  {
   "cell_type": "code",
   "execution_count": 15,
   "id": "af722b67",
   "metadata": {},
   "outputs": [
    {
     "data": {
      "text/plain": [
       "((415317, 192),\n",
       " Index(['user_id', 'cpe_model_os_type_max', 'cpe_manufacturer_name_max',\n",
       "        'cpe_model_name_max', 'cpe_type_cd_max', 'region_name_max',\n",
       "        'city_name_max', 'price_max', 'day', 'evening',\n",
       "        ...\n",
       "        'DWB005', 'DWB006', 'DWA', 'DW000', 'DW001', 'DW002', 'DW003', 'DW004',\n",
       "        'DW005', 'DW006'],\n",
       "       dtype='object', length=192))"
      ]
     },
     "execution_count": 15,
     "metadata": {},
     "output_type": "execute_result"
    }
   ],
   "source": [
    "\n",
    "if 1 :\n",
    "    data_aggC['A']=data_aggC.day+data_aggC.evening+data_aggC.morning+data_aggC.night\n",
    "    data_aggC['A000']=data_aggC.day/data_aggC.A    \n",
    "    data_aggC['A001']=data_aggC.evening/data_aggC.A\n",
    "    data_aggC['A002']=data_aggC.morning/data_aggC.A\n",
    "    data_aggC['A003']=data_aggC.night/data_aggC.A \n",
    "    \n",
    "if 1 :\n",
    "    B000m=data_aggC.day.mean()\n",
    "    B001m=data_aggC.evening.mean()\n",
    "    B002m=data_aggC.morning.mean()                \n",
    "    B003m=data_aggC.night.mean()\n",
    "    data_aggC['B000']=data_aggC.day/B000m\n",
    "    data_aggC['B001']=data_aggC.evening/B001m\n",
    "    data_aggC['B002']=data_aggC.morning/B002m\n",
    "    data_aggC['B003']=data_aggC.night/B003m\n",
    "    #data_aggC = data_aggC.drop(['day','morning','evening'],axis=1)\n",
    "        \n",
    "if 1 :\n",
    "    DWA0  =data_aggC.DW0.median()\n",
    "    DWA1  =data_aggC.DW1.median()\n",
    "    DWA2  =data_aggC.DW2.median()\n",
    "    DWA3  =data_aggC.DW3.median()\n",
    "    DWA4  =data_aggC.DW4.median()\n",
    "    DWA5  =data_aggC.DW5.median()\n",
    "    DWA6  =data_aggC.DW6.median()\n",
    "    data_aggC['DWB000']=data_aggC.DW0/DWA0\n",
    "    data_aggC['DWB001']=data_aggC.DW1/DWA1 \n",
    "    data_aggC['DWB002']=data_aggC.DW2/DWA2\n",
    "    data_aggC['DWB003']=data_aggC.DW3/DWA3\n",
    "    data_aggC['DWB004']=data_aggC.DW4/DWA4\n",
    "    data_aggC['DWB005']=data_aggC.DW5/DWA5\n",
    "    data_aggC['DWB006']=data_aggC.DW6/DWA6 \n",
    "    \n",
    "if 1 :\n",
    "    data_aggC['DWA']=data_aggC.DW0+data_aggC.DW1+data_aggC.DW2+data_aggC.DW3+ \\\n",
    "                        data_aggC.DW4+data_aggC.DW5+data_aggC.DW6\n",
    "    data_aggC['DW000']=data_aggC.DW0/data_aggC.DWA\n",
    "    data_aggC['DW001']=data_aggC.DW1/data_aggC.DWA\n",
    "    data_aggC['DW002']=data_aggC.DW2/data_aggC.DWA\n",
    "    data_aggC['DW003']=data_aggC.DW3/data_aggC.DWA\n",
    "    data_aggC['DW004']=data_aggC.DW4/data_aggC.DWA\n",
    "    data_aggC['DW005']=data_aggC.DW5/data_aggC.DWA\n",
    "    data_aggC['DW006']=data_aggC.DW6/data_aggC.DWA\n",
    "    \n",
    "data_aggC.shape, data_aggC.columns"
   ]
  },
  {
   "cell_type": "code",
   "execution_count": 16,
   "id": "f158a3c1",
   "metadata": {},
   "outputs": [
    {
     "data": {
      "text/plain": [
       "(415317, 192)"
      ]
     },
     "execution_count": 16,
     "metadata": {},
     "output_type": "execute_result"
    }
   ],
   "source": [
    "data_aggC.shape"
   ]
  },
  {
   "cell_type": "code",
   "execution_count": null,
   "id": "b01b07fb",
   "metadata": {},
   "outputs": [],
   "source": []
  },
  {
   "cell_type": "code",
   "execution_count": 17,
   "id": "3ff50f46",
   "metadata": {},
   "outputs": [
    {
     "data": {
      "text/html": [
       "<div>\n",
       "<style scoped>\n",
       "    .dataframe tbody tr th:only-of-type {\n",
       "        vertical-align: middle;\n",
       "    }\n",
       "\n",
       "    .dataframe tbody tr th {\n",
       "        vertical-align: top;\n",
       "    }\n",
       "\n",
       "    .dataframe thead tr th {\n",
       "        text-align: left;\n",
       "    }\n",
       "</style>\n",
       "<table border=\"1\" class=\"dataframe\">\n",
       "  <thead>\n",
       "    <tr>\n",
       "      <th></th>\n",
       "      <th>field</th>\n",
       "      <th>type</th>\n",
       "    </tr>\n",
       "  </thead>\n",
       "  <tbody>\n",
       "    <tr>\n",
       "      <th>0</th>\n",
       "      <td>age</td>\n",
       "      <td>double</td>\n",
       "    </tr>\n",
       "    <tr>\n",
       "      <th>1</th>\n",
       "      <td>is_male</td>\n",
       "      <td>string</td>\n",
       "    </tr>\n",
       "    <tr>\n",
       "      <th>2</th>\n",
       "      <td>user_id</td>\n",
       "      <td>int64</td>\n",
       "    </tr>\n",
       "    <tr>\n",
       "      <th>3</th>\n",
       "      <td>__index_level_0__</td>\n",
       "      <td>int64</td>\n",
       "    </tr>\n",
       "  </tbody>\n",
       "</table>\n",
       "</div>"
      ],
      "text/plain": [
       "               field    type\n",
       "0                age  double\n",
       "1            is_male  string\n",
       "2            user_id   int64\n",
       "3  __index_level_0__   int64"
      ]
     },
     "execution_count": 17,
     "metadata": {},
     "output_type": "execute_result"
    }
   ],
   "source": [
    "targets = pq.read_table(f'{LOCAL_DATA_PATH}/{TARGET_FILE}')\n",
    "usr_targets = targets.to_pandas()\n",
    "\n",
    "pd.DataFrame([(z.name, z.type) for z in targets.schema], columns = [['field', 'type']])"
   ]
  },
  {
   "cell_type": "code",
   "execution_count": null,
   "id": "130cced8",
   "metadata": {},
   "outputs": [],
   "source": []
  },
  {
   "cell_type": "code",
   "execution_count": 18,
   "id": "b2b572a0",
   "metadata": {},
   "outputs": [],
   "source": [
    "import matplotlib.pyplot as plt\n",
    "\n",
    "def plotplot (usr_targets, plot_table, xxx=['user_id']) :\n",
    "    usr_targets_true  = plot_table.user_id.isin(usr_targets.user_id.values)\n",
    "    plot_true  = plot_table[usr_targets_true]\n",
    "    plot_false = plot_table[~usr_targets_true]\n",
    "    \n",
    "    for col in [xx for xx in list(plot_true.columns) if xx not in xxx] :\n",
    "        plt.hist(plot_true[col],bins=50)\n",
    "        plt.hist(plot_false[col],bins=50)\n",
    "        plt.title(col)\n",
    "        plt.show()\n",
    "    \n",
    "    return\n",
    "\n",
    "#plotplot(usr_targets, data_aggC)\n",
    "\n",
    "#plotplot(usr_targets, data_agg,  xxx=['user_id', 'url_host'])\n",
    "#plotplot(usr_targets, data_aggB, xxx=['user_id', 'url_host', ])"
   ]
  },
  {
   "cell_type": "code",
   "execution_count": 19,
   "id": "9b924b58",
   "metadata": {},
   "outputs": [
    {
     "data": {
      "text/plain": [
       "(array([ 0.,  1., nan, ..., nan, nan, nan]),\n",
       " array([128994, 135332,      1, ...,      1,      1,      1]))"
      ]
     },
     "execution_count": 19,
     "metadata": {},
     "output_type": "execute_result"
    }
   ],
   "source": [
    "usr_targets = targets.to_pandas()\n",
    "usr_targets.describe()\n",
    "#np.unique(usr_targets.is_male.to_numpy())\n",
    "usr_targets.is_male[usr_targets.is_male=='NA'] = np.nan\n",
    "np.unique(usr_targets.is_male.astype(float),return_counts=True)\n",
    "#usr_targets.is_male.astype(float).describe()"
   ]
  },
  {
   "cell_type": "code",
   "execution_count": 20,
   "id": "43beec82",
   "metadata": {},
   "outputs": [
    {
     "data": {
      "text/plain": [
       "21019656"
      ]
     },
     "execution_count": 20,
     "metadata": {},
     "output_type": "execute_result"
    }
   ],
   "source": [
    "data_agg_train = data_agg.merge(usr_targets[['user_id']], \n",
    "                                how='inner', on=['user_id'])\n",
    "len(data_agg_train)"
   ]
  },
  {
   "cell_type": "code",
   "execution_count": 21,
   "id": "e6bb208d",
   "metadata": {},
   "outputs": [
    {
     "data": {
      "text/html": [
       "<div>\n",
       "<style scoped>\n",
       "    .dataframe tbody tr th:only-of-type {\n",
       "        vertical-align: middle;\n",
       "    }\n",
       "\n",
       "    .dataframe tbody tr th {\n",
       "        vertical-align: top;\n",
       "    }\n",
       "\n",
       "    .dataframe thead th {\n",
       "        text-align: right;\n",
       "    }\n",
       "</style>\n",
       "<table border=\"1\" class=\"dataframe\">\n",
       "  <thead>\n",
       "    <tr style=\"text-align: right;\">\n",
       "      <th></th>\n",
       "      <th>request_cnt_sum</th>\n",
       "      <th>request_cnt_min</th>\n",
       "      <th>request_cnt_max</th>\n",
       "      <th>request_cnt_stddev</th>\n",
       "      <th>request_cnt_mean</th>\n",
       "      <th>user_id</th>\n",
       "      <th>url_host</th>\n",
       "    </tr>\n",
       "  </thead>\n",
       "  <tbody>\n",
       "    <tr>\n",
       "      <th>0</th>\n",
       "      <td>12.000000</td>\n",
       "      <td>1</td>\n",
       "      <td>2</td>\n",
       "      <td>0.287480</td>\n",
       "      <td>1.090909</td>\n",
       "      <td>45098</td>\n",
       "      <td>ad.adriver.ru</td>\n",
       "    </tr>\n",
       "    <tr>\n",
       "      <th>1</th>\n",
       "      <td>329.382408</td>\n",
       "      <td>1</td>\n",
       "      <td>6</td>\n",
       "      <td>1.099694</td>\n",
       "      <td>1.874046</td>\n",
       "      <td>45098</td>\n",
       "      <td>apple.com</td>\n",
       "    </tr>\n",
       "    <tr>\n",
       "      <th>2</th>\n",
       "      <td>174.000000</td>\n",
       "      <td>1</td>\n",
       "      <td>4</td>\n",
       "      <td>0.656000</td>\n",
       "      <td>1.392000</td>\n",
       "      <td>45098</td>\n",
       "      <td>avatars.mds.yandex.net</td>\n",
       "    </tr>\n",
       "    <tr>\n",
       "      <th>3</th>\n",
       "      <td>305.000000</td>\n",
       "      <td>1</td>\n",
       "      <td>5</td>\n",
       "      <td>1.018156</td>\n",
       "      <td>1.732955</td>\n",
       "      <td>45098</td>\n",
       "      <td>googleads.g.doubleclick.net</td>\n",
       "    </tr>\n",
       "    <tr>\n",
       "      <th>4</th>\n",
       "      <td>329.382408</td>\n",
       "      <td>1</td>\n",
       "      <td>5</td>\n",
       "      <td>1.113451</td>\n",
       "      <td>1.939130</td>\n",
       "      <td>45098</td>\n",
       "      <td>i.ytimg.com</td>\n",
       "    </tr>\n",
       "    <tr>\n",
       "      <th>...</th>\n",
       "      <td>...</td>\n",
       "      <td>...</td>\n",
       "      <td>...</td>\n",
       "      <td>...</td>\n",
       "      <td>...</td>\n",
       "      <td>...</td>\n",
       "      <td>...</td>\n",
       "    </tr>\n",
       "    <tr>\n",
       "      <th>32277530</th>\n",
       "      <td>1.000000</td>\n",
       "      <td>1</td>\n",
       "      <td>1</td>\n",
       "      <td>0.000000</td>\n",
       "      <td>1.000000</td>\n",
       "      <td>260127</td>\n",
       "      <td>m-gazeta-ru.cdn.ampproject.org</td>\n",
       "    </tr>\n",
       "    <tr>\n",
       "      <th>32277531</th>\n",
       "      <td>1.000000</td>\n",
       "      <td>1</td>\n",
       "      <td>1</td>\n",
       "      <td>0.000000</td>\n",
       "      <td>1.000000</td>\n",
       "      <td>260127</td>\n",
       "      <td>mcgrp.ru</td>\n",
       "    </tr>\n",
       "    <tr>\n",
       "      <th>32277532</th>\n",
       "      <td>2.000000</td>\n",
       "      <td>2</td>\n",
       "      <td>2</td>\n",
       "      <td>0.000000</td>\n",
       "      <td>2.000000</td>\n",
       "      <td>260127</td>\n",
       "      <td>click.mail.ru</td>\n",
       "    </tr>\n",
       "    <tr>\n",
       "      <th>32277533</th>\n",
       "      <td>1.000000</td>\n",
       "      <td>1</td>\n",
       "      <td>1</td>\n",
       "      <td>0.000000</td>\n",
       "      <td>1.000000</td>\n",
       "      <td>260127</td>\n",
       "      <td>kakoysegodnyaprazdnik.ru</td>\n",
       "    </tr>\n",
       "    <tr>\n",
       "      <th>32277534</th>\n",
       "      <td>1.000000</td>\n",
       "      <td>1</td>\n",
       "      <td>1</td>\n",
       "      <td>0.000000</td>\n",
       "      <td>1.000000</td>\n",
       "      <td>260127</td>\n",
       "      <td>faq.whatsapp.com</td>\n",
       "    </tr>\n",
       "  </tbody>\n",
       "</table>\n",
       "<p>11258013 rows × 7 columns</p>\n",
       "</div>"
      ],
      "text/plain": [
       "          request_cnt_sum  request_cnt_min  request_cnt_max  \\\n",
       "0               12.000000                1                2   \n",
       "1              329.382408                1                6   \n",
       "2              174.000000                1                4   \n",
       "3              305.000000                1                5   \n",
       "4              329.382408                1                5   \n",
       "...                   ...              ...              ...   \n",
       "32277530         1.000000                1                1   \n",
       "32277531         1.000000                1                1   \n",
       "32277532         2.000000                2                2   \n",
       "32277533         1.000000                1                1   \n",
       "32277534         1.000000                1                1   \n",
       "\n",
       "          request_cnt_stddev  request_cnt_mean  user_id  \\\n",
       "0                   0.287480          1.090909    45098   \n",
       "1                   1.099694          1.874046    45098   \n",
       "2                   0.656000          1.392000    45098   \n",
       "3                   1.018156          1.732955    45098   \n",
       "4                   1.113451          1.939130    45098   \n",
       "...                      ...               ...      ...   \n",
       "32277530            0.000000          1.000000   260127   \n",
       "32277531            0.000000          1.000000   260127   \n",
       "32277532            0.000000          2.000000   260127   \n",
       "32277533            0.000000          1.000000   260127   \n",
       "32277534            0.000000          1.000000   260127   \n",
       "\n",
       "                                url_host  \n",
       "0                          ad.adriver.ru  \n",
       "1                              apple.com  \n",
       "2                 avatars.mds.yandex.net  \n",
       "3            googleads.g.doubleclick.net  \n",
       "4                            i.ytimg.com  \n",
       "...                                  ...  \n",
       "32277530  m-gazeta-ru.cdn.ampproject.org  \n",
       "32277531                        mcgrp.ru  \n",
       "32277532                   click.mail.ru  \n",
       "32277533        kakoysegodnyaprazdnik.ru  \n",
       "32277534                faq.whatsapp.com  \n",
       "\n",
       "[11258013 rows x 7 columns]"
      ]
     },
     "execution_count": 21,
     "metadata": {},
     "output_type": "execute_result"
    }
   ],
   "source": [
    "usr_targets_true  = data_agg.user_id.isin(usr_targets.user_id.values)\n",
    "data_agg[usr_targets_true]\n",
    "data_agg[~usr_targets_true]"
   ]
  },
  {
   "cell_type": "code",
   "execution_count": 22,
   "id": "b166a917",
   "metadata": {},
   "outputs": [
    {
     "data": {
      "text/html": [
       "<div>\n",
       "<style scoped>\n",
       "    .dataframe tbody tr th:only-of-type {\n",
       "        vertical-align: middle;\n",
       "    }\n",
       "\n",
       "    .dataframe tbody tr th {\n",
       "        vertical-align: top;\n",
       "    }\n",
       "\n",
       "    .dataframe thead th {\n",
       "        text-align: right;\n",
       "    }\n",
       "</style>\n",
       "<table border=\"1\" class=\"dataframe\">\n",
       "  <thead>\n",
       "    <tr style=\"text-align: right;\">\n",
       "      <th></th>\n",
       "      <th>request_cnt_sum</th>\n",
       "      <th>request_cnt_min</th>\n",
       "      <th>request_cnt_max</th>\n",
       "      <th>request_cnt_stddev</th>\n",
       "      <th>request_cnt_mean</th>\n",
       "      <th>user_id</th>\n",
       "      <th>url_host</th>\n",
       "    </tr>\n",
       "  </thead>\n",
       "  <tbody>\n",
       "    <tr>\n",
       "      <th>0</th>\n",
       "      <td>12.000000</td>\n",
       "      <td>1</td>\n",
       "      <td>2</td>\n",
       "      <td>0.287480</td>\n",
       "      <td>1.090909</td>\n",
       "      <td>45098</td>\n",
       "      <td>ad.adriver.ru</td>\n",
       "    </tr>\n",
       "    <tr>\n",
       "      <th>1</th>\n",
       "      <td>329.382408</td>\n",
       "      <td>1</td>\n",
       "      <td>6</td>\n",
       "      <td>1.099694</td>\n",
       "      <td>1.874046</td>\n",
       "      <td>45098</td>\n",
       "      <td>apple.com</td>\n",
       "    </tr>\n",
       "    <tr>\n",
       "      <th>2</th>\n",
       "      <td>174.000000</td>\n",
       "      <td>1</td>\n",
       "      <td>4</td>\n",
       "      <td>0.656000</td>\n",
       "      <td>1.392000</td>\n",
       "      <td>45098</td>\n",
       "      <td>avatars.mds.yandex.net</td>\n",
       "    </tr>\n",
       "    <tr>\n",
       "      <th>3</th>\n",
       "      <td>305.000000</td>\n",
       "      <td>1</td>\n",
       "      <td>5</td>\n",
       "      <td>1.018156</td>\n",
       "      <td>1.732955</td>\n",
       "      <td>45098</td>\n",
       "      <td>googleads.g.doubleclick.net</td>\n",
       "    </tr>\n",
       "    <tr>\n",
       "      <th>4</th>\n",
       "      <td>329.382408</td>\n",
       "      <td>1</td>\n",
       "      <td>5</td>\n",
       "      <td>1.113451</td>\n",
       "      <td>1.939130</td>\n",
       "      <td>45098</td>\n",
       "      <td>i.ytimg.com</td>\n",
       "    </tr>\n",
       "    <tr>\n",
       "      <th>...</th>\n",
       "      <td>...</td>\n",
       "      <td>...</td>\n",
       "      <td>...</td>\n",
       "      <td>...</td>\n",
       "      <td>...</td>\n",
       "      <td>...</td>\n",
       "      <td>...</td>\n",
       "    </tr>\n",
       "    <tr>\n",
       "      <th>32277530</th>\n",
       "      <td>1.000000</td>\n",
       "      <td>1</td>\n",
       "      <td>1</td>\n",
       "      <td>0.000000</td>\n",
       "      <td>1.000000</td>\n",
       "      <td>260127</td>\n",
       "      <td>m-gazeta-ru.cdn.ampproject.org</td>\n",
       "    </tr>\n",
       "    <tr>\n",
       "      <th>32277531</th>\n",
       "      <td>1.000000</td>\n",
       "      <td>1</td>\n",
       "      <td>1</td>\n",
       "      <td>0.000000</td>\n",
       "      <td>1.000000</td>\n",
       "      <td>260127</td>\n",
       "      <td>mcgrp.ru</td>\n",
       "    </tr>\n",
       "    <tr>\n",
       "      <th>32277532</th>\n",
       "      <td>2.000000</td>\n",
       "      <td>2</td>\n",
       "      <td>2</td>\n",
       "      <td>0.000000</td>\n",
       "      <td>2.000000</td>\n",
       "      <td>260127</td>\n",
       "      <td>click.mail.ru</td>\n",
       "    </tr>\n",
       "    <tr>\n",
       "      <th>32277533</th>\n",
       "      <td>1.000000</td>\n",
       "      <td>1</td>\n",
       "      <td>1</td>\n",
       "      <td>0.000000</td>\n",
       "      <td>1.000000</td>\n",
       "      <td>260127</td>\n",
       "      <td>kakoysegodnyaprazdnik.ru</td>\n",
       "    </tr>\n",
       "    <tr>\n",
       "      <th>32277534</th>\n",
       "      <td>1.000000</td>\n",
       "      <td>1</td>\n",
       "      <td>1</td>\n",
       "      <td>0.000000</td>\n",
       "      <td>1.000000</td>\n",
       "      <td>260127</td>\n",
       "      <td>faq.whatsapp.com</td>\n",
       "    </tr>\n",
       "  </tbody>\n",
       "</table>\n",
       "<p>11258013 rows × 7 columns</p>\n",
       "</div>"
      ],
      "text/plain": [
       "          request_cnt_sum  request_cnt_min  request_cnt_max  \\\n",
       "0               12.000000                1                2   \n",
       "1              329.382408                1                6   \n",
       "2              174.000000                1                4   \n",
       "3              305.000000                1                5   \n",
       "4              329.382408                1                5   \n",
       "...                   ...              ...              ...   \n",
       "32277530         1.000000                1                1   \n",
       "32277531         1.000000                1                1   \n",
       "32277532         2.000000                2                2   \n",
       "32277533         1.000000                1                1   \n",
       "32277534         1.000000                1                1   \n",
       "\n",
       "          request_cnt_stddev  request_cnt_mean  user_id  \\\n",
       "0                   0.287480          1.090909    45098   \n",
       "1                   1.099694          1.874046    45098   \n",
       "2                   0.656000          1.392000    45098   \n",
       "3                   1.018156          1.732955    45098   \n",
       "4                   1.113451          1.939130    45098   \n",
       "...                      ...               ...      ...   \n",
       "32277530            0.000000          1.000000   260127   \n",
       "32277531            0.000000          1.000000   260127   \n",
       "32277532            0.000000          2.000000   260127   \n",
       "32277533            0.000000          1.000000   260127   \n",
       "32277534            0.000000          1.000000   260127   \n",
       "\n",
       "                                url_host  \n",
       "0                          ad.adriver.ru  \n",
       "1                              apple.com  \n",
       "2                 avatars.mds.yandex.net  \n",
       "3            googleads.g.doubleclick.net  \n",
       "4                            i.ytimg.com  \n",
       "...                                  ...  \n",
       "32277530  m-gazeta-ru.cdn.ampproject.org  \n",
       "32277531                        mcgrp.ru  \n",
       "32277532                   click.mail.ru  \n",
       "32277533        kakoysegodnyaprazdnik.ru  \n",
       "32277534                faq.whatsapp.com  \n",
       "\n",
       "[11258013 rows x 7 columns]"
      ]
     },
     "execution_count": 22,
     "metadata": {},
     "output_type": "execute_result"
    }
   ],
   "source": [
    "data_agg[~data_agg.user_id.isin(usr_targets.user_id.values)]"
   ]
  },
  {
   "cell_type": "code",
   "execution_count": null,
   "id": "4029391e",
   "metadata": {},
   "outputs": [],
   "source": []
  },
  {
   "cell_type": "code",
   "execution_count": 23,
   "id": "bde3b504",
   "metadata": {},
   "outputs": [],
   "source": [
    "import faiss\n",
    "\n",
    "def set1 (items) :\n",
    "    item_set = set(items)\n",
    "    #print(f'{len(items)} items')\n",
    "    item_dict = {item: iditem for item, iditem in zip(item_set, range(len(item_set)))}\n",
    "    items_new = np.array(items.map(item_dict))\n",
    "    return(item_dict, items_new)\n",
    "    \n",
    "def alsals (values, rows, cols, factors=50, iterations=30, clusters=400) :\n",
    "    \n",
    "    #values = np.array(data_agg['request_cnt_sum'])\n",
    "    #rows   = np.array(data_agg['user_id'].map(usr_dict))\n",
    "    #cols   = np.array(data_agg['url_host'].map(url_dict))\n",
    "    mat = scipy.sparse.coo_matrix((values, (rows, cols)), shape=(rows.max() + 1, cols.max() + 1))\n",
    "    als = implicit.approximate_als.FaissAlternatingLeastSquares(factors = factors, iterations = iterations, \\\n",
    "           #use_gpu = True, nlist=clusters, \\\n",
    "           use_gpu = False, nlist=clusters, \\\n",
    "           calculate_training_loss = False, regularization = 0.1)\n",
    "           #calculate_training_loss = False, regularization = 0.1)\n",
    "    als.fit(mat)\n",
    "    u_factors = als.model.user_factors \n",
    "    d_factors = als.model.item_factors\n",
    "    \n",
    "    return u_factors\n",
    "\n",
    "def doMatrix (users, items, values, clusters=400, factors=50, iterations=30) :\n",
    "    users_dict, users_new = set1(users)\n",
    "    items_dict, items_new = set1(items)\n",
    "\n",
    "    uu = alsals(values,users_new,items_new, clusters=clusters, factors=factors, iterations=iterations)\n",
    "    uu = pd.DataFrame(uu)\n",
    "\n",
    "    inv_users_dict = {v: k for k, v in users_dict.items()}\n",
    "    uu['user_id'] = uu.index.map(inv_users_dict)\n",
    "    return uu"
   ]
  },
  {
   "cell_type": "code",
   "execution_count": 24,
   "id": "10ca5794",
   "metadata": {},
   "outputs": [
    {
     "data": {
      "application/vnd.jupyter.widget-view+json": {
       "model_id": "682108e63fbb452893e5f8dfc13f47d0",
       "version_major": 2,
       "version_minor": 0
      },
      "text/plain": [
       "  0%|          | 0/50 [00:00<?, ?it/s]"
      ]
     },
     "metadata": {},
     "output_type": "display_data"
    },
    {
     "data": {
      "application/vnd.jupyter.widget-view+json": {
       "model_id": "844e9ffac6b9472c80fec02c69964503",
       "version_major": 2,
       "version_minor": 0
      },
      "text/plain": [
       "  0%|          | 0/50 [00:00<?, ?it/s]"
      ]
     },
     "metadata": {},
     "output_type": "display_data"
    },
    {
     "data": {
      "application/vnd.jupyter.widget-view+json": {
       "model_id": "eff1a8671d444ba69d9276e908c8d003",
       "version_major": 2,
       "version_minor": 0
      },
      "text/plain": [
       "  0%|          | 0/50 [00:00<?, ?it/s]"
      ]
     },
     "metadata": {},
     "output_type": "display_data"
    },
    {
     "name": "stderr",
     "output_type": "stream",
     "text": [
      "WARNING clustering 28 points to 10 centroids: please provide at least 390 training points\n"
     ]
    },
    {
     "name": "stdout",
     "output_type": "stream",
     "text": [
      "CPU times: user 2h 19min 49s, sys: 2min 39s, total: 2h 22min 28s\n",
      "Wall time: 20min 45s\n"
     ]
    }
   ],
   "source": [
    "%%time\n",
    "\n",
    "if 1 :\n",
    "    u12= doMatrix(pd.concat([#data_agg.user_id, \\\n",
    "                         data_agg.user_id, \\\n",
    "                         data_agg.user_id, \\\n",
    "                         data_agg.user_id, \\\n",
    "                         #data_agg.user_id, \\\n",
    "                        ], ignore_index=True),\n",
    "              pd.concat([#data_agg.url_host,\\\n",
    "                         data_agg.url_host,\\\n",
    "                         data_agg.url_host,\\\n",
    "                         data_agg.url_host,\\\n",
    "                         #data_agg.url_host,\\\n",
    "                        ], ignore_index=True),\\\n",
    "              pd.concat([#data_agg.request_cnt_sum,\\\n",
    "                         data_agg.request_cnt_mean/np.mean(data_agg.request_cnt_mean) \\\n",
    "                         *np.mean(data_agg.request_cnt_sum), \\\n",
    "                         data_agg.request_cnt_max/np.mean(data_agg.request_cnt_max) \\\n",
    "                         *np.mean(data_agg.request_cnt_sum), \\\n",
    "                         data_agg.request_cnt_min/np.mean(data_agg.request_cnt_min) \\\n",
    "                         *np.mean(data_agg.request_cnt_sum), \\\n",
    "                         #data_agg.request_cnt_stddev/np.mean(data_agg.request_cnt_stddev) \\\n",
    "                         #*np.mean(data_agg.request_cnt_sum), \\\n",
    "                        ], ignore_index=True).fillna(0),\n",
    "              #clusters=400, factors=50)\n",
    "              #clusters=400, factors=350, iterations=30)     \n",
    "              #clusters=400, factors=550, iterations=30)\n",
    "              #clusters=400, factors=3000, iterations=30)\n",
    "              #clusters=400, factors=150, iterations=30)\n",
    "              clusters=400, factors=150, iterations=50)\n",
    "\n",
    "if 1 :\n",
    "    u12x1= doMatrix(pd.concat([#data_agg.user_id, \\\n",
    "                         #data_agg.user_id, \\\n",
    "                         data_tf_idf.user_id, \\\n",
    "                         data_tf_idf.user_id, \\\n",
    "                         #data_tf_idf.user_id, \\\n",
    "                         #data_aggB.user_id, \\\n",
    "                         #data_aggB.user_id, \\\n",
    "                        ], ignore_index=True),\n",
    "              pd.concat([#data_agg.url_host,\\\n",
    "                         #data_agg.url_host,\\\n",
    "                         data_tf_idf.url_host,\\\n",
    "                         data_tf_idf.url_host,\\\n",
    "                         #data_tf_idf.url_host, \\\n",
    "                         #data_aggB.part_of_day, \\\n",
    "                         #data_aggB.part_of_day, \\\n",
    "                         #data_aggB.DW,\n",
    "                         #data_aggB.DW,\n",
    "                        ], ignore_index=True),\\\n",
    "              pd.concat([#data_agg.request_cnt_sum,\\\n",
    "                         #data_agg.request_cnt_mean/np.mean(data_agg.request_cnt_mean)* \\\n",
    "                         #         np.mean(data_agg.request_cnt_sum), \\\n",
    "                         data_tf_idf.tf_idf/np.mean(data_tf_idf.tf_idf)*np.mean(data_agg.request_cnt_sum), \\\n",
    "                         data_tf_idf.tf/np.mean(data_tf_idf.tf)*np.mean(data_agg.request_cnt_sum), \\\n",
    "                         #data_tf_idf.idf/np.mean(data_tf_idf.idf)*np.mean(data_agg.request_cnt_sum), \\\n",
    "                         #data_aggB.request_cnt_sum/np.mean(data_aggB.request_cnt_sum)* \\\n",
    "                         #  np.mean(data_agg.request_cnt_sum), \\\n",
    "                         #data_aggB.request_cnt_mean/np.mean(data_aggB.request_cnt_mean)* \\\n",
    "                         #  np.mean(data_agg.request_cnt_sum), \\\n",
    "                        ], ignore_index=True),\n",
    "              #clusters=400, factors=50)\n",
    "              #clusters=400, factors=350, iterations=30)     \n",
    "              #clusters=400, factors=550, iterations=30)\n",
    "              #clusters=400, factors=3000, iterations=30)\n",
    "              #clusters=400, factors=150, iterations=30)\n",
    "              clusters=400, factors=150, iterations=50)\n",
    "\n",
    "if 1 :\n",
    "    data_aggB['DW'] = 'DW' + pd.to_datetime(data_aggB.date).dt.day_of_week.astype(str) + '.' + data_aggB.part_of_day\n",
    "    u12x2= doMatrix(pd.concat([#data_agg.user_id, \\\n",
    "                         data_aggB.user_id, \\\n",
    "                        ], ignore_index=True),\n",
    "              pd.concat([#data_agg.url_host,\\\n",
    "                         data_aggB.DW,\n",
    "                        ], ignore_index=True),\\\n",
    "              pd.concat([#data_agg.request_cnt_sum,\\\n",
    "                         data_aggB.request_cnt_stddev/np.mean(data_aggB.request_cnt_stddev)* \\\n",
    "                           np.mean(data_agg.request_cnt_sum), \\\n",
    "                        ], ignore_index=True),\n",
    "              clusters=10, factors=150, iterations=50)\n",
    "\n"
   ]
  },
  {
   "cell_type": "code",
   "execution_count": 25,
   "id": "2392ccbc",
   "metadata": {},
   "outputs": [
    {
     "data": {
      "text/plain": [
       "((415317, 151), (415317, 192))"
      ]
     },
     "execution_count": 25,
     "metadata": {},
     "output_type": "execute_result"
    }
   ],
   "source": [
    "u12.shape, data_aggC.shape"
   ]
  },
  {
   "cell_type": "code",
   "execution_count": null,
   "id": "a97ca6f0",
   "metadata": {},
   "outputs": [],
   "source": []
  },
  {
   "cell_type": "markdown",
   "id": "ed2944b0",
   "metadata": {},
   "source": [
    "## Получим оценку по полу"
   ]
  },
  {
   "cell_type": "code",
   "execution_count": 98,
   "id": "c2f7f21d",
   "metadata": {
    "scrolled": true
   },
   "outputs": [
    {
     "name": "stdout",
     "output_type": "stream",
     "text": [
      "CPU times: user 6.13 s, sys: 1.46 s, total: 7.58 s\n",
      "Wall time: 7.57 s\n"
     ]
    },
    {
     "data": {
      "text/plain": [
       "1    135331\n",
       "0    128994\n",
       "Name: is_male, dtype: int64"
      ]
     },
     "execution_count": 98,
     "metadata": {},
     "output_type": "execute_result"
    }
   ],
   "source": [
    "%%time\n",
    "\n",
    "usr_emb = u12\n",
    "usr_emb = usr_emb.merge(u12x1,     how = 'inner', on = ['user_id'], suffixes=('_x1','_x1x1'))\n",
    "usr_emb = usr_emb.merge(u12x2,     how = 'inner', on = ['user_id'], suffixes=('_x1','_x1x2'))\n",
    "usr_emb = usr_emb.merge(data_aggC, how = 'inner', on = ['user_id'], suffixes=('_u12','_aggC'))\n",
    "\n",
    "cat_features  = ['cpe_model_os_type_max', 'cpe_manufacturer_name_max', \\\n",
    "                 'cpe_model_name_max', 'cpe_type_cd_max', \\\n",
    "                 'region_name_max','city_name_max',]\n",
    "\n",
    "#usr_emb[cat_features] = usr_emb[cat_features].fillna(' ')\n",
    "#usr_emb = usr_emb.fillna(-1)\n",
    "\n",
    "usr_targets = targets.to_pandas()\n",
    "df = usr_targets.merge(usr_emb,   how = 'inner', on = ['user_id'])\n",
    "df = df[df['is_male'] != 'NA']\n",
    "df = df.dropna()\n",
    "df['is_male'] = df['is_male'].map(int)\n",
    "df['is_male'].value_counts()"
   ]
  },
  {
   "cell_type": "code",
   "execution_count": 99,
   "id": "b657a390",
   "metadata": {},
   "outputs": [
    {
     "data": {
      "text/plain": [
       "((264325, 644),\n",
       " ['cpe_model_os_type_max',\n",
       "  'cpe_manufacturer_name_max',\n",
       "  'cpe_model_name_max',\n",
       "  'cpe_type_cd_max',\n",
       "  'region_name_max',\n",
       "  'city_name_max'])"
      ]
     },
     "execution_count": 99,
     "metadata": {},
     "output_type": "execute_result"
    }
   ],
   "source": [
    "#df1 = df\n",
    "#df = df.drop('price_max',axis=1)\n",
    "df.shape, cat_features #,cat_feature_"
   ]
  },
  {
   "cell_type": "code",
   "execution_count": 100,
   "id": "0ff90ad8",
   "metadata": {},
   "outputs": [
    {
     "data": {
      "text/plain": [
       "(array([0.97602573, 1.02397427]), 2.0)"
      ]
     },
     "execution_count": 100,
     "metadata": {},
     "output_type": "execute_result"
    }
   ],
   "source": [
    "class_weights = np.unique(df['is_male'].values, return_counts=True)[1]\n",
    "#class_weights[1] += class_weights[0]\n",
    "#class_weights[0]  = 1\n",
    "class_sum = np.sum(class_weights); class_weights, class_sum\n",
    "class_weights = class_weights / class_sum * class_weights.shape[0]\n",
    "class_weights, np.sum(class_weights)"
   ]
  },
  {
   "cell_type": "code",
   "execution_count": 121,
   "id": "1419fb8a",
   "metadata": {},
   "outputs": [
    {
     "name": "stdout",
     "output_type": "stream",
     "text": [
      "2023-03-29 13:53:42.005430\n"
     ]
    },
    {
     "data": {
      "application/vnd.jupyter.widget-view+json": {
       "model_id": "da7e98fee05e4b539d52c9c1a8126550",
       "version_major": 2,
       "version_minor": 0
      },
      "text/plain": [
       "MetricVisualizer(layout=Layout(align_self='stretch', height='500px'))"
      ]
     },
     "metadata": {},
     "output_type": "display_data"
    },
    {
     "name": "stdout",
     "output_type": "stream",
     "text": [
      "GINI по полу 0.745\n",
      "CPU times: user 50min 26s, sys: 51.8 s, total: 51min 18s\n",
      "Wall time: 6min 57s\n"
     ]
    }
   ],
   "source": [
    "%%time\n",
    "print(datetime.datetime.now())\n",
    "x_train, x_test, y_train, y_test = train_test_split(\\\n",
    "    df.drop(['user_id', 'age', 'is_male'], axis = 1), df['is_male'], \n",
    "    test_size = 0.2, stratify=df['is_male'].values, random_state = SPLIT_SEED)\n",
    "\n",
    "#clf1 = CatBoostClassifier(iterations=3500, early_stopping_rounds=25, \n",
    "clf1 = CatBoostClassifier(early_stopping_rounds=25, \n",
    "                          cat_features=cat_features, \n",
    "                          #task_type='GPU', devices='0:1',\n",
    "                          iterations=4000, max_depth=4, #learning_rate=0.017395,\n",
    "                          #n_estimators=7750, max_depth=8, learning_rate=0.017395,\n",
    "                          #class_weights=class_weights,\n",
    "                          auto_class_weights = 'SqrtBalanced',\n",
    "                          one_hot_max_size=10)\n",
    "\n",
    "#n_estimators=7750, max_depth=8, learning_rate=0.017395\n",
    "clf1.fit(x_train, y_train, verbose = False, eval_set=(x_test,y_test), \n",
    "         use_best_model=True, plot=True)\n",
    "print(f'GINI по полу {2 * m.roc_auc_score(y_test, clf1.predict_proba(x_test)[:,1]) - 1:2.3f}')"
   ]
  },
  {
   "cell_type": "code",
   "execution_count": 122,
   "id": "273f12f0",
   "metadata": {},
   "outputs": [
    {
     "data": {
      "text/plain": [
       "{'nan_mode': 'Min',\n",
       " 'eval_metric': 'Logloss',\n",
       " 'combinations_ctr': ['Borders:CtrBorderCount=15:CtrBorderType=Uniform:TargetBorderCount=1:TargetBorderType=MinEntropy:Prior=0/1:Prior=0.5/1:Prior=1/1',\n",
       "  'Counter:CtrBorderCount=15:CtrBorderType=Uniform:Prior=0/1'],\n",
       " 'iterations': 3500,\n",
       " 'sampling_frequency': 'PerTree',\n",
       " 'fold_permutation_block': 0,\n",
       " 'leaf_estimation_method': 'Newton',\n",
       " 'od_pval': 0,\n",
       " 'counter_calc_method': 'SkipTest',\n",
       " 'grow_policy': 'SymmetricTree',\n",
       " 'penalties_coefficient': 1,\n",
       " 'boosting_type': 'Plain',\n",
       " 'model_shrink_mode': 'Constant',\n",
       " 'feature_border_type': 'GreedyLogSum',\n",
       " 'ctr_leaf_count_limit': 18446744073709551615,\n",
       " 'bayesian_matrix_reg': 0.10000000149011612,\n",
       " 'one_hot_max_size': 10,\n",
       " 'l2_leaf_reg': 3,\n",
       " 'random_strength': 1,\n",
       " 'od_type': 'Iter',\n",
       " 'rsm': 1,\n",
       " 'boost_from_average': False,\n",
       " 'max_ctr_complexity': 4,\n",
       " 'model_size_reg': 0.5,\n",
       " 'simple_ctr': ['Borders:CtrBorderCount=15:CtrBorderType=Uniform:TargetBorderCount=1:TargetBorderType=MinEntropy:Prior=0/1:Prior=0.5/1:Prior=1/1',\n",
       "  'Counter:CtrBorderCount=15:CtrBorderType=Uniform:Prior=0/1'],\n",
       " 'pool_metainfo_options': {'tags': {}},\n",
       " 'subsample': 0.800000011920929,\n",
       " 'use_best_model': True,\n",
       " 'od_wait': 25,\n",
       " 'class_names': [0, 1],\n",
       " 'random_seed': 0,\n",
       " 'depth': 4,\n",
       " 'ctr_target_border_count': 1,\n",
       " 'posterior_sampling': False,\n",
       " 'has_time': False,\n",
       " 'store_all_simple_ctr': False,\n",
       " 'border_count': 254,\n",
       " 'class_weights': [1.0242706537246704, 1],\n",
       " 'classes_count': 0,\n",
       " 'auto_class_weights': 'SqrtBalanced',\n",
       " 'sparse_features_conflict_fraction': 0,\n",
       " 'leaf_estimation_backtracking': 'AnyImprovement',\n",
       " 'best_model_min_trees': 1,\n",
       " 'model_shrink_rate': 0,\n",
       " 'min_data_in_leaf': 1,\n",
       " 'loss_function': 'Logloss',\n",
       " 'learning_rate': 0.06895600259304047,\n",
       " 'score_function': 'Cosine',\n",
       " 'task_type': 'CPU',\n",
       " 'leaf_estimation_iterations': 10,\n",
       " 'bootstrap_type': 'MVS',\n",
       " 'max_leaves': 16,\n",
       " 'permutation_count': 4}"
      ]
     },
     "execution_count": 122,
     "metadata": {},
     "output_type": "execute_result"
    }
   ],
   "source": [
    "#clf1.get_all_params()"
   ]
  },
  {
   "cell_type": "code",
   "execution_count": null,
   "id": "0159b014",
   "metadata": {},
   "outputs": [],
   "source": []
  },
  {
   "cell_type": "code",
   "execution_count": null,
   "id": "68f9441e",
   "metadata": {},
   "outputs": [],
   "source": []
  },
  {
   "cell_type": "code",
   "execution_count": 124,
   "id": "cdc292de",
   "metadata": {},
   "outputs": [
    {
     "name": "stdout",
     "output_type": "stream",
     "text": [
      "2023-03-29 14:02:23.393441\n"
     ]
    },
    {
     "ename": "CatBoostError",
     "evalue": "There is no trained model to use predict_proba(). Use fit() to train model. Then use this method.",
     "output_type": "error",
     "traceback": [
      "\u001b[0;31m---------------------------------------------------------------------------\u001b[0m",
      "\u001b[0;31mCatBoostError\u001b[0m                             Traceback (most recent call last)",
      "\u001b[0;32m<timed exec>\u001b[0m in \u001b[0;36m<module>\u001b[0;34m\u001b[0m\n",
      "\u001b[0;32m~/anaconda3/lib/python3.7/site-packages/catboost/core.py\u001b[0m in \u001b[0;36mpredict_proba\u001b[0;34m(self, X, ntree_start, ntree_end, thread_count, verbose, task_type)\u001b[0m\n\u001b[1;32m   4767\u001b[0m                 \u001b[0;32mwith\u001b[0m \u001b[0mprobability\u001b[0m \u001b[0;32mfor\u001b[0m \u001b[0mevery\u001b[0m \u001b[0;32mclass\u001b[0m \u001b[0;32mfor\u001b[0m \u001b[0meach\u001b[0m \u001b[0mobject\u001b[0m\u001b[0;34m.\u001b[0m\u001b[0;34m\u001b[0m\u001b[0;34m\u001b[0m\u001b[0m\n\u001b[1;32m   4768\u001b[0m         \"\"\"\n\u001b[0;32m-> 4769\u001b[0;31m         \u001b[0;32mreturn\u001b[0m \u001b[0mself\u001b[0m\u001b[0;34m.\u001b[0m\u001b[0m_predict\u001b[0m\u001b[0;34m(\u001b[0m\u001b[0mX\u001b[0m\u001b[0;34m,\u001b[0m \u001b[0;34m'Probability'\u001b[0m\u001b[0;34m,\u001b[0m \u001b[0mntree_start\u001b[0m\u001b[0;34m,\u001b[0m \u001b[0mntree_end\u001b[0m\u001b[0;34m,\u001b[0m \u001b[0mthread_count\u001b[0m\u001b[0;34m,\u001b[0m \u001b[0mverbose\u001b[0m\u001b[0;34m,\u001b[0m \u001b[0;34m'predict_proba'\u001b[0m\u001b[0;34m,\u001b[0m \u001b[0mtask_type\u001b[0m\u001b[0;34m)\u001b[0m\u001b[0;34m\u001b[0m\u001b[0;34m\u001b[0m\u001b[0m\n\u001b[0m\u001b[1;32m   4770\u001b[0m \u001b[0;34m\u001b[0m\u001b[0m\n\u001b[1;32m   4771\u001b[0m \u001b[0;34m\u001b[0m\u001b[0m\n",
      "\u001b[0;32m~/anaconda3/lib/python3.7/site-packages/catboost/core.py\u001b[0m in \u001b[0;36m_predict\u001b[0;34m(self, data, prediction_type, ntree_start, ntree_end, thread_count, verbose, parent_method_name, task_type)\u001b[0m\n\u001b[1;32m   2175\u001b[0m         \u001b[0;32mif\u001b[0m \u001b[0mverbose\u001b[0m \u001b[0;32mis\u001b[0m \u001b[0;32mNone\u001b[0m\u001b[0;34m:\u001b[0m\u001b[0;34m\u001b[0m\u001b[0;34m\u001b[0m\u001b[0m\n\u001b[1;32m   2176\u001b[0m             \u001b[0mverbose\u001b[0m \u001b[0;34m=\u001b[0m \u001b[0;32mFalse\u001b[0m\u001b[0;34m\u001b[0m\u001b[0;34m\u001b[0m\u001b[0m\n\u001b[0;32m-> 2177\u001b[0;31m         \u001b[0mdata\u001b[0m\u001b[0;34m,\u001b[0m \u001b[0mdata_is_single_object\u001b[0m \u001b[0;34m=\u001b[0m \u001b[0mself\u001b[0m\u001b[0;34m.\u001b[0m\u001b[0m_process_predict_input_data\u001b[0m\u001b[0;34m(\u001b[0m\u001b[0mdata\u001b[0m\u001b[0;34m,\u001b[0m \u001b[0mparent_method_name\u001b[0m\u001b[0;34m,\u001b[0m \u001b[0mthread_count\u001b[0m\u001b[0;34m)\u001b[0m\u001b[0;34m\u001b[0m\u001b[0;34m\u001b[0m\u001b[0m\n\u001b[0m\u001b[1;32m   2178\u001b[0m         \u001b[0mself\u001b[0m\u001b[0;34m.\u001b[0m\u001b[0m_validate_prediction_type\u001b[0m\u001b[0;34m(\u001b[0m\u001b[0mprediction_type\u001b[0m\u001b[0;34m)\u001b[0m\u001b[0;34m\u001b[0m\u001b[0;34m\u001b[0m\u001b[0m\n\u001b[1;32m   2179\u001b[0m \u001b[0;34m\u001b[0m\u001b[0m\n",
      "\u001b[0;32m~/anaconda3/lib/python3.7/site-packages/catboost/core.py\u001b[0m in \u001b[0;36m_process_predict_input_data\u001b[0;34m(self, data, parent_method_name, thread_count, label)\u001b[0m\n\u001b[1;32m   2152\u001b[0m         \u001b[0;32mif\u001b[0m \u001b[0;32mnot\u001b[0m \u001b[0mself\u001b[0m\u001b[0;34m.\u001b[0m\u001b[0mis_fitted\u001b[0m\u001b[0;34m(\u001b[0m\u001b[0;34m)\u001b[0m \u001b[0;32mor\u001b[0m \u001b[0mself\u001b[0m\u001b[0;34m.\u001b[0m\u001b[0mtree_count_\u001b[0m \u001b[0;32mis\u001b[0m \u001b[0;32mNone\u001b[0m\u001b[0;34m:\u001b[0m\u001b[0;34m\u001b[0m\u001b[0;34m\u001b[0m\u001b[0m\n\u001b[1;32m   2153\u001b[0m             raise CatBoostError((\"There is no trained model to use {}(). \"\n\u001b[0;32m-> 2154\u001b[0;31m                                  \"Use fit() to train model. Then use this method.\").format(parent_method_name))\n\u001b[0m\u001b[1;32m   2155\u001b[0m         \u001b[0mis_single_object\u001b[0m \u001b[0;34m=\u001b[0m \u001b[0m_is_data_single_object\u001b[0m\u001b[0;34m(\u001b[0m\u001b[0mdata\u001b[0m\u001b[0;34m)\u001b[0m\u001b[0;34m\u001b[0m\u001b[0;34m\u001b[0m\u001b[0m\n\u001b[1;32m   2156\u001b[0m         \u001b[0;32mif\u001b[0m \u001b[0;32mnot\u001b[0m \u001b[0misinstance\u001b[0m\u001b[0;34m(\u001b[0m\u001b[0mdata\u001b[0m\u001b[0;34m,\u001b[0m \u001b[0mPool\u001b[0m\u001b[0;34m)\u001b[0m\u001b[0;34m:\u001b[0m\u001b[0;34m\u001b[0m\u001b[0;34m\u001b[0m\u001b[0m\n",
      "\u001b[0;31mCatBoostError\u001b[0m: There is no trained model to use predict_proba(). Use fit() to train model. Then use this method."
     ]
    }
   ],
   "source": [
    "%%time\n",
    "print(datetime.datetime.now())\n",
    "#clf.fit(df.drop(['user_id', 'age', 'is_male'], axis = 1), df['is_male'], verbose = False)\n",
    "id_to_submit['is_male'] = clf1.predict_proba(id_to_submit[['user_id']].merge(usr_emb, how = 'inner', on = ['user_id']).\n",
    "                                            drop(['user_id'], axis=1))[:,1]"
   ]
  },
  {
   "cell_type": "code",
   "execution_count": null,
   "id": "8ef54feb",
   "metadata": {},
   "outputs": [],
   "source": []
  },
  {
   "cell_type": "code",
   "execution_count": 125,
   "id": "d3a4580b",
   "metadata": {
    "scrolled": false
   },
   "outputs": [
    {
     "ename": "CatBoostError",
     "evalue": "There is no trained model to use predict_proba(). Use fit() to train model. Then use this method.",
     "output_type": "error",
     "traceback": [
      "\u001b[0;31m---------------------------------------------------------------------------\u001b[0m",
      "\u001b[0;31mCatBoostError\u001b[0m                             Traceback (most recent call last)",
      "\u001b[0;32m/tmp/ipykernel_35533/2942271405.py\u001b[0m in \u001b[0;36m<module>\u001b[0;34m\u001b[0m\n\u001b[1;32m      5\u001b[0m \u001b[0;31m#plt.hist(clf1.predict_proba(x_test)[:,1])\u001b[0m\u001b[0;34m\u001b[0m\u001b[0;34m\u001b[0m\u001b[0;34m\u001b[0m\u001b[0m\n\u001b[1;32m      6\u001b[0m \u001b[0;31m#plt.show()\u001b[0m\u001b[0;34m\u001b[0m\u001b[0;34m\u001b[0m\u001b[0;34m\u001b[0m\u001b[0m\n\u001b[0;32m----> 7\u001b[0;31m \u001b[0my_proba\u001b[0m \u001b[0;34m=\u001b[0m \u001b[0mclf1\u001b[0m\u001b[0;34m.\u001b[0m\u001b[0mpredict_proba\u001b[0m\u001b[0;34m(\u001b[0m\u001b[0mx_test\u001b[0m\u001b[0;34m)\u001b[0m\u001b[0;34m[\u001b[0m\u001b[0;34m:\u001b[0m\u001b[0;34m,\u001b[0m\u001b[0;36m1\u001b[0m\u001b[0;34m]\u001b[0m\u001b[0;34m\u001b[0m\u001b[0;34m\u001b[0m\u001b[0m\n\u001b[0m\u001b[1;32m      8\u001b[0m \u001b[0maarg\u001b[0m \u001b[0;34m=\u001b[0m \u001b[0mnp\u001b[0m\u001b[0;34m.\u001b[0m\u001b[0margsort\u001b[0m\u001b[0;34m(\u001b[0m\u001b[0my_proba\u001b[0m\u001b[0;34m)\u001b[0m\u001b[0;34m\u001b[0m\u001b[0;34m\u001b[0m\u001b[0m\n\u001b[1;32m      9\u001b[0m \u001b[0mplt\u001b[0m\u001b[0;34m.\u001b[0m\u001b[0mplot\u001b[0m\u001b[0;34m(\u001b[0m\u001b[0my_proba\u001b[0m\u001b[0;34m[\u001b[0m\u001b[0maarg\u001b[0m\u001b[0;34m]\u001b[0m\u001b[0;34m)\u001b[0m \u001b[0;31m#,c=(250*y_test,y_test,0))\u001b[0m\u001b[0;34m\u001b[0m\u001b[0;34m\u001b[0m\u001b[0m\n",
      "\u001b[0;32m~/anaconda3/lib/python3.7/site-packages/catboost/core.py\u001b[0m in \u001b[0;36mpredict_proba\u001b[0;34m(self, X, ntree_start, ntree_end, thread_count, verbose, task_type)\u001b[0m\n\u001b[1;32m   4767\u001b[0m                 \u001b[0;32mwith\u001b[0m \u001b[0mprobability\u001b[0m \u001b[0;32mfor\u001b[0m \u001b[0mevery\u001b[0m \u001b[0;32mclass\u001b[0m \u001b[0;32mfor\u001b[0m \u001b[0meach\u001b[0m \u001b[0mobject\u001b[0m\u001b[0;34m.\u001b[0m\u001b[0;34m\u001b[0m\u001b[0;34m\u001b[0m\u001b[0m\n\u001b[1;32m   4768\u001b[0m         \"\"\"\n\u001b[0;32m-> 4769\u001b[0;31m         \u001b[0;32mreturn\u001b[0m \u001b[0mself\u001b[0m\u001b[0;34m.\u001b[0m\u001b[0m_predict\u001b[0m\u001b[0;34m(\u001b[0m\u001b[0mX\u001b[0m\u001b[0;34m,\u001b[0m \u001b[0;34m'Probability'\u001b[0m\u001b[0;34m,\u001b[0m \u001b[0mntree_start\u001b[0m\u001b[0;34m,\u001b[0m \u001b[0mntree_end\u001b[0m\u001b[0;34m,\u001b[0m \u001b[0mthread_count\u001b[0m\u001b[0;34m,\u001b[0m \u001b[0mverbose\u001b[0m\u001b[0;34m,\u001b[0m \u001b[0;34m'predict_proba'\u001b[0m\u001b[0;34m,\u001b[0m \u001b[0mtask_type\u001b[0m\u001b[0;34m)\u001b[0m\u001b[0;34m\u001b[0m\u001b[0;34m\u001b[0m\u001b[0m\n\u001b[0m\u001b[1;32m   4770\u001b[0m \u001b[0;34m\u001b[0m\u001b[0m\n\u001b[1;32m   4771\u001b[0m \u001b[0;34m\u001b[0m\u001b[0m\n",
      "\u001b[0;32m~/anaconda3/lib/python3.7/site-packages/catboost/core.py\u001b[0m in \u001b[0;36m_predict\u001b[0;34m(self, data, prediction_type, ntree_start, ntree_end, thread_count, verbose, parent_method_name, task_type)\u001b[0m\n\u001b[1;32m   2175\u001b[0m         \u001b[0;32mif\u001b[0m \u001b[0mverbose\u001b[0m \u001b[0;32mis\u001b[0m \u001b[0;32mNone\u001b[0m\u001b[0;34m:\u001b[0m\u001b[0;34m\u001b[0m\u001b[0;34m\u001b[0m\u001b[0m\n\u001b[1;32m   2176\u001b[0m             \u001b[0mverbose\u001b[0m \u001b[0;34m=\u001b[0m \u001b[0;32mFalse\u001b[0m\u001b[0;34m\u001b[0m\u001b[0;34m\u001b[0m\u001b[0m\n\u001b[0;32m-> 2177\u001b[0;31m         \u001b[0mdata\u001b[0m\u001b[0;34m,\u001b[0m \u001b[0mdata_is_single_object\u001b[0m \u001b[0;34m=\u001b[0m \u001b[0mself\u001b[0m\u001b[0;34m.\u001b[0m\u001b[0m_process_predict_input_data\u001b[0m\u001b[0;34m(\u001b[0m\u001b[0mdata\u001b[0m\u001b[0;34m,\u001b[0m \u001b[0mparent_method_name\u001b[0m\u001b[0;34m,\u001b[0m \u001b[0mthread_count\u001b[0m\u001b[0;34m)\u001b[0m\u001b[0;34m\u001b[0m\u001b[0;34m\u001b[0m\u001b[0m\n\u001b[0m\u001b[1;32m   2178\u001b[0m         \u001b[0mself\u001b[0m\u001b[0;34m.\u001b[0m\u001b[0m_validate_prediction_type\u001b[0m\u001b[0;34m(\u001b[0m\u001b[0mprediction_type\u001b[0m\u001b[0;34m)\u001b[0m\u001b[0;34m\u001b[0m\u001b[0;34m\u001b[0m\u001b[0m\n\u001b[1;32m   2179\u001b[0m \u001b[0;34m\u001b[0m\u001b[0m\n",
      "\u001b[0;32m~/anaconda3/lib/python3.7/site-packages/catboost/core.py\u001b[0m in \u001b[0;36m_process_predict_input_data\u001b[0;34m(self, data, parent_method_name, thread_count, label)\u001b[0m\n\u001b[1;32m   2152\u001b[0m         \u001b[0;32mif\u001b[0m \u001b[0;32mnot\u001b[0m \u001b[0mself\u001b[0m\u001b[0;34m.\u001b[0m\u001b[0mis_fitted\u001b[0m\u001b[0;34m(\u001b[0m\u001b[0;34m)\u001b[0m \u001b[0;32mor\u001b[0m \u001b[0mself\u001b[0m\u001b[0;34m.\u001b[0m\u001b[0mtree_count_\u001b[0m \u001b[0;32mis\u001b[0m \u001b[0;32mNone\u001b[0m\u001b[0;34m:\u001b[0m\u001b[0;34m\u001b[0m\u001b[0;34m\u001b[0m\u001b[0m\n\u001b[1;32m   2153\u001b[0m             raise CatBoostError((\"There is no trained model to use {}(). \"\n\u001b[0;32m-> 2154\u001b[0;31m                                  \"Use fit() to train model. Then use this method.\").format(parent_method_name))\n\u001b[0m\u001b[1;32m   2155\u001b[0m         \u001b[0mis_single_object\u001b[0m \u001b[0;34m=\u001b[0m \u001b[0m_is_data_single_object\u001b[0m\u001b[0;34m(\u001b[0m\u001b[0mdata\u001b[0m\u001b[0;34m)\u001b[0m\u001b[0;34m\u001b[0m\u001b[0;34m\u001b[0m\u001b[0m\n\u001b[1;32m   2156\u001b[0m         \u001b[0;32mif\u001b[0m \u001b[0;32mnot\u001b[0m \u001b[0misinstance\u001b[0m\u001b[0;34m(\u001b[0m\u001b[0mdata\u001b[0m\u001b[0;34m,\u001b[0m \u001b[0mPool\u001b[0m\u001b[0;34m)\u001b[0m\u001b[0;34m:\u001b[0m\u001b[0;34m\u001b[0m\u001b[0;34m\u001b[0m\u001b[0m\n",
      "\u001b[0;31mCatBoostError\u001b[0m: There is no trained model to use predict_proba(). Use fit() to train model. Then use this method."
     ]
    }
   ],
   "source": [
    "#plt.scatter(y_test, clf1.predict_proba(x_test)[:,1]) #,alpha=0.3,s=10*clf1.predict_proba(x_test)[:,1])\n",
    "#plt.show()\n",
    "\n",
    "#plt.hist(y_test)\n",
    "#plt.hist(clf1.predict_proba(x_test)[:,1])\n",
    "#plt.show()\n",
    "y_proba = clf1.predict_proba(x_test)[:,1]\n",
    "aarg = np.argsort(y_proba)\n",
    "plt.plot(y_proba[aarg]) #,c=(250*y_test,y_test,0))\n",
    "plt.plot([0,len(y_proba)],[0,1])\n",
    "plt.show()\n",
    "\n",
    "plt.hist2d(range(len(x_test)), y_proba[aarg], bins=(len(x_test),50))\n",
    "plt.show()"
   ]
  },
  {
   "cell_type": "code",
   "execution_count": null,
   "id": "f9dd08fd",
   "metadata": {},
   "outputs": [],
   "source": []
  },
  {
   "cell_type": "code",
   "execution_count": 120,
   "id": "b3b631fd",
   "metadata": {},
   "outputs": [
    {
     "name": "stdout",
     "output_type": "stream",
     "text": [
      "0 - 20509   25799   5290\n",
      "1 - 5953   27066   21113\n"
     ]
    },
    {
     "data": {
      "image/png": "[encoded data removed]",
      "text/plain": [
       "<Figure size 640x480 with 1 Axes>"
      ]
     },
     "metadata": {},
     "output_type": "display_data"
    }
   ],
   "source": [
    "import matplotlib.pyplot as plt\n",
    "import numpy as np\n",
    "\n",
    "yticks  = [1, 0,]\n",
    "legenda = []\n",
    "\n",
    "for k in [0,1]:\n",
    "    # Generate the random data for the y=k 'layer'.\n",
    "    \n",
    "    yy = y_proba[aarg][y_test.values[aarg]==k]\n",
    "    \n",
    "    xs = np.arange(len(yy))\n",
    "    ys = yy\n",
    "    \n",
    "    plt.plot(ys, alpha=0.8) #, color=cs, alpha=0.8)\n",
    "    \n",
    "    legenda.append(k)\n",
    "    \n",
    "    xx = np.argwhere(yy>=0.5)[0][0]; print(k,'-',xx,' ',len(yy), ' ', len(yy)-xx)\n",
    "    \n",
    "    plt.plot([xx,xx],[0,1.0])\n",
    "    legenda.append(str(k)+' vert')\n",
    "    \n",
    "    plt.text(xx, 0.52, str(xx))\n",
    "    \n",
    "    \n",
    "plt.legend(legenda)\n",
    "\n",
    "plt.plot([0,len(yy)],[0.5,0.5])\n",
    "\n",
    "plt.plot([np.argwhere(yy>=0.5)[0][0],np.argwhere(yy>=0.5)[0][0]],[0,1.0])\n",
    "\n",
    "plt.show()"
   ]
  },
  {
   "cell_type": "markdown",
   "id": "a3980236",
   "metadata": {},
   "source": [
    "## Получим оценку по возрасту"
   ]
  },
  {
   "cell_type": "code",
   "execution_count": 36,
   "id": "538812ec",
   "metadata": {},
   "outputs": [
    {
     "data": {
      "application/vnd.jupyter.widget-view+json": {
       "model_id": "1613a66e45d14b2b9c5d99338bfac36c",
       "version_major": 2,
       "version_minor": 0
      },
      "text/plain": [
       "  0%|          | 0/50 [00:00<?, ?it/s]"
      ]
     },
     "metadata": {},
     "output_type": "display_data"
    },
    {
     "name": "stdout",
     "output_type": "stream",
     "text": [
      "CPU times: user 2h 1min 7s, sys: 1min 18s, total: 2h 2min 26s\n",
      "Wall time: 16min 53s\n"
     ]
    }
   ],
   "source": [
    "%%time\n",
    "\n",
    "u20 = doMatrix(pd.concat([data_aggY.user_id, \\\n",
    "                         data_aggY.user_id, \\\n",
    "                         data_agg.user_id, \\\n",
    "                         data_agg.user_id, \\\n",
    "                         data_agg.user_id, \\\n",
    "                         data_tf_idfY.user_id, \\\n",
    "                         data_tf_idfY.user_id, \\\n",
    "                        ], ignore_index=True),\n",
    "              pd.concat([data_aggY.url_host,\\\n",
    "                         data_aggY.url_host,\\\n",
    "                         data_agg.url_host,\\\n",
    "                         data_agg.url_host,\\\n",
    "                         data_agg.url_host,\\\n",
    "                         data_tf_idfY.url_host,\\\n",
    "                         data_tf_idfY.url_host,\\\n",
    "                        ], ignore_index=True),\\\n",
    "              pd.concat([data_aggY.request_cnt_sum,\\\n",
    "                         data_aggY.request_cnt_mean/np.mean(data_aggY.request_cnt_mean)* \\\n",
    "                                  np.mean(data_aggY.request_cnt_sum), \\\n",
    "                         data_agg.request_cnt_max/np.mean(data_agg.request_cnt_max)* \\\n",
    "                                  np.mean(data_aggY.request_cnt_sum), \\\n",
    "                         data_agg.request_cnt_min/np.mean(data_agg.request_cnt_min)* \\\n",
    "                                  np.mean(data_aggY.request_cnt_sum), \\\n",
    "                         data_agg.request_cnt_stddev/np.mean(data_agg.request_cnt_stddev)* \\\n",
    "                                  np.mean(data_aggY.request_cnt_sum), \\\n",
    "                         data_tf_idfY.tf_idf/np.mean(data_tf_idfY.tf_idf)*np.mean(data_aggY.request_cnt_sum), \\\n",
    "                         data_tf_idfY.tf/np.mean(data_tf_idfY.tf)*np.mean(data_aggY.request_cnt_sum), \\\n",
    "                        ], ignore_index=True).fillna(0),\n",
    "              clusters=400, factors=350, iterations=50)"
   ]
  },
  {
   "cell_type": "code",
   "execution_count": 90,
   "id": "6f30563d",
   "metadata": {},
   "outputs": [
    {
     "data": {
      "text/plain": [
       "(415317, 351)"
      ]
     },
     "execution_count": 90,
     "metadata": {},
     "output_type": "execute_result"
    }
   ],
   "source": [
    "u20.shape"
   ]
  },
  {
   "cell_type": "code",
   "execution_count": 91,
   "id": "4a4f4726",
   "metadata": {},
   "outputs": [],
   "source": [
    "import seaborn as sns\n",
    "import matplotlib.pyplot as plt\n",
    "import plotly.express as px\n",
    "\n",
    "%matplotlib inline\n",
    "sns.set_style('darkgrid')"
   ]
  },
  {
   "cell_type": "code",
   "execution_count": 92,
   "id": "0f97ec5d",
   "metadata": {},
   "outputs": [],
   "source": [
    "def age_bucket(x):\n",
    "    return bisect.bisect_left([18,25,35,45,55,65], x)"
   ]
  },
  {
   "cell_type": "code",
   "execution_count": 126,
   "id": "5d38c185",
   "metadata": {},
   "outputs": [
    {
     "name": "stdout",
     "output_type": "stream",
     "text": [
      "(415317, 542) (269957, 544)\n"
     ]
    },
    {
     "data": {
      "image/png": "[encoded data removed]",
      "text/plain": [
       "<Figure size 640x480 with 1 Axes>"
      ]
     },
     "metadata": {},
     "output_type": "display_data"
    }
   ],
   "source": [
    "usr_embx2 = u20\n",
    "usr_embx2 = usr_embx2.merge(data_aggC, how = 'inner', on = ['user_id'], suffixes=('_u12','_aggC'))\n",
    "\n",
    "df = usr_targets.merge(usr_embx2, how = 'inner', on = ['user_id'])\n",
    "df = df[df['age'] != 'NA']\n",
    "df = df.dropna()\n",
    "df['age'] = df['age'].map(age_bucket)\n",
    "sns.histplot(df['age'], bins = 7)\n",
    "print(usr_embx2.shape,df.shape)"
   ]
  },
  {
   "cell_type": "code",
   "execution_count": 94,
   "id": "081f0064",
   "metadata": {},
   "outputs": [
    {
     "data": {
      "text/plain": [
       "(array([0.02683761, 0.84638294, 2.26291595, 2.00921628, 1.10052342,\n",
       "        0.61143071, 0.1426931 ]),\n",
       " 7.0)"
      ]
     },
     "execution_count": 94,
     "metadata": {},
     "output_type": "execute_result"
    }
   ],
   "source": [
    "class_weights = np.unique(df['age'].values, return_counts=True)[1]\n",
    "#class_weights[1] += class_weights[0]\n",
    "#class_weights[0]  = 1\n",
    "class_sum = np.sum(class_weights); class_weights, class_sum\n",
    "class_weights = class_weights / class_sum * class_weights.shape[0]\n",
    "class_weights, np.sum(class_weights)"
   ]
  },
  {
   "cell_type": "code",
   "execution_count": null,
   "id": "0ba4a557",
   "metadata": {},
   "outputs": [],
   "source": []
  },
  {
   "cell_type": "code",
   "execution_count": null,
   "id": "33ae9aaf",
   "metadata": {
    "scrolled": false
   },
   "outputs": [
    {
     "name": "stdout",
     "output_type": "stream",
     "text": [
      "2023-03-29 14:03:20.204554\n"
     ]
    },
    {
     "name": "stderr",
     "output_type": "stream",
     "text": [
      "Custom logger is already specified. Specify more than one logger at same time is not thread safe."
     ]
    },
    {
     "data": {
      "application/vnd.jupyter.widget-view+json": {
       "model_id": "ba9295622621454a9ce2107491eb9de7",
       "version_major": 2,
       "version_minor": 0
      },
      "text/plain": [
       "MetricVisualizer(layout=Layout(align_self='stretch', height='500px'))"
      ]
     },
     "metadata": {},
     "output_type": "display_data"
    }
   ],
   "source": [
    "%%time\n",
    "print(datetime.datetime.now())\n",
    "x_train, x_test, y_train, y_test = train_test_split(\\\n",
    "    #df.drop(['user_id', 'age', 'is_male'], axis = 1), df['age'], test_size = 0.33, random_state = SPLIT_SEED)\n",
    "    df.drop(['user_id', 'age', 'is_male'], axis = 1), df['age'], \n",
    "    test_size = 0.1, stratify=df['age'].values, random_state = SPLIT_SEED)\n",
    "\n",
    "#clf = CatBoostClassifier(iterations=3500, early_stopping_rounds=25, one_hot_max_size=10, cat_features=cat_features)\n",
    "clf = CatBoostClassifier(early_stopping_rounds=25, \n",
    "                          cat_features=cat_features, \n",
    "                          #task_type='GPU', devices='0:1',\n",
    "                          iterations=3500, max_depth=4, #learning_rate=0.017395,\n",
    "                          #n_estimators=7750, max_depth=8, learning_rate=0.017395,\n",
    "                          #class_weights=class_weights,\n",
    "                          auto_class_weights = 'SqrtBalanced',\n",
    "                          one_hot_max_size=10)\n",
    "\n",
    "#clf.fit(x_train, y_train, verbose = False)\n",
    "clf.fit(x_train, y_train, verbose = False, eval_set=(x_test,y_test), use_best_model=True,plot=True)\n",
    "print(m.classification_report(y_test, clf.predict(x_test), \\\n",
    "                            target_names = ['<18', '18-25','25-34', '35-44', '45-54', '55-65', '65+']))"
   ]
  },
  {
   "cell_type": "code",
   "execution_count": 38,
   "id": "71c81683",
   "metadata": {},
   "outputs": [
    {
     "ename": "SyntaxError",
     "evalue": "invalid syntax (2154498432.py, line 1)",
     "output_type": "error",
     "traceback": [
      "\u001b[0;36m  File \u001b[0;32m\"/tmp/ipykernel_335802/2154498432.py\"\u001b[0;36m, line \u001b[0;32m1\u001b[0m\n\u001b[0;31m    f1 0.01 0.38 0.55 0.44 0.27 0.27 0.03 - 0.44 0.28 0.41 (1.3164)\u001b[0m\n\u001b[0m          ^\u001b[0m\n\u001b[0;31mSyntaxError\u001b[0m\u001b[0;31m:\u001b[0m invalid syntax\n"
     ]
    }
   ],
   "source": [
    "f1 0.01 0.38 0.55 0.44 0.27 0.27 0.03 - 0.44 0.28 0.41 (1.3164)\n",
    "f1 0.00 0.39 0.55 0.44 0.27 0.27 0.04 - 0.44 0.28 0.42 (1.3110) (2*aggY    + tf)\n",
    "f1 0.00 0.35 0.53 0.43 0.25 0.26 0.02 - 0.42 0.26 0.40 (1.3396) (aggY+agg  + tf + idf)\n",
    "f1 0.00 0.38 0.54 0.44 0.27 0.27 0.03 - 0.44 0.28 0.41 (1.3145) (aggY+aggY + tf + idf) -400urls\n",
    "f1 0.01 0.39 0.55 0.45 0.27 0.27 0.03 - 0.44 0.28 0.42 (1.3078) (aggY+aggY + tf + idf) -600urls\n",
    "f1 0.00 0.40 0.55 0.45 0.27 0.28 0.04 - 0.44 0.28 0.42 (1.3073) (aggY+aggY + tf + idf) -500urls\n",
    "f1 0.01 0.40 0.55 0.45 0.27 0.28 0.02 - 0.44 0.28 0.42 (1.3068) (aggY+aggY + tf + idf) -450urls\n",
    "\n",
    "f1 0.01 0.41 0.56 0.46 0.28 0.30 0.04 - 0.45 0.29 0.43 (1.2834(1901)) (aggY+aggY + tf + idf) -450urls + aggC\n",
    "f1 0.02 0.42 0.56 0.47 0.30 0.30 0.03 - 0.46 0.30 0.44 (1.2750(2072)) (aggY+aggY+tf+idf) -450urls +aggC (250.30)\n",
    "f1 0.01 0.42 0.57 0.46 0.30 0.31 0.04 - 0.46 0.30 0.44 (1.2754(2325)) \n",
    "\n",
    "f1 0.01 0.41 0.56 0.46 0.30 0.29 0.02 - 0.46 0.29 0.44 (1.2738(2325)) \n",
    "\n",
    "\n",
    "\n",
    "f1 0.01 0.42 0.56 0.47 0.30 0.30 0.04 - 0.46 0.30 0.44 (als = 250.30 without)\n",
    "pr 0.25 0.53 0.50 0.42 0.39 0.41 0.41 - -    0.42 0.45\n",
    "re 0.01 0.34 0.64 0.52 0.24 0.24 0.02 - -    0.29 0.46"
   ]
  },
  {
   "cell_type": "code",
   "execution_count": 72,
   "id": "9a4a4dd0",
   "metadata": {},
   "outputs": [
    {
     "data": {
      "text/plain": [
       "(269957, 544)"
      ]
     },
     "execution_count": 72,
     "metadata": {},
     "output_type": "execute_result"
    }
   ],
   "source": [
    "clf.get_all_params()"
   ]
  },
  {
   "cell_type": "code",
   "execution_count": null,
   "id": "7016f879",
   "metadata": {},
   "outputs": [],
   "source": []
  },
  {
   "cell_type": "code",
   "execution_count": 73,
   "id": "2c73661d",
   "metadata": {},
   "outputs": [
    {
     "name": "stdout",
     "output_type": "stream",
     "text": [
      "2023-03-29 05:45:57.543215\n",
      "CPU times: user 5.8 s, sys: 408 ms, total: 6.21 s\n",
      "Wall time: 1.95 s\n"
     ]
    }
   ],
   "source": [
    "%%time\n",
    "print(datetime.datetime.now())\n",
    "#clf.fit(df.drop(['user_id', 'age', 'is_male'], axis = 1), df['age'], verbose = False)\n",
    "id_to_submit['age'] = clf.predict(id_to_submit[['user_id']].merge(usr_embx2, how = 'inner', on = ['user_id']).\n",
    "                                                            drop(['user_id'], axis=1))"
   ]
  },
  {
   "cell_type": "code",
   "execution_count": 74,
   "id": "446f4213",
   "metadata": {},
   "outputs": [
    {
     "data": {
      "text/plain": [
       "(269957, 544)"
      ]
     },
     "execution_count": 74,
     "metadata": {},
     "output_type": "execute_result"
    }
   ],
   "source": [
    "df.shape"
   ]
  },
  {
   "cell_type": "markdown",
   "id": "f55aa8ec",
   "metadata": {},
   "source": [
    "## Сабмит"
   ]
  },
  {
   "cell_type": "code",
   "execution_count": 87,
   "id": "af2b6647",
   "metadata": {
    "scrolled": true
   },
   "outputs": [
    {
     "data": {
      "text/html": [
       "<div>\n",
       "<style scoped>\n",
       "    .dataframe tbody tr th:only-of-type {\n",
       "        vertical-align: middle;\n",
       "    }\n",
       "\n",
       "    .dataframe tbody tr th {\n",
       "        vertical-align: top;\n",
       "    }\n",
       "\n",
       "    .dataframe thead th {\n",
       "        text-align: right;\n",
       "    }\n",
       "</style>\n",
       "<table border=\"1\" class=\"dataframe\">\n",
       "  <thead>\n",
       "    <tr style=\"text-align: right;\">\n",
       "      <th></th>\n",
       "      <th>user_id</th>\n",
       "      <th>is_male</th>\n",
       "      <th>age</th>\n",
       "    </tr>\n",
       "  </thead>\n",
       "  <tbody>\n",
       "    <tr>\n",
       "      <th>221301</th>\n",
       "      <td>221301</td>\n",
       "      <td>0.961713</td>\n",
       "      <td>2</td>\n",
       "    </tr>\n",
       "    <tr>\n",
       "      <th>31271</th>\n",
       "      <td>31271</td>\n",
       "      <td>0.518083</td>\n",
       "      <td>3</td>\n",
       "    </tr>\n",
       "    <tr>\n",
       "      <th>211594</th>\n",
       "      <td>211594</td>\n",
       "      <td>0.622261</td>\n",
       "      <td>2</td>\n",
       "    </tr>\n",
       "    <tr>\n",
       "      <th>253119</th>\n",
       "      <td>253119</td>\n",
       "      <td>0.618155</td>\n",
       "      <td>2</td>\n",
       "    </tr>\n",
       "    <tr>\n",
       "      <th>192578</th>\n",
       "      <td>192578</td>\n",
       "      <td>0.863694</td>\n",
       "      <td>2</td>\n",
       "    </tr>\n",
       "  </tbody>\n",
       "</table>\n",
       "</div>"
      ],
      "text/plain": [
       "        user_id   is_male  age\n",
       "221301   221301  0.961713    2\n",
       "31271     31271  0.518083    3\n",
       "211594   211594  0.622261    2\n",
       "253119   253119  0.618155    2\n",
       "192578   192578  0.863694    2"
      ]
     },
     "execution_count": 87,
     "metadata": {},
     "output_type": "execute_result"
    }
   ],
   "source": [
    "id_to_submit.head()"
   ]
  },
  {
   "cell_type": "code",
   "execution_count": 88,
   "id": "60024ea9",
   "metadata": {},
   "outputs": [],
   "source": [
    "id_to_submit.to_csv(f'{LOCAL_DATA_PATH}/submission50.csv', index = False)"
   ]
  },
  {
   "cell_type": "code",
   "execution_count": 89,
   "id": "a7298b7b",
   "metadata": {},
   "outputs": [
    {
     "name": "stdout",
     "output_type": "stream",
     "text": [
      "user_id,is_male,age\r\n",
      "221301,0.9617133212451425,2\r\n",
      "31271,0.5180827206583365,3\r\n",
      "211594,0.6222605351221602,2\r\n",
      "253119,0.618155160251199,2\r\n",
      "192578,0.8636937882198331,2\r\n",
      "268458,0.3605085403907382,2\r\n",
      "205507,0.5220870447310679,2\r\n",
      "341343,0.5706151997158829,3\r\n",
      "282144,0.05741027781332833,2\r\n"
     ]
    }
   ],
   "source": [
    "! head $LOCAL_DATA_PATH/submission50.csv"
   ]
  },
  {
   "cell_type": "markdown",
   "id": "4d6a7a85",
   "metadata": {},
   "source": [
    "# Скор на лидерборде"
   ]
  },
  {
   "cell_type": "code",
   "execution_count": 187,
   "id": "7164aa61",
   "metadata": {},
   "outputs": [],
   "source": [
    "#context_scorer(submission, answers)"
   ]
  },
  {
   "cell_type": "code",
   "execution_count": null,
   "id": "edc791ca",
   "metadata": {},
   "outputs": [],
   "source": []
  },
  {
   "cell_type": "code",
   "execution_count": 46,
   "id": "c37f704e",
   "metadata": {},
   "outputs": [
    {
     "data": {
      "text/html": [
       "<div>\n",
       "<style scoped>\n",
       "    .dataframe tbody tr th:only-of-type {\n",
       "        vertical-align: middle;\n",
       "    }\n",
       "\n",
       "    .dataframe tbody tr th {\n",
       "        vertical-align: top;\n",
       "    }\n",
       "\n",
       "    .dataframe thead th {\n",
       "        text-align: right;\n",
       "    }\n",
       "</style>\n",
       "<table border=\"1\" class=\"dataframe\">\n",
       "  <thead>\n",
       "    <tr style=\"text-align: right;\">\n",
       "      <th></th>\n",
       "      <th>Feature Id</th>\n",
       "      <th>Importances</th>\n",
       "    </tr>\n",
       "  </thead>\n",
       "  <tbody>\n",
       "    <tr>\n",
       "      <th>0</th>\n",
       "      <td>69_x1x1</td>\n",
       "      <td>2.217260</td>\n",
       "    </tr>\n",
       "    <tr>\n",
       "      <th>1</th>\n",
       "      <td>125_x1x1</td>\n",
       "      <td>2.150286</td>\n",
       "    </tr>\n",
       "    <tr>\n",
       "      <th>2</th>\n",
       "      <td>58_x1x1</td>\n",
       "      <td>1.944976</td>\n",
       "    </tr>\n",
       "    <tr>\n",
       "      <th>3</th>\n",
       "      <td>83_x1x1</td>\n",
       "      <td>1.866809</td>\n",
       "    </tr>\n",
       "    <tr>\n",
       "      <th>4</th>\n",
       "      <td>109_x1</td>\n",
       "      <td>1.662825</td>\n",
       "    </tr>\n",
       "    <tr>\n",
       "      <th>5</th>\n",
       "      <td>131_x1x1</td>\n",
       "      <td>1.608032</td>\n",
       "    </tr>\n",
       "    <tr>\n",
       "      <th>6</th>\n",
       "      <td>27_x1x1</td>\n",
       "      <td>1.303951</td>\n",
       "    </tr>\n",
       "    <tr>\n",
       "      <th>7</th>\n",
       "      <td>149_x1</td>\n",
       "      <td>1.264852</td>\n",
       "    </tr>\n",
       "    <tr>\n",
       "      <th>8</th>\n",
       "      <td>73_x1x1</td>\n",
       "      <td>1.251687</td>\n",
       "    </tr>\n",
       "    <tr>\n",
       "      <th>9</th>\n",
       "      <td>88_x1x1</td>\n",
       "      <td>1.177450</td>\n",
       "    </tr>\n",
       "    <tr>\n",
       "      <th>10</th>\n",
       "      <td>148_x1</td>\n",
       "      <td>1.092585</td>\n",
       "    </tr>\n",
       "    <tr>\n",
       "      <th>11</th>\n",
       "      <td>19_x1x1</td>\n",
       "      <td>1.090553</td>\n",
       "    </tr>\n",
       "    <tr>\n",
       "      <th>12</th>\n",
       "      <td>122_x1</td>\n",
       "      <td>1.033130</td>\n",
       "    </tr>\n",
       "    <tr>\n",
       "      <th>13</th>\n",
       "      <td>1_x1x1</td>\n",
       "      <td>0.984311</td>\n",
       "    </tr>\n",
       "    <tr>\n",
       "      <th>14</th>\n",
       "      <td>60_x1</td>\n",
       "      <td>0.925141</td>\n",
       "    </tr>\n",
       "    <tr>\n",
       "      <th>15</th>\n",
       "      <td>39_x1x1</td>\n",
       "      <td>0.896745</td>\n",
       "    </tr>\n",
       "    <tr>\n",
       "      <th>16</th>\n",
       "      <td>10_x1x1</td>\n",
       "      <td>0.877156</td>\n",
       "    </tr>\n",
       "    <tr>\n",
       "      <th>17</th>\n",
       "      <td>94_x1x1</td>\n",
       "      <td>0.863391</td>\n",
       "    </tr>\n",
       "    <tr>\n",
       "      <th>18</th>\n",
       "      <td>139_x1x1</td>\n",
       "      <td>0.846784</td>\n",
       "    </tr>\n",
       "    <tr>\n",
       "      <th>19</th>\n",
       "      <td>101_x1x1</td>\n",
       "      <td>0.845608</td>\n",
       "    </tr>\n",
       "    <tr>\n",
       "      <th>20</th>\n",
       "      <td>78_x1x1</td>\n",
       "      <td>0.792066</td>\n",
       "    </tr>\n",
       "    <tr>\n",
       "      <th>21</th>\n",
       "      <td>9_x1</td>\n",
       "      <td>0.778599</td>\n",
       "    </tr>\n",
       "    <tr>\n",
       "      <th>22</th>\n",
       "      <td>97_x1</td>\n",
       "      <td>0.776771</td>\n",
       "    </tr>\n",
       "    <tr>\n",
       "      <th>23</th>\n",
       "      <td>65_x1</td>\n",
       "      <td>0.755048</td>\n",
       "    </tr>\n",
       "    <tr>\n",
       "      <th>24</th>\n",
       "      <td>0_x1</td>\n",
       "      <td>0.754860</td>\n",
       "    </tr>\n",
       "    <tr>\n",
       "      <th>25</th>\n",
       "      <td>118_x1</td>\n",
       "      <td>0.747714</td>\n",
       "    </tr>\n",
       "    <tr>\n",
       "      <th>26</th>\n",
       "      <td>87_x1x1</td>\n",
       "      <td>0.736597</td>\n",
       "    </tr>\n",
       "    <tr>\n",
       "      <th>27</th>\n",
       "      <td>28_x1</td>\n",
       "      <td>0.728895</td>\n",
       "    </tr>\n",
       "    <tr>\n",
       "      <th>28</th>\n",
       "      <td>112_x1</td>\n",
       "      <td>0.724057</td>\n",
       "    </tr>\n",
       "    <tr>\n",
       "      <th>29</th>\n",
       "      <td>85_x1</td>\n",
       "      <td>0.716974</td>\n",
       "    </tr>\n",
       "    <tr>\n",
       "      <th>30</th>\n",
       "      <td>71_x1x1</td>\n",
       "      <td>0.683051</td>\n",
       "    </tr>\n",
       "    <tr>\n",
       "      <th>31</th>\n",
       "      <td>cpe_model_name_max</td>\n",
       "      <td>0.661159</td>\n",
       "    </tr>\n",
       "    <tr>\n",
       "      <th>32</th>\n",
       "      <td>134_x1</td>\n",
       "      <td>0.659170</td>\n",
       "    </tr>\n",
       "    <tr>\n",
       "      <th>33</th>\n",
       "      <td>130_x1x1</td>\n",
       "      <td>0.649069</td>\n",
       "    </tr>\n",
       "    <tr>\n",
       "      <th>34</th>\n",
       "      <td>145_x1</td>\n",
       "      <td>0.632524</td>\n",
       "    </tr>\n",
       "    <tr>\n",
       "      <th>35</th>\n",
       "      <td>121_x1x1</td>\n",
       "      <td>0.626217</td>\n",
       "    </tr>\n",
       "    <tr>\n",
       "      <th>36</th>\n",
       "      <td>51_x1</td>\n",
       "      <td>0.624840</td>\n",
       "    </tr>\n",
       "    <tr>\n",
       "      <th>37</th>\n",
       "      <td>62_x1x1</td>\n",
       "      <td>0.612383</td>\n",
       "    </tr>\n",
       "    <tr>\n",
       "      <th>38</th>\n",
       "      <td>110_x1</td>\n",
       "      <td>0.605018</td>\n",
       "    </tr>\n",
       "    <tr>\n",
       "      <th>39</th>\n",
       "      <td>110_x1x1</td>\n",
       "      <td>0.603588</td>\n",
       "    </tr>\n",
       "    <tr>\n",
       "      <th>40</th>\n",
       "      <td>75_x1</td>\n",
       "      <td>0.602627</td>\n",
       "    </tr>\n",
       "    <tr>\n",
       "      <th>41</th>\n",
       "      <td>127_x1x1</td>\n",
       "      <td>0.602613</td>\n",
       "    </tr>\n",
       "    <tr>\n",
       "      <th>42</th>\n",
       "      <td>100_x1x1</td>\n",
       "      <td>0.598047</td>\n",
       "    </tr>\n",
       "    <tr>\n",
       "      <th>43</th>\n",
       "      <td>49_x1</td>\n",
       "      <td>0.597217</td>\n",
       "    </tr>\n",
       "    <tr>\n",
       "      <th>44</th>\n",
       "      <td>41_x1x1</td>\n",
       "      <td>0.588789</td>\n",
       "    </tr>\n",
       "    <tr>\n",
       "      <th>45</th>\n",
       "      <td>61_x1</td>\n",
       "      <td>0.587084</td>\n",
       "    </tr>\n",
       "    <tr>\n",
       "      <th>46</th>\n",
       "      <td>83_x1</td>\n",
       "      <td>0.582043</td>\n",
       "    </tr>\n",
       "    <tr>\n",
       "      <th>47</th>\n",
       "      <td>113_x1</td>\n",
       "      <td>0.581837</td>\n",
       "    </tr>\n",
       "    <tr>\n",
       "      <th>48</th>\n",
       "      <td>32_x1x1</td>\n",
       "      <td>0.573437</td>\n",
       "    </tr>\n",
       "    <tr>\n",
       "      <th>49</th>\n",
       "      <td>65_x1x1</td>\n",
       "      <td>0.566069</td>\n",
       "    </tr>\n",
       "  </tbody>\n",
       "</table>\n",
       "</div>"
      ],
      "text/plain": [
       "            Feature Id  Importances\n",
       "0              69_x1x1     2.217260\n",
       "1             125_x1x1     2.150286\n",
       "2              58_x1x1     1.944976\n",
       "3              83_x1x1     1.866809\n",
       "4               109_x1     1.662825\n",
       "5             131_x1x1     1.608032\n",
       "6              27_x1x1     1.303951\n",
       "7               149_x1     1.264852\n",
       "8              73_x1x1     1.251687\n",
       "9              88_x1x1     1.177450\n",
       "10              148_x1     1.092585\n",
       "11             19_x1x1     1.090553\n",
       "12              122_x1     1.033130\n",
       "13              1_x1x1     0.984311\n",
       "14               60_x1     0.925141\n",
       "15             39_x1x1     0.896745\n",
       "16             10_x1x1     0.877156\n",
       "17             94_x1x1     0.863391\n",
       "18            139_x1x1     0.846784\n",
       "19            101_x1x1     0.845608\n",
       "20             78_x1x1     0.792066\n",
       "21                9_x1     0.778599\n",
       "22               97_x1     0.776771\n",
       "23               65_x1     0.755048\n",
       "24                0_x1     0.754860\n",
       "25              118_x1     0.747714\n",
       "26             87_x1x1     0.736597\n",
       "27               28_x1     0.728895\n",
       "28              112_x1     0.724057\n",
       "29               85_x1     0.716974\n",
       "30             71_x1x1     0.683051\n",
       "31  cpe_model_name_max     0.661159\n",
       "32              134_x1     0.659170\n",
       "33            130_x1x1     0.649069\n",
       "34              145_x1     0.632524\n",
       "35            121_x1x1     0.626217\n",
       "36               51_x1     0.624840\n",
       "37             62_x1x1     0.612383\n",
       "38              110_x1     0.605018\n",
       "39            110_x1x1     0.603588\n",
       "40               75_x1     0.602627\n",
       "41            127_x1x1     0.602613\n",
       "42            100_x1x1     0.598047\n",
       "43               49_x1     0.597217\n",
       "44             41_x1x1     0.588789\n",
       "45               61_x1     0.587084\n",
       "46               83_x1     0.582043\n",
       "47              113_x1     0.581837\n",
       "48             32_x1x1     0.573437\n",
       "49             65_x1x1     0.566069"
      ]
     },
     "execution_count": 46,
     "metadata": {},
     "output_type": "execute_result"
    }
   ],
   "source": [
    "xx=clf1.get_feature_importance(prettified=True)\n",
    "xx.head(50)"
   ]
  },
  {
   "cell_type": "code",
   "execution_count": 47,
   "id": "47561cef",
   "metadata": {},
   "outputs": [
    {
     "data": {
      "text/html": [
       "<div>\n",
       "<style scoped>\n",
       "    .dataframe tbody tr th:only-of-type {\n",
       "        vertical-align: middle;\n",
       "    }\n",
       "\n",
       "    .dataframe tbody tr th {\n",
       "        vertical-align: top;\n",
       "    }\n",
       "\n",
       "    .dataframe thead th {\n",
       "        text-align: right;\n",
       "    }\n",
       "</style>\n",
       "<table border=\"1\" class=\"dataframe\">\n",
       "  <thead>\n",
       "    <tr style=\"text-align: right;\">\n",
       "      <th></th>\n",
       "      <th>Feature Id</th>\n",
       "      <th>Importances</th>\n",
       "    </tr>\n",
       "  </thead>\n",
       "  <tbody>\n",
       "    <tr>\n",
       "      <th>0</th>\n",
       "      <td>cpe_model_name_max</td>\n",
       "      <td>1.505491</td>\n",
       "    </tr>\n",
       "    <tr>\n",
       "      <th>1</th>\n",
       "      <td>336</td>\n",
       "      <td>0.944703</td>\n",
       "    </tr>\n",
       "    <tr>\n",
       "      <th>2</th>\n",
       "      <td>121</td>\n",
       "      <td>0.907715</td>\n",
       "    </tr>\n",
       "    <tr>\n",
       "      <th>3</th>\n",
       "      <td>price_max</td>\n",
       "      <td>0.828331</td>\n",
       "    </tr>\n",
       "    <tr>\n",
       "      <th>4</th>\n",
       "      <td>284</td>\n",
       "      <td>0.806262</td>\n",
       "    </tr>\n",
       "    <tr>\n",
       "      <th>5</th>\n",
       "      <td>204</td>\n",
       "      <td>0.765496</td>\n",
       "    </tr>\n",
       "    <tr>\n",
       "      <th>6</th>\n",
       "      <td>248</td>\n",
       "      <td>0.701574</td>\n",
       "    </tr>\n",
       "    <tr>\n",
       "      <th>7</th>\n",
       "      <td>347</td>\n",
       "      <td>0.681361</td>\n",
       "    </tr>\n",
       "    <tr>\n",
       "      <th>8</th>\n",
       "      <td>293</td>\n",
       "      <td>0.673303</td>\n",
       "    </tr>\n",
       "    <tr>\n",
       "      <th>9</th>\n",
       "      <td>228</td>\n",
       "      <td>0.669532</td>\n",
       "    </tr>\n",
       "    <tr>\n",
       "      <th>10</th>\n",
       "      <td>243</td>\n",
       "      <td>0.668714</td>\n",
       "    </tr>\n",
       "    <tr>\n",
       "      <th>11</th>\n",
       "      <td>251</td>\n",
       "      <td>0.610016</td>\n",
       "    </tr>\n",
       "    <tr>\n",
       "      <th>12</th>\n",
       "      <td>163</td>\n",
       "      <td>0.600780</td>\n",
       "    </tr>\n",
       "    <tr>\n",
       "      <th>13</th>\n",
       "      <td>341</td>\n",
       "      <td>0.591908</td>\n",
       "    </tr>\n",
       "    <tr>\n",
       "      <th>14</th>\n",
       "      <td>cpe_manufacturer_name_max</td>\n",
       "      <td>0.528395</td>\n",
       "    </tr>\n",
       "    <tr>\n",
       "      <th>15</th>\n",
       "      <td>129</td>\n",
       "      <td>0.527044</td>\n",
       "    </tr>\n",
       "    <tr>\n",
       "      <th>16</th>\n",
       "      <td>A002</td>\n",
       "      <td>0.523303</td>\n",
       "    </tr>\n",
       "    <tr>\n",
       "      <th>17</th>\n",
       "      <td>19</td>\n",
       "      <td>0.522948</td>\n",
       "    </tr>\n",
       "    <tr>\n",
       "      <th>18</th>\n",
       "      <td>region_name_max</td>\n",
       "      <td>0.486396</td>\n",
       "    </tr>\n",
       "    <tr>\n",
       "      <th>19</th>\n",
       "      <td>278</td>\n",
       "      <td>0.484985</td>\n",
       "    </tr>\n",
       "    <tr>\n",
       "      <th>20</th>\n",
       "      <td>261</td>\n",
       "      <td>0.480494</td>\n",
       "    </tr>\n",
       "    <tr>\n",
       "      <th>21</th>\n",
       "      <td>299</td>\n",
       "      <td>0.476141</td>\n",
       "    </tr>\n",
       "    <tr>\n",
       "      <th>22</th>\n",
       "      <td>245</td>\n",
       "      <td>0.465740</td>\n",
       "    </tr>\n",
       "    <tr>\n",
       "      <th>23</th>\n",
       "      <td>69</td>\n",
       "      <td>0.465706</td>\n",
       "    </tr>\n",
       "    <tr>\n",
       "      <th>24</th>\n",
       "      <td>36</td>\n",
       "      <td>0.451916</td>\n",
       "    </tr>\n",
       "    <tr>\n",
       "      <th>25</th>\n",
       "      <td>262</td>\n",
       "      <td>0.450173</td>\n",
       "    </tr>\n",
       "    <tr>\n",
       "      <th>26</th>\n",
       "      <td>94</td>\n",
       "      <td>0.449079</td>\n",
       "    </tr>\n",
       "    <tr>\n",
       "      <th>27</th>\n",
       "      <td>266</td>\n",
       "      <td>0.441065</td>\n",
       "    </tr>\n",
       "    <tr>\n",
       "      <th>28</th>\n",
       "      <td>188</td>\n",
       "      <td>0.441051</td>\n",
       "    </tr>\n",
       "    <tr>\n",
       "      <th>29</th>\n",
       "      <td>city_name_max</td>\n",
       "      <td>0.439500</td>\n",
       "    </tr>\n",
       "    <tr>\n",
       "      <th>30</th>\n",
       "      <td>280</td>\n",
       "      <td>0.438365</td>\n",
       "    </tr>\n",
       "    <tr>\n",
       "      <th>31</th>\n",
       "      <td>265</td>\n",
       "      <td>0.434429</td>\n",
       "    </tr>\n",
       "    <tr>\n",
       "      <th>32</th>\n",
       "      <td>cpe_model_os_type_max</td>\n",
       "      <td>0.427717</td>\n",
       "    </tr>\n",
       "    <tr>\n",
       "      <th>33</th>\n",
       "      <td>340</td>\n",
       "      <td>0.417984</td>\n",
       "    </tr>\n",
       "    <tr>\n",
       "      <th>34</th>\n",
       "      <td>109</td>\n",
       "      <td>0.415563</td>\n",
       "    </tr>\n",
       "    <tr>\n",
       "      <th>35</th>\n",
       "      <td>304</td>\n",
       "      <td>0.413451</td>\n",
       "    </tr>\n",
       "    <tr>\n",
       "      <th>36</th>\n",
       "      <td>25</td>\n",
       "      <td>0.412775</td>\n",
       "    </tr>\n",
       "    <tr>\n",
       "      <th>37</th>\n",
       "      <td>318</td>\n",
       "      <td>0.411006</td>\n",
       "    </tr>\n",
       "    <tr>\n",
       "      <th>38</th>\n",
       "      <td>80</td>\n",
       "      <td>0.405453</td>\n",
       "    </tr>\n",
       "    <tr>\n",
       "      <th>39</th>\n",
       "      <td>66</td>\n",
       "      <td>0.403236</td>\n",
       "    </tr>\n",
       "    <tr>\n",
       "      <th>40</th>\n",
       "      <td>33</td>\n",
       "      <td>0.401400</td>\n",
       "    </tr>\n",
       "    <tr>\n",
       "      <th>41</th>\n",
       "      <td>169</td>\n",
       "      <td>0.399101</td>\n",
       "    </tr>\n",
       "    <tr>\n",
       "      <th>42</th>\n",
       "      <td>100</td>\n",
       "      <td>0.395965</td>\n",
       "    </tr>\n",
       "    <tr>\n",
       "      <th>43</th>\n",
       "      <td>288</td>\n",
       "      <td>0.393938</td>\n",
       "    </tr>\n",
       "    <tr>\n",
       "      <th>44</th>\n",
       "      <td>259</td>\n",
       "      <td>0.390888</td>\n",
       "    </tr>\n",
       "    <tr>\n",
       "      <th>45</th>\n",
       "      <td>9</td>\n",
       "      <td>0.389066</td>\n",
       "    </tr>\n",
       "    <tr>\n",
       "      <th>46</th>\n",
       "      <td>295</td>\n",
       "      <td>0.387666</td>\n",
       "    </tr>\n",
       "    <tr>\n",
       "      <th>47</th>\n",
       "      <td>111</td>\n",
       "      <td>0.387078</td>\n",
       "    </tr>\n",
       "    <tr>\n",
       "      <th>48</th>\n",
       "      <td>226</td>\n",
       "      <td>0.386416</td>\n",
       "    </tr>\n",
       "    <tr>\n",
       "      <th>49</th>\n",
       "      <td>61</td>\n",
       "      <td>0.381285</td>\n",
       "    </tr>\n",
       "  </tbody>\n",
       "</table>\n",
       "</div>"
      ],
      "text/plain": [
       "                   Feature Id  Importances\n",
       "0          cpe_model_name_max     1.505491\n",
       "1                         336     0.944703\n",
       "2                         121     0.907715\n",
       "3                   price_max     0.828331\n",
       "4                         284     0.806262\n",
       "5                         204     0.765496\n",
       "6                         248     0.701574\n",
       "7                         347     0.681361\n",
       "8                         293     0.673303\n",
       "9                         228     0.669532\n",
       "10                        243     0.668714\n",
       "11                        251     0.610016\n",
       "12                        163     0.600780\n",
       "13                        341     0.591908\n",
       "14  cpe_manufacturer_name_max     0.528395\n",
       "15                        129     0.527044\n",
       "16                       A002     0.523303\n",
       "17                         19     0.522948\n",
       "18            region_name_max     0.486396\n",
       "19                        278     0.484985\n",
       "20                        261     0.480494\n",
       "21                        299     0.476141\n",
       "22                        245     0.465740\n",
       "23                         69     0.465706\n",
       "24                         36     0.451916\n",
       "25                        262     0.450173\n",
       "26                         94     0.449079\n",
       "27                        266     0.441065\n",
       "28                        188     0.441051\n",
       "29              city_name_max     0.439500\n",
       "30                        280     0.438365\n",
       "31                        265     0.434429\n",
       "32      cpe_model_os_type_max     0.427717\n",
       "33                        340     0.417984\n",
       "34                        109     0.415563\n",
       "35                        304     0.413451\n",
       "36                         25     0.412775\n",
       "37                        318     0.411006\n",
       "38                         80     0.405453\n",
       "39                         66     0.403236\n",
       "40                         33     0.401400\n",
       "41                        169     0.399101\n",
       "42                        100     0.395965\n",
       "43                        288     0.393938\n",
       "44                        259     0.390888\n",
       "45                          9     0.389066\n",
       "46                        295     0.387666\n",
       "47                        111     0.387078\n",
       "48                        226     0.386416\n",
       "49                         61     0.381285"
      ]
     },
     "execution_count": 47,
     "metadata": {},
     "output_type": "execute_result"
    }
   ],
   "source": [
    "xx=clf.get_feature_importance(prettified=True)\n",
    "xx.head(50)"
   ]
  },
  {
   "cell_type": "code",
   "execution_count": null,
   "id": "2aaa2213",
   "metadata": {},
   "outputs": [],
   "source": []
  },
  {
   "cell_type": "code",
   "execution_count": null,
   "id": "4457e336",
   "metadata": {},
   "outputs": [],
   "source": []
  },
  {
   "cell_type": "code",
   "execution_count": 279,
   "id": "57595055",
   "metadata": {},
   "outputs": [],
   "source": [
    "np.save('./u12-250.npy',u12)\n",
    "np.save('./u12x2-250.npy',u12x2)"
   ]
  },
  {
   "cell_type": "code",
   "execution_count": null,
   "id": "dcad93c9",
   "metadata": {},
   "outputs": [],
   "source": []
  },
  {
   "cell_type": "code",
   "execution_count": 62,
   "id": "5ea6a97d",
   "metadata": {},
   "outputs": [],
   "source": [
    "nnsubs = pd.read_csv(f'{LOCAL_DATA_PATH}/submission23.csv')"
   ]
  },
  {
   "cell_type": "code",
   "execution_count": 63,
   "id": "eb10d09d",
   "metadata": {},
   "outputs": [],
   "source": [
    "nnsubs.age = nnsubs.age+1\n",
    "nnsubs.age = nnsubs.age.clip(1,6)"
   ]
  },
  {
   "cell_type": "code",
   "execution_count": 59,
   "id": "a1e2918a",
   "metadata": {},
   "outputs": [
    {
     "data": {
      "text/plain": [
       "(array([0, 1, 2, 3, 4, 5, 6]),\n",
       " array([    1, 10141, 60888, 53972, 13155,  6435,   132]))"
      ]
     },
     "execution_count": 59,
     "metadata": {},
     "output_type": "execute_result"
    }
   ],
   "source": [
    "np.unique(nnsubs.age,return_counts=True)"
   ]
  },
  {
   "cell_type": "code",
   "execution_count": 64,
   "id": "86a6f3eb",
   "metadata": {},
   "outputs": [
    {
     "data": {
      "text/plain": [
       "(array([1, 2, 3, 4, 5, 6]), array([    1, 10141, 60888, 53972, 13155,  6567]))"
      ]
     },
     "execution_count": 64,
     "metadata": {},
     "output_type": "execute_result"
    }
   ],
   "source": [
    "np.unique(nnsubs.age,return_counts=True)"
   ]
  },
  {
   "cell_type": "code",
   "execution_count": 51,
   "id": "d1141be2",
   "metadata": {},
   "outputs": [],
   "source": [
    "nnsubs.to_csv(f'{LOCAL_DATA_PATH}/submission23b.csv', index = False)"
   ]
  },
  {
   "cell_type": "code",
   "execution_count": null,
   "id": "ed3d0537",
   "metadata": {},
   "outputs": [],
   "source": []
  },
  {
   "cell_type": "code",
   "execution_count": 69,
   "id": "1aa6eba6",
   "metadata": {
    "collapsed": true
   },
   "outputs": [
    {
     "name": "stdout",
     "output_type": "stream",
     "text": [
      "              precision    recall  f1-score   support\n",
      "\n",
      "         <18       0.00      0.00      0.00       167\n",
      "       18-25       0.54      0.32      0.40      4804\n",
      "       25-34       0.49      0.64      0.56     13048\n",
      "       35-44       0.41      0.52      0.46     11746\n",
      "       45-54       0.38      0.21      0.27      6362\n",
      "       55-65       0.40      0.20      0.27      3523\n",
      "         65+       0.48      0.02      0.04       844\n",
      "\n",
      "    accuracy                           0.45     40494\n",
      "   macro avg       0.39      0.28      0.29     40494\n",
      "weighted avg       0.44      0.45      0.43     40494\n",
      "\n"
     ]
    }
   ],
   "source": [
    "print(m.classification_report(y_test, clf.predict(x_test), \\\n",
    "                            target_names = ['<18', '18-25','25-34', '35-44', '45-54', '55-65', '65+']))"
   ]
  },
  {
   "cell_type": "code",
   "execution_count": 85,
   "id": "4112ae06",
   "metadata": {
    "collapsed": true
   },
   "outputs": [
    {
     "name": "stdout",
     "output_type": "stream",
     "text": [
      "              precision    recall  f1-score   support\n",
      "\n",
      "         <18       0.00      0.00      0.00       167\n",
      "       18-25       0.54      0.32      0.40      4804\n",
      "       25-34       0.49      0.64      0.56     13048\n",
      "       35-44       0.41      0.52      0.46     11746\n",
      "       45-54       0.38      0.21      0.27      6362\n",
      "       55-65       0.40      0.20      0.27      3523\n",
      "         65+       0.48      0.02      0.04       844\n",
      "\n",
      "    accuracy                           0.45     40494\n",
      "   macro avg       0.39      0.28      0.29     40494\n",
      "weighted avg       0.44      0.45      0.43     40494\n",
      "\n"
     ]
    }
   ],
   "source": [
    "print(m.classification_report(y_test, (clf.predict(x_test)).clip(1,6), \\\n",
    "                            target_names = ['<18', '18-25','25-34', '35-44', '45-54', '55-65', '65+']))"
   ]
  },
  {
   "cell_type": "code",
   "execution_count": null,
   "id": "d49c5fc5",
   "metadata": {},
   "outputs": [],
   "source": []
  },
  {
   "cell_type": "code",
   "execution_count": null,
   "id": "cb936d93",
   "metadata": {},
   "outputs": [],
   "source": []
  }
 ],
 "metadata": {
  "kernelspec": {
   "display_name": "Python 3 (ipykernel)",
   "language": "python",
   "name": "python3"
  },
  "language_info": {
   "codemirror_mode": {
    "name": "ipython",
    "version": 3
   },
   "file_extension": ".py",
   "mimetype": "text/x-python",
   "name": "python",
   "nbconvert_exporter": "python",
   "pygments_lexer": "ipython3",
   "version": "3.7.6"
  }
 },
 "nbformat": 4,
 "nbformat_minor": 5
}
