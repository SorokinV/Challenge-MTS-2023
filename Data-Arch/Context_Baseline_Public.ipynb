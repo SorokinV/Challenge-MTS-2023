{
 "cells": [
  {
   "cell_type": "code",
   "execution_count": 1,
   "id": "28740129",
   "metadata": {},
   "outputs": [],
   "source": [
    "import sys\n",
    "import os\n",
    "import warnings\n",
    "os.environ['OPENBLAS_NUM_THREADS'] = '1'\n",
    "warnings.filterwarnings('ignore')"
   ]
  },
  {
   "cell_type": "code",
   "execution_count": 2,
   "id": "b907cd02",
   "metadata": {},
   "outputs": [],
   "source": [
    "import pandas as pd\n",
    "import numpy as np\n",
    "import time\n",
    "import pyarrow.parquet as pq\n",
    "import pyarrow as pa\n",
    "import scipy\n",
    "import implicit\n",
    "import bisect\n",
    "import sklearn.metrics as m\n",
    "from catboost import CatBoostClassifier, CatBoostRegressor, Pool\n",
    "from sklearn.model_selection import train_test_split\n",
    "from sklearn.calibration import calibration_curve, CalibratedClassifierCV"
   ]
  },
  {
   "cell_type": "code",
   "execution_count": 3,
   "id": "e762eacd",
   "metadata": {},
   "outputs": [],
   "source": [
    "LOCAL_DATA_PATH = './context_data/'\n",
    "SPLIT_SEED = 42\n",
    "DATA_FILE = 'competition_data_final_pqt'\n",
    "TARGET_FILE = 'public_train.pqt'\n",
    "SUBMISSION_FILE = 'submit.pqt'"
   ]
  },
  {
   "cell_type": "code",
   "execution_count": 4,
   "id": "8c1af0db",
   "metadata": {},
   "outputs": [],
   "source": [
    "id_to_submit = pq.read_table(f'{LOCAL_DATA_PATH}/{SUBMISSION_FILE}').to_pandas()"
   ]
  },
  {
   "cell_type": "code",
   "execution_count": 5,
   "id": "89fd34da",
   "metadata": {},
   "outputs": [
    {
     "data": {
      "text/plain": [
       "['./context_data//competition_data_final_pqt/part-00000-aba60f69-2b63-4cc1-95ca-542598094698-c000.snappy.parquet',\n",
       " './context_data//competition_data_final_pqt/part-00001-aba60f69-2b63-4cc1-95ca-542598094698-c000.snappy.parquet',\n",
       " './context_data//competition_data_final_pqt/part-00002-aba60f69-2b63-4cc1-95ca-542598094698-c000.snappy.parquet',\n",
       " './context_data//competition_data_final_pqt/part-00003-aba60f69-2b63-4cc1-95ca-542598094698-c000.snappy.parquet',\n",
       " './context_data//competition_data_final_pqt/part-00004-aba60f69-2b63-4cc1-95ca-542598094698-c000.snappy.parquet',\n",
       " './context_data//competition_data_final_pqt/part-00005-aba60f69-2b63-4cc1-95ca-542598094698-c000.snappy.parquet',\n",
       " './context_data//competition_data_final_pqt/part-00006-aba60f69-2b63-4cc1-95ca-542598094698-c000.snappy.parquet',\n",
       " './context_data//competition_data_final_pqt/part-00007-aba60f69-2b63-4cc1-95ca-542598094698-c000.snappy.parquet',\n",
       " './context_data//competition_data_final_pqt/part-00008-aba60f69-2b63-4cc1-95ca-542598094698-c000.snappy.parquet',\n",
       " './context_data//competition_data_final_pqt/part-00009-aba60f69-2b63-4cc1-95ca-542598094698-c000.snappy.parquet']"
      ]
     },
     "execution_count": 5,
     "metadata": {},
     "output_type": "execute_result"
    }
   ],
   "source": [
    "# pqf = pq.ParquetFile(f'{LOCAL_DATA_PATH}/{DATA_FILE}')\n",
    "pqd = pq.ParquetDataset(f'{LOCAL_DATA_PATH}/{DATA_FILE}')\n",
    "pqd.files"
   ]
  },
  {
   "cell_type": "code",
   "execution_count": null,
   "id": "39413645",
   "metadata": {},
   "outputs": [],
   "source": []
  },
  {
   "cell_type": "code",
   "execution_count": 361,
   "id": "f6f543bf",
   "metadata": {},
   "outputs": [
    {
     "name": "stdout",
     "output_type": "stream",
     "text": [
      "          region_name  city_name cpe_manufacturer_name cpe_model_name  \\\n",
      "0  Краснодарский край  Краснодар                 Apple       iPhone 7   \n",
      "1  Краснодарский край  Краснодар                 Apple       iPhone 7   \n",
      "2  Краснодарский край  Краснодар                 Apple       iPhone 7   \n",
      "3  Краснодарский край  Краснодар                 Apple       iPhone 7   \n",
      "4  Краснодарский край  Краснодар                 Apple       iPhone 7   \n",
      "\n",
      "                      url_host cpe_type_cd cpe_model_os_type    price  \\\n",
      "0                ad.adriver.ru  smartphone               iOS  20368.0   \n",
      "1                    apple.com  smartphone               iOS  20368.0   \n",
      "2       avatars.mds.yandex.net  smartphone               iOS  20368.0   \n",
      "3  googleads.g.doubleclick.net  smartphone               iOS  20368.0   \n",
      "4  googleads.g.doubleclick.net  smartphone               iOS  20368.0   \n",
      "\n",
      "         date part_of_day  request_cnt  user_id  \n",
      "0  2022-06-15     morning            1    45098  \n",
      "1  2022-06-19     morning            1    45098  \n",
      "2  2022-06-12         day            1    45098  \n",
      "3  2022-05-16         day            1    45098  \n",
      "4  2022-05-30         day            1    45098  \n"
     ]
    }
   ],
   "source": [
    "data_agg = None\n",
    "for ifile in pqd.files :\n",
    "\n",
    "    #data = pq.read_table(f'{LOCAL_DATA_PATH}/{DATA_FILE}/{ifile}')\n",
    "    data = pq.read_table(f'{ifile}')\n",
    "    #pd.DataFrame([(z.name, z.type) for z in data.schema], columns = [['field', 'type']])\n",
    "\n",
    "    data_agg0 = data.select(['user_id', 'url_host', 'request_cnt']).\\\n",
    "        group_by(['user_id', 'url_host']).aggregate([('request_cnt', \"sum\")])\n",
    "    \n",
    "    data_agg1 = data.select(['user_id','date', 'part_of_day', 'request_cnt']).\\\n",
    "        group_by(['user_id', 'date', 'part_of_day']).aggregate([('request_cnt', \"sum\")])\n",
    "    \n",
    "    data_agg2 = data.select(['user_id', 'city_name', 'region_name', 'cpe_model_os_type', 'price']).\\\n",
    "        group_by(['user_id', ]).\\\n",
    "        aggregate([('cpe_model_os_type', \"max\"), ('price', \"max\"), ('city_name', \"max\"), ('region_name', \"max\")])\n",
    "    \n",
    "    if data_agg is None :\n",
    "        data_agg  = data_agg0\n",
    "        data_aggB = data_agg1\n",
    "        data_aggZ = data_agg2\n",
    "        print(data.to_pandas().head())\n",
    "    else :\n",
    "        data_agg  = pa.concat_tables([data_agg, data_agg0],promote=False)\n",
    "        data_aggB = pa.concat_tables([data_aggB,data_agg1],promote=False)\n",
    "        data_aggZ = pa.concat_tables([data_aggZ,data_agg2],promote=False)\n",
    "    \n",
    "    del data, data_agg0, data_agg1, data_agg2\n",
    "    \n",
    "data_agg  = data_agg.to_pandas()\n",
    "data_aggB = data_aggB.to_pandas()\n",
    "data_aggZ = data_aggZ.to_pandas().fillna(0)"
   ]
  },
  {
   "cell_type": "markdown",
   "id": "9ba280ae",
   "metadata": {},
   "source": [
    "Регион   \n",
    ", населенный пункт   \n",
    ", производиель устройства   \n",
    ", модель устроства   \n",
    ", домен, с которого пришел рекламный запрос   \n",
    ", тип устройства (смартфон или что-то другое)   \n",
    ", операционка на устройстве   \n",
    ", оценка цены устройства   \n",
    ", дата   \n",
    ", время дня (утро, вечер ...)   \n",
    ", число запросов   \n",
    ", id пользователя   "
   ]
  },
  {
   "cell_type": "code",
   "execution_count": null,
   "id": "addb19e7",
   "metadata": {},
   "outputs": [],
   "source": []
  },
  {
   "cell_type": "code",
   "execution_count": 362,
   "id": "57d1d675",
   "metadata": {},
   "outputs": [
    {
     "data": {
      "text/plain": [
       "(   request_cnt_sum  user_id                     url_host\n",
       " 0               12    45098                ad.adriver.ru\n",
       " 1              491    45098                    apple.com\n",
       " 2              174    45098       avatars.mds.yandex.net\n",
       " 3              305    45098  googleads.g.doubleclick.net\n",
       " 4              446    45098                  i.ytimg.com,\n",
       "    request_cnt_sum  user_id        date part_of_day\n",
       " 0               10    45098  2022-06-15     morning\n",
       " 1                2    45098  2022-06-19     morning\n",
       " 2                8    45098  2022-06-12         day\n",
       " 3               16    45098  2022-05-16         day\n",
       " 4               13    45098  2022-05-30         day,\n",
       "        request_cnt_sum       user_id\n",
       " count     3.227767e+07  3.227767e+07\n",
       " mean      1.724852e+01  2.074424e+05\n",
       " std       6.242678e+01  1.200214e+05\n",
       " min       1.000000e+00  0.000000e+00\n",
       " 25%       1.000000e+00  1.037680e+05\n",
       " 50%       2.000000e+00  2.077030e+05\n",
       " 75%       8.000000e+00  3.116840e+05\n",
       " max       3.938000e+03  4.153160e+05,\n",
       "        request_cnt_sum       user_id\n",
       " count     3.709724e+07  3.709724e+07\n",
       " mean      1.500764e+01  2.072764e+05\n",
       " std       1.693397e+01  1.199968e+05\n",
       " min       1.000000e+00  0.000000e+00\n",
       " 25%       4.000000e+00  1.036900e+05\n",
       " 50%       1.000000e+01  2.069130e+05\n",
       " 75%       2.000000e+01  3.115938e+05\n",
       " max       9.560000e+02  4.153160e+05,\n",
       "        cpe_model_os_type_max  price_max    city_name_max  \\\n",
       " 0                        iOS    20368.0       Ставрополь   \n",
       " 1                    Android     4990.0  Санкт-Петербург   \n",
       " 2                    Android    74259.0  Санкт-Петербург   \n",
       " 3                    Android    23876.0     Новороссийск   \n",
       " 4                    Android    20465.0           Тюмень   \n",
       " ...                      ...        ...              ...   \n",
       " 415312                   iOS    56357.0          Сызрань   \n",
       " 415313                   iOS    26154.0              Обь   \n",
       " 415314               Android    15490.0        Ярославль   \n",
       " 415315                   iOS    40612.0        Строитель   \n",
       " 415316               Android    16376.0          Обнинск   \n",
       " \n",
       "               region_name_max  user_id  \n",
       " 0         Ставропольский край    45098  \n",
       " 1             Санкт-Петербург   117132  \n",
       " 2             Санкт-Петербург    79395  \n",
       " 3          Краснодарский край    91294  \n",
       " 4           Тюменская область   161323  \n",
       " ...                       ...      ...  \n",
       " 415312      Самарская область   375972  \n",
       " 415313  Новосибирская область   160996  \n",
       " 415314    Ярославская область     5505  \n",
       " 415315        Курская область   260127  \n",
       " 415316                 Москва   300964  \n",
       " \n",
       " [415317 rows x 5 columns])"
      ]
     },
     "execution_count": 362,
     "metadata": {},
     "output_type": "execute_result"
    }
   ],
   "source": [
    "data_agg.head(), data_aggB.head(), data_agg.describe(), data_aggB.describe(), data_aggZ"
   ]
  },
  {
   "cell_type": "code",
   "execution_count": null,
   "id": "f4b80b1f",
   "metadata": {},
   "outputs": [],
   "source": []
  },
  {
   "cell_type": "code",
   "execution_count": 364,
   "id": "d5f98f58",
   "metadata": {},
   "outputs": [
    {
     "data": {
      "text/plain": [
       "Index(['cpe_model_os_type_max', 'price_max', 'city_name_max',\n",
       "       'region_name_max', 'user_id'],\n",
       "      dtype='object')"
      ]
     },
     "execution_count": 364,
     "metadata": {},
     "output_type": "execute_result"
    }
   ],
   "source": [
    "data_aggZ.columns"
   ]
  },
  {
   "cell_type": "code",
   "execution_count": 400,
   "id": "26e0924b",
   "metadata": {},
   "outputs": [],
   "source": [
    "if 1 :\n",
    "    \n",
    "    data_aggC = data_aggZ[['user_id','price_max']]\n",
    "    \n",
    "    data_aggD = pd.pivot_table(data_aggB[['user_id','part_of_day','request_cnt_sum']],\n",
    "                                index='user_id', columns='part_of_day', values='request_cnt_sum', \n",
    "                                aggfunc=np.mean, fill_value=0).reset_index()\n",
    "    data_aggC = data_aggC.merge(data_aggD,how='inner',on=['user_id'])\n",
    "    \n",
    "    data_aggB['DW'] = 'DW' + pd.to_datetime(data_aggB.date).dt.day_of_week.astype(str)\n",
    "    data_aggD = pd.pivot_table(data_aggB[['user_id','DW','request_cnt_sum']],\n",
    "                                index='user_id', columns='DW', values='request_cnt_sum', \n",
    "                                aggfunc=np.mean, fill_value=0).reset_index()\n",
    "    data_aggC = data_aggC.merge(data_aggD,how='inner',on=['user_id'])\n",
    "\n",
    "    data_aggB['DW'] = 'DWPD'+pd.to_datetime(data_aggB.date).dt.day_of_week.astype(str)+'.'+data_aggB.part_of_day\n",
    "    data_aggD = pd.pivot_table(data_aggB[['user_id','DW','request_cnt_sum']],\n",
    "                                index='user_id', columns='DW', values='request_cnt_sum', \n",
    "                                aggfunc=np.mean, fill_value=0).reset_index()\n",
    "    data_aggC = data_aggC.merge(data_aggD,how='inner',on=['user_id'])\n",
    "    \n",
    "    if 1 :\n",
    "        data_aggD = pd.get_dummies(data_aggZ.city_name_max,prefix='city')\n",
    "        data_aggD['user_id'] = data_aggZ.user_id\n",
    "        data_aggC = data_aggC.merge(data_aggD,how='inner',on=['user_id'])\n",
    "\n",
    "    if 1 :\n",
    "        data_aggD = pd.get_dummies(data_aggZ.region_name_max,prefix='region')\n",
    "        data_aggD['user_id'] = data_aggZ.user_id\n",
    "        data_aggC = data_aggC.merge(data_aggD,how='inner',on=['user_id'])\n",
    "\n",
    "    data_aggD = pd.get_dummies(data_aggZ.cpe_model_os_type_max,prefix='os')\n",
    "    data_aggD['user_id'] = data_aggZ.user_id\n",
    "    data_aggC = data_aggC.merge(data_aggD,how='inner',on=['user_id'])"
   ]
  },
  {
   "cell_type": "code",
   "execution_count": 403,
   "id": "fc9b626b",
   "metadata": {},
   "outputs": [
    {
     "data": {
      "text/plain": [
       "((415317, 1071),\n",
       " Index(['user_id', 'price_max', 'day', 'evening', 'morning', 'night', 'DW0',\n",
       "        'DW1', 'DW2', 'DW3',\n",
       "        ...\n",
       "        'region_Ханты-Мансийский АО — Югра', 'region_Челябинская область',\n",
       "        'region_Чеченская Республика', 'region_Чувашская Республика',\n",
       "        'region_Чукотский АО', 'region_Ямало-Ненецкий АО',\n",
       "        'region_Ярославская область', 'os_Android', 'os_Apple iOS', 'os_iOS'],\n",
       "       dtype='object', length=1071))"
      ]
     },
     "execution_count": 403,
     "metadata": {},
     "output_type": "execute_result"
    }
   ],
   "source": [
    "data_aggC.shape, data_aggC.columns"
   ]
  },
  {
   "cell_type": "code",
   "execution_count": 404,
   "id": "af722b67",
   "metadata": {},
   "outputs": [
    {
     "data": {
      "text/plain": [
       "((415317, 1095),\n",
       " Index(['user_id', 'price_max', 'day', 'evening', 'morning', 'night', 'DW0',\n",
       "        'DW1', 'DW2', 'DW3',\n",
       "        ...\n",
       "        'DWB005', 'DWB006', 'DWA', 'DW000', 'DW001', 'DW002', 'DW003', 'DW004',\n",
       "        'DW005', 'DW006'],\n",
       "       dtype='object', length=1095))"
      ]
     },
     "execution_count": 404,
     "metadata": {},
     "output_type": "execute_result"
    }
   ],
   "source": [
    "\n",
    "if 1 :\n",
    "    data_aggC['A']=data_aggC.day+data_aggC.evening+data_aggC.morning+data_aggC.night\n",
    "    data_aggC['A000']=data_aggC.day/data_aggC.A\n",
    "    data_aggC['A001']=data_aggC.evening/data_aggC.A\n",
    "    data_aggC['A002']=data_aggC.morning/data_aggC.A\n",
    "    data_aggC['A003']=data_aggC.night/data_aggC.A\n",
    "    #data_aggC = data_aggC.drop(['day','morning','evening'],axis=1)\n",
    "    \n",
    "if 1 :\n",
    "    B000m=data_aggC.day.mean()\n",
    "    B001m=data_aggC.evening.mean()\n",
    "    B002m=data_aggC.morning.mean()\n",
    "    B003m=data_aggC.night.mean()\n",
    "    data_aggC['B000']=data_aggC.day/B000m\n",
    "    data_aggC['B001']=data_aggC.evening/B001m\n",
    "    data_aggC['B002']=data_aggC.morning/B002m\n",
    "    data_aggC['B003']=data_aggC.night/B003m\n",
    "    #data_aggC = data_aggC.drop(['day','morning','evening'],axis=1)\n",
    "        \n",
    "if 1 :\n",
    "    DWA0  =data_aggC.DW0.median()\n",
    "    DWA1  =data_aggC.DW1.median()\n",
    "    DWA2  =data_aggC.DW2.median()\n",
    "    DWA3  =data_aggC.DW3.median()\n",
    "    DWA4  =data_aggC.DW4.median()\n",
    "    DWA5  =data_aggC.DW5.median()\n",
    "    DWA6  =data_aggC.DW6.median()\n",
    "    data_aggC['DWB000']=data_aggC.DW0/DWA0\n",
    "    data_aggC['DWB001']=data_aggC.DW1/DWA1\n",
    "    data_aggC['DWB002']=data_aggC.DW2/DWA2\n",
    "    data_aggC['DWB003']=data_aggC.DW3/DWA3\n",
    "    data_aggC['DWB004']=data_aggC.DW4/DWA4\n",
    "    data_aggC['DWB005']=data_aggC.DW5/DWA5\n",
    "    data_aggC['DWB006']=data_aggC.DW6/DWA6\n",
    "    \n",
    "if 1 :\n",
    "    data_aggC['DWA']=data_aggC.DW0+data_aggC.DW1+data_aggC.DW2+data_aggC.DW3+data_aggC.DW4+data_aggC.DW5+data_aggC.DW6\n",
    "    data_aggC['DW000']=data_aggC.DW0/data_aggC.DWA\n",
    "    data_aggC['DW001']=data_aggC.DW1/data_aggC.DWA\n",
    "    data_aggC['DW002']=data_aggC.DW2/data_aggC.DWA\n",
    "    data_aggC['DW003']=data_aggC.DW3/data_aggC.DWA\n",
    "    data_aggC['DW004']=data_aggC.DW4/data_aggC.DWA\n",
    "    data_aggC['DW005']=data_aggC.DW5/data_aggC.DWA\n",
    "    data_aggC['DW006']=data_aggC.DW6/data_aggC.DWA\n",
    "    \n",
    "data_aggC.shape, data_aggC.columns"
   ]
  },
  {
   "cell_type": "code",
   "execution_count": 405,
   "id": "f158a3c1",
   "metadata": {},
   "outputs": [
    {
     "data": {
      "text/plain": [
       "(415317, 1095)"
      ]
     },
     "execution_count": 405,
     "metadata": {},
     "output_type": "execute_result"
    }
   ],
   "source": [
    "data_aggC.shape"
   ]
  },
  {
   "cell_type": "code",
   "execution_count": 273,
   "id": "86be95d6",
   "metadata": {},
   "outputs": [
    {
     "data": {
      "image/png": "[encoded data removed]",
      "text/plain": [
       "<Figure size 640x480 with 1 Axes>"
      ]
     },
     "metadata": {},
     "output_type": "display_data"
    },
    {
     "data": {
      "image/png": "[encoded data removed]",
      "text/plain": [
       "<Figure size 640x480 with 1 Axes>"
      ]
     },
     "metadata": {},
     "output_type": "display_data"
    },
    {
     "data": {
      "image/png": "[encoded data removed]",
      "text/plain": [
       "<Figure size 640x480 with 1 Axes>"
      ]
     },
     "metadata": {},
     "output_type": "display_data"
    }
   ],
   "source": [
    "import matplotlib.pyplot as mp\n",
    "\n",
    "mp.hist(data_aggC.day, 100)\n",
    "mp.hist(data_aggC.morning, 100)\n",
    "mp.hist(data_aggC.evening, 100)\n",
    "#mp.hist(data_aggC.A003, 100)\n",
    "#mp.hist(data_aggC.DWB004, 100)\n",
    "\n",
    "mp.show()\n",
    "\n",
    "mp.hist(data_aggC.price_max,100)\n",
    "mp.show()\n",
    "\n",
    "mp.scatter(data_aggC.night,data_aggC['0.night'])\n",
    "mp.show()"
   ]
  },
  {
   "cell_type": "code",
   "execution_count": null,
   "id": "691e4a92",
   "metadata": {},
   "outputs": [],
   "source": []
  },
  {
   "cell_type": "code",
   "execution_count": null,
   "id": "b01b07fb",
   "metadata": {},
   "outputs": [],
   "source": []
  },
  {
   "cell_type": "code",
   "execution_count": 10,
   "id": "3ff50f46",
   "metadata": {},
   "outputs": [
    {
     "data": {
      "text/html": [
       "<div>\n",
       "<style scoped>\n",
       "    .dataframe tbody tr th:only-of-type {\n",
       "        vertical-align: middle;\n",
       "    }\n",
       "\n",
       "    .dataframe tbody tr th {\n",
       "        vertical-align: top;\n",
       "    }\n",
       "\n",
       "    .dataframe thead tr th {\n",
       "        text-align: left;\n",
       "    }\n",
       "</style>\n",
       "<table border=\"1\" class=\"dataframe\">\n",
       "  <thead>\n",
       "    <tr>\n",
       "      <th></th>\n",
       "      <th>field</th>\n",
       "      <th>type</th>\n",
       "    </tr>\n",
       "  </thead>\n",
       "  <tbody>\n",
       "    <tr>\n",
       "      <th>0</th>\n",
       "      <td>age</td>\n",
       "      <td>double</td>\n",
       "    </tr>\n",
       "    <tr>\n",
       "      <th>1</th>\n",
       "      <td>is_male</td>\n",
       "      <td>string</td>\n",
       "    </tr>\n",
       "    <tr>\n",
       "      <th>2</th>\n",
       "      <td>user_id</td>\n",
       "      <td>int64</td>\n",
       "    </tr>\n",
       "    <tr>\n",
       "      <th>3</th>\n",
       "      <td>__index_level_0__</td>\n",
       "      <td>int64</td>\n",
       "    </tr>\n",
       "  </tbody>\n",
       "</table>\n",
       "</div>"
      ],
      "text/plain": [
       "               field    type\n",
       "0                age  double\n",
       "1            is_male  string\n",
       "2            user_id   int64\n",
       "3  __index_level_0__   int64"
      ]
     },
     "execution_count": 10,
     "metadata": {},
     "output_type": "execute_result"
    }
   ],
   "source": [
    "targets = pq.read_table(f'{LOCAL_DATA_PATH}/{TARGET_FILE}')\n",
    "pd.DataFrame([(z.name, z.type) for z in targets.schema], columns = [['field', 'type']])"
   ]
  },
  {
   "cell_type": "code",
   "execution_count": 11,
   "id": "130cced8",
   "metadata": {},
   "outputs": [
    {
     "data": {
      "text/plain": [
       "(                 age        user_id\n",
       " count  269999.000000  270000.000000\n",
       " mean       38.789773  207547.794719\n",
       " std        11.746168  119901.875310\n",
       " min         0.000000       0.000000\n",
       " 25%        30.000000  103651.500000\n",
       " 50%        37.000000  207456.500000\n",
       " 75%        47.000000  311565.250000\n",
       " max        91.000000  415313.000000,\n",
       "              user_id\n",
       " count  144724.000000\n",
       " mean   207821.412489\n",
       " std    119885.755418\n",
       " min         6.000000\n",
       " 25%    104091.500000\n",
       " 50%    207961.500000\n",
       " 75%    311353.250000\n",
       " max    415316.000000)"
      ]
     },
     "execution_count": 11,
     "metadata": {},
     "output_type": "execute_result"
    }
   ],
   "source": [
    "targets.to_pandas().describe(), id_to_submit.describe()"
   ]
  },
  {
   "cell_type": "code",
   "execution_count": 341,
   "id": "57c55747",
   "metadata": {},
   "outputs": [
    {
     "name": "stdout",
     "output_type": "stream",
     "text": [
      "199683 urls\n",
      "415317 users\n"
     ]
    }
   ],
   "source": [
    "url_set = set(data_agg['url_host'])\n",
    "print(f'{len(url_set)} urls')\n",
    "url_dict = {url: idurl for url, idurl in zip(url_set, range(len(url_set)))}\n",
    "usr_set = set(data_agg['user_id'])\n",
    "print(f'{len(usr_set)} users')\n",
    "usr_dict = {usr: user_id for usr, user_id in zip(usr_set, range(len(usr_set)))}"
   ]
  },
  {
   "cell_type": "code",
   "execution_count": null,
   "id": "0c551816",
   "metadata": {},
   "outputs": [],
   "source": []
  },
  {
   "cell_type": "code",
   "execution_count": 342,
   "id": "bde3b504",
   "metadata": {},
   "outputs": [],
   "source": [
    "import faiss"
   ]
  },
  {
   "cell_type": "code",
   "execution_count": 388,
   "id": "5e227779",
   "metadata": {},
   "outputs": [
    {
     "name": "stdout",
     "output_type": "stream",
     "text": [
      "CPU times: user 5.57 s, sys: 236 ms, total: 5.81 s\n",
      "Wall time: 5.8 s\n"
     ]
    }
   ],
   "source": [
    "%%time\n",
    "values = np.array(data_agg['request_cnt_sum'])\n",
    "rows = np.array(data_agg['user_id'].map(usr_dict))\n",
    "cols = np.array(data_agg['url_host'].map(url_dict))\n",
    "mat = scipy.sparse.coo_matrix((values, (rows, cols)), shape=(rows.max() + 1, cols.max() + 1))\n",
    "als = implicit.approximate_als.FaissAlternatingLeastSquares(factors = 250, iterations = 30, use_gpu = False, \\\n",
    "       calculate_training_loss = False, regularization = 0.1)"
   ]
  },
  {
   "cell_type": "code",
   "execution_count": 389,
   "id": "f42807fb",
   "metadata": {},
   "outputs": [
    {
     "data": {
      "text/plain": [
       "{'item_factors': None,\n",
       " 'user_factors': None,\n",
       " '_user_norms': None,\n",
       " '_item_norms': None,\n",
       " 'num_threads': 0,\n",
       " 'factors': 250,\n",
       " 'regularization': 0.1,\n",
       " 'alpha': 1.0,\n",
       " 'dtype': dtype('float32'),\n",
       " 'use_native': True,\n",
       " 'use_cg': True,\n",
       " 'iterations': 30,\n",
       " 'calculate_training_loss': False,\n",
       " 'fit_callback': None,\n",
       " 'cg_steps': 3,\n",
       " 'random_state': None,\n",
       " '_YtY': None,\n",
       " '_XtX': None}"
      ]
     },
     "execution_count": 389,
     "metadata": {},
     "output_type": "execute_result"
    }
   ],
   "source": [
    "als.model.__dict__"
   ]
  },
  {
   "cell_type": "code",
   "execution_count": 390,
   "id": "8cf9c775",
   "metadata": {},
   "outputs": [
    {
     "data": {
      "application/vnd.jupyter.widget-view+json": {
       "model_id": "f4ce0489d5ba4c43bacd40421c71b4ad",
       "version_major": 2,
       "version_minor": 0
      },
      "text/plain": [
       "  0%|          | 0/30 [00:00<?, ?it/s]"
      ]
     },
     "metadata": {},
     "output_type": "display_data"
    },
    {
     "name": "stdout",
     "output_type": "stream",
     "text": [
      "CPU times: user 52min 7s, sys: 9 s, total: 52min 16s\n",
      "Wall time: 6min 45s\n"
     ]
    }
   ],
   "source": [
    "%%time\n",
    "als.fit(mat)\n",
    "u_factors = als.model.user_factors \n",
    "d_factors = als.model.item_factors"
   ]
  },
  {
   "cell_type": "code",
   "execution_count": 391,
   "id": "4029391e",
   "metadata": {},
   "outputs": [
    {
     "data": {
      "text/plain": [
       "((415317, 250), (199683, 250))"
      ]
     },
     "execution_count": 391,
     "metadata": {},
     "output_type": "execute_result"
    }
   ],
   "source": [
    "u_factors.shape, d_factors.shape"
   ]
  },
  {
   "cell_type": "markdown",
   "id": "ed2944b0",
   "metadata": {},
   "source": [
    "## Получим оценку по полу"
   ]
  },
  {
   "cell_type": "code",
   "execution_count": 406,
   "id": "c2f7f21d",
   "metadata": {
    "scrolled": true
   },
   "outputs": [
    {
     "name": "stdout",
     "output_type": "stream",
     "text": [
      "CPU times: user 6.1 s, sys: 1.34 s, total: 7.43 s\n",
      "Wall time: 7.44 s\n"
     ]
    },
    {
     "data": {
      "text/plain": [
       "1    135331\n",
       "0    128994\n",
       "Name: is_male, dtype: int64"
      ]
     },
     "execution_count": 406,
     "metadata": {},
     "output_type": "execute_result"
    }
   ],
   "source": [
    "%%time\n",
    "inv_usr_map = {v: k for k, v in usr_dict.items()}\n",
    "usr_emb = pd.DataFrame(u_factors)\n",
    "usr_emb['user_id'] = usr_emb.index.map(inv_usr_map)\n",
    "usr_emb = usr_emb.merge(data_aggC, how = 'inner', on = ['user_id'])\n",
    "usr_targets = targets.to_pandas()\n",
    "df = usr_targets.merge(usr_emb,   how = 'inner', on = ['user_id'])\n",
    "df = df[df['is_male'] != 'NA']\n",
    "df = df.dropna()\n",
    "df['is_male'] = df['is_male'].map(int)\n",
    "df['is_male'].value_counts()"
   ]
  },
  {
   "cell_type": "code",
   "execution_count": null,
   "id": "20c31d3d",
   "metadata": {},
   "outputs": [],
   "source": []
  },
  {
   "cell_type": "code",
   "execution_count": 407,
   "id": "1419fb8a",
   "metadata": {},
   "outputs": [
    {
     "name": "stdout",
     "output_type": "stream",
     "text": [
      "GINI по полу 0.674\n",
      "CPU times: user 9min 37s, sys: 14.9 s, total: 9min 52s\n",
      "Wall time: 1min 18s\n"
     ]
    }
   ],
   "source": [
    "%%time\n",
    "x_train, x_test, y_train, y_test = train_test_split(\\\n",
    "    df.drop(['user_id', 'age', 'is_male'], axis = 1), df['is_male'], test_size = 0.33, random_state = SPLIT_SEED)\n",
    "clf = CatBoostClassifier()\n",
    "clf.fit(x_train, y_train, verbose = False)\n",
    "print(f'GINI по полу {2 * m.roc_auc_score(y_test, clf.predict_proba(x_test)[:,1]) - 1:2.3f}')"
   ]
  },
  {
   "cell_type": "code",
   "execution_count": 408,
   "id": "cdc292de",
   "metadata": {},
   "outputs": [
    {
     "name": "stdout",
     "output_type": "stream",
     "text": [
      "CPU times: user 13min 11s, sys: 17.5 s, total: 13min 29s\n",
      "Wall time: 1min 45s\n"
     ]
    }
   ],
   "source": [
    "%%time\n",
    "clf.fit(df.drop(['user_id', 'age', 'is_male'], axis = 1), df['is_male'], verbose = False)\n",
    "id_to_submit['is_male'] = clf.predict_proba(id_to_submit.merge(usr_emb, how = 'inner', on = ['user_id']))[:,1]"
   ]
  },
  {
   "cell_type": "code",
   "execution_count": 409,
   "id": "e7aeb5e1",
   "metadata": {},
   "outputs": [
    {
     "data": {
      "text/plain": [
       "(264325, 1347)"
      ]
     },
     "execution_count": 409,
     "metadata": {},
     "output_type": "execute_result"
    }
   ],
   "source": [
    "df.shape"
   ]
  },
  {
   "cell_type": "markdown",
   "id": "a3980236",
   "metadata": {},
   "source": [
    "## Получим оценку по возрасту"
   ]
  },
  {
   "cell_type": "code",
   "execution_count": 410,
   "id": "4a4f4726",
   "metadata": {},
   "outputs": [],
   "source": [
    "import seaborn as sns\n",
    "import matplotlib.pyplot as plt\n",
    "import plotly.express as px\n",
    "\n",
    "%matplotlib inline\n",
    "sns.set_style('darkgrid')"
   ]
  },
  {
   "cell_type": "code",
   "execution_count": 411,
   "id": "0f97ec5d",
   "metadata": {},
   "outputs": [],
   "source": [
    "def age_bucket(x):\n",
    "    return bisect.bisect_left([18,25,35,45,55,65], x)"
   ]
  },
  {
   "cell_type": "code",
   "execution_count": 412,
   "id": "5d38c185",
   "metadata": {},
   "outputs": [
    {
     "data": {
      "text/plain": [
       "<AxesSubplot:xlabel='age', ylabel='Count'>"
      ]
     },
     "execution_count": 412,
     "metadata": {},
     "output_type": "execute_result"
    },
    {
     "data": {
      "image/png": "[encoded data removed]",
      "text/plain": [
       "<Figure size 640x480 with 1 Axes>"
      ]
     },
     "metadata": {},
     "output_type": "display_data"
    }
   ],
   "source": [
    "df = usr_targets.merge(usr_emb, how = 'inner', on = ['user_id'])\n",
    "df = df[df['age'] != 'NA']\n",
    "df = df.dropna()\n",
    "df['age'] = df['age'].map(age_bucket)\n",
    "sns.histplot(df['age'], bins = 7)"
   ]
  },
  {
   "cell_type": "code",
   "execution_count": 414,
   "id": "33ae9aaf",
   "metadata": {},
   "outputs": [
    {
     "name": "stdout",
     "output_type": "stream",
     "text": [
      "              precision    recall  f1-score   support\n",
      "\n",
      "         <18       0.00      0.00      0.00       349\n",
      "       18-25       0.52      0.31      0.39     10663\n",
      "       25-34       0.48      0.63      0.55     28815\n",
      "       35-44       0.40      0.51      0.45     25791\n",
      "       45-54       0.38      0.22      0.28     13931\n",
      "       55-65       0.41      0.21      0.28      7688\n",
      "         65+       0.44      0.01      0.03      1849\n",
      "\n",
      "    accuracy                           0.44     89086\n",
      "   macro avg       0.38      0.27      0.28     89086\n",
      "weighted avg       0.44      0.44      0.42     89086\n",
      "\n"
     ]
    }
   ],
   "source": [
    "%%time\n",
    "x_train, x_test, y_train, y_test = train_test_split(\\\n",
    "    df.drop(['user_id', 'age', 'is_male'], axis = 1), df['age'], test_size = 0.33, random_state = SPLIT_SEED)\n",
    "\n",
    "clf = CatBoostClassifier()\n",
    "clf.fit(x_train, y_train, verbose = False)\n",
    "print(m.classification_report(y_test, clf.predict(x_test), \\\n",
    "                            target_names = ['<18', '18-25','25-34', '35-44', '45-54', '55-65', '65+']))"
   ]
  },
  {
   "cell_type": "markdown",
   "id": "47459933",
   "metadata": {},
   "source": [
    "f1 0.00 0.40 0.54 0.45 0.27 0.28 0.03 - 0.44 0.28 0.42 (als = 250.30 without)"
   ]
  },
  {
   "cell_type": "code",
   "execution_count": 415,
   "id": "2c73661d",
   "metadata": {},
   "outputs": [],
   "source": [
    "%%time\n",
    "clf.fit(df.drop(['user_id', 'age', 'is_male'], axis = 1), df['age'], verbose = False)\n",
    "id_to_submit['age'] = clf.predict(id_to_submit[['user_id']].merge(usr_emb, how = 'inner', on = ['user_id']))"
   ]
  },
  {
   "cell_type": "code",
   "execution_count": 416,
   "id": "446f4213",
   "metadata": {},
   "outputs": [
    {
     "data": {
      "text/plain": [
       "(269957, 1347)"
      ]
     },
     "execution_count": 416,
     "metadata": {},
     "output_type": "execute_result"
    }
   ],
   "source": [
    "df.shape"
   ]
  },
  {
   "cell_type": "markdown",
   "id": "f55aa8ec",
   "metadata": {},
   "source": [
    "## Сабмит"
   ]
  },
  {
   "cell_type": "code",
   "execution_count": 417,
   "id": "af2b6647",
   "metadata": {},
   "outputs": [
    {
     "data": {
      "text/html": [
       "<div>\n",
       "<style scoped>\n",
       "    .dataframe tbody tr th:only-of-type {\n",
       "        vertical-align: middle;\n",
       "    }\n",
       "\n",
       "    .dataframe tbody tr th {\n",
       "        vertical-align: top;\n",
       "    }\n",
       "\n",
       "    .dataframe thead th {\n",
       "        text-align: right;\n",
       "    }\n",
       "</style>\n",
       "<table border=\"1\" class=\"dataframe\">\n",
       "  <thead>\n",
       "    <tr style=\"text-align: right;\">\n",
       "      <th></th>\n",
       "      <th>user_id</th>\n",
       "      <th>is_male</th>\n",
       "      <th>age</th>\n",
       "    </tr>\n",
       "  </thead>\n",
       "  <tbody>\n",
       "    <tr>\n",
       "      <th>221301</th>\n",
       "      <td>221301</td>\n",
       "      <td>0.957526</td>\n",
       "      <td>2</td>\n",
       "    </tr>\n",
       "    <tr>\n",
       "      <th>31271</th>\n",
       "      <td>31271</td>\n",
       "      <td>0.501147</td>\n",
       "      <td>3</td>\n",
       "    </tr>\n",
       "    <tr>\n",
       "      <th>211594</th>\n",
       "      <td>211594</td>\n",
       "      <td>0.525721</td>\n",
       "      <td>2</td>\n",
       "    </tr>\n",
       "    <tr>\n",
       "      <th>253119</th>\n",
       "      <td>253119</td>\n",
       "      <td>0.415653</td>\n",
       "      <td>2</td>\n",
       "    </tr>\n",
       "    <tr>\n",
       "      <th>192578</th>\n",
       "      <td>192578</td>\n",
       "      <td>0.778984</td>\n",
       "      <td>2</td>\n",
       "    </tr>\n",
       "  </tbody>\n",
       "</table>\n",
       "</div>"
      ],
      "text/plain": [
       "        user_id   is_male  age\n",
       "221301   221301  0.957526    2\n",
       "31271     31271  0.501147    3\n",
       "211594   211594  0.525721    2\n",
       "253119   253119  0.415653    2\n",
       "192578   192578  0.778984    2"
      ]
     },
     "execution_count": 417,
     "metadata": {},
     "output_type": "execute_result"
    }
   ],
   "source": [
    "id_to_submit.head()"
   ]
  },
  {
   "cell_type": "code",
   "execution_count": 418,
   "id": "60024ea9",
   "metadata": {},
   "outputs": [],
   "source": [
    "id_to_submit.to_csv(f'{LOCAL_DATA_PATH}/submission6.csv', index = False)"
   ]
  },
  {
   "cell_type": "code",
   "execution_count": 419,
   "id": "a7298b7b",
   "metadata": {},
   "outputs": [
    {
     "name": "stdout",
     "output_type": "stream",
     "text": [
      "user_id,is_male,age\r\n",
      "221301,0.9523721503994212,2\r\n",
      "31271,0.540058202285835,3\r\n",
      "211594,0.4921148361193288,2\r\n",
      "253119,0.5031936669434278,2\r\n",
      "192578,0.7343094598406392,2\r\n",
      "268458,0.28223318330597313,2\r\n",
      "205507,0.5256998725263032,3\r\n",
      "341343,0.6329608219845485,3\r\n",
      "282144,0.026135216529779966,2\r\n"
     ]
    }
   ],
   "source": [
    "! head $LOCAL_DATA_PATH/submission1.csv"
   ]
  },
  {
   "cell_type": "markdown",
   "id": "4d6a7a85",
   "metadata": {},
   "source": [
    "# Скор на лидерборде"
   ]
  },
  {
   "cell_type": "code",
   "execution_count": 187,
   "id": "7164aa61",
   "metadata": {},
   "outputs": [],
   "source": [
    "#context_scorer(submission, answers)"
   ]
  },
  {
   "cell_type": "code",
   "execution_count": null,
   "id": "edc791ca",
   "metadata": {},
   "outputs": [],
   "source": []
  },
  {
   "cell_type": "code",
   "execution_count": null,
   "id": "c37f704e",
   "metadata": {},
   "outputs": [],
   "source": []
  },
  {
   "cell_type": "code",
   "execution_count": 384,
   "id": "47561cef",
   "metadata": {},
   "outputs": [],
   "source": [
    "xx=clf.get_feature_importance(prettified=True)"
   ]
  },
  {
   "cell_type": "code",
   "execution_count": 420,
   "id": "2aaa2213",
   "metadata": {},
   "outputs": [
    {
     "data": {
      "text/html": [
       "<div>\n",
       "<style scoped>\n",
       "    .dataframe tbody tr th:only-of-type {\n",
       "        vertical-align: middle;\n",
       "    }\n",
       "\n",
       "    .dataframe tbody tr th {\n",
       "        vertical-align: top;\n",
       "    }\n",
       "\n",
       "    .dataframe thead th {\n",
       "        text-align: right;\n",
       "    }\n",
       "</style>\n",
       "<table border=\"1\" class=\"dataframe\">\n",
       "  <thead>\n",
       "    <tr style=\"text-align: right;\">\n",
       "      <th></th>\n",
       "      <th>Feature Id</th>\n",
       "      <th>Importances</th>\n",
       "    </tr>\n",
       "  </thead>\n",
       "  <tbody>\n",
       "    <tr>\n",
       "      <th>0</th>\n",
       "      <td>44</td>\n",
       "      <td>5.013952</td>\n",
       "    </tr>\n",
       "    <tr>\n",
       "      <th>1</th>\n",
       "      <td>43</td>\n",
       "      <td>3.125646</td>\n",
       "    </tr>\n",
       "    <tr>\n",
       "      <th>2</th>\n",
       "      <td>price_max</td>\n",
       "      <td>2.772281</td>\n",
       "    </tr>\n",
       "    <tr>\n",
       "      <th>3</th>\n",
       "      <td>45</td>\n",
       "      <td>2.699415</td>\n",
       "    </tr>\n",
       "    <tr>\n",
       "      <th>4</th>\n",
       "      <td>20</td>\n",
       "      <td>2.553112</td>\n",
       "    </tr>\n",
       "    <tr>\n",
       "      <th>5</th>\n",
       "      <td>11</td>\n",
       "      <td>2.289267</td>\n",
       "    </tr>\n",
       "    <tr>\n",
       "      <th>6</th>\n",
       "      <td>47</td>\n",
       "      <td>2.282845</td>\n",
       "    </tr>\n",
       "    <tr>\n",
       "      <th>7</th>\n",
       "      <td>12</td>\n",
       "      <td>2.265453</td>\n",
       "    </tr>\n",
       "    <tr>\n",
       "      <th>8</th>\n",
       "      <td>3</td>\n",
       "      <td>2.141074</td>\n",
       "    </tr>\n",
       "    <tr>\n",
       "      <th>9</th>\n",
       "      <td>17</td>\n",
       "      <td>2.114206</td>\n",
       "    </tr>\n",
       "    <tr>\n",
       "      <th>10</th>\n",
       "      <td>5</td>\n",
       "      <td>1.962074</td>\n",
       "    </tr>\n",
       "    <tr>\n",
       "      <th>11</th>\n",
       "      <td>46</td>\n",
       "      <td>1.888279</td>\n",
       "    </tr>\n",
       "    <tr>\n",
       "      <th>12</th>\n",
       "      <td>48</td>\n",
       "      <td>1.844887</td>\n",
       "    </tr>\n",
       "    <tr>\n",
       "      <th>13</th>\n",
       "      <td>9</td>\n",
       "      <td>1.774735</td>\n",
       "    </tr>\n",
       "    <tr>\n",
       "      <th>14</th>\n",
       "      <td>4</td>\n",
       "      <td>1.699983</td>\n",
       "    </tr>\n",
       "    <tr>\n",
       "      <th>15</th>\n",
       "      <td>24</td>\n",
       "      <td>1.632348</td>\n",
       "    </tr>\n",
       "    <tr>\n",
       "      <th>16</th>\n",
       "      <td>2</td>\n",
       "      <td>1.551903</td>\n",
       "    </tr>\n",
       "    <tr>\n",
       "      <th>17</th>\n",
       "      <td>1</td>\n",
       "      <td>1.520552</td>\n",
       "    </tr>\n",
       "    <tr>\n",
       "      <th>18</th>\n",
       "      <td>25</td>\n",
       "      <td>1.498205</td>\n",
       "    </tr>\n",
       "    <tr>\n",
       "      <th>19</th>\n",
       "      <td>31</td>\n",
       "      <td>1.476664</td>\n",
       "    </tr>\n",
       "    <tr>\n",
       "      <th>20</th>\n",
       "      <td>39</td>\n",
       "      <td>1.446513</td>\n",
       "    </tr>\n",
       "    <tr>\n",
       "      <th>21</th>\n",
       "      <td>41</td>\n",
       "      <td>1.419021</td>\n",
       "    </tr>\n",
       "    <tr>\n",
       "      <th>22</th>\n",
       "      <td>21</td>\n",
       "      <td>1.372813</td>\n",
       "    </tr>\n",
       "    <tr>\n",
       "      <th>23</th>\n",
       "      <td>35</td>\n",
       "      <td>1.341343</td>\n",
       "    </tr>\n",
       "    <tr>\n",
       "      <th>24</th>\n",
       "      <td>33</td>\n",
       "      <td>1.338686</td>\n",
       "    </tr>\n",
       "    <tr>\n",
       "      <th>25</th>\n",
       "      <td>26</td>\n",
       "      <td>1.327517</td>\n",
       "    </tr>\n",
       "    <tr>\n",
       "      <th>26</th>\n",
       "      <td>8</td>\n",
       "      <td>1.321081</td>\n",
       "    </tr>\n",
       "    <tr>\n",
       "      <th>27</th>\n",
       "      <td>27</td>\n",
       "      <td>1.311956</td>\n",
       "    </tr>\n",
       "    <tr>\n",
       "      <th>28</th>\n",
       "      <td>A002</td>\n",
       "      <td>1.310152</td>\n",
       "    </tr>\n",
       "    <tr>\n",
       "      <th>29</th>\n",
       "      <td>6</td>\n",
       "      <td>1.264301</td>\n",
       "    </tr>\n",
       "  </tbody>\n",
       "</table>\n",
       "</div>"
      ],
      "text/plain": [
       "   Feature Id  Importances\n",
       "0          44     5.013952\n",
       "1          43     3.125646\n",
       "2   price_max     2.772281\n",
       "3          45     2.699415\n",
       "4          20     2.553112\n",
       "5          11     2.289267\n",
       "6          47     2.282845\n",
       "7          12     2.265453\n",
       "8           3     2.141074\n",
       "9          17     2.114206\n",
       "10          5     1.962074\n",
       "11         46     1.888279\n",
       "12         48     1.844887\n",
       "13          9     1.774735\n",
       "14          4     1.699983\n",
       "15         24     1.632348\n",
       "16          2     1.551903\n",
       "17          1     1.520552\n",
       "18         25     1.498205\n",
       "19         31     1.476664\n",
       "20         39     1.446513\n",
       "21         41     1.419021\n",
       "22         21     1.372813\n",
       "23         35     1.341343\n",
       "24         33     1.338686\n",
       "25         26     1.327517\n",
       "26          8     1.321081\n",
       "27         27     1.311956\n",
       "28       A002     1.310152\n",
       "29          6     1.264301"
      ]
     },
     "execution_count": 420,
     "metadata": {},
     "output_type": "execute_result"
    }
   ],
   "source": [
    "xx.head(30)"
   ]
  },
  {
   "cell_type": "code",
   "execution_count": null,
   "id": "57595055",
   "metadata": {},
   "outputs": [],
   "source": []
  }
 ],
 "metadata": {
  "kernelspec": {
   "display_name": "Python 3 (ipykernel)",
   "language": "python",
   "name": "python3"
  },
  "language_info": {
   "codemirror_mode": {
    "name": "ipython",
    "version": 3
   },
   "file_extension": ".py",
   "mimetype": "text/x-python",
   "name": "python",
   "nbconvert_exporter": "python",
   "pygments_lexer": "ipython3",
   "version": "3.7.6"
  }
 },
 "nbformat": 4,
 "nbformat_minor": 5
}
